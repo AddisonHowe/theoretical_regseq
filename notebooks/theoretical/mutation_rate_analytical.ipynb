{
 "cells": [
  {
   "cell_type": "code",
   "execution_count": 1,
   "metadata": {},
   "outputs": [],
   "source": [
    "# processing\n",
    "from scipy.special import comb, binom\n",
    "import numpy as np\n",
    "\n",
    "# visualization\n",
    "import matplotlib.pyplot as plt"
   ]
  },
  {
   "cell_type": "code",
   "execution_count": 2,
   "metadata": {},
   "outputs": [],
   "source": [
    "def Pr_m_geq_k(k, l, theta):\n",
    "    \"\"\"\n",
    "    Calculate the probability of having k or more mutations in a sequence of length l\n",
    "    with mutation probability theta.\n",
    "    \"\"\"\n",
    "    return sum(comb(l, x) * (theta ** x) * ((1 - theta) ** (l - x)) for x in range(k, l+1))\n",
    "\n",
    "def calculate_expression_probabilities(l, theta, m_star):\n",
    "    \"\"\"\n",
    "    Calculate the probabilities of high and low expression levels based on the number\n",
    "    of mutations and a threshold m_star.\n",
    "    \"\"\"\n",
    "    Pr_mu_high = 1 - Pr_m_geq_k(m_star, l, theta)  # Pr(m < m*; l, theta)\n",
    "    Pr_mu_low = Pr_m_geq_k(m_star, l, theta)  # Pr(m >= m*; l, theta)\n",
    "    return Pr_mu_high, Pr_mu_low\n",
    "\n",
    "def calculate_joint_probabilities(l, theta, m_star, position_in_binding_site):\n",
    "    \"\"\"\n",
    "    Calculate the joint probabilities of base identity and expression levels for positions\n",
    "    within the RNAP binding site.\n",
    "    \"\"\"\n",
    "    Pr_mu_high, Pr_mu_low = calculate_expression_probabilities(l, theta, m_star)\n",
    "    \n",
    "    if position_in_binding_site:\n",
    "        Pr_mu_high_given_b0, Pr_mu_low_given_b0 = calculate_expression_probabilities(l-1, theta, m_star)\n",
    "        Pr_mu_high_given_b1, Pr_mu_low_given_b1 = calculate_expression_probabilities(l-1, theta, m_star-1)\n",
    "    else:\n",
    "        Pr_mu_high_given_b0 = Pr_mu_high_given_b1 = Pr_mu_high\n",
    "        Pr_mu_low_given_b0 = Pr_mu_low_given_b1 = Pr_mu_low\n",
    "    \n",
    "    Pr_b0_mu0 = (1 - theta) * Pr_mu_low_given_b0\n",
    "    Pr_b0_mu1 = (1 - theta) * Pr_mu_high_given_b0\n",
    "    Pr_b1_mu0 = theta * Pr_mu_low_given_b1\n",
    "    Pr_b1_mu1 = theta * Pr_mu_high_given_b1\n",
    "    \n",
    "    return Pr_b0_mu0, Pr_b0_mu1, Pr_b1_mu0, Pr_b1_mu1, Pr_mu_high, Pr_mu_low\n",
    "\n",
    "def calculate_mutual_information(l, theta, m_star, position_in_binding_site):\n",
    "    \"\"\"\n",
    "    Calculate the mutual information for a given position in a promoter region.\n",
    "    \"\"\"\n",
    "    # Get joint probabilities and expression level probabilities\n",
    "    Pr_b0_mu0, Pr_b0_mu1, Pr_b1_mu0, Pr_b1_mu1, Pr_mu_high, Pr_mu_low = calculate_joint_probabilities(\n",
    "        l, theta, m_star, position_in_binding_site)\n",
    "    \n",
    "    # Calculate the mutual information parts for each combination of b and mu\n",
    "    terms = [\n",
    "        Pr_b0_mu0 * np.log2(Pr_b0_mu0 / ((1 - theta) * Pr_mu_low)) if Pr_b0_mu0 > 0 else 0,\n",
    "        Pr_b0_mu1 * np.log2(Pr_b0_mu1 / ((1 - theta) * Pr_mu_high)) if Pr_b0_mu1 > 0 else 0,\n",
    "        Pr_b1_mu0 * np.log2(Pr_b1_mu0 / (theta * Pr_mu_low)) if Pr_b1_mu0 > 0 else 0,\n",
    "        Pr_b1_mu1 * np.log2(Pr_b1_mu1 / (theta * Pr_mu_high)) if Pr_b1_mu1 > 0 else 0,\n",
    "    ]\n",
    "    \n",
    "    # Summing the mutual information parts\n",
    "    I_i = sum(terms)\n",
    "    \n",
    "    return I_i"
   ]
  },
  {
   "cell_type": "code",
   "execution_count": 3,
   "metadata": {},
   "outputs": [
    {
     "data": {
      "text/plain": [
       "0.02245473823853256"
      ]
     },
     "execution_count": 3,
     "metadata": {},
     "output_type": "execute_result"
    }
   ],
   "source": [
    "# Example parameters\n",
    "l = 20  # length of the RNAP binding site\n",
    "theta = 0.1  # probability of mutation at each site\n",
    "m_star = 3  # threshold number of mutations for low expression\n",
    "position_in_binding_site = True  # position is within the RNAP binding site\n",
    "\n",
    "calculate_mutual_information(l, theta, m_star, position_in_binding_site)"
   ]
  },
  {
   "cell_type": "code",
   "execution_count": 6,
   "metadata": {},
   "outputs": [
    {
     "data": {
      "image/png": "[encoded data removed]",
      "text/plain": [
       "<Figure size 360x288 with 1 Axes>"
      ]
     },
     "metadata": {
      "needs_background": "light"
     },
     "output_type": "display_data"
    }
   ],
   "source": [
    "# Define the range of mutation rates (theta) to explore\n",
    "theta_values = np.linspace(0, 1, 100)\n",
    "mutual_information_values = []\n",
    "\n",
    "# Calculate mutual information for each mutation rate\n",
    "for theta in theta_values:\n",
    "    mutual_information_values.append(calculate_mutual_information(l, theta, m_star, position_in_binding_site))\n",
    "\n",
    "# Plotting\n",
    "plt.figure(figsize=(5, 4))\n",
    "plt.plot(theta_values, mutual_information_values)\n",
    "plt.xlabel('Mutation Rate (θ)')\n",
    "plt.ylabel('Mutual Information (bits)')\n",
    "plt.show()"
   ]
  }
 ],
 "metadata": {
  "kernelspec": {
   "display_name": "theoretical_regseq",
   "language": "python",
   "name": "python3"
  },
  "language_info": {
   "codemirror_mode": {
    "name": "ipython",
    "version": 3
   },
   "file_extension": ".py",
   "mimetype": "text/x-python",
   "name": "python",
   "nbconvert_exporter": "python",
   "pygments_lexer": "ipython3",
   "version": "3.10.4"
  }
 },
 "nbformat": 4,
 "nbformat_minor": 2
}
