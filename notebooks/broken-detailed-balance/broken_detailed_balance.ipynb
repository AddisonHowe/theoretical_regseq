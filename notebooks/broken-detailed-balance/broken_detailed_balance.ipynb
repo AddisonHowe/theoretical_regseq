{
 "cells": [
  {
   "cell_type": "markdown",
   "metadata": {},
   "source": [
    "Three footprints:\n",
    "- One using K_D\n",
    "- One using K_\\mathrm{on} and K_\\mathrm{off}\n",
    "- One that breaks an \"interesting\" edge"
   ]
  },
  {
   "cell_type": "code",
   "execution_count": 1,
   "metadata": {},
   "outputs": [],
   "source": [
    "## processing\n",
    "import numpy as np\n",
    "import pandas as pd\n",
    "from Bio import SeqIO\n",
    "\n",
    "## custom_package\n",
    "import tregs"
   ]
  },
  {
   "cell_type": "markdown",
   "metadata": {},
   "source": [
    "### Loading input data"
   ]
  },
  {
   "cell_type": "code",
   "execution_count": 2,
   "metadata": {},
   "outputs": [],
   "source": [
    "_genome = []\n",
    "for record in SeqIO.parse(\"../../data/mg1655_genome.fasta\", \"fasta\"):\n",
    "    _genome.append(str(record.seq))\n",
    "genome = _genome[0]"
   ]
  },
  {
   "cell_type": "code",
   "execution_count": 3,
   "metadata": {},
   "outputs": [
    {
     "data": {
      "text/plain": [
       "'ACAGGTTTCCCGACTGGAAAGCGGGCAGTGAGCGCAACGCAATTAATGTGAGTTAGCTCACTCATTAGGCACCCCAGGCTTTACACTTTATGCTTCCGGCTCGTATGTTGTGTGGAATTGTGAGCGGATAACAATTTCACACAGGAAACAGCTATGACCA'"
      ]
     },
     "execution_count": 3,
     "metadata": {},
     "output_type": "execute_result"
    }
   ],
   "source": [
    "df = pd.read_csv('../../data/ecoli_gene_list.csv')\n",
    "lacZYA_TSS = int(df[(df.gene == 'lacZ') & (df.promoter == 'lacZp1')]['tss'].iloc[0])\n",
    "promoter = tregs.seq_utils.get_regulatory_region(genome, lacZYA_TSS, reverse=True)\n",
    "promoter"
   ]
  },
  {
   "cell_type": "code",
   "execution_count": 4,
   "metadata": {},
   "outputs": [],
   "source": [
    "# Promoter\n",
    "rnap_site = 'CAGGCTTTACACTTTATGCTTCCGGCTCGTATGTTGTGTGG'"
   ]
  },
  {
   "cell_type": "code",
   "execution_count": 5,
   "metadata": {},
   "outputs": [],
   "source": [
    "# obtained from https://journals.plos.org/ploscompbiol/article/figure?id=10.1371/journal.pcbi.1002811.g002\n",
    "\n",
    "rnap_emat_raw = np.loadtxt('../../data/energy_matrices/RNAP_energy_matrix.txt')\n",
    "rnap_emat = tregs.simulate.fix_wt(rnap_emat_raw, rnap_site)"
   ]
  },
  {
   "cell_type": "code",
   "execution_count": 6,
   "metadata": {},
   "outputs": [],
   "source": [
    "# CRP binding site\n",
    "crp_site = 'ATTAATGTGAGTTAGCTCACTCATTA'\n",
    "# energy matrix obtained from Fig 3. of Kinney et al., 2010 (https://www.pnas.org/doi/full/10.1073/pnas.1004290107)\n",
    "# elements expressed in kcal/mol (1 kcal/mol = 1.62kbT)\n",
    "\n",
    "crp_emat_raw = pd.read_table('../../data/energy_matrices/crp_tau_final_all_26.txt', delim_whitespace=True)\n",
    "crp_emat = crp_emat_raw[['par_A', 'par_C', 'par_G', 'par_T']].to_numpy().T * 1.62"
   ]
  },
  {
   "cell_type": "markdown",
   "metadata": {},
   "source": [
    "### Simple activation using the graph theory approach"
   ]
  },
  {
   "cell_type": "code",
   "execution_count": 7,
   "metadata": {},
   "outputs": [],
   "source": [
    "def simact_graph(p_seq, a_seq, c_p, c_a, p_emat, a_emat,\n",
    "                 ep_wt, ea_wt, e_ap,\n",
    "                 k_on=0.1, C_N=10**(-2)):\n",
    "    \n",
    "    k_E_P = k_on\n",
    "    k_E_A = k_on\n",
    "    k_A_AP = k_on\n",
    "    k_P_AP = k_on\n",
    "\n",
    "    w_p = tregs.simulate.get_weight(p_seq, p_emat, e_wt=ep_wt)\n",
    "    w_a = tregs.simulate.get_weight(a_seq, a_emat, e_wt=ea_wt)\n",
    "    \n",
    "    k_P_E = k_E_P * C_N * w_p\n",
    "    k_A_E = k_E_A * C_N * w_a\n",
    "    k_AP_P = k_P_AP * C_N * w_a * np.exp(-e_ap)\n",
    "    k_AP_A = k_A_AP * C_N * w_p * np.exp(-e_ap)\n",
    "\n",
    "    # weights of each vertex\n",
    "    rho_E = k_A_E * k_P_E * k_AP_P\n",
    "    rho_E += k_A_AP * k_AP_P * k_P_E * c_p\n",
    "    rho_E += k_P_E * k_AP_A * k_A_E\n",
    "    rho_E += k_A_E * k_AP_A * k_P_AP * c_a\n",
    "\n",
    "    rho_A = k_AP_P * k_P_E * k_E_A * c_a\n",
    "    rho_A += k_E_P * k_P_AP * k_AP_A * c_a * c_p\n",
    "    rho_A += k_P_E * k_E_A * k_AP_A * c_a\n",
    "    rho_A += k_P_AP * k_AP_A * k_E_A * c_a**2\n",
    "\n",
    "    rho_P = k_A_E * k_E_P * k_AP_P * c_p\n",
    "    rho_P += k_E_P * k_A_AP * k_AP_P * c_p**2\n",
    "    rho_P += k_AP_A * k_A_E * k_E_P * c_p\n",
    "    rho_P += k_E_A * k_A_AP * k_AP_P * c_a * c_p\n",
    "\n",
    "    rho_AP = k_A_E * k_E_P * k_P_AP * c_a * c_p\n",
    "    rho_AP += k_E_P * k_P_AP * k_A_AP * c_a * c_p**2\n",
    "    rho_AP += k_P_E * k_E_A * k_A_AP * c_a * c_p\n",
    "    rho_AP += k_E_A * k_A_AP * k_P_AP * c_a**2 * c_p\n",
    "\n",
    "    p_A = rho_A / (rho_A + rho_E + rho_P + rho_AP)\n",
    "    p_AP = rho_AP / (rho_A + rho_E + rho_P + rho_AP)\n",
    "\n",
    "    return p_A + p_AP"
   ]
  },
  {
   "cell_type": "code",
   "execution_count": 22,
   "metadata": {},
   "outputs": [
    {
     "data": {
      "image/png": "[encoded data removed]",
      "text/plain": [
       "<Figure size 1000x290 with 1 Axes>"
      ]
     },
     "metadata": {},
     "output_type": "display_data"
    }
   ],
   "source": [
    "# copy numbers\n",
    "c_a = 50\n",
    "c_p = 5000\n",
    "\n",
    "# binding energies\n",
    "ep_wt = -7\n",
    "ea_wt = -7\n",
    "e_ap = -12\n",
    "\n",
    "df = tregs.simulate.sim(promoter, simact_graph, [rnap_site, crp_site], \n",
    "                        *[c_p, c_a, rnap_emat, crp_emat, ep_wt, ea_wt, e_ap])\n",
    "\n",
    "region_params = [(-38, -30, 'P', 'RNAP'), (-15, -5, 'P', 'RNAP'), (-70, -52, 'A', 'CRP')]\n",
    "tregs.footprint.plot_footprint(promoter, df, region_params,\n",
    "                               annotate_stn=False)"
   ]
  }
 ],
 "metadata": {
  "kernelspec": {
   "display_name": "tregs",
   "language": "python",
   "name": "python3"
  },
  "language_info": {
   "codemirror_mode": {
    "name": "ipython",
    "version": 3
   },
   "file_extension": ".py",
   "mimetype": "text/x-python",
   "name": "python",
   "nbconvert_exporter": "python",
   "pygments_lexer": "ipython3",
   "version": "3.10.13"
  }
 },
 "nbformat": 4,
 "nbformat_minor": 2
}
