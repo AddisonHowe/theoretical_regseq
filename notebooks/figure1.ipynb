{
 "cells": [
  {
   "cell_type": "code",
   "execution_count": 1,
   "metadata": {},
   "outputs": [
    {
     "data": {
      "text/plain": [
       "{'green': '#7AA974',\n",
       " 'light_green': '#BFD598',\n",
       " 'pale_green': '#DCECCB',\n",
       " 'yellow': '#EAC264',\n",
       " 'light_yellow': '#F3DAA9',\n",
       " 'pale_yellow': '#FFEDCE',\n",
       " 'blue': '#738FC1',\n",
       " 'light_blue': '#A9BFE3',\n",
       " 'pale_blue': '#C9D7EE',\n",
       " 'red': '#D56C55',\n",
       " 'light_red': '#E8B19D',\n",
       " 'pale_red': '#F1D4C9',\n",
       " 'purple': '#AB85AC',\n",
       " 'light_purple': '#D4C2D9',\n",
       " 'dark_green': '#7E9D90',\n",
       " 'dark_brown': '#905426'}"
      ]
     },
     "execution_count": 1,
     "metadata": {},
     "output_type": "execute_result"
    }
   ],
   "source": [
    "import numpy as np\n",
    "import pandas as pd\n",
    "from Bio import SeqIO\n",
    "\n",
    "# custom packages\n",
    "import tregs\n",
    "\n",
    "# visualization\n",
    "import matplotlib.pyplot as plt\n",
    "import matplotlib as mpl\n",
    "import seaborn as sns\n",
    "\n",
    "from tregs.mpl_pboc import plotting_style\n",
    "\n",
    "plt.rcParams.update({'font.size': 12})\n",
    "plotting_style()"
   ]
  },
  {
   "cell_type": "code",
   "execution_count": 2,
   "metadata": {},
   "outputs": [],
   "source": [
    "_genome = []\n",
    "for record in SeqIO.parse(\"../../data/mg1655_genome.fasta\", \"fasta\"):\n",
    "    _genome.append(str(record.seq))\n",
    "genome = _genome[0]"
   ]
  },
  {
   "cell_type": "code",
   "execution_count": 3,
   "metadata": {},
   "outputs": [
    {
     "data": {
      "text/plain": [
       "'ACAGGTTTCCCGACTGGAAAGCGGGCAGTGAGCGCAACGCAATTAATGTGAGTTAGCTCACTCATTAGGCACCCCAGGCTTTACACTTTATGCTTCCGGCTCGTATGTTGTGTGGAATTGTGAGCGGATAACAATTTCACACAGGAAACAGCTATGACCA'"
      ]
     },
     "execution_count": 3,
     "metadata": {},
     "output_type": "execute_result"
    }
   ],
   "source": [
    "df = pd.read_csv('../../data/ecoli_gene_list.csv')\n",
    "lacZYA_TSS = int(df[(df.gene == 'lacZ') & (df.promoter == 'lacZp1')]['tss'].iloc[0])\n",
    "promoter = tregs.seq_utils.get_regulatory_region(genome, lacZYA_TSS, reverse=True)\n",
    "promoter"
   ]
  },
  {
   "cell_type": "code",
   "execution_count": 4,
   "metadata": {},
   "outputs": [],
   "source": [
    "# Promoter\n",
    "rnap_site = 'CAGGCTTTACACTTTATGCTTCCGGCTCGTATGTTGTGTGG'\n",
    "\n",
    "# LacI binding site\n",
    "rep_site = 'AATTGTGAGCGGATAACAATT'"
   ]
  },
  {
   "cell_type": "code",
   "execution_count": 5,
   "metadata": {},
   "outputs": [],
   "source": [
    "# obtained from https://journals.plos.org/ploscompbiol/article/figure?id=10.1371/journal.pcbi.1002811.g002\n",
    "\n",
    "rnap_emat_raw = np.loadtxt('../../data/energy_matrices/RNAP_energy_matrix.txt')\n",
    "rnap_emat = tregs.simulate.fix_wt(rnap_emat_raw, rnap_site)"
   ]
  },
  {
   "cell_type": "code",
   "execution_count": 6,
   "metadata": {},
   "outputs": [],
   "source": [
    "O1_1027_raw = np.load('../../data/energy_matrices/lacThermoforTO1.npy')\n",
    "\n",
    "O1_1027_fixed = np.zeros(np.shape(O1_1027_raw))\n",
    "for i in range(3):\n",
    "    O1_1027_fixed[i] = tregs.simulate.fix_wt(O1_1027_raw[i], rep_site)\n",
    "\n",
    "rep_emat = np.mean(O1_1027_fixed, axis=0)"
   ]
  },
  {
   "cell_type": "code",
   "execution_count": 7,
   "metadata": {},
   "outputs": [],
   "source": [
    "def label_binding_site(ax, start, end, type):\n",
    "    shade_color = {'P': '#A9BFE3', 'R': '#E8B19D', 'A': '#DCECCB'}\n",
    "    ax.axvspan(start, end, alpha=0.7, color=shade_color[type])\n",
    "\n",
    "def plot_footprint(promoter, df, region_params,\n",
    "                   nbins=2, up_scaling_factor=1,\n",
    "                   x_lims=None, fig_width=10, fig_height=2.9, legend_xcoord=1.2,\n",
    "                   max_signal=None,\n",
    "                   outfile=None, annotate_stn=True,\n",
    "                   return_fp=False,\n",
    "                   smoothed=True, windowsize=3,):\n",
    "    \n",
    "    mut_list = df['seq'].values\n",
    "    mu_data = df['norm_ct_1']\n",
    "    upper_bound = up_scaling_factor * np.mean(mu_data)\n",
    "\n",
    "    footprint = tregs.footprint.get_info_footprint(mut_list, mu_data, promoter, nbins, upper_bound,\n",
    "                                               pseudocount=10**(-6),\n",
    "                                               smoothed=smoothed, windowsize=windowsize)\n",
    "    exshift_list = tregs.footprint.get_expression_shift(mut_list, mu_data.values, promoter)\n",
    "    \n",
    "    fig, ax = plt.subplots(figsize=(fig_width, fig_height))\n",
    "\n",
    "    if x_lims is not None:\n",
    "        ax.set_xlim(x_lims[0], x_lims[1])\n",
    "\n",
    "    if max_signal is None:\n",
    "        max_signal = max(footprint)\n",
    "    \n",
    "    ax.set_ylim(top=max_signal*1.15)\n",
    "    ax.set_xlim(-115, 45)\n",
    "    for region in region_params:\n",
    "        label_binding_site(ax, region[0], region[1], region[2])\n",
    "\n",
    "    if smoothed:\n",
    "        cut = int((windowsize - 1) / 2)\n",
    "        x = np.arange(-115 + cut, 45 - cut)\n",
    "    else:\n",
    "        x = np.arange(-115, 45)\n",
    "    shiftcolors = [('#D56C55' if exshift > 0 else '#738FC1') for exshift in exshift_list]\n",
    "    ax.bar(x, footprint, color=shiftcolors, edgecolor=None, linewidth=0)\n",
    "    ax.set_ylabel('Information\\n(bits)', fontsize=12)\n",
    "\n",
    "    ax.tick_params(axis='x', labelsize=10, labelbottom=False)\n",
    "    ax.tick_params(axis='y', labelsize=10)\n",
    "\n",
    "    plt.tight_layout()\n",
    "    if outfile is not None:\n",
    "        plt.savefig(outfile, dpi=300, bbox_inches='tight')\n",
    "    plt.show()\n",
    "\n",
    "    if return_fp:\n",
    "        return footprint"
   ]
  },
  {
   "cell_type": "code",
   "execution_count": 8,
   "metadata": {},
   "outputs": [
    {
     "data": {
      "image/png": "[encoded data removed]",
      "text/plain": [
       "<Figure size 500x150 with 1 Axes>"
      ]
     },
     "metadata": {},
     "output_type": "display_data"
    }
   ],
   "source": [
    "n_NS = len(genome)\n",
    "n_p = 4600\n",
    "n_r = 10\n",
    "ep_wt = -5\n",
    "er_wt = -15\n",
    "\n",
    "df = tregs.simulate.sim(promoter, tregs.simulate.simrep_pbound, [rnap_site, rep_site], \n",
    "                        *[n_NS, n_p, n_r, rnap_emat, rep_emat, ep_wt, er_wt])\n",
    "\n",
    "region_params = [(-38, -30, 'P', 'RNAP'), (-15, -5, 'P', 'RNAP'), (2, 17, 'R', 'LacI')]\n",
    "plot_footprint(promoter, df, region_params,\n",
    "                fig_width=5, fig_height=1.5,\n",
    "                outfile='../plots/fig1/info_footprint.pdf')"
   ]
  },
  {
   "cell_type": "code",
   "execution_count": 12,
   "metadata": {},
   "outputs": [
    {
     "data": {
      "image/png": "[encoded data removed]",
      "text/plain": [
       "<Figure size 550x120 with 2 Axes>"
      ]
     },
     "metadata": {},
     "output_type": "display_data"
    }
   ],
   "source": [
    "exshift = tregs.footprint.get_expression_shift_matrix(df, promoter)\n",
    "\n",
    "fig, ax = plt.subplots(figsize=(5.5, 1.2))\n",
    "\n",
    "vmax = np.max(np.abs(exshift))\n",
    "vmin = -vmax\n",
    "\n",
    "div_colors = sns.diverging_palette(258, 16, s=56, l=51, n=15, sep=2, center='light', as_cmap=True)\n",
    "hm = sns.heatmap(exshift, cmap=div_colors, ax=ax, vmin=vmin, vmax=vmax,\n",
    "                 xticklabels=False)\n",
    "ax.set_yticklabels(['A', 'C', 'G', 'T'], rotation=360, fontsize=8)\n",
    "ax.set_xlabel('Position Relative to TSS')\n",
    "\n",
    "# Access the colorbar and modify its properties\n",
    "cbar = hm.collections[0].colorbar\n",
    "cbar.ax.set_position([ax.get_position().x1 + 0.02, ax.get_position().y0, 0.02, ax.get_position().height])\n",
    "cbar.set_label('Expression\\nshift', rotation=90, labelpad=15, fontsize=10)\n",
    "cbar.ax.tick_params(labelsize=10) \n",
    "\n",
    "#plt.tight_layout()\n",
    "plt.savefig('../plots/fig1/exshift_matrix.pdf', bbox_inches='tight')\n",
    "plt.show()"
   ]
  }
 ],
 "metadata": {
  "kernelspec": {
   "display_name": "tregs",
   "language": "python",
   "name": "python3"
  },
  "language_info": {
   "codemirror_mode": {
    "name": "ipython",
    "version": 3
   },
   "file_extension": ".py",
   "mimetype": "text/x-python",
   "name": "python",
   "nbconvert_exporter": "python",
   "pygments_lexer": "ipython3",
   "version": "3.10.13"
  }
 },
 "nbformat": 4,
 "nbformat_minor": 2
}
