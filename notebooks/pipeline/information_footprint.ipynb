{
 "cells": [
  {
   "cell_type": "code",
   "execution_count": 1,
   "metadata": {},
   "outputs": [],
   "source": [
    "## processing\n",
    "import numpy as np\n",
    "import pandas as pd\n",
    "\n",
    "## custom package\n",
    "import tregs\n",
    "\n",
    "## visualization\n",
    "import matplotlib.pyplot as plt\n",
    "from matplotlib.lines import Line2D\n",
    "plt.rcParams.update({'font.size': 12})\n",
    "plt.rcParams['font.family'] = 'sans-serif'\n",
    "plt.rcParams['font.sans-serif'] = \"Arial\"\n",
    "\n",
    "from IPython.display import Image"
   ]
  },
  {
   "attachments": {},
   "cell_type": "markdown",
   "metadata": {},
   "source": [
    "In this notebook, we take in sequencing data in the form of RNA and DNA counts for each promoter variant and compute information footprint by calculating mutual information. We will first test the code on experimental datasets and then we will generate information footprint based on the synthetic datasets we made in `simple_repression_synthetic_dataset.ipynb`.\n",
    "\n",
    "The mutual information between two random variables $X$ and $Y$ is defined as\n",
    "$$\n",
    "I(X;Y) = \\sum_{y \\in Y} \\sum_{x \\in X} P_{X,Y}(x,y) \\log_2{(\\frac{P_{X,Y}(x,y)}{P_X(x)P_Y(y)})},\n",
    "$$\n",
    "where $P_X$ is the marginal probability distribution of $X$, $P_Y$ is the marginal probability distribution of $Y$, and $P_{X,Y}$ is the joint probability distribution between $X$ and $Y$.\n",
    "\n",
    "Here, the two random variables that we care about are base identity at each position and expression levels. Therefore we can rewrite the expression for the information footprint at each position $i$ as\n",
    "$$\n",
    "I(X;Y) = \\sum_{b} \\sum_{\\mu} P_{i}(b, \\mu) \\log_2{(\\frac{P_{i}(b, \\mu)}{P_i(b)P(\\mu)})},\n",
    "$$\n",
    "where $b$ represents base identity and $\\mu$ represents expression levels.\n",
    "\n",
    "We explore different ways of representing base identity and expression levels in probabilistic terms and ask which definition of mutual information produces the \"best\" information footprint.\n",
    "\n",
    "There are two ways of representing base identity, $b$. If we are interested in which nucleotide is at each position in each promoter variant, then $b$ can be one of the four nucleotides, A, T, C, G. Alternatively, we might only be concerned with whether a mutation has occured i.e. whether the base identity at position $i$ in the promoter variant is different from the base identity in the wild type sequence. With this type of **coarse graining**, $b$ can take the values of\n",
    "$$\n",
    "b = \n",
    "\\begin{cases}\n",
    "    0, & \\text{if the base is mutated} \\\\\n",
    "    1, & \\text{if the base is wild type}.\n",
    "\\end{cases}\n",
    "$$. \n",
    "\n",
    "To represent expression levels as a probability distribution, we group sequences in each range of expression levels into discrete bins. The key question here is then what is the ideal method of binning the sequences. We begin by normalizing expression levels (RNA/DNA count) and choosing $n$ equal sized bins for the normalized counts."
   ]
  },
  {
   "attachments": {},
   "cell_type": "markdown",
   "metadata": {},
   "source": [
    "## Loading sequencing data"
   ]
  },
  {
   "attachments": {},
   "cell_type": "markdown",
   "metadata": {},
   "source": [
    "The data is taken from `/RegSeq/data/sequencing_data/ykgE_dataset_combined.csv`, which contains DNA count (`ct_0`), RNA count (`ct_1`), and the total count (`ct`) for each promoter variant."
   ]
  },
  {
   "cell_type": "code",
   "execution_count": 2,
   "metadata": {},
   "outputs": [
    {
     "data": {
      "text/html": [
       "<div>\n",
       "<style scoped>\n",
       "    .dataframe tbody tr th:only-of-type {\n",
       "        vertical-align: middle;\n",
       "    }\n",
       "\n",
       "    .dataframe tbody tr th {\n",
       "        vertical-align: top;\n",
       "    }\n",
       "\n",
       "    .dataframe thead th {\n",
       "        text-align: right;\n",
       "    }\n",
       "</style>\n",
       "<table border=\"1\" class=\"dataframe\">\n",
       "  <thead>\n",
       "    <tr style=\"text-align: right;\">\n",
       "      <th></th>\n",
       "      <th>ct</th>\n",
       "      <th>ct_0</th>\n",
       "      <th>ct_1</th>\n",
       "      <th>seq</th>\n",
       "    </tr>\n",
       "  </thead>\n",
       "  <tbody>\n",
       "    <tr>\n",
       "      <th>0</th>\n",
       "      <td>1.0</td>\n",
       "      <td>1.0</td>\n",
       "      <td>0.0</td>\n",
       "      <td>ACAATTTCACCATAAAATGTCGGCGTTGCCGAAAGAAATAAAATGA...</td>\n",
       "    </tr>\n",
       "    <tr>\n",
       "      <th>1</th>\n",
       "      <td>1.0</td>\n",
       "      <td>1.0</td>\n",
       "      <td>0.0</td>\n",
       "      <td>ACGAATTCCCCATAAGAAGTAAGCGATGCAGAAAGAAATAAAATTA...</td>\n",
       "    </tr>\n",
       "    <tr>\n",
       "      <th>2</th>\n",
       "      <td>1.0</td>\n",
       "      <td>1.0</td>\n",
       "      <td>0.0</td>\n",
       "      <td>ACGAATTCCCCATAAGAAGTAAGCGATGCAGAAAGAAATAAAATTA...</td>\n",
       "    </tr>\n",
       "    <tr>\n",
       "      <th>3</th>\n",
       "      <td>2.0</td>\n",
       "      <td>2.0</td>\n",
       "      <td>0.0</td>\n",
       "      <td>ACGACTTGCCCAATAAATGTGAGCGTTGCCAAAAGGAATACAATGA...</td>\n",
       "    </tr>\n",
       "    <tr>\n",
       "      <th>4</th>\n",
       "      <td>2.0</td>\n",
       "      <td>2.0</td>\n",
       "      <td>0.0</td>\n",
       "      <td>ACGACTTGCCCAATAAATGTGAGCGTTGCCAAAAGGAATACAATGA...</td>\n",
       "    </tr>\n",
       "  </tbody>\n",
       "</table>\n",
       "</div>"
      ],
      "text/plain": [
       "    ct  ct_0  ct_1                                                seq\n",
       "0  1.0   1.0   0.0  ACAATTTCACCATAAAATGTCGGCGTTGCCGAAAGAAATAAAATGA...\n",
       "1  1.0   1.0   0.0  ACGAATTCCCCATAAGAAGTAAGCGATGCAGAAAGAAATAAAATTA...\n",
       "2  1.0   1.0   0.0  ACGAATTCCCCATAAGAAGTAAGCGATGCAGAAAGAAATAAAATTA...\n",
       "3  2.0   2.0   0.0  ACGACTTGCCCAATAAATGTGAGCGTTGCCAAAAGGAATACAATGA...\n",
       "4  2.0   2.0   0.0  ACGACTTGCCCAATAAATGTGAGCGTTGCCAAAAGGAATACAATGA..."
      ]
     },
     "execution_count": 2,
     "metadata": {},
     "output_type": "execute_result"
    }
   ],
   "source": [
    "fpath = '../data/ykgE_dataset_combined.csv'\n",
    "df_ykgE = pd.read_csv(fpath)\n",
    "df_ykgE.head()"
   ]
  },
  {
   "attachments": {},
   "cell_type": "markdown",
   "metadata": {},
   "source": [
    "The sequences in this dataset have an extra 20bp in the 3' end, so we trim it off before performing any analysis."
   ]
  },
  {
   "cell_type": "code",
   "execution_count": 3,
   "metadata": {},
   "outputs": [],
   "source": [
    "def trim_seqs(row):\n",
    "    return row['seq'][:160]"
   ]
  },
  {
   "cell_type": "code",
   "execution_count": 4,
   "metadata": {},
   "outputs": [],
   "source": [
    "df_ykgE['seq'] = df_ykgE.apply(trim_seqs, axis=1)"
   ]
  },
  {
   "attachments": {},
   "cell_type": "markdown",
   "metadata": {},
   "source": [
    "The main values that we care about here is the RNA count, but to account for the effect of multiple DNA templates on the expression levels, we \"normalize\" the RNA counts by dividing it by the DNA counts."
   ]
  },
  {
   "attachments": {},
   "cell_type": "markdown",
   "metadata": {},
   "source": [
    "First we remove the rows with 0 DNA counts as they wouldn't be meaningful (since you cannot get mRNA without DNA) and would create division by 0 error."
   ]
  },
  {
   "cell_type": "code",
   "execution_count": 5,
   "metadata": {},
   "outputs": [],
   "source": [
    "df_ykgE = df_ykgE[df_ykgE.ct_0 != 0.0]"
   ]
  },
  {
   "cell_type": "code",
   "execution_count": 6,
   "metadata": {},
   "outputs": [
    {
     "data": {
      "text/plain": [
       "2072"
      ]
     },
     "execution_count": 6,
     "metadata": {},
     "output_type": "execute_result"
    }
   ],
   "source": [
    "n_seqs = len(df_ykgE)\n",
    "n_seqs"
   ]
  },
  {
   "attachments": {},
   "cell_type": "markdown",
   "metadata": {},
   "source": [
    "Now we perform the normalization. Note that we added a pseudocount of 1 to each RNA count to prevent error when we eventually take the logarithm of the expression level."
   ]
  },
  {
   "cell_type": "code",
   "execution_count": 7,
   "metadata": {},
   "outputs": [],
   "source": [
    "df_ykgE['norm_ct_1'] = (df_ykgE['ct_1'] + 1) / df_ykgE['ct_0']"
   ]
  },
  {
   "cell_type": "code",
   "execution_count": 8,
   "metadata": {},
   "outputs": [
    {
     "data": {
      "text/html": [
       "<div>\n",
       "<style scoped>\n",
       "    .dataframe tbody tr th:only-of-type {\n",
       "        vertical-align: middle;\n",
       "    }\n",
       "\n",
       "    .dataframe tbody tr th {\n",
       "        vertical-align: top;\n",
       "    }\n",
       "\n",
       "    .dataframe thead th {\n",
       "        text-align: right;\n",
       "    }\n",
       "</style>\n",
       "<table border=\"1\" class=\"dataframe\">\n",
       "  <thead>\n",
       "    <tr style=\"text-align: right;\">\n",
       "      <th></th>\n",
       "      <th>ct</th>\n",
       "      <th>ct_0</th>\n",
       "      <th>ct_1</th>\n",
       "      <th>seq</th>\n",
       "      <th>norm_ct_1</th>\n",
       "    </tr>\n",
       "  </thead>\n",
       "  <tbody>\n",
       "    <tr>\n",
       "      <th>0</th>\n",
       "      <td>1.0</td>\n",
       "      <td>1.0</td>\n",
       "      <td>0.0</td>\n",
       "      <td>ACAATTTCACCATAAAATGTCGGCGTTGCCGAAAGAAATAAAATGA...</td>\n",
       "      <td>1.0</td>\n",
       "    </tr>\n",
       "    <tr>\n",
       "      <th>1</th>\n",
       "      <td>1.0</td>\n",
       "      <td>1.0</td>\n",
       "      <td>0.0</td>\n",
       "      <td>ACGAATTCCCCATAAGAAGTAAGCGATGCAGAAAGAAATAAAATTA...</td>\n",
       "      <td>1.0</td>\n",
       "    </tr>\n",
       "    <tr>\n",
       "      <th>2</th>\n",
       "      <td>1.0</td>\n",
       "      <td>1.0</td>\n",
       "      <td>0.0</td>\n",
       "      <td>ACGAATTCCCCATAAGAAGTAAGCGATGCAGAAAGAAATAAAATTA...</td>\n",
       "      <td>1.0</td>\n",
       "    </tr>\n",
       "    <tr>\n",
       "      <th>3</th>\n",
       "      <td>2.0</td>\n",
       "      <td>2.0</td>\n",
       "      <td>0.0</td>\n",
       "      <td>ACGACTTGCCCAATAAATGTGAGCGTTGCCAAAAGGAATACAATGA...</td>\n",
       "      <td>0.5</td>\n",
       "    </tr>\n",
       "    <tr>\n",
       "      <th>4</th>\n",
       "      <td>2.0</td>\n",
       "      <td>2.0</td>\n",
       "      <td>0.0</td>\n",
       "      <td>ACGACTTGCCCAATAAATGTGAGCGTTGCCAAAAGGAATACAATGA...</td>\n",
       "      <td>0.5</td>\n",
       "    </tr>\n",
       "  </tbody>\n",
       "</table>\n",
       "</div>"
      ],
      "text/plain": [
       "    ct  ct_0  ct_1                                                seq  \\\n",
       "0  1.0   1.0   0.0  ACAATTTCACCATAAAATGTCGGCGTTGCCGAAAGAAATAAAATGA...   \n",
       "1  1.0   1.0   0.0  ACGAATTCCCCATAAGAAGTAAGCGATGCAGAAAGAAATAAAATTA...   \n",
       "2  1.0   1.0   0.0  ACGAATTCCCCATAAGAAGTAAGCGATGCAGAAAGAAATAAAATTA...   \n",
       "3  2.0   2.0   0.0  ACGACTTGCCCAATAAATGTGAGCGTTGCCAAAAGGAATACAATGA...   \n",
       "4  2.0   2.0   0.0  ACGACTTGCCCAATAAATGTGAGCGTTGCCAAAAGGAATACAATGA...   \n",
       "\n",
       "   norm_ct_1  \n",
       "0        1.0  \n",
       "1        1.0  \n",
       "2        1.0  \n",
       "3        0.5  \n",
       "4        0.5  "
      ]
     },
     "execution_count": 8,
     "metadata": {},
     "output_type": "execute_result"
    }
   ],
   "source": [
    "df_ykgE.head()"
   ]
  },
  {
   "attachments": {},
   "cell_type": "markdown",
   "metadata": {},
   "source": [
    "## Information footprint: Minimum binning"
   ]
  },
  {
   "attachments": {},
   "cell_type": "markdown",
   "metadata": {},
   "source": [
    "### 1. Representing mutations as probability distribution"
   ]
  },
  {
   "attachments": {},
   "cell_type": "markdown",
   "metadata": {},
   "source": [
    "Let's write down $P_i(b)$ by calculating the fraction of bases at each position that are wild type and the fraction that are mutated."
   ]
  },
  {
   "cell_type": "code",
   "execution_count": 9,
   "metadata": {},
   "outputs": [],
   "source": [
    "wtseq = 'TCGATTTCCCCATAAAATGTGAGCGATGCCGAAAGAAATAAAATTAGTTATTGCATTTGACGTTTGGATGAAAGATTATCATTTGTCATACAAATGAGGGGTGGTATGTTGCTAGCCAATTAAAAAAGAACGCCATATTTATTGATGATTGATCCCCCGG'"
   ]
  },
  {
   "cell_type": "code",
   "execution_count": 10,
   "metadata": {},
   "outputs": [
    {
     "data": {
      "text/plain": [
       "array([[ True, False,  True, ..., False, False, False],\n",
       "       [ True, False, False, ..., False, False, False],\n",
       "       [ True, False, False, ..., False, False, False],\n",
       "       ...,\n",
       "       [False,  True, False, ...,  True, False, False],\n",
       "       [False,  True, False, ...,  True, False, False],\n",
       "       [False,  True, False, ...,  True, False, False]])"
      ]
     },
     "execution_count": 10,
     "metadata": {},
     "output_type": "execute_result"
    }
   ],
   "source": [
    "mut_list = df_ykgE['seq'].values\n",
    "\n",
    "all_mutarr = tregs.footprint.match_seqs(wtseq, mut_list)\n",
    "all_mutarr"
   ]
  },
  {
   "cell_type": "code",
   "execution_count": 11,
   "metadata": {},
   "outputs": [
    {
     "data": {
      "text/plain": [
       "(160, 2)"
      ]
     },
     "execution_count": 11,
     "metadata": {},
     "output_type": "execute_result"
    }
   ],
   "source": [
    "list_p_b = tregs.footprint.get_p_b(all_mutarr, n_seqs)\n",
    "list_p_b.shape"
   ]
  },
  {
   "attachments": {},
   "cell_type": "markdown",
   "metadata": {},
   "source": [
    "### 2. Representing expression levels as probability distributions"
   ]
  },
  {
   "attachments": {},
   "cell_type": "markdown",
   "metadata": {},
   "source": [
    "To create the simplest probabilty distribution for expression levels, let's group RNA count into two bins - one with high expression levels and one with low expression levels."
   ]
  },
  {
   "cell_type": "code",
   "execution_count": 12,
   "metadata": {},
   "outputs": [
    {
     "data": {
      "image/png": "[encoded data removed]",
      "text/plain": [
       "<Figure size 720x288 with 2 Axes>"
      ]
     },
     "metadata": {
      "needs_background": "light"
     },
     "output_type": "display_data"
    }
   ],
   "source": [
    "fig, axes = plt.subplots(1, 2, sharey=True, figsize=(10,4))\n",
    "\n",
    "axes[0].hist(df_ykgE['norm_ct_1'], bins=20)\n",
    "axes[0].set_yscale('log')\n",
    "axes[0].set_xlabel('Relative RNA count')\n",
    "axes[0].set_ylabel('Count')\n",
    "\n",
    "axes[1].hist(np.log10(df_ykgE['norm_ct_1']), bins=20)\n",
    "axes[1].set_yscale('log')\n",
    "axes[1].set_xlabel('log10(Relative RNA count)')\n",
    "\n",
    "plt.show()"
   ]
  },
  {
   "attachments": {},
   "cell_type": "markdown",
   "metadata": {},
   "source": [
    "The above plot shows the distribution of the normalized RNA count. I first tried to divide the expression levels roughly equally into two bins so as to minimize entropy, but it turns out this is pretty hard to do since the relative RNA counts are discrete so I'm just choosing an arbitrary cut-off between the two bins."
   ]
  },
  {
   "cell_type": "code",
   "execution_count": 13,
   "metadata": {},
   "outputs": [],
   "source": [
    "# attempted to write code where we multiply the bin count by the read count\n",
    "#binned = pd.cut(df_ykgE['norm_ct_1'], bins=bins,\n",
    "#                labels=np.arange(nbins),\n",
    "#                include_lowest=True, right=False)\n",
    "#df_ykgE['bins'] = np.asarray(binned)\n",
    "\n",
    "#mu_bins = binned.values\n",
    "#bin_cnt = binned.value_counts().values\n",
    "\n",
    "#bin_cnt = []\n",
    "#for i in range(nbins):\n",
    "#    sub_df = df_ykgE[df_ykgE.bins == i]\n",
    "#    bin_cnt.append(np.sum(sub_df['norm_ct_1']))\n",
    "#bin_cnt"
   ]
  },
  {
   "cell_type": "code",
   "execution_count": 14,
   "metadata": {},
   "outputs": [
    {
     "data": {
      "text/plain": [
       "array([0.95849421, 0.04150579])"
      ]
     },
     "execution_count": 14,
     "metadata": {},
     "output_type": "execute_result"
    }
   ],
   "source": [
    "mu_data = df_ykgE['norm_ct_1']\n",
    "\n",
    "nbins = 2\n",
    "upper_bound = 5\n",
    "mu_bins, bin_cnt = tregs.footprint.bin_expression_levels(mu_data, nbins, upper_bound)\n",
    "p_mu = tregs.footprint.get_p_mu(bin_cnt, n_seqs)\n",
    "p_mu"
   ]
  },
  {
   "attachments": {},
   "cell_type": "markdown",
   "metadata": {},
   "source": [
    "### 3. Calculating the joint probability distribution"
   ]
  },
  {
   "attachments": {},
   "cell_type": "markdown",
   "metadata": {},
   "source": [
    "To calculate the joint probability distribution, we need to count the number of sequences that are wild type and highly expressed, mutated and highly expressed, wild type and lowly expressed, and mutated and lowly expressed."
   ]
  },
  {
   "cell_type": "code",
   "execution_count": 15,
   "metadata": {},
   "outputs": [],
   "source": [
    "list_joint_p = tregs.footprint.get_joint_p(all_mutarr, mu_bins, nbins)"
   ]
  },
  {
   "attachments": {},
   "cell_type": "markdown",
   "metadata": {},
   "source": [
    "### 4. Calculate mutual information at each position"
   ]
  },
  {
   "attachments": {},
   "cell_type": "markdown",
   "metadata": {},
   "source": [
    "Finally, we can calculate the information footprint by computing the mutual information at each position given the probability distributions that we have calculated above."
   ]
  },
  {
   "cell_type": "code",
   "execution_count": 16,
   "metadata": {},
   "outputs": [],
   "source": [
    "footprint = tregs.footprint.MI(list_p_b, p_mu, list_joint_p)"
   ]
  },
  {
   "attachments": {},
   "cell_type": "markdown",
   "metadata": {},
   "source": [
    "### 5. Making information footprint"
   ]
  },
  {
   "attachments": {},
   "cell_type": "markdown",
   "metadata": {},
   "source": [
    "The information footprint is plotted below. We have smoothed the footprint using a sliding window with window size of 5. We have also coloured the footprints based on the expression shift, which we plot in `expression_shift.ipynb`.\n",
    "\n",
    "There is a lot of noise but we do have high peaks at the RNAP binding sites (from -70 to -35) and at the repressor binding site (-35 to -20)."
   ]
  },
  {
   "cell_type": "code",
   "execution_count": 17,
   "metadata": {},
   "outputs": [
    {
     "data": {
      "text/html": [
       "<img src=\"../figs/footprints/ykgE_footprint_elife.jpg\" width=\"620\" height=\"150\"/>"
      ],
      "text/plain": [
       "<IPython.core.display.Image object>"
      ]
     },
     "execution_count": 17,
     "metadata": {},
     "output_type": "execute_result"
    }
   ],
   "source": [
    "Image(url=\"../figs/footprints/ykgE_footprint_elife.jpg\", width=620, height=150)"
   ]
  },
  {
   "cell_type": "code",
   "execution_count": 18,
   "metadata": {},
   "outputs": [
    {
     "data": {
      "image/png": "[encoded data removed]",
      "text/plain": [
       "<Figure size 720x144 with 1 Axes>"
      ]
     },
     "metadata": {
      "needs_background": "light"
     },
     "output_type": "display_data"
    }
   ],
   "source": [
    "fig, ax = plt.subplots(figsize=(10,2))\n",
    "ax.set_ylabel('Information (bits)')\n",
    "ax.set_xlabel('position')\n",
    "\n",
    "windowsize = 5\n",
    "exshift_list = tregs.footprint.get_expression_shift(mut_list, mu_data.values, wtseq, smoothed=True, windowsize=windowsize)\n",
    "shiftcolors = [('salmon' if exshift > 0 else 'royalblue') for exshift in exshift_list]\n",
    "\n",
    "cut = int((windowsize - 1) / 2)\n",
    "x = np.arange(-115 + cut, 45 - cut)\n",
    "footprint_smoothed = tregs.utils.smoothing(footprint, windowsize=windowsize)\n",
    "ax.bar(x, footprint_smoothed, edgecolor=None, color=shiftcolors)\n",
    "\n",
    "custom_lines = [Line2D([0], [0], color='salmon', lw=4),\n",
    "                Line2D([0], [0], color='royalblue', lw=4)]\n",
    "ax.legend(custom_lines, ['Mutation increases\\nexpression', 'Mutation decreases\\nexpression'],\n",
    "          bbox_to_anchor=(1.3, 0.8), frameon=False)\n",
    "\n",
    "plt.savefig('../figs/footprints/ykgE_footprint_expression_bins.png', dpi=300, bbox_inches='tight')\n",
    "plt.show()"
   ]
  },
  {
   "cell_type": "code",
   "execution_count": 19,
   "metadata": {},
   "outputs": [],
   "source": [
    "footprint_old = tregs.footprint.footprint_old(df_ykgE, wtseq)"
   ]
  },
  {
   "cell_type": "code",
   "execution_count": 20,
   "metadata": {},
   "outputs": [
    {
     "data": {
      "image/png": "[encoded data removed]",
      "text/plain": [
       "<Figure size 720x144 with 1 Axes>"
      ]
     },
     "metadata": {
      "needs_background": "light"
     },
     "output_type": "display_data"
    }
   ],
   "source": [
    "fig, ax = plt.subplots(figsize=(10,2))\n",
    "ax.set_ylabel('Information (bits)')\n",
    "ax.set_xlabel('position')\n",
    "\n",
    "windowsize = 5\n",
    "exshift_list = tregs.footprint.get_expression_shift(mut_list, mu_data.values, wtseq, smoothed=True, windowsize=windowsize)\n",
    "shiftcolors = [('salmon' if exshift > 0 else 'royalblue') for exshift in exshift_list]\n",
    "\n",
    "cut = int((windowsize - 1) / 2)\n",
    "x = np.arange(-115 + cut, 45 - cut)\n",
    "footprint_smoothed = tregs.utils.smoothing(footprint_old, windowsize=windowsize)\n",
    "ax.bar(x, footprint_smoothed, edgecolor=None, color=shiftcolors)\n",
    "\n",
    "custom_lines = [Line2D([0], [0], color='salmon', lw=4),\n",
    "                Line2D([0], [0], color='royalblue', lw=4)]\n",
    "ax.legend(custom_lines, ['Mutation increases\\nexpression', 'Mutation decreases\\nexpression'],\n",
    "          bbox_to_anchor=(1.3, 0.8), frameon=False)\n",
    "\n",
    "plt.savefig('../figs/ykgE_footprint_percentage_RNA.png', dpi=300, bbox_inches='tight')\n",
    "plt.show()"
   ]
  },
  {
   "attachments": {},
   "cell_type": "markdown",
   "metadata": {},
   "source": [
    "## Changing bin sizes"
   ]
  },
  {
   "attachments": {},
   "cell_type": "markdown",
   "metadata": {},
   "source": [
    "Now let's see if the information footprint is better if we only put the very highly expressed genes are in the high expression bins. Let's arbitrarily say we have a highly expressed gene if the normalized RNA count is more than or equal to 10 and we have a lowly expressed gene otherwise. Then we can calculate $p_{\\mu}$ as follows:"
   ]
  },
  {
   "cell_type": "code",
   "execution_count": 21,
   "metadata": {},
   "outputs": [],
   "source": [
    "## Let's search for the optimal binning while restricting the number of bins to 2"
   ]
  },
  {
   "cell_type": "code",
   "execution_count": 22,
   "metadata": {},
   "outputs": [
    {
     "data": {
      "image/png": "[encoded data removed]",
      "text/plain": [
       "<Figure size 720x144 with 1 Axes>"
      ]
     },
     "metadata": {
      "needs_background": "light"
     },
     "output_type": "display_data"
    },
    {
     "data": {
      "image/png": "[encoded data removed]",
      "text/plain": [
       "<Figure size 720x144 with 1 Axes>"
      ]
     },
     "metadata": {
      "needs_background": "light"
     },
     "output_type": "display_data"
    },
    {
     "data": {
      "image/png": "[encoded data removed]",
      "text/plain": [
       "<Figure size 720x144 with 1 Axes>"
      ]
     },
     "metadata": {
      "needs_background": "light"
     },
     "output_type": "display_data"
    },
    {
     "data": {
      "image/png": "[encoded data removed]",
      "text/plain": [
       "<Figure size 720x144 with 1 Axes>"
      ]
     },
     "metadata": {
      "needs_background": "light"
     },
     "output_type": "display_data"
    },
    {
     "data": {
      "image/png": "[encoded data removed]",
      "text/plain": [
       "<Figure size 720x144 with 1 Axes>"
      ]
     },
     "metadata": {
      "needs_background": "light"
     },
     "output_type": "display_data"
    },
    {
     "data": {
      "image/png": "[encoded data removed]",
      "text/plain": [
       "<Figure size 720x144 with 1 Axes>"
      ]
     },
     "metadata": {
      "needs_background": "light"
     },
     "output_type": "display_data"
    },
    {
     "data": {
      "image/png": "[encoded data removed]",
      "text/plain": [
       "<Figure size 720x144 with 1 Axes>"
      ]
     },
     "metadata": {
      "needs_background": "light"
     },
     "output_type": "display_data"
    },
    {
     "data": {
      "image/png": "[encoded data removed]",
      "text/plain": [
       "<Figure size 720x144 with 1 Axes>"
      ]
     },
     "metadata": {
      "needs_background": "light"
     },
     "output_type": "display_data"
    },
    {
     "data": {
      "image/png": "[encoded data removed]",
      "text/plain": [
       "<Figure size 720x144 with 1 Axes>"
      ]
     },
     "metadata": {
      "needs_background": "light"
     },
     "output_type": "display_data"
    },
    {
     "data": {
      "image/png": "[encoded data removed]",
      "text/plain": [
       "<Figure size 720x144 with 1 Axes>"
      ]
     },
     "metadata": {
      "needs_background": "light"
     },
     "output_type": "display_data"
    },
    {
     "data": {
      "image/png": "[encoded data removed]",
      "text/plain": [
       "<Figure size 720x144 with 1 Axes>"
      ]
     },
     "metadata": {
      "needs_background": "light"
     },
     "output_type": "display_data"
    },
    {
     "data": {
      "image/png": "[encoded data removed]",
      "text/plain": [
       "<Figure size 720x144 with 1 Axes>"
      ]
     },
     "metadata": {
      "needs_background": "light"
     },
     "output_type": "display_data"
    },
    {
     "data": {
      "image/png": "[encoded data removed]",
      "text/plain": [
       "<Figure size 720x144 with 1 Axes>"
      ]
     },
     "metadata": {
      "needs_background": "light"
     },
     "output_type": "display_data"
    }
   ],
   "source": [
    "nbins = 2\n",
    "windowsize = 5\n",
    "cut = int((windowsize - 1) / 2)\n",
    "x = np.arange(-115 + cut, 45 - cut)\n",
    "exshift_list = tregs.footprint.get_expression_shift(mut_list, mu_data.values, wtseq, smoothed=True, windowsize=windowsize)\n",
    "shiftcolors = [('salmon' if exshift > 0 else 'royalblue') for exshift in exshift_list]\n",
    "\n",
    "for upper_bound in range(2, 15):\n",
    "    footprint = tregs.footprint.get_info_footprint(mut_list, mu_data, wtseq, nbins, upper_bound)\n",
    "    footprint_smoothed = tregs.utils.smoothing(footprint, windowsize=windowsize)\n",
    "    plt.figure(figsize=(10, 2))\n",
    "    plt.bar(x, footprint_smoothed, edgecolor=None, color=shiftcolors)\n",
    "    plt.title('boundary = {}'.format(upper_bound))\n",
    "    plt.ylabel('Information (bits)')\n",
    "    plt.xlabel('position')\n",
    "    plt.show()"
   ]
  },
  {
   "attachments": {},
   "cell_type": "markdown",
   "metadata": {},
   "source": [
    "## Increasing number of bins"
   ]
  },
  {
   "cell_type": "code",
   "execution_count": 23,
   "metadata": {},
   "outputs": [],
   "source": [
    "mut_list = df_ykgE['seq'].values\n",
    "mu_data = df_ykgE['norm_ct_1']"
   ]
  },
  {
   "cell_type": "code",
   "execution_count": 24,
   "metadata": {},
   "outputs": [],
   "source": [
    "nbins = 3\n",
    "upper_bound = 3\n",
    "footprint = tregs.footprint.get_info_footprint(mut_list, mu_data, wtseq, nbins, upper_bound)"
   ]
  },
  {
   "cell_type": "code",
   "execution_count": 25,
   "metadata": {},
   "outputs": [
    {
     "data": {
      "image/png": "[encoded data removed]",
      "text/plain": [
       "<Figure size 720x144 with 1 Axes>"
      ]
     },
     "metadata": {
      "needs_background": "light"
     },
     "output_type": "display_data"
    }
   ],
   "source": [
    "fig, ax = plt.subplots(figsize=(10,2))\n",
    "ax.set_ylabel('Information (bits)')\n",
    "ax.set_xlabel('position')\n",
    "\n",
    "windowsize = 5\n",
    "exshift_list = tregs.footprint.get_expression_shift(mut_list, mu_data.values, wtseq, smoothed=True, windowsize=windowsize)\n",
    "shiftcolors = [('salmon' if exshift > 0 else 'royalblue') for exshift in exshift_list]\n",
    "\n",
    "cut = int((windowsize - 1) / 2)\n",
    "x = np.arange(-115 + cut, 45 - cut)\n",
    "footprint_smoothed = tregs.utils.smoothing(footprint, windowsize=windowsize)\n",
    "ax.bar(x, footprint_smoothed, edgecolor=None, color=shiftcolors)\n",
    "plt.show()"
   ]
  },
  {
   "cell_type": "code",
   "execution_count": 26,
   "metadata": {},
   "outputs": [],
   "source": [
    "nbins = 6\n",
    "upper_bound = 10\n",
    "footprint = tregs.footprint.get_info_footprint(mut_list, mu_data, wtseq, nbins, upper_bound)"
   ]
  },
  {
   "cell_type": "code",
   "execution_count": 27,
   "metadata": {},
   "outputs": [
    {
     "data": {
      "image/png": "[encoded data removed]",
      "text/plain": [
       "<Figure size 720x144 with 1 Axes>"
      ]
     },
     "metadata": {
      "needs_background": "light"
     },
     "output_type": "display_data"
    }
   ],
   "source": [
    "fig, ax = plt.subplots(figsize=(10,2))\n",
    "ax.set_ylabel('Information (bits)')\n",
    "ax.set_xlabel('position')\n",
    "\n",
    "windowsize = 5\n",
    "exshift_list = tregs.footprint.get_expression_shift(mut_list, mu_data.values, wtseq, smoothed=True, windowsize=windowsize)\n",
    "shiftcolors = [('salmon' if exshift > 0 else 'royalblue') for exshift in exshift_list]\n",
    "\n",
    "cut = int((windowsize - 1) / 2)\n",
    "x = np.arange(-115 + cut, 45 - cut)\n",
    "footprint_smoothed = tregs.utils.smoothing(footprint, windowsize=windowsize)\n",
    "ax.bar(x, footprint_smoothed, edgecolor=None, color=shiftcolors)\n",
    "plt.show()"
   ]
  },
  {
   "attachments": {},
   "cell_type": "markdown",
   "metadata": {},
   "source": [
    "## Use probability distribution of four bases instead of mutated vs. wild type"
   ]
  },
  {
   "attachments": {},
   "cell_type": "markdown",
   "metadata": {},
   "source": [
    "This also looks worse than the footprint that we obtained before."
   ]
  },
  {
   "cell_type": "code",
   "execution_count": 28,
   "metadata": {},
   "outputs": [],
   "source": [
    "mut_list = df_ykgE['seq'].values\n",
    "mu_data = df_ykgE['norm_ct_1']"
   ]
  },
  {
   "cell_type": "code",
   "execution_count": 29,
   "metadata": {},
   "outputs": [],
   "source": [
    "n_seqs = len(mut_list)\n",
    "len_promoter = 160\n",
    "letters = ['A', 'T', 'C', 'G']\n",
    "nbins = 2\n",
    "upper_bound = 3\n",
    "pseudocount=10**(-6)\n",
    "\n",
    "mu_bins, bin_cnt = tregs.footprint.bin_expression_levels(mu_data, nbins, upper_bound)\n",
    "p_mu = tregs.footprint.get_p_mu(bin_cnt, n_seqs)"
   ]
  },
  {
   "cell_type": "code",
   "execution_count": 30,
   "metadata": {},
   "outputs": [],
   "source": [
    "list_p_b = []\n",
    "for position in range(len_promoter):\n",
    "    dict_cnt = {'A': 0, 'T': 0, 'C': 0, 'G': 0}\n",
    "    for mut in mut_list:\n",
    "        letter = mut[position]\n",
    "        dict_cnt[letter] += 1\n",
    "    list_cnt = [] # this seems stupid but I'm just trying to make sure the order of letters in the lists are consistent\n",
    "    for letter in letters:\n",
    "        list_cnt.append(dict_cnt[letter])\n",
    "    p_b = np.asarray(list_cnt) / n_seqs\n",
    "    list_p_b.append(p_b)"
   ]
  },
  {
   "cell_type": "code",
   "execution_count": 31,
   "metadata": {},
   "outputs": [],
   "source": [
    "list_joint_p = []\n",
    "for position in range(len_promoter):\n",
    "    joint_p = np.zeros((4, nbins)) + pseudocount\n",
    "    # adding a pseudocount to prevent zero-division error\n",
    "    for i, mut in enumerate(mut_list):\n",
    "        for j in range(nbins):\n",
    "            for i_letter in range(4):\n",
    "                if (mut[position] == letters[i_letter]) & (mu_bins[i] == j):\n",
    "                    joint_p[i_letter][j] += 1\n",
    "\n",
    "    joint_p /= np.sum(joint_p)\n",
    "    list_joint_p.append(joint_p)"
   ]
  },
  {
   "cell_type": "code",
   "execution_count": 32,
   "metadata": {},
   "outputs": [],
   "source": [
    "footprint = []\n",
    "for position in range(len_promoter):\n",
    "    p_b = list_p_b[position]\n",
    "    joint_p = list_joint_p[position]\n",
    "\n",
    "    mi = 0\n",
    "    for i in range(len(p_mu)):\n",
    "        for i_letter in range(4):\n",
    "            mi += joint_p[i_letter][i] * np.log2(joint_p[i_letter][i] / (p_b[i_letter] * p_mu[i]))\n",
    "    footprint.append(mi)"
   ]
  },
  {
   "cell_type": "code",
   "execution_count": 33,
   "metadata": {},
   "outputs": [
    {
     "data": {
      "image/png": "[encoded data removed]",
      "text/plain": [
       "<Figure size 720x144 with 1 Axes>"
      ]
     },
     "metadata": {
      "needs_background": "light"
     },
     "output_type": "display_data"
    }
   ],
   "source": [
    "fig, ax = plt.subplots(figsize=(10,2))\n",
    "ax.set_ylabel('Information (bits)')\n",
    "ax.set_xlabel('position')\n",
    "\n",
    "windowsize = 5\n",
    "exshift_list = tregs.footprint.get_expression_shift(mut_list, mu_data.values, wtseq, smoothed=True, windowsize=windowsize)\n",
    "shiftcolors = [('salmon' if exshift > 0 else 'royalblue') for exshift in exshift_list]\n",
    "\n",
    "cut = int((windowsize - 1) / 2)\n",
    "x = np.arange(-115 + cut, 45 - cut)\n",
    "footprint_smoothed = tregs.utils.smoothing(footprint, windowsize=windowsize)\n",
    "ax.bar(x, footprint_smoothed, edgecolor=None, color=shiftcolors)\n",
    "plt.show()"
   ]
  },
  {
   "attachments": {},
   "cell_type": "markdown",
   "metadata": {},
   "source": [
    "## Do an exhaustive search on number of bins & bin size"
   ]
  },
  {
   "attachments": {},
   "cell_type": "markdown",
   "metadata": {},
   "source": [
    "Quantify how good the footprint is by taking the ratio between (the average height of the peaks in the binding site) and (the average height across the whole footprint)"
   ]
  },
  {
   "attachments": {},
   "cell_type": "markdown",
   "metadata": {},
   "source": [
    "Note to self: Could this be a way of automatic peak identification?\n",
    "1. Calculate the average number of bits across the whole footprint\n",
    "2. Sliding window: calculate ratio between (average number of bits in window) and (average number of bits across footprint)\n",
    "3. Define minimum ratio between peaks and background -> identify windows above minimum ratio\n",
    "4. Merge neighbouring/overlapping windows to get binding sites"
   ]
  },
  {
   "cell_type": "markdown",
   "metadata": {},
   "source": [
    "## Testing on simulated LacI data"
   ]
  },
  {
   "attachments": {},
   "cell_type": "markdown",
   "metadata": {},
   "source": [
    "Now we test the algorithm on the data that we simulated for the lacZYA promoter in `simple_repression_synthetic_dataset.ipynb`. Here the RNAP binding site is from -41 to 0 and the repressor (lacI) binding site is from 0 to 21.\n"
   ]
  },
  {
   "cell_type": "code",
   "execution_count": 2,
   "metadata": {},
   "outputs": [
    {
     "data": {
      "text/html": [
       "<div>\n",
       "<style scoped>\n",
       "    .dataframe tbody tr th:only-of-type {\n",
       "        vertical-align: middle;\n",
       "    }\n",
       "\n",
       "    .dataframe tbody tr th {\n",
       "        vertical-align: top;\n",
       "    }\n",
       "\n",
       "    .dataframe thead th {\n",
       "        text-align: right;\n",
       "    }\n",
       "</style>\n",
       "<table border=\"1\" class=\"dataframe\">\n",
       "  <thead>\n",
       "    <tr style=\"text-align: right;\">\n",
       "      <th></th>\n",
       "      <th>seq</th>\n",
       "      <th>pbound</th>\n",
       "      <th>ct_0</th>\n",
       "      <th>ct_1</th>\n",
       "      <th>ct</th>\n",
       "    </tr>\n",
       "  </thead>\n",
       "  <tbody>\n",
       "    <tr>\n",
       "      <th>0</th>\n",
       "      <td>ACAGGTTTCCCGACTGGAAAGCGGGCAGTGAGCGCAACGCAATTAA...</td>\n",
       "      <td>0.006575</td>\n",
       "      <td>3.0</td>\n",
       "      <td>2.0</td>\n",
       "      <td>5.0</td>\n",
       "    </tr>\n",
       "    <tr>\n",
       "      <th>1</th>\n",
       "      <td>ACAGGTTTCCCGACTGGAAAGCGGGCAGTGAGCGCAACGCAATTAA...</td>\n",
       "      <td>0.055688</td>\n",
       "      <td>2.0</td>\n",
       "      <td>12.0</td>\n",
       "      <td>14.0</td>\n",
       "    </tr>\n",
       "    <tr>\n",
       "      <th>2</th>\n",
       "      <td>ACAGGTTTCCCGACTGGAAAGCGGGCAGTGAGCGCAACGCAATTAA...</td>\n",
       "      <td>0.253632</td>\n",
       "      <td>9.0</td>\n",
       "      <td>229.0</td>\n",
       "      <td>238.0</td>\n",
       "    </tr>\n",
       "    <tr>\n",
       "      <th>3</th>\n",
       "      <td>ACAGGTTTCCCGACTGGAAAGCGGGCAGTGAGCGCAACGCAATTAA...</td>\n",
       "      <td>0.006162</td>\n",
       "      <td>7.0</td>\n",
       "      <td>5.0</td>\n",
       "      <td>12.0</td>\n",
       "    </tr>\n",
       "    <tr>\n",
       "      <th>4</th>\n",
       "      <td>ACAGGTTTCCCGACTGGAAAGCGGGCAGTGAGCGCAACGCAATTAA...</td>\n",
       "      <td>0.021258</td>\n",
       "      <td>4.0</td>\n",
       "      <td>9.0</td>\n",
       "      <td>13.0</td>\n",
       "    </tr>\n",
       "  </tbody>\n",
       "</table>\n",
       "</div>"
      ],
      "text/plain": [
       "                                                 seq    pbound  ct_0   ct_1  \\\n",
       "0  ACAGGTTTCCCGACTGGAAAGCGGGCAGTGAGCGCAACGCAATTAA...  0.006575   3.0    2.0   \n",
       "1  ACAGGTTTCCCGACTGGAAAGCGGGCAGTGAGCGCAACGCAATTAA...  0.055688   2.0   12.0   \n",
       "2  ACAGGTTTCCCGACTGGAAAGCGGGCAGTGAGCGCAACGCAATTAA...  0.253632   9.0  229.0   \n",
       "3  ACAGGTTTCCCGACTGGAAAGCGGGCAGTGAGCGCAACGCAATTAA...  0.006162   7.0    5.0   \n",
       "4  ACAGGTTTCCCGACTGGAAAGCGGGCAGTGAGCGCAACGCAATTAA...  0.021258   4.0    9.0   \n",
       "\n",
       "      ct  \n",
       "0    5.0  \n",
       "1   14.0  \n",
       "2  238.0  \n",
       "3   12.0  \n",
       "4   13.0  "
      ]
     },
     "execution_count": 2,
     "metadata": {},
     "output_type": "execute_result"
    }
   ],
   "source": [
    "fpath = '../data/synthetic_datasets/lacI_synthetic_dataset.csv'\n",
    "df_lacI = pd.read_csv(fpath)\n",
    "df_lacI.head()"
   ]
  },
  {
   "cell_type": "code",
   "execution_count": 3,
   "metadata": {},
   "outputs": [],
   "source": [
    "wtseq = 'ACAGGTTTCCCGACTGGAAAGCGGGCAGTGAGCGCAACGCAATTAATGTGAGTTAGCTCACTCATTAGGCACCCCAGGCTTTACACTTTATGCTTCCGGCTCGTATGTTGTGTGGAATTGTGAGCGGATAACAATTTCACACAGGAAACAGCTATGACCA'"
   ]
  },
  {
   "cell_type": "code",
   "execution_count": 4,
   "metadata": {},
   "outputs": [],
   "source": [
    "df_lacI = df_lacI[df_lacI.ct_0 != 0.0]\n",
    "df_lacI['norm_ct_1'] = df_lacI['ct_1'] / df_lacI['ct_0']\n",
    "\n",
    "n_seqs = len(df_lacI)\n",
    "mut_list = df_lacI['seq'].values\n",
    "mu_data = df_lacI['norm_ct_1']"
   ]
  },
  {
   "cell_type": "code",
   "execution_count": 5,
   "metadata": {},
   "outputs": [
    {
     "data": {
      "image/png": "[encoded data removed]",
      "text/plain": [
       "<Figure size 432x288 with 1 Axes>"
      ]
     },
     "metadata": {
      "needs_background": "light"
     },
     "output_type": "display_data"
    }
   ],
   "source": [
    "plt.hist(df_lacI['norm_ct_1'], bins=20)\n",
    "plt.xlabel('Normalized RNA count')\n",
    "plt.ylabel('Count')\n",
    "plt.yscale('log')\n",
    "plt.show()"
   ]
  },
  {
   "cell_type": "code",
   "execution_count": 6,
   "metadata": {},
   "outputs": [],
   "source": [
    "from itertools import compress\n",
    "\n",
    "def combine_regions(regions):\n",
    "\n",
    "    regions = sorted(regions)\n",
    "    # sorting is necessary: the rest of the function does not work if list is not sorted\n",
    "\n",
    "    last_combined = regions\n",
    "    combined_regions = []\n",
    "    i = 0\n",
    "    while i < len(regions):\n",
    "        start = regions[i][0]\n",
    "        tmp_end = regions[i][1]\n",
    "        tmp_index = i\n",
    "        for j in range(i+1, len(regions)):\n",
    "            if regions[j][0] <= tmp_end:\n",
    "                tmp_end = regions[j][1]\n",
    "                tmp_index = j\n",
    "        combined_regions.append((start, tmp_end))\n",
    "        i = tmp_index + 1\n",
    "\n",
    "    return combined_regions"
   ]
  },
  {
   "cell_type": "code",
   "execution_count": 7,
   "metadata": {},
   "outputs": [],
   "source": [
    "def find_binding_sites(heights, windowsize, stepsize,\n",
    "                       min_ratio=2):\n",
    "    avg_height = np.mean(heights)\n",
    "\n",
    "    position = 0\n",
    "    window_ratio = []\n",
    "    positions = []\n",
    "    while position <= (len(heights) - windowsize):\n",
    "        window = heights[position:(position + windowsize)]\n",
    "        window_avg = np.mean(window)\n",
    "        window_ratio.append(window_avg / avg_height)\n",
    "        positions.append((position - 115, position + windowsize - 115))\n",
    "        position += stepsize\n",
    "\n",
    "    peak_windows = list(compress(positions, np.asarray(window_ratio) >= min_ratio))\n",
    "    binding_sites = combine_regions(peak_windows)\n",
    "    return binding_sites"
   ]
  },
  {
   "cell_type": "code",
   "execution_count": 12,
   "metadata": {},
   "outputs": [
    {
     "data": {
      "image/png": "[encoded data removed]",
      "text/plain": [
       "<Figure size 720x144 with 1 Axes>"
      ]
     },
     "metadata": {
      "needs_background": "light"
     },
     "output_type": "display_data"
    }
   ],
   "source": [
    "fig, ax = plt.subplots(figsize=(10,2))\n",
    "ax.set_ylabel('Information (bits)')\n",
    "ax.set_xlabel('position')\n",
    "\n",
    "windowsize = 3\n",
    "exshift_list = tregs.footprint.get_expression_shift(mut_list, mu_data.values, wtseq, smoothed=True, windowsize=windowsize)\n",
    "shiftcolors = [('salmon' if exshift > 0 else 'royalblue') for exshift in exshift_list]\n",
    "\n",
    "cut = int((windowsize - 1) / 2)\n",
    "x = np.arange(-115 + cut, 45 - cut)\n",
    "nbins = 2\n",
    "upper_bound = 10\n",
    "footprint = tregs.footprint.get_info_footprint(mut_list, mu_data, wtseq, nbins, upper_bound,\n",
    "                                               pseudocount=0)\n",
    "\n",
    "binding_sites = find_binding_sites(footprint, windowsize=1, stepsize=1, min_ratio=2)\n",
    "for binding_site in binding_sites:\n",
    "        ax.axvspan(binding_site[0], binding_site[1], alpha=0.7, color='lightgray')\n",
    "ax.bar(x, footprint, edgecolor=None, color=shiftcolors)\n",
    "\n",
    "plt.show()"
   ]
  },
  {
   "cell_type": "code",
   "execution_count": 13,
   "metadata": {},
   "outputs": [
    {
     "data": {
      "text/plain": [
       "array([[ 76,  84],\n",
       "       [ 98, 108],\n",
       "       [116, 124]])"
      ]
     },
     "execution_count": 13,
     "metadata": {},
     "output_type": "execute_result"
    }
   ],
   "source": [
    "np.asarray(binding_sites) + 114"
   ]
  }
 ],
 "metadata": {
  "kernelspec": {
   "display_name": "Python 3.10.4 ('env_thermo_seq')",
   "language": "python",
   "name": "python3"
  },
  "language_info": {
   "codemirror_mode": {
    "name": "ipython",
    "version": 3
   },
   "file_extension": ".py",
   "mimetype": "text/x-python",
   "name": "python",
   "nbconvert_exporter": "python",
   "pygments_lexer": "ipython3",
   "version": "3.10.4"
  },
  "orig_nbformat": 4,
  "vscode": {
   "interpreter": {
    "hash": "5e0c78d6696da6e3ddb4651dd94c59f5d0a59a4d4b8438d3476f738d0fde1b6d"
   }
  }
 },
 "nbformat": 4,
 "nbformat_minor": 2
}
