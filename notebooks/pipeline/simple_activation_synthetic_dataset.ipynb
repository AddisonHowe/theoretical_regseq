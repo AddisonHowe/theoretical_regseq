{
 "cells": [
  {
   "cell_type": "code",
   "execution_count": 1,
   "metadata": {
    "collapsed": false
   },
   "outputs": [],
   "source": [
    "import math\n",
    "import numpy as np\n",
    "import pandas as pd\n",
    "from Bio import SeqIO\n",
    "\n",
    "# custom packages\n",
    "import tregs\n",
    "\n",
    "# visualization\n",
    "import matplotlib.pyplot as plt\n",
    "import seaborn as sns"
   ]
  },
  {
   "attachments": {},
   "cell_type": "markdown",
   "metadata": {},
   "source": [
    "Here we use CRP binding at the lacZYA promoter as a case study for simple activation."
   ]
  },
  {
   "attachments": {},
   "cell_type": "markdown",
   "metadata": {},
   "source": [
    "## 0. Loading input data"
   ]
  },
  {
   "cell_type": "code",
   "execution_count": 2,
   "metadata": {},
   "outputs": [],
   "source": [
    "_genome = []\n",
    "for record in SeqIO.parse(\"../../data/mg1655_genome.fasta\", \"fasta\"):\n",
    "    _genome.append(str(record.seq))\n",
    "genome = _genome[0]"
   ]
  },
  {
   "cell_type": "code",
   "execution_count": 3,
   "metadata": {},
   "outputs": [
    {
     "data": {
      "text/plain": [
       "'ACAGGTTTCCCGACTGGAAAGCGGGCAGTGAGCGCAACGCAATTAATGTGAGTTAGCTCACTCATTAGGCACCCCAGGCTTTACACTTTATGCTTCCGGCTCGTATGTTGTGTGGAATTGTGAGCGGATAACAATTTCACACAGGAAACAGCTATGACCA'"
      ]
     },
     "execution_count": 3,
     "metadata": {},
     "output_type": "execute_result"
    }
   ],
   "source": [
    "df = pd.read_csv('../../data/ecoli_gene_list.csv')\n",
    "lacZYA_TSS = int(df[(df.gene == 'lacZ') & (df.promoter == 'lacZp1')]['tss'].iloc[0])\n",
    "promoter = tregs.seq_utils.get_regulatory_region(genome, lacZYA_TSS, reverse=True)\n",
    "promoter"
   ]
  },
  {
   "cell_type": "code",
   "execution_count": 4,
   "metadata": {},
   "outputs": [],
   "source": [
    "# Promoter\n",
    "rnap_site = 'CAGGCTTTACACTTTATGCTTCCGGCTCGTATGTTGTGTGG'\n",
    "\n",
    "# CRP binding site\n",
    "crp_site = 'ATTAATGTGAGTTAGCTCACTCATTA'"
   ]
  },
  {
   "cell_type": "code",
   "execution_count": 5,
   "metadata": {},
   "outputs": [
    {
     "data": {
      "text/plain": [
       "74"
      ]
     },
     "execution_count": 5,
     "metadata": {},
     "output_type": "execute_result"
    }
   ],
   "source": [
    "promoter.find(rnap_site)"
   ]
  },
  {
   "cell_type": "code",
   "execution_count": 6,
   "metadata": {},
   "outputs": [
    {
     "data": {
      "text/plain": [
       "41"
      ]
     },
     "execution_count": 6,
     "metadata": {},
     "output_type": "execute_result"
    }
   ],
   "source": [
    "promoter.find(crp_site)"
   ]
  },
  {
   "cell_type": "code",
   "execution_count": 7,
   "metadata": {},
   "outputs": [],
   "source": [
    "#crp_site = 'ATTAATGTGAGTTAGCTCACTCATT'\n",
    "#crp_emat_raw = pd.read_csv('../../data/energy_matrices/2011_lacZ_MG1655_M9glucose_na_mut1_4bins_CRP_emat_mean.csv')\n",
    "#crp_emat_raw = crp_emat_raw[['A', 'C', 'G', 'T']]\n",
    "#crp_emat = crp_emat_raw.to_numpy().T\n",
    "#crp_emat = tregs.simulate.fix_wt(crp_emat, crp_site)"
   ]
  },
  {
   "cell_type": "code",
   "execution_count": 8,
   "metadata": {},
   "outputs": [
    {
     "data": {
      "text/plain": [
       "array([[0.  , 0.  , 0.  , 0.21, 0.13, 1.47, 1.67, 0.98, 2.53, 0.  , 0.82,\n",
       "        0.51, 0.44, 0.  , 0.57, 0.  , 1.85, 1.91, 0.  , 0.83, 0.  , 0.  ,\n",
       "        0.76, 0.17, 0.77, 0.57],\n",
       "       [0.55, 0.92, 0.96, 1.04, 0.46, 0.72, 2.38, 1.27, 2.77, 0.92, 0.  ,\n",
       "        0.  , 0.22, 0.36, 0.24, 0.73, 1.62, 0.  , 1.55, 0.  , 2.18, 0.72,\n",
       "        1.15, 0.65, 0.38, 0.4 ],\n",
       "       [0.45, 0.65, 0.72, 1.06, 0.32, 1.78, 0.  , 1.45, 0.  , 1.48, 0.47,\n",
       "        0.37, 0.38, 0.12, 0.  , 0.55, 1.05, 2.77, 1.24, 2.21, 1.01, 0.45,\n",
       "        1.56, 0.81, 0.91, 0.52],\n",
       "       [0.19, 0.31, 0.11, 0.  , 0.  , 0.  , 1.47, 0.  , 1.94, 1.67, 0.1 ,\n",
       "        0.57, 0.  , 0.41, 0.42, 0.9 , 0.  , 2.44, 1.01, 1.41, 2.  , 0.26,\n",
       "        0.  , 0.  , 0.  , 0.  ]])"
      ]
     },
     "execution_count": 8,
     "metadata": {},
     "output_type": "execute_result"
    }
   ],
   "source": [
    "crp_emat_raw = pd.read_table('../../data/energy_matrices/crp_tau_final_all_26.txt', delim_whitespace=True)\n",
    "crp_emat = crp_emat_raw[['par_A', 'par_C', 'par_G', 'par_T']].to_numpy().T\n",
    "crp_emat"
   ]
  },
  {
   "cell_type": "code",
   "execution_count": 9,
   "metadata": {},
   "outputs": [
    {
     "data": {
      "text/plain": [
       "(4, 26)"
      ]
     },
     "execution_count": 9,
     "metadata": {},
     "output_type": "execute_result"
    }
   ],
   "source": [
    "crp_emat.shape"
   ]
  },
  {
   "cell_type": "code",
   "execution_count": 10,
   "metadata": {},
   "outputs": [
    {
     "data": {
      "text/plain": [
       "26"
      ]
     },
     "execution_count": 10,
     "metadata": {},
     "output_type": "execute_result"
    }
   ],
   "source": [
    "len(crp_site)"
   ]
  },
  {
   "cell_type": "code",
   "execution_count": 11,
   "metadata": {},
   "outputs": [
    {
     "data": {
      "image/png": "[encoded data removed]",
      "text/plain": [
       "<Figure size 576x108 with 2 Axes>"
      ]
     },
     "metadata": {
      "needs_background": "light"
     },
     "output_type": "display_data"
    }
   ],
   "source": [
    "fig, ax = plt.subplots(figsize=(8, 1.5))\n",
    "\n",
    "div_colors = sns.diverging_palette(16, 258, s=56, l=51, n=15, sep=2, center='light', as_cmap=True)\n",
    "sns.heatmap(crp_emat, cmap=div_colors, ax=ax)\n",
    "ax.set_yticklabels(['A', 'C', 'G', 'T'], rotation=360)\n",
    "plt.show()"
   ]
  },
  {
   "cell_type": "code",
   "execution_count": 12,
   "metadata": {},
   "outputs": [],
   "source": [
    "# obtained from https://journals.plos.org/ploscompbiol/article/figure?id=10.1371/journal.pcbi.1002811.g002\n",
    "\n",
    "rnap_emat_raw = np.loadtxt('../../data/energy_matrices/RNAP_energy_matrix.txt')\n",
    "rnap_emat = tregs.simulate.fix_wt(rnap_emat_raw, rnap_site)"
   ]
  },
  {
   "cell_type": "code",
   "execution_count": 13,
   "metadata": {},
   "outputs": [
    {
     "data": {
      "image/png": "[encoded data removed]",
      "text/plain": [
       "<Figure size 1152x108 with 2 Axes>"
      ]
     },
     "metadata": {
      "needs_background": "light"
     },
     "output_type": "display_data"
    }
   ],
   "source": [
    "fig, ax = plt.subplots(figsize=(16, 1.5))\n",
    "sns.heatmap(rnap_emat.T, cmap=div_colors, ax=ax)\n",
    "ax.set_yticklabels(['A', 'C', 'G', 'T'], rotation=360)\n",
    "plt.show()"
   ]
  },
  {
   "attachments": {},
   "cell_type": "markdown",
   "metadata": {},
   "source": [
    "## Building synthetic dataset"
   ]
  },
  {
   "cell_type": "code",
   "execution_count": 14,
   "metadata": {},
   "outputs": [],
   "source": [
    "def simact_pbound(p_seq, a_seq, p_emat, a_emat, n_p, n_a, n_NS,\n",
    "                  ep_wt=0, ea_wt=0, e_ap=0):\n",
    "\n",
    "    p = (n_p / n_NS) * tregs.simulate.get_weight(p_seq, p_emat, e_wt=ep_wt)\n",
    "    a = (n_a / n_NS) * tregs.simulate.get_weight(a_seq, a_emat, e_wt=ea_wt)\n",
    "    w = np.exp(-e_ap)\n",
    "\n",
    "    pbound = (p + a * p * w) / (1 + a + p + a * p * w)\n",
    "\n",
    "    return pbound\n",
    "\n",
    "\n",
    "def simact_helper(mutants, rnap_start, rnap_end, act_start, act_end,\n",
    "                  rnap_emat, act_emat, n_p, n_a, n_NS,\n",
    "                  ep_wt=0, ea_wt=0, e_ap=0):\n",
    "\n",
    "    l_tr = []\n",
    "    for mut in mutants:\n",
    "        rv = {}\n",
    "        rv['seq'] = mut\n",
    "        rnap_mut = mut[rnap_start:rnap_end].upper()\n",
    "        act_mut = mut[act_start:act_end].upper()\n",
    "        rv['pbound'] = simact_pbound(rnap_mut, act_mut, rnap_emat, act_emat,\n",
    "                                     n_p, n_a, n_NS,\n",
    "                                     ep_wt=ep_wt, ea_wt=ea_wt, e_ap=e_ap)\n",
    "        l_tr.append(rv)\n",
    "    df = pd.DataFrame.from_records(l_tr)\n",
    "\n",
    "    return df\n",
    "\n",
    "\n",
    "def simact(wtseq, rnap_wtseq, act_wtseq,\n",
    "           rnap_emat, act_emat, n_p, n_a, n_NS,\n",
    "           ep_wt=0, ea_wt=0, e_ap=0,\n",
    "           num_mutants=10000, scaling_factor=100):\n",
    "    \n",
    "    mutants = np.unique(tregs.wgregseq.mutations_rand(\n",
    "                                    wtseq,\n",
    "                                    rate=0.1,\n",
    "                                    num_mutants=num_mutants,\n",
    "                                    number_fixed=True))\n",
    "\n",
    "    rnap_start, rnap_end = tregs.seq_utils.find_binding_site(wtseq, rnap_wtseq)\n",
    "    act_start, act_end = tregs.seq_utils.find_binding_site(wtseq, act_wtseq)\n",
    "\n",
    "    df = simact_helper(mutants, rnap_start, rnap_end, act_start, act_end,\n",
    "                       rnap_emat, act_emat, n_p, n_a, n_NS,\n",
    "                       ep_wt, ea_wt, e_ap)\n",
    "    \n",
    "    dna_cnt = tregs.simulate.get_dna_cnt(len(df))\n",
    "    df['ct_0'] = dna_cnt\n",
    "    df = df[df.ct_0 != 0.0]\n",
    "\n",
    "    df['ct_1'] = 1 + df['ct_0'] * df['pbound'] * scaling_factor\n",
    "    df['ct_1'] = df['ct_1'].astype(int)\n",
    "    \n",
    "    df['ct_0'] = df['ct_0'].astype(float)\n",
    "    df['ct_1'] = df['ct_1'].astype(float)\n",
    "    df['norm_ct_1'] = df['ct_1'] / df['ct_0']\n",
    "\n",
    "    return df"
   ]
  },
  {
   "cell_type": "code",
   "execution_count": 15,
   "metadata": {},
   "outputs": [],
   "source": [
    "n_NS = len(genome)\n",
    "n_p = 4000\n",
    "n_a = 50\n",
    "ep_wt = -5\n",
    "ea_wt = -1\n",
    "e_ap = -2"
   ]
  },
  {
   "cell_type": "code",
   "execution_count": 16,
   "metadata": {},
   "outputs": [],
   "source": [
    "df = simact(promoter, rnap_site, crp_site,\n",
    "           rnap_emat, crp_emat, n_p, n_a, n_NS,\n",
    "           ep_wt=ep_wt, ea_wt=ea_wt, e_ap=e_ap)\n",
    "n_seqs = len(df)\n",
    "mut_list = df['seq'].values\n",
    "mu_data = df['norm_ct_1']\n",
    "nbins = 2\n",
    "upper_bound = np.mean(mu_data)\n",
    "footprint = tregs.footprint.get_info_footprint(mut_list, mu_data, promoter, nbins, upper_bound,\n",
    "                                               pseudocount=10**(-6))\n",
    "exshift_list = tregs.footprint.get_expression_shift(mut_list, mu_data.values, promoter,\n",
    "                                                    smoothed=True, windowsize=3)"
   ]
  },
  {
   "cell_type": "code",
   "execution_count": 17,
   "metadata": {},
   "outputs": [
    {
     "data": {
      "image/png": "[encoded data removed]",
      "text/plain": [
       "<Figure size 720x144 with 1 Axes>"
      ]
     },
     "metadata": {
      "needs_background": "light"
     },
     "output_type": "display_data"
    }
   ],
   "source": [
    "fig, ax = plt.subplots(figsize=(10,2))\n",
    "ax.set_ylabel('Information (bits)')\n",
    "ax.set_xlabel('position')\n",
    "\n",
    "rnap_start, rnap_end = tregs.seq_utils.find_binding_site(promoter, rnap_site)\n",
    "act_start, act_end = tregs.seq_utils.find_binding_site(promoter, crp_site)\n",
    "ax.axvspan(rnap_start-115, rnap_end-115, alpha=0.7, color='lightgray')\n",
    "ax.axvspan(act_start-115, act_end-115, alpha=0.7, color='lightgray')\n",
    "\n",
    "windowsize = 3\n",
    "cut = int((windowsize - 1) / 2)\n",
    "x = np.arange(-115 + cut, 45 - cut)\n",
    "shiftcolors = [('salmon' if exshift > 0 else 'royalblue') for exshift in exshift_list]\n",
    "ax.bar(x, footprint, edgecolor=None, color=shiftcolors)\n",
    "\n",
    "plt.show()"
   ]
  },
  {
   "cell_type": "code",
   "execution_count": null,
   "metadata": {},
   "outputs": [],
   "source": []
  }
 ],
 "metadata": {
  "kernelspec": {
   "display_name": "Python 3.10.4 ('env_thermo_seq')",
   "language": "python",
   "name": "python3"
  },
  "language_info": {
   "codemirror_mode": {
    "name": "ipython",
    "version": 3
   },
   "file_extension": ".py",
   "mimetype": "text/x-python",
   "name": "python",
   "nbconvert_exporter": "python",
   "pygments_lexer": "ipython3",
   "version": "3.10.4"
  },
  "vscode": {
   "interpreter": {
    "hash": "5e0c78d6696da6e3ddb4651dd94c59f5d0a59a4d4b8438d3476f738d0fde1b6d"
   }
  }
 },
 "nbformat": 4,
 "nbformat_minor": 2
}
