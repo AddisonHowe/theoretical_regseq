{
 "cells": [
  {
   "cell_type": "code",
   "execution_count": 1,
   "metadata": {},
   "outputs": [],
   "source": [
    "import numpy as np\n",
    "import pandas as pd\n",
    "from Bio import SeqIO\n",
    "import tregs"
   ]
  },
  {
   "cell_type": "code",
   "execution_count": 2,
   "metadata": {},
   "outputs": [],
   "source": [
    "_genome = []\n",
    "for record in SeqIO.parse(\"../../data/mg1655_genome.fasta\", \"fasta\"):\n",
    "    _genome.append(str(record.seq))\n",
    "genome = _genome[0]\n",
    "\n",
    "## Find the transcription start site\n",
    "df = pd.read_csv('../../data/ecoli_gene_list.csv')\n",
    "lacZYA_TSS = int(df[(df.gene == 'lacZ') & (df.promoter == 'lacZp1')]['tss'].iloc[0])\n",
    "promoter = tregs.seq_utils.get_regulatory_region(genome, lacZYA_TSS, reverse=True)"
   ]
  },
  {
   "cell_type": "code",
   "execution_count": 3,
   "metadata": {},
   "outputs": [],
   "source": [
    "mutants = np.unique(tregs.wgregseq.mutations_rand(promoter,\n",
    "                                                rate=0.1,\n",
    "                                                num_mutants=5000,\n",
    "                                                number_fixed=True,\n",
    "                                                keep_wildtype=True))"
   ]
  },
  {
   "cell_type": "code",
   "execution_count": 5,
   "metadata": {},
   "outputs": [
    {
     "data": {
      "text/plain": [
       "5001"
      ]
     },
     "execution_count": 5,
     "metadata": {},
     "output_type": "execute_result"
    }
   ],
   "source": [
    "len(mutants)"
   ]
  },
  {
   "cell_type": "code",
   "execution_count": 6,
   "metadata": {},
   "outputs": [
    {
     "data": {
      "text/plain": [
       "array(['ACAGGTTTCCCGACTGGAAAGCGGGCAGTGAGCGCAACGCAATTAATGTGAGTTAGCTCACTCATTAGGCACCCCAGGCTTTACACTTTATGCTTCCGGCTCGTATGTTGTGTGGAATTGTGAGCGGATAACAATTTCACACAGGAAACAGCTATGACCA',\n",
       "       'ACAGGTTTCCCGACTGGAAAGCGGGCAGTGAGCGCAACGCAATTAATGTGAGTTAGCTCACTCATTAGGCtCCCCcGGCTTTACAgTTctTGCTTCCGGCTCGTcTGTTGcGTGGAAgTGTtAGCGGATAAaAATggCACACAGGtAACAGCTAaGtCCt',\n",
       "       'ACAGGTTTCCCGACTGGAAAGCGGGCAGTGAGCGCAACGCAATTAATGTGAGTTAGCTCACTCATTAGagACCCCAGaCcTTAaACTTgATGCTTCCatCTaGTATtTaGTGTGGAATTGTGAaCGGATAAaAATTTCACgCAGGAAACAGCTcTGAgCA',\n",
       "       ...,\n",
       "       'tgAGaTTTCCCGACTGGAAAcaGtGCAGTGAGCGCAACGCAATTgATGTGAGTTAGCTCACTCATTAGGgACCCCgGGCTTTACACTTTtTGCTTCCGGCTCaaATGTTGTGTGGAcTTGTGAGCGGATAACAATTTCACACAGGAAACAtCTAaGAgCA',\n",
       "       'ttAGGTTTCCCGACTGGAAAGCGGtCAGgGAGCGgAACGCAATTAATGTGAGTTAGCaCACgCATTAGGCACCCCAGGCTTTACACTTTgTGCTaCCGGCTCGTATGTTGTGTGGAAgTGTGAGCcGATAACAATaTCACACAGGtAACAGCTcTcAgCA',\n",
       "       'ttAGGTTTCCCGAgTGGAAAGCGGaCAGTGAGCGCAACGCAATTAcTGTGAGTTAGCcCACTtATTAGGCACCCCcGtCTTTACACTTTAaGCTTCCGGCTaGTATGcTGTGTGGcATTtTGAGCGGATAACAATgTCACACAGGAAACAGCTATaACCA'],\n",
       "      dtype='<U160')"
      ]
     },
     "execution_count": 6,
     "metadata": {},
     "output_type": "execute_result"
    }
   ],
   "source": [
    "mutants"
   ]
  },
  {
   "cell_type": "code",
   "execution_count": null,
   "metadata": {},
   "outputs": [],
   "source": []
  }
 ],
 "metadata": {
  "kernelspec": {
   "display_name": "theoretical_regseq",
   "language": "python",
   "name": "python3"
  },
  "language_info": {
   "codemirror_mode": {
    "name": "ipython",
    "version": 3
   },
   "file_extension": ".py",
   "mimetype": "text/x-python",
   "name": "python",
   "nbconvert_exporter": "python",
   "pygments_lexer": "ipython3",
   "version": "3.10.4"
  },
  "orig_nbformat": 4
 },
 "nbformat": 4,
 "nbformat_minor": 2
}
