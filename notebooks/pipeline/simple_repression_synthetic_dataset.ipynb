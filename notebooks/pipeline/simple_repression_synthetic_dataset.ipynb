{
 "cells": [
  {
   "cell_type": "code",
   "execution_count": 1,
   "metadata": {
    "collapsed": false
   },
   "outputs": [
    {
     "data": {
      "text/plain": [
       "{'green': '#7AA974',\n",
       " 'light_green': '#BFD598',\n",
       " 'pale_green': '#DCECCB',\n",
       " 'yellow': '#EAC264',\n",
       " 'light_yellow': '#F3DAA9',\n",
       " 'pale_yellow': '#FFEDCE',\n",
       " 'blue': '#738FC1',\n",
       " 'light_blue': '#A9BFE3',\n",
       " 'pale_blue': '#C9D7EE',\n",
       " 'red': '#D56C55',\n",
       " 'light_red': '#E8B19D',\n",
       " 'pale_red': '#F1D4C9',\n",
       " 'purple': '#AB85AC',\n",
       " 'light_purple': '#D4C2D9',\n",
       " 'dark_green': '#7E9D90',\n",
       " 'dark_brown': '#905426'}"
      ]
     },
     "execution_count": 1,
     "metadata": {},
     "output_type": "execute_result"
    }
   ],
   "source": [
    "import math\n",
    "import numpy as np\n",
    "import pandas as pd\n",
    "from Bio import SeqIO\n",
    "\n",
    "# custom packages\n",
    "import tregs\n",
    "\n",
    "# visualization\n",
    "import matplotlib as mpl\n",
    "import matplotlib.pyplot as plt\n",
    "from matplotlib.lines import Line2D\n",
    "import seaborn as sns\n",
    "#plt.rcParams.update({'font.size': 12})\n",
    "from matplotlib import font_manager\n",
    "font_manager.fontManager.addfont('../../misc/lucida-sans-unicode.ttf')\n",
    "\n",
    "# pboc plotting style\n",
    "tregs.mpl_pboc.plotting_style()"
   ]
  },
  {
   "attachments": {},
   "cell_type": "markdown",
   "metadata": {},
   "source": [
    "In this notebook, we will simulate a synthetic dataset for a gene with the simple repression regulatory architecture. We choose the lacZYA promoter, which contains the LacI O1 binding site. The energy matrix for RNAP has been previously determined by [Brewster et al.](https://journals.plos.org/ploscompbiol/article/figure?id=10.1371/journal.pcbi.1002811.g002) and the energy matrix for lacI has been determined in Barnes et al.\n"
   ]
  },
  {
   "attachments": {},
   "cell_type": "markdown",
   "metadata": {},
   "source": [
    "## 0. Loading input data"
   ]
  },
  {
   "attachments": {},
   "cell_type": "markdown",
   "metadata": {},
   "source": [
    "### regulatory sequence"
   ]
  },
  {
   "attachments": {},
   "cell_type": "markdown",
   "metadata": {},
   "source": [
    "Given the genomic sequence of *E. coli* and the known TSS of lacZ, we load the sequence of the lacZYA promoter assuming that the length of the promoter is 160bp."
   ]
  },
  {
   "cell_type": "code",
   "execution_count": 2,
   "metadata": {},
   "outputs": [],
   "source": [
    "_genome = []\n",
    "for record in SeqIO.parse(\"../../data/mg1655_genome.fasta\", \"fasta\"):\n",
    "    _genome.append(str(record.seq))\n",
    "genome = _genome[0]"
   ]
  },
  {
   "cell_type": "code",
   "execution_count": 3,
   "metadata": {},
   "outputs": [
    {
     "data": {
      "text/plain": [
       "366343"
      ]
     },
     "execution_count": 3,
     "metadata": {},
     "output_type": "execute_result"
    }
   ],
   "source": [
    "## Find the transcription start site\n",
    "df = pd.read_csv('../../data/ecoli_gene_list.csv')\n",
    "promoter_TSS = int(df[(df.gene == 'lacZ') & (df.promoter == 'lacZp1')]['tss'].iloc[0])\n",
    "promoter_TSS"
   ]
  },
  {
   "cell_type": "code",
   "execution_count": 4,
   "metadata": {},
   "outputs": [
    {
     "data": {
      "text/plain": [
       "'ACAGGTTTCCCGACTGGAAAGCGGGCAGTGAGCGCAACGCAATTAATGTGAGTTAGCTCACTCATTAGGCACCCCAGGCTTTACACTTTATGCTTCCGGCTCGTATGTTGTGTGGAATTGTGAGCGGATAACAATTTCACACAGGAAACAGCTATGACCA'"
      ]
     },
     "execution_count": 4,
     "metadata": {},
     "output_type": "execute_result"
    }
   ],
   "source": [
    "promoter = tregs.seq_utils.get_regulatory_region(genome, promoter_TSS, reverse=True)\n",
    "promoter"
   ]
  },
  {
   "attachments": {},
   "cell_type": "markdown",
   "metadata": {},
   "source": [
    "As a sanity check, we make sure that the sequences of the RNAP and lacI binding sites are within the regulatory sequence that we obtained above."
   ]
  },
  {
   "cell_type": "code",
   "execution_count": 5,
   "metadata": {},
   "outputs": [],
   "source": [
    "# Promoter\n",
    "lacWT = 'CAGGCTTTACACTTTATGCTTCCGGCTCGTATGTTGTGTGG'\n",
    "\n",
    "# Operator sequences\n",
    "O1 = 'AATTGTGAGCGGATAACAATT'"
   ]
  },
  {
   "cell_type": "code",
   "execution_count": 6,
   "metadata": {},
   "outputs": [
    {
     "data": {
      "text/plain": [
       "74"
      ]
     },
     "execution_count": 6,
     "metadata": {},
     "output_type": "execute_result"
    }
   ],
   "source": [
    "promoter.find(lacWT)"
   ]
  },
  {
   "cell_type": "code",
   "execution_count": 7,
   "metadata": {},
   "outputs": [
    {
     "data": {
      "text/plain": [
       "115"
      ]
     },
     "execution_count": 7,
     "metadata": {},
     "output_type": "execute_result"
    }
   ],
   "source": [
    "promoter.find(O1)"
   ]
  },
  {
   "attachments": {},
   "cell_type": "markdown",
   "metadata": {},
   "source": [
    "### energy matrices"
   ]
  },
  {
   "attachments": {},
   "cell_type": "markdown",
   "metadata": {},
   "source": [
    "Now we load the experimentally determined energy matrices."
   ]
  },
  {
   "cell_type": "code",
   "execution_count": 8,
   "metadata": {},
   "outputs": [],
   "source": [
    "# obtained from https://journals.plos.org/ploscompbiol/article/figure?id=10.1371/journal.pcbi.1002811.g002\n",
    "\n",
    "#rnap_emat_raw = np.loadtxt('../data/energy_matrices/RNAP_energy_matrix.txt')\n",
    "#rnap_emat = tregs.simulate.fix_wt(rnap_emat_raw, lacWT)\n",
    "\n",
    "rnap_emat_raw = np.loadtxt('../../data/energy_matrices/RNAP_energy_matrix.txt')"
   ]
  },
  {
   "attachments": {},
   "cell_type": "markdown",
   "metadata": {},
   "source": [
    "We calculate the binding energy for the RNAP at the lac promoter and it is $-5\\ k_BT$, which is a little lower than the experimentally determined binding energy, $-2.9\\ k_BT$ (see [Bintu **et al.**](https://www.sciencedirect.com/science/article/pii/S0959437X05000304?via%3Dihub)). To correct for this, we \"fix\" the matrices such that the binding energy corresponding to the wild type base identity at each position is 0, and when we calculate Bolzmann weights, we add the experimentally determined binding energy for lacI."
   ]
  },
  {
   "cell_type": "code",
   "execution_count": 9,
   "metadata": {},
   "outputs": [
    {
     "data": {
      "text/plain": [
       "-5.346593664794209"
      ]
     },
     "execution_count": 9,
     "metadata": {},
     "output_type": "execute_result"
    }
   ],
   "source": [
    "tregs.simulate.get_d_energy(lacWT, rnap_emat_raw)"
   ]
  },
  {
   "cell_type": "code",
   "execution_count": 10,
   "metadata": {},
   "outputs": [],
   "source": [
    "rnap_emat = tregs.simulate.fix_wt(rnap_emat_raw, lacWT)"
   ]
  },
  {
   "cell_type": "code",
   "execution_count": 11,
   "metadata": {},
   "outputs": [
    {
     "data": {
      "image/png": "[encoded data removed]",
      "text/plain": [
       "<Figure size 1152x108 with 2 Axes>"
      ]
     },
     "metadata": {},
     "output_type": "display_data"
    }
   ],
   "source": [
    "div_colors = sns.diverging_palette(16, 258, s=56, l=51, n=15, sep=2, center='light', as_cmap=True)\n",
    "\n",
    "fig, ax = plt.subplots(figsize=(16, 1.5))\n",
    "sns.heatmap(rnap_emat.T, cmap=div_colors, ax=ax, vmin=-5, vmax=5)\n",
    "ax.set_yticklabels(['A', 'C', 'G', 'T'], rotation=360)\n",
    "plt.show()"
   ]
  },
  {
   "attachments": {},
   "cell_type": "markdown",
   "metadata": {},
   "source": [
    "Now we load the energy matrix for the lacI repressor. Similar to  before, we calculate the binding energy for lacI at the wild type O1 binding site and it is $-35\\ k_BT$, which is obviously too low. We again correct for this by fixing the energy matrices and when we calculate Bolzmann weights, we add the experimentally determined binding energy for lacI (see Table S1 in [Hernan's paper](https://www.pnas.org/doi/10.1073/pnas.1015616108)), which is around $-15.3\\ k_BT$."
   ]
  },
  {
   "cell_type": "code",
   "execution_count": 12,
   "metadata": {},
   "outputs": [],
   "source": [
    "O1_1027_raw = np.load('../../data/energy_matrices/lacThermoforTO1.npy')"
   ]
  },
  {
   "cell_type": "code",
   "execution_count": 13,
   "metadata": {},
   "outputs": [
    {
     "data": {
      "text/plain": [
       "-35.29624206907399"
      ]
     },
     "execution_count": 13,
     "metadata": {},
     "output_type": "execute_result"
    }
   ],
   "source": [
    "tregs.simulate.get_d_energy(O1, np.mean(O1_1027_raw, axis=0))"
   ]
  },
  {
   "cell_type": "code",
   "execution_count": 14,
   "metadata": {},
   "outputs": [],
   "source": [
    "O1_1027_fixed = np.zeros(np.shape(O1_1027_raw))\n",
    "for i in range(3):\n",
    "    O1_1027_fixed[i] = tregs.simulate.fix_wt(O1_1027_raw[i], O1)\n",
    "\n",
    "O1_emat = np.mean(O1_1027_fixed, axis=0)"
   ]
  },
  {
   "cell_type": "code",
   "execution_count": 15,
   "metadata": {},
   "outputs": [
    {
     "data": {
      "image/png": "[encoded data removed]",
      "text/plain": [
       "<Figure size 576x108 with 2 Axes>"
      ]
     },
     "metadata": {},
     "output_type": "display_data"
    }
   ],
   "source": [
    "fig, ax = plt.subplots(figsize=(8, 1.5))\n",
    "\n",
    "sns.heatmap(O1_emat.T, cmap=div_colors, ax=ax, vmin=-5, vmax=5)\n",
    "ax.set_yticklabels(['A', 'C', 'G', 'T'], rotation=360)\n",
    "plt.show()"
   ]
  },
  {
   "attachments": {},
   "cell_type": "markdown",
   "metadata": {},
   "source": [
    "## 1. Generate promoter variants"
   ]
  },
  {
   "attachments": {},
   "cell_type": "markdown",
   "metadata": {},
   "source": [
    "We generate promoter variants by making random mutations based on the wild type regulatory sequence. We use $10^4$ promoter variants (which is quite large) for now but need to potentially test the minimum number of promoter variants required for a nice-looking information footprint."
   ]
  },
  {
   "cell_type": "code",
   "execution_count": 16,
   "metadata": {},
   "outputs": [],
   "source": [
    "promoter_mutants = np.unique(tregs.wgregseq.mutations_rand(promoter, rate=0.1, num_mutants=10000, number_fixed=True))"
   ]
  },
  {
   "attachments": {},
   "cell_type": "markdown",
   "metadata": {},
   "source": [
    "## 2. Calculate $p_{\\mathrm{bound}}$"
   ]
  },
  {
   "attachments": {},
   "cell_type": "markdown",
   "metadata": {},
   "source": [
    "Now we have everything we need to calculate the probability of RNAP binding for each promoter variant. For a gene with the simple repression regulatory architecture, we can express the probablity of binding (show derivation in manuscript) as\n",
    "$$\n",
    "p_{\\mathrm{bound}} = \\frac{\\frac{P}{N_{NS}}e^{-\\beta \\Delta \\varepsilon_P}}{1 + \\frac{P}{N_{NS}}e^{-\\beta \\Delta \\varepsilon_P} + \\frac{R}{N_{NS}}e^{-\\beta \\Delta \\varepsilon_R}}.\n",
    "$$\n",
    "As we can see, the parameters that we need are the number of RNAPs ($P$), the number of repressors ($R$), the number of non-specific binding sites ($N_{NS}$), and the binding energies for RNAP and lacI ($\\Delta \\varepsilon_P$ and $\\Delta \\varepsilon_R$)."
   ]
  },
  {
   "attachments": {},
   "cell_type": "markdown",
   "metadata": {},
   "source": [
    "The data for $P$ and $R$ can be readily found on BioNumbers. Assuming that every site in the genome can be a non-specific binding site, we can approximate $N_{NS}$ as the length of the genome."
   ]
  },
  {
   "cell_type": "code",
   "execution_count": 17,
   "metadata": {},
   "outputs": [],
   "source": [
    "n_NS = len(genome)\n",
    "\n",
    "n_p = 4600 #[BNID: 108601]\n",
    "\n",
    "# [BNID: 100734]\n",
    "n_r = 10 # 0.01 * 10**(-6) M (mol / m3) * 10^(-18) m^3 * 6 * 10**23 mol-1; doesn't really match tho"
   ]
  },
  {
   "attachments": {},
   "cell_type": "markdown",
   "metadata": {},
   "source": [
    "Next, for each promoter variant, we calculate the energy of binding of the RNAP and lacI by mapping the mutant sequences to the energy matrices. Finally, we can plug in the values for all the parameters into the expression above to calculate $p_{\\mathrm{bound}}$."
   ]
  },
  {
   "cell_type": "code",
   "execution_count": 18,
   "metadata": {},
   "outputs": [
    {
     "name": "stdout",
     "output_type": "stream",
     "text": [
      "The RNAP binding site is from -41 to 0\n",
      "The repressor binding site is from 0 to 21\n"
     ]
    }
   ],
   "source": [
    "lac_start, lac_end = tregs.seq_utils.find_binding_site(promoter, lacWT)\n",
    "O1_start, O1_end = tregs.seq_utils.find_binding_site(promoter, O1)\n",
    "\n",
    "print('The RNAP binding site is from {} to {}'.format(lac_start - 115, lac_end - 115))\n",
    "print('The repressor binding site is from {} to {}'.format(O1_start - 115, O1_end - 115))"
   ]
  },
  {
   "cell_type": "code",
   "execution_count": 19,
   "metadata": {},
   "outputs": [],
   "source": [
    "l_tr = []\n",
    "for mut in promoter_mutants:\n",
    "    rv = {}\n",
    "    rv['seq'] = mut\n",
    "    psite_mut = mut[lac_start:lac_end].upper()\n",
    "    O1_mut = mut[O1_start:O1_end].upper()\n",
    "    rv['pbound'] = tregs.simulate.simrep_pbound(psite_mut, O1_mut, rnap_emat, O1_emat, n_p, n_r, n_NS,\n",
    "                                                  ep_wt=-5, er_wt=-15.3)\n",
    "    l_tr.append(rv)"
   ]
  },
  {
   "cell_type": "code",
   "execution_count": 20,
   "metadata": {},
   "outputs": [
    {
     "data": {
      "text/html": [
       "<div>\n",
       "<style scoped>\n",
       "    .dataframe tbody tr th:only-of-type {\n",
       "        vertical-align: middle;\n",
       "    }\n",
       "\n",
       "    .dataframe tbody tr th {\n",
       "        vertical-align: top;\n",
       "    }\n",
       "\n",
       "    .dataframe thead th {\n",
       "        text-align: right;\n",
       "    }\n",
       "</style>\n",
       "<table border=\"1\" class=\"dataframe\">\n",
       "  <thead>\n",
       "    <tr style=\"text-align: right;\">\n",
       "      <th></th>\n",
       "      <th>seq</th>\n",
       "      <th>pbound</th>\n",
       "    </tr>\n",
       "  </thead>\n",
       "  <tbody>\n",
       "    <tr>\n",
       "      <th>0</th>\n",
       "      <td>ACAGGTTTCCCGACTGGAAAGCGGGCAGTGAGCGCAACGCAATTAA...</td>\n",
       "      <td>0.010284</td>\n",
       "    </tr>\n",
       "    <tr>\n",
       "      <th>1</th>\n",
       "      <td>ACAGGTTTCCCGACTGGAAAGCGGGCAGTGAGCGCAACGCAATTAA...</td>\n",
       "      <td>0.009181</td>\n",
       "    </tr>\n",
       "    <tr>\n",
       "      <th>2</th>\n",
       "      <td>ACAGGTTTCCCGACTGGAAAGCGGGCAGTGAGCGCAACGCAATTAA...</td>\n",
       "      <td>0.017457</td>\n",
       "    </tr>\n",
       "    <tr>\n",
       "      <th>3</th>\n",
       "      <td>ACAGGTTTCCCGACTGGAAAGCGGGCAGTGAGCGCAACGCAATTAA...</td>\n",
       "      <td>0.018899</td>\n",
       "    </tr>\n",
       "    <tr>\n",
       "      <th>4</th>\n",
       "      <td>ACAGGTTTCCCGACTGGAAAGCGGGCAGTGAGCGCAACGCAATTAA...</td>\n",
       "      <td>0.010180</td>\n",
       "    </tr>\n",
       "  </tbody>\n",
       "</table>\n",
       "</div>"
      ],
      "text/plain": [
       "                                                 seq    pbound\n",
       "0  ACAGGTTTCCCGACTGGAAAGCGGGCAGTGAGCGCAACGCAATTAA...  0.010284\n",
       "1  ACAGGTTTCCCGACTGGAAAGCGGGCAGTGAGCGCAACGCAATTAA...  0.009181\n",
       "2  ACAGGTTTCCCGACTGGAAAGCGGGCAGTGAGCGCAACGCAATTAA...  0.017457\n",
       "3  ACAGGTTTCCCGACTGGAAAGCGGGCAGTGAGCGCAACGCAATTAA...  0.018899\n",
       "4  ACAGGTTTCCCGACTGGAAAGCGGGCAGTGAGCGCAACGCAATTAA...  0.010180"
      ]
     },
     "execution_count": 20,
     "metadata": {},
     "output_type": "execute_result"
    }
   ],
   "source": [
    "df_simrep = pd.DataFrame.from_records(l_tr)\n",
    "df_simrep.head()"
   ]
  },
  {
   "attachments": {},
   "cell_type": "markdown",
   "metadata": {},
   "source": [
    "## 3. Generate sequence counts"
   ]
  },
  {
   "attachments": {},
   "cell_type": "markdown",
   "metadata": {},
   "source": [
    "Now, in order to produce a dataset that has the same structure as the dataset that we would obtain experimentally by performing RNA sequencing, we need map the values for $p_\\mathrm{bound}$ to RNA counts.\n",
    "\n",
    "We first rely on the occupancy hypothesis, which states that the rate of mRNA production is proportion to the probability of RNA polymerase occupany at the promoter (from Figure 1 theory paper). This means that\n",
    "$$\n",
    "\\frac{dm}{dt} = r p_{\\mathrm{bound}} - \\gamma m,\n",
    "$$\n",
    "where $m$ is the number of mRNAs, $r$ is the rate of transcription, and $\\gamma$ is the rate of degradation. \n",
    "Therefore, at steady state,\n",
    "$$\n",
    "m^* = \\frac{r}{\\gamma} p_{\\mathrm{bound}}.\n",
    "$$\n",
    "\n",
    "In this case we assume that the rate of transcription is proportional to the number of copies of DNA in the system (this could be the copy of plasmids or the copy of genes in the chromosomal, in the case where we perform chromosomal integration). Hence we re-write the above equation as\n",
    "$$\n",
    "m^* = \\frac{r'}{\\gamma} c_{\\mathrm{DNA}} p_{\\mathrm{bound}}.\n",
    "$$\n",
    "\n",
    "During the library prepration stage of the experiment, we need to perform multiple rounds of PCRs. This means that the DNA that are initially more abundant will be make more abundant across the PCR cycles, and therefore the DNA count is expected to be exponentially distributed.\n",
    "\n",
    "**Outstanding questions:**\n",
    "* What if it's uniform?\n",
    "* Add additional noise?"
   ]
  },
  {
   "cell_type": "code",
   "execution_count": 21,
   "metadata": {},
   "outputs": [],
   "source": [
    "dna_cnt = np.random.exponential(1, size=len(df_simrep)) * 10"
   ]
  },
  {
   "cell_type": "code",
   "execution_count": 22,
   "metadata": {},
   "outputs": [],
   "source": [
    "dna_cnt_up = []\n",
    "for cnt in dna_cnt:\n",
    "    dna_cnt_up.append(math.ceil(cnt))"
   ]
  },
  {
   "attachments": {},
   "cell_type": "markdown",
   "metadata": {},
   "source": [
    "We plot the DNA count just to make sure it indeed looks exponential, and it does."
   ]
  },
  {
   "cell_type": "code",
   "execution_count": 23,
   "metadata": {},
   "outputs": [
    {
     "data": {
      "image/png": "[encoded data removed]",
      "text/plain": [
       "<Figure size 432x288 with 1 Axes>"
      ]
     },
     "metadata": {},
     "output_type": "display_data"
    }
   ],
   "source": [
    "plt.hist(dna_cnt_up, bins=20)\n",
    "plt.xlabel('DNA count')\n",
    "plt.ylabel('Count')\n",
    "plt.show()"
   ]
  },
  {
   "attachments": {},
   "cell_type": "markdown",
   "metadata": {},
   "source": [
    "Here we arbitrarily choose 100 for the scaling factor. It might be of interest to look more into what number to choose. Additionally, we assume a basal level of RNA expression for all promoter variants and add a count of 1 to each RNA count. This is mostly because of the practical concern that we would need to take the logarithm of expression levels when we perform downstream analyses."
   ]
  },
  {
   "cell_type": "code",
   "execution_count": 24,
   "metadata": {},
   "outputs": [],
   "source": [
    "df_simrep['ct_0'] = dna_cnt_up\n",
    "df_simrep['ct_1'] = 1 + df_simrep['ct_0'] * df_simrep['pbound'] * 100\n",
    "df_simrep['ct_1'] = df_simrep['ct_1'].astype(int)\n",
    "\n",
    "df_simrep['ct_0'] = df_simrep['ct_0'].astype(float)\n",
    "df_simrep['ct_1'] = df_simrep['ct_1'].astype(float)\n",
    "df_simrep['norm_ct_1'] = df_simrep['ct_1'] / df_simrep['ct_0']"
   ]
  },
  {
   "cell_type": "code",
   "execution_count": 25,
   "metadata": {},
   "outputs": [
    {
     "data": {
      "image/png": "[encoded data removed]",
      "text/plain": [
       "<Figure size 432x288 with 1 Axes>"
      ]
     },
     "metadata": {},
     "output_type": "display_data"
    }
   ],
   "source": [
    "plt.hist(df_simrep['ct_1'], bins=20)\n",
    "plt.xlabel('DNA count')\n",
    "plt.ylabel('Count')\n",
    "plt.yscale('log')\n",
    "plt.show()"
   ]
  },
  {
   "attachments": {},
   "cell_type": "markdown",
   "metadata": {},
   "source": [
    "Finally we save the data for the next step in the pipeline -- which is to make information footprints!"
   ]
  },
  {
   "cell_type": "code",
   "execution_count": 26,
   "metadata": {},
   "outputs": [],
   "source": [
    "df_simrep.to_csv('../../data/synthetic_datasets/lacI_synthetic_dataset.csv', index=False)"
   ]
  },
  {
   "attachments": {},
   "cell_type": "markdown",
   "metadata": {},
   "source": [
    "## 4. Making information footprint"
   ]
  },
  {
   "cell_type": "code",
   "execution_count": 27,
   "metadata": {},
   "outputs": [],
   "source": [
    "n_seqs = len(df_simrep)\n",
    "mut_list = df_simrep['seq'].values\n",
    "mu_data = df_simrep['norm_ct_1']"
   ]
  },
  {
   "cell_type": "code",
   "execution_count": 28,
   "metadata": {},
   "outputs": [],
   "source": [
    "nbins = 2\n",
    "upper_bound = np.mean(mu_data)\n",
    "footprint = tregs.footprint.get_info_footprint(mut_list, mu_data, promoter, nbins, upper_bound,\n",
    "                                               pseudocount=0)\n",
    "exshift_list = tregs.footprint.get_expression_shift(mut_list, mu_data.values, promoter,\n",
    "                                                    smoothed=True, windowsize=3)"
   ]
  },
  {
   "cell_type": "code",
   "execution_count": 29,
   "metadata": {},
   "outputs": [
    {
     "data": {
      "image/png": "[encoded data removed]",
      "text/plain": [
       "<Figure size 864x288 with 2 Axes>"
      ]
     },
     "metadata": {},
     "output_type": "display_data"
    }
   ],
   "source": [
    "fig, axes = plt.subplots(2, 1, figsize=(12,4))\n",
    "\n",
    "for ax in axes:\n",
    "    ax.axvspan(-38, -30, alpha=0.7, color='#A9BFE3')\n",
    "    ax.axvspan(-15, -5, alpha=0.7, color='#A9BFE3')\n",
    "    ax.axvspan(2, 13, alpha=0.7, color='#E8B19D')\n",
    "\n",
    "axes[0].set_ylim(top=0.042)\n",
    "axes[0].add_patch(mpl.patches.Rectangle((-38, max(exshift_list)*1.07),\n",
    "                                        8,\n",
    "                                        max(exshift_list) * 0.3,\n",
    "                                        facecolor='#738FC1',\n",
    "                                        clip_on=False,\n",
    "                                        linewidth = 0))\n",
    "axes[0].text(-38 + 0.5 * 8, max(exshift_list) * 1.15, 'RNAP', fontsize = 10, color = 'k',\n",
    "         ha='center', va='baseline')\n",
    "\n",
    "axes[0].add_patch(mpl.patches.Rectangle((-15, max(exshift_list)*1.07),\n",
    "                                        10,\n",
    "                                        max(exshift_list) * 0.3,\n",
    "                                        facecolor='#738FC1',\n",
    "                                        clip_on=False,\n",
    "                                        linewidth = 0))\n",
    "axes[0].text(-15 + 0.5 * 10, max(exshift_list) * 1.15, 'RNAP', fontsize = 10, color = 'k',\n",
    "         ha='center', va='baseline')\n",
    "\n",
    "axes[0].add_patch(mpl.patches.Rectangle((2, max(exshift_list)*1.07),\n",
    "                                        11,\n",
    "                                        max(exshift_list) * 0.3,\n",
    "                                        facecolor='#D56C55',\n",
    "                                        clip_on=False,\n",
    "                                        linewidth = 0))\n",
    "axes[0].text(2 + 0.5 * 11, max(exshift_list) * 1.15, 'LacI', fontsize = 10, color = 'k',\n",
    "         ha='center', va='baseline')\n",
    "\n",
    "\n",
    "windowsize=3\n",
    "cut = int((windowsize - 1) / 2)\n",
    "x = np.arange(-115 + cut, 45 - cut)\n",
    "shiftcolors = [('#D56C55' if exshift > 0 else '#738FC1') for exshift in exshift_list]\n",
    "axes[0].bar(x, exshift_list, color=shiftcolors, edgecolor=None, linewidth=0)\n",
    "axes[0].set_yticks(np.arange(-0.04, 0.041, 0.02))\n",
    "axes[0].set_ylabel('Expression shift\\n(a.u.)', fontsize=12)\n",
    "\n",
    "axes[1].bar(x, footprint, color=shiftcolors, edgecolor=None, linewidth=0)\n",
    "axes[1].set_yticks(np.arange(0, 0.04, 0.01))\n",
    "axes[1].set_xlabel('position', fontsize=12)\n",
    "axes[1].set_ylabel('Mutual information\\n(bits)', fontsize=12)\n",
    "\n",
    "custom_lines = [Line2D([0], [0], color='#D56C55', lw=4),\n",
    "                Line2D([0], [0], color='#738FC1', lw=4)]\n",
    "plt.legend(custom_lines,\n",
    "           ['Mutation\\nincreases\\nexpression', 'Mutation\\ndecreases\\nexpression'],\n",
    "           bbox_to_anchor=(1.2, 1.65), frameon=False)\n",
    "\n",
    "#plt.tight_layout()\n",
    "#plt.savefig('../../figs/ms-figures/simrep_footprints.png', dpi=300, bbox_inches='tight')\n",
    "plt.show()"
   ]
  },
  {
   "attachments": {},
   "cell_type": "markdown",
   "metadata": {},
   "source": [
    "The reason that there are red peaks at the -10 RNAP site is that this promoter does not have a perfect TATA-box, and mutatation could create a perfect TATA box with stronger RNAP binding."
   ]
  },
  {
   "cell_type": "code",
   "execution_count": 30,
   "metadata": {},
   "outputs": [
    {
     "data": {
      "text/plain": [
       "0.0"
      ]
     },
     "execution_count": 30,
     "metadata": {},
     "output_type": "execute_result"
    }
   ],
   "source": [
    "tregs.simulate.get_d_energy(lacWT, rnap_emat)"
   ]
  },
  {
   "cell_type": "code",
   "execution_count": 31,
   "metadata": {},
   "outputs": [
    {
     "data": {
      "text/plain": [
       "-1.614200254237288"
      ]
     },
     "execution_count": 31,
     "metadata": {},
     "output_type": "execute_result"
    }
   ],
   "source": [
    "lacWT_tata = 'CAGGCTTTACACTTTATGCTTCCGGCTCGTATAATGTGTGG'\n",
    "tregs.simulate.get_d_energy(lacWT_tata, rnap_emat)"
   ]
  },
  {
   "attachments": {},
   "cell_type": "markdown",
   "metadata": {},
   "source": [
    "There is another site that could be mutated into a TATA-box but it does not seem to affect the binding energy by too much."
   ]
  },
  {
   "cell_type": "code",
   "execution_count": 32,
   "metadata": {},
   "outputs": [
    {
     "data": {
      "text/plain": [
       "-0.2469048431355932"
      ]
     },
     "execution_count": 32,
     "metadata": {},
     "output_type": "execute_result"
    }
   ],
   "source": [
    "lacWT_tata = 'CAGGCTTTACACTTTATAATTCCGGCTCGTATGTTGTGTGG'\n",
    "tregs.simulate.get_d_energy(lacWT_tata, rnap_emat)"
   ]
  },
  {
   "attachments": {},
   "cell_type": "markdown",
   "metadata": {},
   "source": [
    "## Remaining questions\n",
    "\n",
    "- Why is the total energy calculated from the energy matrices always off by a little from the experimentally determined binding energy?\n",
    "- Why would this matter for the footprint? For example, for the binding energy of lacI to wild type O1 is set at $-35 k_BT$, we do not recover a footprint from the synthetic data."
   ]
  }
 ],
 "metadata": {
  "kernelspec": {
   "display_name": "theoretical_regseq",
   "language": "python",
   "name": "python3"
  },
  "language_info": {
   "codemirror_mode": {
    "name": "ipython",
    "version": 3
   },
   "file_extension": ".py",
   "mimetype": "text/x-python",
   "name": "python",
   "nbconvert_exporter": "python",
   "pygments_lexer": "ipython3",
   "version": "3.10.4"
  },
  "vscode": {
   "interpreter": {
    "hash": "b5793fdbd013b36b2bc0f38e105e8917934d5be643f8da82bca1fa4652d4ea09"
   }
  }
 },
 "nbformat": 4,
 "nbformat_minor": 2
}
