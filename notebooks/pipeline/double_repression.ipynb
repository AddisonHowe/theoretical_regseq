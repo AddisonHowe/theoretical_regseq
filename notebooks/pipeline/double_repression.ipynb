{
 "cells": [
  {
   "cell_type": "code",
   "execution_count": 1,
   "metadata": {},
   "outputs": [
    {
     "data": {
      "text/plain": [
       "{'green': '#7AA974',\n",
       " 'light_green': '#BFD598',\n",
       " 'pale_green': '#DCECCB',\n",
       " 'yellow': '#EAC264',\n",
       " 'light_yellow': '#F3DAA9',\n",
       " 'pale_yellow': '#FFEDCE',\n",
       " 'blue': '#738FC1',\n",
       " 'light_blue': '#A9BFE3',\n",
       " 'pale_blue': '#C9D7EE',\n",
       " 'red': '#D56C55',\n",
       " 'light_red': '#E8B19D',\n",
       " 'pale_red': '#F1D4C9',\n",
       " 'purple': '#AB85AC',\n",
       " 'light_purple': '#D4C2D9',\n",
       " 'dark_green': '#7E9D90',\n",
       " 'dark_brown': '#905426'}"
      ]
     },
     "execution_count": 1,
     "metadata": {},
     "output_type": "execute_result"
    }
   ],
   "source": [
    "# processing\n",
    "import numpy as np\n",
    "import pandas as pd\n",
    "from Bio import SeqIO\n",
    "\n",
    "# custom packages\n",
    "import tregs\n",
    "\n",
    "# visualization\n",
    "import matplotlib as mpl\n",
    "import matplotlib.pyplot as plt\n",
    "from matplotlib.lines import Line2D\n",
    "plt.rcParams.update({'font.size': 12})\n",
    "\n",
    "from matplotlib import font_manager\n",
    "font_manager.fontManager.addfont('../../misc/lucida-sans-unicode.ttf')\n",
    "\n",
    "import seaborn as sns\n",
    "tregs.mpl_pboc.plotting_style()"
   ]
  },
  {
   "cell_type": "code",
   "execution_count": 2,
   "metadata": {},
   "outputs": [],
   "source": [
    "_genome = []\n",
    "for record in SeqIO.parse(\"../../data/mg1655_genome.fasta\", \"fasta\"):\n",
    "    _genome.append(str(record.seq))\n",
    "genome = _genome[0]"
   ]
  },
  {
   "cell_type": "code",
   "execution_count": 3,
   "metadata": {},
   "outputs": [],
   "source": [
    "## Find the transcription start site\n",
    "df = pd.read_csv('../../data/ecoli_gene_list.csv')\n",
    "lacZYA_TSS = int(df[(df.gene == 'lacZ') & (df.promoter == 'lacZp1')]['tss'].iloc[0])\n",
    "promoter = tregs.seq_utils.get_regulatory_region(genome, lacZYA_TSS, reverse=True)"
   ]
  },
  {
   "cell_type": "code",
   "execution_count": 4,
   "metadata": {},
   "outputs": [],
   "source": [
    "# Promoter\n",
    "rnap_site = 'CAGGCTTTACACTTTATGCTTCCGGCTCGTATGTTGTGTGG'"
   ]
  },
  {
   "cell_type": "code",
   "execution_count": 5,
   "metadata": {},
   "outputs": [],
   "source": [
    "# obtained from https://journals.plos.org/ploscompbiol/article/figure?id=10.1371/journal.pcbi.1002811.g002\n",
    "\n",
    "rnap_emat_raw = np.loadtxt('../../data/energy_matrices/RNAP_energy_matrix.txt')\n",
    "rnap_emat = tregs.simulate.fix_wt(rnap_emat_raw, rnap_site)"
   ]
  },
  {
   "cell_type": "code",
   "execution_count": 6,
   "metadata": {},
   "outputs": [],
   "source": [
    "def doublerep_pbound(p_seq, r1_seq, r2_seq,\n",
    "                  p_emat, r1_emat, r2_emat, \n",
    "                  n_p, n_r1, n_r2, n_NS,\n",
    "                  ep_wt=0, er1_wt=0, er2_wt=0, e_int=0,\n",
    "                  gate='AND'):\n",
    "\n",
    "    w_p = tregs.simulate.get_weight(p_seq, p_emat, e_wt=ep_wt)\n",
    "    w_r1 = tregs.simulate.get_weight(r1_seq, r1_emat, e_wt=er1_wt)\n",
    "    w_r2 = tregs.simulate.get_weight(r2_seq, r2_emat, e_wt=er2_wt)\n",
    "    if gate == 'AND':\n",
    "        z = 1 + n_p / n_NS * w_p + n_r1 / n_NS * w_r1 + n_r2 / n_NS * w_r2\n",
    "        z += (n_r1 / n_NS * w_r1) * (n_r2 / n_NS * w_r2) * np.exp(-e_int)\n",
    "        pbound = (n_p / n_NS * w_p) / z\n",
    "    if gate == 'OR':\n",
    "        z = 1 + n_p / n_NS * w_p + n_r1 / n_NS * w_r1 + n_r2 / n_NS * w_r2\n",
    "        z += (n_p / n_NS * w_p) * (n_r1 / n_NS * w_r1)\n",
    "        z += (n_p / n_NS * w_p) * (n_r2 / n_NS * w_r2)\n",
    "        z += (n_r1 / n_NS * w_r1) * (n_r2 / n_NS * w_r2) * np.exp(-e_int)\n",
    "        pbound = (n_p / n_NS * w_p + (n_p / n_NS * w_p) * (n_r1 / n_NS * w_r1) + (n_p / n_NS * w_p) * (n_r2 / n_NS * w_r2)) / z\n",
    "\n",
    "    return pbound"
   ]
  },
  {
   "cell_type": "code",
   "execution_count": 7,
   "metadata": {},
   "outputs": [],
   "source": [
    "def simrep_helper(mutants, rnap_start, rnap_end, rep1_start, rep1_end, rep2_start, rep2_end,\n",
    "                  p_emat, r1_emat, r2_emat, n_p, n_r1, n_r2, n_NS, gate,\n",
    "                  ep_wt=0, er1_wt=0, er2_wt=0, e_int=0):\n",
    "\n",
    "    l_tr = []\n",
    "    for mut in mutants:\n",
    "        rv = {}\n",
    "        rv['seq'] = mut\n",
    "        rnap_mut = mut[rnap_start:rnap_end].upper()\n",
    "        rep1_mut = mut[rep1_start:rep1_end].upper()\n",
    "        rep2_mut = mut[rep2_start:rep2_end].upper()\n",
    "        rv['pbound'] = doublerep_pbound(rnap_mut, rep1_mut, rep2_mut,\n",
    "                                        p_emat, r1_emat, r2_emat, \n",
    "                                        n_p, n_r1, n_r2, n_NS,\n",
    "                                        ep_wt=ep_wt, er1_wt=er1_wt, er2_wt=er2_wt, e_int=e_int,\n",
    "                                        gate=gate)\n",
    "        l_tr.append(rv)\n",
    "    df_simrep = pd.DataFrame.from_records(l_tr)\n",
    "\n",
    "    return df_simrep\n",
    "\n",
    "\n",
    "def simrep(wtseq, rnap_wtseq, rep1_wtseq, rep2_wtseq, p_emat, r1_emat, r2_emat, \n",
    "           ep_wt, er1_wt, er2_wt, e_int, n_NS, n_p, n_r1, n_r2, gate,\n",
    "           num_mutants=10000, mutrate=0.1, scaling_factor=100):\n",
    "    \n",
    "    mutants = np.unique(tregs.wgregseq.mutations_rand(wtseq,\n",
    "                                       rate=mutrate,\n",
    "                                       num_mutants=num_mutants,\n",
    "                                       number_fixed=True))\n",
    "\n",
    "    rnap_start, rnap_end = tregs.seq_utils.find_binding_site(wtseq, rnap_wtseq)\n",
    "    rep1_start, rep1_end = tregs.seq_utils.find_binding_site(wtseq, rep1_wtseq)\n",
    "    rep2_start, rep2_end = tregs.seq_utils.find_binding_site(wtseq, rep2_wtseq)\n",
    "\n",
    "    df_simrep = simrep_helper(mutants, rnap_start, rnap_end, rep1_start, rep1_end, rep2_start, rep2_end,\n",
    "                              p_emat, r1_emat, r2_emat, n_p, n_r1, n_r2, n_NS,\n",
    "                              ep_wt=ep_wt, er1_wt=er1_wt, er2_wt=er2_wt, e_int=e_int, gate=gate)\n",
    "    \n",
    "    dna_cnt = tregs.simulate.get_dna_cnt(len(df_simrep))\n",
    "    df_simrep['ct_0'] = dna_cnt\n",
    "    df_simrep = df_simrep[df_simrep.ct_0 != 0.0]\n",
    "\n",
    "    df_simrep['ct_1'] = 0.1 + df_simrep['ct_0'] * df_simrep['pbound'] * scaling_factor\n",
    "    df_simrep['ct_1'] = df_simrep['ct_1'].astype(int)\n",
    "    df_simrep['ct'] = df_simrep['ct_0'] + df_simrep['ct_1']\n",
    "\n",
    "    df_simrep['ct'] = df_simrep['ct'].astype(float)\n",
    "    df_simrep['ct_0'] = df_simrep['ct_0'].astype(float)\n",
    "    df_simrep['ct_1'] = df_simrep['ct_1'].astype(float)\n",
    "    df_simrep['norm_ct_1'] = df_simrep['ct_1'] / df_simrep['ct_0']\n",
    "\n",
    "    return df_simrep"
   ]
  },
  {
   "cell_type": "code",
   "execution_count": 8,
   "metadata": {},
   "outputs": [],
   "source": [
    "def generate_emap(seq, fixed=False,\n",
    "                  fixed_value=1,\n",
    "                  max_mut_energy=0.5):\n",
    "    nt_index = {'A': 0, 'C': 1, 'G': 2, 'T': 3}\n",
    "\n",
    "    emat = np.zeros((4, len(seq)))\n",
    "    for i,nt in enumerate(seq):\n",
    "        for j in range(4):\n",
    "            if j != nt_index[nt]:\n",
    "                if fixed:\n",
    "                    emat[j, i] = fixed_value\n",
    "                else:\n",
    "                    emat[j, i] = np.random.uniform(low=0.1, high=max_mut_energy)\n",
    "    \n",
    "    return emat"
   ]
  },
  {
   "cell_type": "code",
   "execution_count": 9,
   "metadata": {},
   "outputs": [],
   "source": [
    "def plot_footprint(df, rep1_start_site, rep2_start_site):\n",
    "    mut_list = df['seq'].values\n",
    "    mu_data = df['norm_ct_1']\n",
    "\n",
    "    nbins = 2\n",
    "    upper_bound = max(np.mean(mu_data), 1)\n",
    "    footprint = tregs.footprint.get_info_footprint(mut_list, mu_data, promoter, nbins, upper_bound,\n",
    "                                                pseudocount=0)\n",
    "    exshift_list = tregs.footprint.get_expression_shift(mut_list, mu_data.values, promoter,\n",
    "                                                        smoothed=True, windowsize=3)\n",
    "\n",
    "    fig, ax = plt.subplots(figsize=(12,2.5))\n",
    "\n",
    "    ax.axvspan(-38, -30, alpha=0.7, color='#A9BFE3')\n",
    "    ax.axvspan(rep1_start_site, rep1_start_site + 10, alpha=0.7, color='#E8B19D')\n",
    "    ax.axvspan(rep2_start_site, rep2_start_site + 10, alpha=0.7, color='#E8B19D')\n",
    "    ax.axvspan(-15, -5, alpha=0.7, color='#A9BFE3')\n",
    "\n",
    "\n",
    "    ax.set_ylim(top=max(footprint)*1.15)\n",
    "    ax.add_patch(mpl.patches.Rectangle((-38, max(footprint)*1.15),\n",
    "                                            8,\n",
    "                                            max(footprint) * 0.2,\n",
    "                                            facecolor='#738FC1',\n",
    "                                            clip_on=False,\n",
    "                                            linewidth = 0))\n",
    "    ax.text(-38 + 0.5 * 8, max(footprint) * 1.2, 'RNAP', fontsize = 10, color = 'k',\n",
    "            ha='center', va='baseline')\n",
    "\n",
    "    ax.add_patch(mpl.patches.Rectangle((-15, max(footprint)*1.15),\n",
    "                                            10,\n",
    "                                            max(footprint) * 0.2,\n",
    "                                            facecolor='#738FC1',\n",
    "                                            clip_on=False,\n",
    "                                            linewidth = 0))\n",
    "    ax.text(-15 + 0.5 * 10, max(footprint) * 1.2, 'RNAP', fontsize = 10, color = 'k',\n",
    "            ha='center', va='baseline')\n",
    "\n",
    "    ax.add_patch(mpl.patches.Rectangle((rep1_start_site, max(footprint)*1.15),\n",
    "                                            10,\n",
    "                                            max(footprint) * 0.2,\n",
    "                                            facecolor='#D56C55',\n",
    "                                            clip_on=False,\n",
    "                                            linewidth = 0))\n",
    "    ax.text(rep1_start_site + 0.5 * 10, max(footprint) * 1.2, 'R1', fontsize = 10, color = 'k',\n",
    "            ha='center', va='baseline')\n",
    "    \n",
    "    ax.add_patch(mpl.patches.Rectangle((rep2_start_site, max(footprint)*1.15),\n",
    "                                            10,\n",
    "                                            max(footprint) * 0.2,\n",
    "                                            facecolor='#D56C55',\n",
    "                                            clip_on=False,\n",
    "                                            linewidth = 0))\n",
    "    ax.text(rep2_start_site + 0.5 * 10, max(footprint) * 1.2, 'R2', fontsize = 10, color = 'k',\n",
    "            ha='center', va='baseline')\n",
    "\n",
    "\n",
    "    windowsize=3\n",
    "    cut = int((windowsize - 1) / 2)\n",
    "    x = np.arange(-115 + cut, 45 - cut)\n",
    "    shiftcolors = [('#D56C55' if exshift > 0 else '#738FC1') for exshift in exshift_list]\n",
    "    ax.bar(x, footprint, color=shiftcolors, edgecolor=None, linewidth=0)\n",
    "    ax.set_ylabel('Information (bits)', fontsize=12)\n",
    "\n",
    "    custom_lines = [Line2D([0], [0], color='#D56C55', lw=4),\n",
    "                    Line2D([0], [0], color='#738FC1', lw=4)]\n",
    "    plt.legend(custom_lines,\n",
    "            ['Mutation\\nincreases\\nexpression', 'Mutation\\ndecreases\\nexpression'],\n",
    "            bbox_to_anchor=(1.2, 0.95), frameon=False)\n",
    "\n",
    "    plt.tight_layout()\n",
    "    #plt.savefig('../figs/simrep_footprint_overlapping.png', dpi=300, bbox_inches='tight')\n",
    "    plt.show()"
   ]
  },
  {
   "cell_type": "code",
   "execution_count": 10,
   "metadata": {},
   "outputs": [],
   "source": [
    "rep1_site = promoter[115:(115+10)]\n",
    "rep2_site = promoter[(115+15):(115+25)]\n",
    "r1_emat = generate_emap(rep1_site, fixed=True, fixed_value=1)\n",
    "r2_emat = generate_emap(rep2_site, fixed=True, fixed_value=1)"
   ]
  },
  {
   "attachments": {},
   "cell_type": "markdown",
   "metadata": {},
   "source": [
    "changing the relative binding energies/copy numbers"
   ]
  },
  {
   "cell_type": "code",
   "execution_count": 11,
   "metadata": {},
   "outputs": [
    {
     "data": {
      "image/png": "[encoded data removed]",
      "text/plain": [
       "<Figure size 864x180 with 1 Axes>"
      ]
     },
     "metadata": {},
     "output_type": "display_data"
    }
   ],
   "source": [
    "n_NS = len(genome)\n",
    "ep_wt, er1_wt, er2_wt = -5, -15, -15\n",
    "e_int = -10\n",
    "n_p, n_r1, n_r2 = 4600, 15, 15\n",
    "\n",
    "df = simrep(promoter, rnap_site, rep1_site, rep2_site, rnap_emat, r1_emat, r2_emat, \n",
    "            ep_wt, er1_wt, er2_wt, e_int, n_NS, n_p, n_r1, n_r2, 'AND', scaling_factor=10**6)\n",
    "plot_footprint(df, 0, 15)"
   ]
  },
  {
   "cell_type": "code",
   "execution_count": 12,
   "metadata": {},
   "outputs": [
    {
     "data": {
      "image/png": "[encoded data removed]",
      "text/plain": [
       "<Figure size 864x180 with 1 Axes>"
      ]
     },
     "metadata": {},
     "output_type": "display_data"
    }
   ],
   "source": [
    "n_NS = len(genome)\n",
    "ep_wt, er1_wt, er2_wt = -5, -15, -15\n",
    "e_int = -10\n",
    "n_p, n_r1, n_r2 = 4600, 15, 15\n",
    "\n",
    "df = simrep(promoter, rnap_site, rep1_site, rep2_site, rnap_emat, r1_emat, r2_emat, \n",
    "            ep_wt, er1_wt, er2_wt, e_int, n_NS, n_p, n_r1, n_r2, 'OR', scaling_factor=10**6)\n",
    "plot_footprint(df, 0, 15)"
   ]
  },
  {
   "cell_type": "code",
   "execution_count": null,
   "metadata": {},
   "outputs": [],
   "source": []
  }
 ],
 "metadata": {
  "kernelspec": {
   "display_name": "theoretical_regseq",
   "language": "python",
   "name": "python3"
  },
  "language_info": {
   "codemirror_mode": {
    "name": "ipython",
    "version": 3
   },
   "file_extension": ".py",
   "mimetype": "text/x-python",
   "name": "python",
   "nbconvert_exporter": "python",
   "pygments_lexer": "ipython3",
   "version": "3.10.4"
  },
  "orig_nbformat": 4
 },
 "nbformat": 4,
 "nbformat_minor": 2
}
