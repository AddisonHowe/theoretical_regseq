{
 "cells": [
  {
   "cell_type": "code",
   "execution_count": 1,
   "metadata": {},
   "outputs": [],
   "source": [
    "import numpy as np\n",
    "import pandas as pd\n",
    "from Bio import SeqIO\n",
    "\n",
    "# custom packages\n",
    "import tregs\n",
    "\n",
    "# visualization\n",
    "import matplotlib.pyplot as plt\n",
    "import seaborn as sns"
   ]
  },
  {
   "attachments": {},
   "cell_type": "markdown",
   "metadata": {},
   "source": [
    "### Loading input data"
   ]
  },
  {
   "cell_type": "code",
   "execution_count": 2,
   "metadata": {},
   "outputs": [],
   "source": [
    "_genome = []\n",
    "for record in SeqIO.parse(\"../../data/mg1655_genome.fasta\", \"fasta\"):\n",
    "    _genome.append(str(record.seq))\n",
    "genome = _genome[0]"
   ]
  },
  {
   "cell_type": "code",
   "execution_count": 3,
   "metadata": {},
   "outputs": [],
   "source": [
    "# Promoter\n",
    "rnap_site = 'CAGGCTTTACACTTTATGCTTCCGGCTCGTATGTTGTGTGG'\n",
    "\n",
    "# Operator sequence\n",
    "rep_site = 'AATTGTGAGCGGATAACAATT'\n",
    "\n",
    "# Find the transcription start site\n",
    "df = pd.read_csv('../../data/ecoli_gene_list.csv')\n",
    "lacZYA_TSS = int(df[(df.gene == 'lacZ') & (df.promoter == 'lacZp1')]['tss'].iloc[0])\n",
    "promoter = tregs.seq_utils.get_regulatory_region(genome, lacZYA_TSS, reverse=True)"
   ]
  },
  {
   "cell_type": "code",
   "execution_count": 4,
   "metadata": {},
   "outputs": [],
   "source": [
    "# obtained from https://journals.plos.org/ploscompbiol/article/figure?id=10.1371/journal.pcbi.1002811.g002\n",
    "\n",
    "rnap_emat_raw = np.loadtxt('../../data/energy_matrices/RNAP_energy_matrix.txt')\n",
    "rnap_emat = tregs.simulate.fix_wt(rnap_emat_raw, rnap_site)"
   ]
  },
  {
   "cell_type": "code",
   "execution_count": 5,
   "metadata": {},
   "outputs": [],
   "source": [
    "O1_1027_raw = np.load('../../data/energy_matrices/lacThermoforTO1.npy')\n",
    "\n",
    "O1_1027_fixed = np.zeros(np.shape(O1_1027_raw))\n",
    "for i in range(3):\n",
    "    O1_1027_fixed[i] = tregs.simulate.fix_wt(O1_1027_raw[i], rep_site)\n",
    "\n",
    "rep_emat = np.mean(O1_1027_fixed, axis=0)"
   ]
  },
  {
   "attachments": {},
   "cell_type": "markdown",
   "metadata": {},
   "source": [
    "### Only mutate binding sites"
   ]
  },
  {
   "cell_type": "code",
   "execution_count": 10,
   "metadata": {},
   "outputs": [],
   "source": [
    "def sim_alt(promoter_seq, binding_site,\n",
    "        func_pbound, binding_site_seqs, *args,\n",
    "        num_mutants=10000,\n",
    "        mutrate=0.1,\n",
    "        allowed_alph=None,\n",
    "        scaling_factor=100):\n",
    "    \n",
    "    bs_mutants = np.unique(tregs.wgregseq.mutations_rand(binding_site,\n",
    "                                       rate=mutrate,\n",
    "                                       num_mutants=num_mutants,\n",
    "                                       allowed_alph=allowed_alph,\n",
    "                                       number_fixed=True,\n",
    "                                       keep_wildtype=True))\n",
    "    left_bound, right_bound = tregs.seq_utils.find_binding_site(promoter, binding_site)\n",
    "    left_region = promoter_seq[:left_bound]\n",
    "    right_region = promoter_seq[right_bound:]\n",
    "    mutants = [left_region + bs_mutant + right_region for bs_mutant in bs_mutants]\n",
    "    print(mutants[:10])\n",
    "    \n",
    "    regions = []\n",
    "    for bss in binding_site_seqs:\n",
    "        start, end = tregs.seq_utils.find_binding_site(promoter_seq, bss)\n",
    "        regions.append((start, end))\n",
    "\n",
    "    df_sim = tregs.simulate.sim_helper(mutants, func_pbound, regions, *args)\n",
    "    \n",
    "    dna_cnt = tregs.simulate.get_dna_cnt(len(df_sim))\n",
    "    df_sim['ct_0'] = dna_cnt\n",
    "    df_sim = df_sim[df_sim.ct_0 != 0.0]\n",
    "\n",
    "    df_sim['ct_1'] = 0.1 + df_sim['ct_0'] * df_sim['pbound'] * scaling_factor\n",
    "    df_sim['ct_1'] = df_sim['ct_1'].astype(int)\n",
    "\n",
    "    df_sim['ct_0'] = df_sim['ct_0'].astype(float)\n",
    "    df_sim['ct_1'] = df_sim['ct_1'].astype(float)\n",
    "    df_sim['norm_ct_1'] = df_sim['ct_1'] / df_sim['ct_0']\n",
    "\n",
    "    return df_sim"
   ]
  },
  {
   "cell_type": "code",
   "execution_count": 12,
   "metadata": {},
   "outputs": [
    {
     "name": "stdout",
     "output_type": "stream",
     "text": [
      "['ACAGGTTTCCCGACTGGAAAGCGGGCAGTGAGCGCAACGCAATTAATGTGAGTTAGCTCACTCATTAGGCACCCCAGGCTTTACACTTTATGCTTCCGGCTCGTATGTTGTGTGGAATTGTGAGCGGATAACAATTTCACACAGGAAACAGCTATGACCA', 'ACAGGTTTCCCGACTGGAAAGCGGGCAGTGAGCGCAACGCAATTAATGTGAGTTAGCTCACTCATTAGGCACCCCAGGCTTTACACTTTATGCTTCCGGCTCGTATGTTcgGatGAATTGTGAGCGGATAACAATTTCACACAGGAAACAGCTATGACCA', 'ACAGGTTTCCCGACTGGAAAGCGGGCAGTGAGCGCAACGCAATTAATGTGAGTTAGCTCACTCATTAGGCACCCCAGGCTTTACACTTTATGCTTCCGGCTCGTATGTaGTagGtAATTGTGAGCGGATAACAATTTCACACAGGAAACAGCTATGACCA', 'ACAGGTTTCCCGACTGGAAAGCGGGCAGTGAGCGCAACGCAATTAATGTGAGTTAGCTCACTCATTAGGCACCCCAGGCTTTACACTTTATGCTTCCGGCTCGTATGTacTcaGGAATTGTGAGCGGATAACAATTTCACACAGGAAACAGCTATGACCA', 'ACAGGTTTCCCGACTGGAAAGCGGGCAGTGAGCGCAACGCAATTAATGTGAGTTAGCTCACTCATTAGGCACCCCAGGCTTTACACTTTATGCTTCCGGCTCGTATaTTGaGctGAATTGTGAGCGGATAACAATTTCACACAGGAAACAGCTATGACCA', 'ACAGGTTTCCCGACTGGAAAGCGGGCAGTGAGCGCAACGCAATTAATGTGAGTTAGCTCACTCATTAGGCACCCCAGGCTTTACACTTTATGCTTCCGGCTCGTATaTatTtTGGAATTGTGAGCGGATAACAATTTCACACAGGAAACAGCTATGACCA', 'ACAGGTTTCCCGACTGGAAAGCGGGCAGTGAGCGCAACGCAATTAATGTGAGTTAGCTCACTCATTAGGCACCCCAGGCTTTACACTTTATGCTTCCGGCTCGTATcTTGTaTacAATTGTGAGCGGATAACAATTTCACACAGGAAACAGCTATGACCA', 'ACAGGTTTCCCGACTGGAAAGCGGGCAGTGAGCGCAACGCAATTAATGTGAGTTAGCTCACTCATTAGGCACCCCAGGCTTTACACTTTATGCTTCCGGCTCGTATcTaGcGcGGAATTGTGAGCGGATAACAATTTCACACAGGAAACAGCTATGACCA', 'ACAGGTTTCCCGACTGGAAAGCGGGCAGTGAGCGCAACGCAATTAATGTGAGTTAGCTCACTCATTAGGCACCCCAGGCTTTACACTTTATGCTTCCGGCTCGTATcaTGTcTcGAATTGTGAGCGGATAACAATTTCACACAGGAAACAGCTATGACCA', 'ACAGGTTTCCCGACTGGAAAGCGGGCAGTGAGCGCAACGCAATTAATGTGAGTTAGCTCACTCATTAGGCACCCCAGGCTTTACACTTTATGCTTCCGGCTCGTATcaTGcGTGaAATTGTGAGCGGATAACAATTTCACACAGGAAACAGCTATGACCA']\n"
     ]
    }
   ],
   "source": [
    "n_NS = len(genome)\n",
    "n_p = 4600\n",
    "n_r = 15\n",
    "ep_wt = -5\n",
    "er_wt = -15\n",
    "\n",
    "df = sim_alt(promoter, rnap_site, tregs.simulate.simrep_pbound, [rnap_site, rep_site], \n",
    "             *[n_NS, n_p, n_r, rnap_emat, rep_emat, ep_wt, er_wt],\n",
    "             mutrate=0.1)"
   ]
  },
  {
   "cell_type": "code",
   "execution_count": 13,
   "metadata": {},
   "outputs": [
    {
     "name": "stderr",
     "output_type": "stream",
     "text": [
      "/Users/rosalindpan/rpgroup/projects/theoretical_regseq/src/tregs/footprint.py:124: RuntimeWarning: divide by zero encountered in double_scalars\n",
      "  mi += joint_p[1][i] * np.log2(joint_p[1][i] / (p_b[1] * p_mu[i]))\n"
     ]
    },
    {
     "ename": "ValueError",
     "evalue": "Axis limits cannot be NaN or Inf",
     "output_type": "error",
     "traceback": [
      "\u001b[0;31m---------------------------------------------------------------------------\u001b[0m",
      "\u001b[0;31mValueError\u001b[0m                                Traceback (most recent call last)",
      "\u001b[1;32m/Users/rosalindpan/rpgroup/projects/theoretical_regseq/notebooks/experimental/mutate_binding_sites_only.ipynb Cell 10\u001b[0m in \u001b[0;36m<cell line: 2>\u001b[0;34m()\u001b[0m\n\u001b[1;32m      <a href='vscode-notebook-cell:/Users/rosalindpan/rpgroup/projects/theoretical_regseq/notebooks/experimental/mutate_binding_sites_only.ipynb#X14sZmlsZQ%3D%3D?line=0'>1</a>\u001b[0m region_params \u001b[39m=\u001b[39m [(\u001b[39m-\u001b[39m\u001b[39m38\u001b[39m, \u001b[39m-\u001b[39m\u001b[39m30\u001b[39m, \u001b[39m'\u001b[39m\u001b[39mP\u001b[39m\u001b[39m'\u001b[39m, \u001b[39m'\u001b[39m\u001b[39mRNAP\u001b[39m\u001b[39m'\u001b[39m), (\u001b[39m-\u001b[39m\u001b[39m15\u001b[39m, \u001b[39m-\u001b[39m\u001b[39m5\u001b[39m, \u001b[39m'\u001b[39m\u001b[39mP\u001b[39m\u001b[39m'\u001b[39m, \u001b[39m'\u001b[39m\u001b[39mRNAP\u001b[39m\u001b[39m'\u001b[39m), (\u001b[39m2\u001b[39m, \u001b[39m17\u001b[39m, \u001b[39m'\u001b[39m\u001b[39mR\u001b[39m\u001b[39m'\u001b[39m, \u001b[39m'\u001b[39m\u001b[39mLacI\u001b[39m\u001b[39m'\u001b[39m)]\n\u001b[0;32m----> <a href='vscode-notebook-cell:/Users/rosalindpan/rpgroup/projects/theoretical_regseq/notebooks/experimental/mutate_binding_sites_only.ipynb#X14sZmlsZQ%3D%3D?line=1'>2</a>\u001b[0m tregs\u001b[39m.\u001b[39;49mfootprint\u001b[39m.\u001b[39;49mplot_footprint(promoter, df, region_params,\n\u001b[1;32m      <a href='vscode-notebook-cell:/Users/rosalindpan/rpgroup/projects/theoretical_regseq/notebooks/experimental/mutate_binding_sites_only.ipynb#X14sZmlsZQ%3D%3D?line=2'>3</a>\u001b[0m                                x_lims\u001b[39m=\u001b[39;49m(\u001b[39m-\u001b[39;49m\u001b[39m45\u001b[39;49m, \u001b[39m25\u001b[39;49m), fig_width\u001b[39m=\u001b[39;49m\u001b[39m8\u001b[39;49m,\n\u001b[1;32m      <a href='vscode-notebook-cell:/Users/rosalindpan/rpgroup/projects/theoretical_regseq/notebooks/experimental/mutate_binding_sites_only.ipynb#X14sZmlsZQ%3D%3D?line=3'>4</a>\u001b[0m                                legend_xcoord\u001b[39m=\u001b[39;49m\u001b[39m1.35\u001b[39;49m)\n",
      "File \u001b[0;32m~/rpgroup/projects/theoretical_regseq/src/tregs/footprint.py:290\u001b[0m, in \u001b[0;36mplot_footprint\u001b[0;34m(promoter, df, region_params, nbins, up_scaling_factor, x_lims, fig_width, fig_height, legend_xcoord, max_signal, outfile, annotate_stn, return_fp)\u001b[0m\n\u001b[1;32m    287\u001b[0m \u001b[39mif\u001b[39;00m max_signal \u001b[39mis\u001b[39;00m \u001b[39mNone\u001b[39;00m:\n\u001b[1;32m    288\u001b[0m     max_signal \u001b[39m=\u001b[39m \u001b[39mmax\u001b[39m(footprint)\n\u001b[0;32m--> 290\u001b[0m ax\u001b[39m.\u001b[39;49mset_ylim(top\u001b[39m=\u001b[39;49mmax_signal\u001b[39m*\u001b[39;49m\u001b[39m1.15\u001b[39;49m)\n\u001b[1;32m    291\u001b[0m total_signal \u001b[39m=\u001b[39m \u001b[39m0\u001b[39m\n\u001b[1;32m    292\u001b[0m \u001b[39mfor\u001b[39;00m region \u001b[39min\u001b[39;00m region_params:\n",
      "File \u001b[0;32m~/opt/anaconda3/envs/theoretical_regseq/lib/python3.10/site-packages/matplotlib/axes/_base.py:4019\u001b[0m, in \u001b[0;36m_AxesBase.set_ylim\u001b[0;34m(self, bottom, top, emit, auto, ymin, ymax)\u001b[0m\n\u001b[1;32m   4017\u001b[0m \u001b[39mself\u001b[39m\u001b[39m.\u001b[39m_process_unit_info([(\u001b[39m\"\u001b[39m\u001b[39my\u001b[39m\u001b[39m\"\u001b[39m, (bottom, top))], convert\u001b[39m=\u001b[39m\u001b[39mFalse\u001b[39;00m)\n\u001b[1;32m   4018\u001b[0m bottom \u001b[39m=\u001b[39m \u001b[39mself\u001b[39m\u001b[39m.\u001b[39m_validate_converted_limits(bottom, \u001b[39mself\u001b[39m\u001b[39m.\u001b[39mconvert_yunits)\n\u001b[0;32m-> 4019\u001b[0m top \u001b[39m=\u001b[39m \u001b[39mself\u001b[39;49m\u001b[39m.\u001b[39;49m_validate_converted_limits(top, \u001b[39mself\u001b[39;49m\u001b[39m.\u001b[39;49mconvert_yunits)\n\u001b[1;32m   4021\u001b[0m \u001b[39mif\u001b[39;00m bottom \u001b[39mis\u001b[39;00m \u001b[39mNone\u001b[39;00m \u001b[39mor\u001b[39;00m top \u001b[39mis\u001b[39;00m \u001b[39mNone\u001b[39;00m:\n\u001b[1;32m   4022\u001b[0m     \u001b[39m# Axes init calls set_ylim(0, 1) before get_ylim() can be called,\u001b[39;00m\n\u001b[1;32m   4023\u001b[0m     \u001b[39m# so only grab the limits if we really need them.\u001b[39;00m\n\u001b[1;32m   4024\u001b[0m     old_bottom, old_top \u001b[39m=\u001b[39m \u001b[39mself\u001b[39m\u001b[39m.\u001b[39mget_ylim()\n",
      "File \u001b[0;32m~/opt/anaconda3/envs/theoretical_regseq/lib/python3.10/site-packages/matplotlib/axes/_base.py:3605\u001b[0m, in \u001b[0;36m_AxesBase._validate_converted_limits\u001b[0;34m(self, limit, convert)\u001b[0m\n\u001b[1;32m   3602\u001b[0m converted_limit \u001b[39m=\u001b[39m convert(limit)\n\u001b[1;32m   3603\u001b[0m \u001b[39mif\u001b[39;00m (\u001b[39misinstance\u001b[39m(converted_limit, Real)\n\u001b[1;32m   3604\u001b[0m         \u001b[39mand\u001b[39;00m \u001b[39mnot\u001b[39;00m np\u001b[39m.\u001b[39misfinite(converted_limit)):\n\u001b[0;32m-> 3605\u001b[0m     \u001b[39mraise\u001b[39;00m \u001b[39mValueError\u001b[39;00m(\u001b[39m\"\u001b[39m\u001b[39mAxis limits cannot be NaN or Inf\u001b[39m\u001b[39m\"\u001b[39m)\n\u001b[1;32m   3606\u001b[0m \u001b[39mreturn\u001b[39;00m converted_limit\n",
      "\u001b[0;31mValueError\u001b[0m: Axis limits cannot be NaN or Inf"
     ]
    },
    {
     "data": {
      "image/png": "[encoded data removed]",
      "text/plain": [
       "<Figure size 576x180 with 1 Axes>"
      ]
     },
     "metadata": {},
     "output_type": "display_data"
    }
   ],
   "source": [
    "region_params = [(-38, -30, 'P', 'RNAP'), (-15, -5, 'P', 'RNAP'), (2, 17, 'R', 'LacI')]\n",
    "tregs.footprint.plot_footprint(promoter, df, region_params,\n",
    "                               x_lims=(-45, 25), fig_width=8,\n",
    "                               legend_xcoord=1.35)"
   ]
  },
  {
   "cell_type": "code",
   "execution_count": null,
   "metadata": {},
   "outputs": [],
   "source": []
  }
 ],
 "metadata": {
  "kernelspec": {
   "display_name": "theoretical_regseq",
   "language": "python",
   "name": "python3"
  },
  "language_info": {
   "codemirror_mode": {
    "name": "ipython",
    "version": 3
   },
   "file_extension": ".py",
   "mimetype": "text/x-python",
   "name": "python",
   "nbconvert_exporter": "python",
   "pygments_lexer": "ipython3",
   "version": "3.10.4"
  },
  "orig_nbformat": 4
 },
 "nbformat": 4,
 "nbformat_minor": 2
}
