{
 "cells": [
  {
   "cell_type": "code",
   "execution_count": 1,
   "metadata": {},
   "outputs": [
    {
     "data": {
      "text/plain": [
       "{'green': '#7AA974',\n",
       " 'light_green': '#BFD598',\n",
       " 'pale_green': '#DCECCB',\n",
       " 'yellow': '#EAC264',\n",
       " 'light_yellow': '#F3DAA9',\n",
       " 'pale_yellow': '#FFEDCE',\n",
       " 'blue': '#738FC1',\n",
       " 'light_blue': '#A9BFE3',\n",
       " 'pale_blue': '#C9D7EE',\n",
       " 'red': '#D56C55',\n",
       " 'light_red': '#E8B19D',\n",
       " 'pale_red': '#F1D4C9',\n",
       " 'purple': '#AB85AC',\n",
       " 'light_purple': '#D4C2D9',\n",
       " 'dark_green': '#7E9D90',\n",
       " 'dark_brown': '#905426'}"
      ]
     },
     "execution_count": 1,
     "metadata": {},
     "output_type": "execute_result"
    }
   ],
   "source": [
    "# processing\n",
    "import math\n",
    "import numpy as np\n",
    "import pandas as pd\n",
    "from Bio import SeqIO\n",
    "\n",
    "# custom packages\n",
    "import tregs\n",
    "\n",
    "# visualization\n",
    "import matplotlib as mpl\n",
    "import matplotlib.pyplot as plt\n",
    "from matplotlib.lines import Line2D\n",
    "plt.rcParams.update({'font.size': 12})\n",
    "\n",
    "from matplotlib import font_manager\n",
    "font_manager.fontManager.addfont('../../misc/lucida-sans-unicode.ttf')\n",
    "\n",
    "import seaborn as sns\n",
    "tregs.mpl_pboc.plotting_style()"
   ]
  },
  {
   "attachments": {},
   "cell_type": "markdown",
   "metadata": {},
   "source": [
    "### Loading input data"
   ]
  },
  {
   "cell_type": "code",
   "execution_count": 3,
   "metadata": {},
   "outputs": [],
   "source": [
    "_genome = []\n",
    "for record in SeqIO.parse(\"../../data/mg1655_genome.fasta\", \"fasta\"):\n",
    "    _genome.append(str(record.seq))\n",
    "genome = _genome[0]"
   ]
  },
  {
   "cell_type": "code",
   "execution_count": 6,
   "metadata": {},
   "outputs": [],
   "source": [
    "# Promoter\n",
    "rnap_site = 'CAGGCTTTACACTTTATGCTTCCGGCTCGTATGTTGTGTGG'\n",
    "\n",
    "# Operator sequence\n",
    "rep_site = 'AATTGTGAGCGGATAACAATT'\n",
    "\n",
    "## Find the transcription start site\n",
    "df = pd.read_csv('../../data/ecoli_gene_list.csv')\n",
    "lacZYA_TSS = int(df[(df.gene == 'lacZ') & (df.promoter == 'lacZp1')]['tss'].iloc[0])\n",
    "promoter = tregs.seq_utils.get_regulatory_region(genome, lacZYA_TSS, reverse=True)"
   ]
  },
  {
   "cell_type": "code",
   "execution_count": 7,
   "metadata": {},
   "outputs": [],
   "source": [
    "# obtained from https://journals.plos.org/ploscompbiol/article/figure?id=10.1371/journal.pcbi.1002811.g002\n",
    "\n",
    "rnap_emat_raw = np.loadtxt('../../data/energy_matrices/RNAP_energy_matrix.txt')\n",
    "rnap_emat = tregs.simulate.fix_wt(rnap_emat_raw, rnap_site)"
   ]
  },
  {
   "cell_type": "code",
   "execution_count": 9,
   "metadata": {},
   "outputs": [],
   "source": [
    "O1_1027_raw = np.load('../../data/energy_matrices/lacThermoforTO1.npy')\n",
    "\n",
    "O1_1027_fixed = np.zeros(np.shape(O1_1027_raw))\n",
    "for i in range(3):\n",
    "    O1_1027_fixed[i] = tregs.simulate.fix_wt(O1_1027_raw[i], rep_site)\n",
    "\n",
    "rep_emat = np.mean(O1_1027_fixed, axis=0)"
   ]
  },
  {
   "attachments": {},
   "cell_type": "markdown",
   "metadata": {},
   "source": [
    "### Making information footprints"
   ]
  },
  {
   "cell_type": "code",
   "execution_count": 10,
   "metadata": {},
   "outputs": [],
   "source": [
    "def simrep_helper(mutants, rnap_start, rnap_end, rep_start, rep_end,\n",
    "                  rnap_emat, rep_emat, P, R, M, N,\n",
    "                  ep_wt=0, er_wt=0, ep_NS=0, er_NS=0):\n",
    "\n",
    "    l_tr = []\n",
    "    for mut in mutants:\n",
    "        rv = {}\n",
    "        rv['seq'] = mut\n",
    "        rnap_mut = mut[rnap_start:rnap_end].upper()\n",
    "        rep_mut = mut[rep_start:rep_end].upper()\n",
    "        rv['pbound'] = tregs.simulate.simrep_pbound_cp(\n",
    "                            rnap_mut, rep_mut, rnap_emat, rep_emat, P, R, M, N,\n",
    "                            ep_wt=ep_wt, er_wt=er_wt, ep_NS=ep_NS, er_NS=er_NS)\n",
    "        \n",
    "        l_tr.append(rv)\n",
    "    df_simrep = pd.DataFrame.from_records(l_tr)\n",
    "\n",
    "    return df_simrep\n",
    "\n",
    "\n",
    "def get_dna_cnt(n_seqs):\n",
    "\n",
    "    dna_cnt = np.random.exponential(1, size=n_seqs) * 10\n",
    "\n",
    "    dna_cnt_up = []\n",
    "    for cnt in dna_cnt:\n",
    "        dna_cnt_up.append(math.ceil(cnt))\n",
    "\n",
    "    return dna_cnt\n",
    "\n",
    "\n",
    "def simrep_cp(wtseq, rnap_wtseq, rep_wtseq, rnap_emat, rep_emat, \n",
    "           ep_wt, er_wt, P, R, M, N,\n",
    "           num_mutants=10000, mutrate=0.1, scaling_factor=100,\n",
    "           ep_NS=0, er_NS=0):\n",
    "    \n",
    "    mutants = np.unique(tregs.wgregseq.mutations_rand(wtseq,\n",
    "                                       rate=mutrate,\n",
    "                                       num_mutants=num_mutants,\n",
    "                                       number_fixed=True))\n",
    "\n",
    "    rnap_start, rnap_end = tregs.seq_utils.find_binding_site(wtseq, rnap_wtseq)\n",
    "    rep_start, rep_end = tregs.seq_utils.find_binding_site(wtseq,rep_wtseq)\n",
    "\n",
    "    df_simrep = simrep_helper(mutants, rnap_start, rnap_end, rep_start, rep_end,\n",
    "                            rnap_emat, rep_emat, P, R, M, N,\n",
    "                            ep_wt=ep_wt, er_wt=er_wt, ep_NS=ep_NS, er_NS=er_NS)\n",
    "    \n",
    "    dna_cnt = get_dna_cnt(len(df_simrep))\n",
    "    df_simrep['ct_0'] = dna_cnt\n",
    "    df_simrep = df_simrep[df_simrep.ct_0 != 0.0]\n",
    "\n",
    "    df_simrep['ct_1'] = 0.1 + df_simrep['ct_0'] * df_simrep['pbound'] * scaling_factor\n",
    "    df_simrep['ct_1'] = df_simrep['ct_1'].astype(int)\n",
    "\n",
    "    df_simrep['ct_0'] = df_simrep['ct_0'].astype(float)\n",
    "    df_simrep['ct_1'] = df_simrep['ct_1'].astype(float)\n",
    "    df_simrep['norm_ct_1'] = df_simrep['ct_1'] / df_simrep['ct_0']\n",
    "\n",
    "    return df_simrep"
   ]
  },
  {
   "attachments": {},
   "cell_type": "markdown",
   "metadata": {},
   "source": [
    "## Simulate dataset and information footprint"
   ]
  },
  {
   "cell_type": "code",
   "execution_count": 44,
   "metadata": {},
   "outputs": [],
   "source": [
    "def plot_footprint(promoter, mut_list, mu_data, nbins, upper_bound,\n",
    "                   outfile=None):\n",
    "    footprint = tregs.footprint.get_info_footprint(mut_list, mu_data, promoter, nbins, upper_bound,\n",
    "                                               pseudocount=10**(-6))\n",
    "    exshift_list = tregs.footprint.get_expression_shift(mut_list, mu_data.values, promoter,\n",
    "                                                        smoothed=True, windowsize=3)\n",
    "    \n",
    "    fig, ax = plt.subplots(figsize=(8,2.5))\n",
    "    ax.set_xlim(-50, 30)\n",
    "\n",
    "    ax.axvspan(-38, -30, alpha=0.7, color='#A9BFE3')\n",
    "    ax.axvspan(-15, -5, alpha=0.7, color='#A9BFE3')\n",
    "    ax.axvspan(2, 2 + 17, alpha=0.7, color='#E8B19D')\n",
    "\n",
    "    ax.set_ylim(top=max(footprint)*1.15)\n",
    "    ax.add_patch(mpl.patches.Rectangle((-38, max(footprint)*1.15),\n",
    "                                            8,\n",
    "                                            max(footprint) * 0.2,\n",
    "                                            facecolor='#738FC1',\n",
    "                                            clip_on=False,\n",
    "                                            linewidth = 0))\n",
    "    ax.text(-38 + 0.5 * 8, max(footprint) * 1.2, 'RNAP', fontsize = 10, color = 'k',\n",
    "            ha='center', va='baseline')\n",
    "\n",
    "    ax.add_patch(mpl.patches.Rectangle((-15, max(footprint)*1.15),\n",
    "                                            10,\n",
    "                                            max(footprint) * 0.2,\n",
    "                                            facecolor='#738FC1',\n",
    "                                            clip_on=False,\n",
    "                                            linewidth = 0))\n",
    "    ax.text(-15 + 0.5 * 10, max(footprint) * 1.2, 'RNAP', fontsize = 10, color = 'k',\n",
    "            ha='center', va='baseline')\n",
    "    \n",
    "    ax.add_patch(mpl.patches.Rectangle((2, max(footprint)*1.15),\n",
    "                                        17,\n",
    "                                        max(footprint) * 0.2,\n",
    "                                        facecolor='#D56C55',\n",
    "                                        clip_on=False,\n",
    "                                        linewidth = 0))\n",
    "    ax.text(2 + 0.5 * 17, max(footprint) * 1.2, 'LacI', fontsize = 10, color = 'k',\n",
    "                ha='center', va='baseline')\n",
    "\n",
    "\n",
    "    windowsize=3\n",
    "    cut = int((windowsize - 1) / 2)\n",
    "    x = np.arange(-115 + cut, 45 - cut)\n",
    "    shiftcolors = [('#D56C55' if exshift > 0 else '#738FC1') for exshift in exshift_list]\n",
    "    ax.bar(x, footprint, color=shiftcolors, edgecolor=None, linewidth=0)\n",
    "    ax.set_ylabel('Information (bits)', fontsize=12)\n",
    "\n",
    "    custom_lines = [Line2D([0], [0], color='#D56C55', lw=4),\n",
    "                    Line2D([0], [0], color='#738FC1', lw=4)]\n",
    "    plt.legend(custom_lines,\n",
    "            ['Mutation\\nincreases\\nexpression', 'Mutation\\ndecreases\\nexpression'],\n",
    "            bbox_to_anchor=(1.35, 0.95), frameon=False)\n",
    "\n",
    "    plt.tight_layout()\n",
    "    if outfile is not None:\n",
    "        plt.savefig(outfile, dpi=300, bbox_inches='tight')\n",
    "    plt.show()"
   ]
  },
  {
   "cell_type": "code",
   "execution_count": 45,
   "metadata": {},
   "outputs": [],
   "source": [
    "ep_wt, er_wt = -5, -15\n",
    "P = 4600\n",
    "R = 15\n",
    "M = 1\n",
    "N = len(genome)\n",
    "\n",
    "df = simrep_cp(promoter, rnap_site, rep_site, rnap_emat, rep_emat, \n",
    "               ep_wt, er_wt, P, R, M, N)\n",
    "n_seqs = len(df)\n",
    "mut_list = df['seq'].values\n",
    "mu_data = df['norm_ct_1']\n",
    "\n",
    "nbins = 2\n",
    "upper_bound = np.mean(mu_data)"
   ]
  },
  {
   "cell_type": "code",
   "execution_count": 46,
   "metadata": {},
   "outputs": [
    {
     "data": {
      "image/png": "[encoded data removed]",
      "text/plain": [
       "<Figure size 576x180 with 1 Axes>"
      ]
     },
     "metadata": {},
     "output_type": "display_data"
    }
   ],
   "source": [
    "plot_footprint(promoter, mut_list, mu_data, nbins, upper_bound,\n",
    "               outfile='../../figs/chemical_potential_M1.png')"
   ]
  },
  {
   "cell_type": "code",
   "execution_count": 47,
   "metadata": {},
   "outputs": [],
   "source": [
    "ep_wt, er_wt = -5, -15\n",
    "P = 4600\n",
    "R = 15\n",
    "M = 50\n",
    "N = len(genome)\n",
    "\n",
    "df = simrep_cp(promoter, rnap_site, rep_site, rnap_emat, rep_emat, \n",
    "               ep_wt, er_wt, P, R, M, N)\n",
    "n_seqs = len(df)\n",
    "mut_list = df['seq'].values\n",
    "mu_data = df['norm_ct_1']\n",
    "\n",
    "nbins = 2\n",
    "upper_bound = np.mean(mu_data)"
   ]
  },
  {
   "cell_type": "code",
   "execution_count": 48,
   "metadata": {},
   "outputs": [
    {
     "data": {
      "image/png": "[encoded data removed]",
      "text/plain": [
       "<Figure size 576x180 with 1 Axes>"
      ]
     },
     "metadata": {},
     "output_type": "display_data"
    }
   ],
   "source": [
    "plot_footprint(promoter, mut_list, mu_data, nbins, upper_bound,\n",
    "               outfile='../../figs/chemical_potential_M50.png')"
   ]
  },
  {
   "cell_type": "code",
   "execution_count": 17,
   "metadata": {},
   "outputs": [],
   "source": [
    "ep_wt, er_wt = -5, -15\n",
    "P = 4600\n",
    "R = 15\n",
    "M = 100\n",
    "N = len(genome)\n",
    "\n",
    "df = simrep_cp(promoter, rnap_site, rep_site, rnap_emat, rep_emat, \n",
    "               ep_wt, er_wt, P, R, M, N)\n",
    "n_seqs = len(df)\n",
    "mut_list = df['seq'].values\n",
    "mu_data = df['norm_ct_1']\n",
    "\n",
    "nbins = 2\n",
    "upper_bound = np.mean(mu_data)"
   ]
  },
  {
   "cell_type": "code",
   "execution_count": 18,
   "metadata": {},
   "outputs": [
    {
     "data": {
      "image/png": "[encoded data removed]",
      "text/plain": [
       "<Figure size 864x180 with 1 Axes>"
      ]
     },
     "metadata": {},
     "output_type": "display_data"
    }
   ],
   "source": [
    "plot_footprint(promoter, mut_list, mu_data, nbins, upper_bound)"
   ]
  }
 ],
 "metadata": {
  "kernelspec": {
   "display_name": "Python 3.10.4 ('env_thermo_seq')",
   "language": "python",
   "name": "python3"
  },
  "language_info": {
   "codemirror_mode": {
    "name": "ipython",
    "version": 3
   },
   "file_extension": ".py",
   "mimetype": "text/x-python",
   "name": "python",
   "nbconvert_exporter": "python",
   "pygments_lexer": "ipython3",
   "version": "3.10.4"
  },
  "orig_nbformat": 4,
  "vscode": {
   "interpreter": {
    "hash": "5e0c78d6696da6e3ddb4651dd94c59f5d0a59a4d4b8438d3476f738d0fde1b6d"
   }
  }
 },
 "nbformat": 4,
 "nbformat_minor": 2
}
