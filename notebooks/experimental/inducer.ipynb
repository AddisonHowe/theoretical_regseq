{
 "cells": [
  {
   "cell_type": "code",
   "execution_count": 1,
   "metadata": {},
   "outputs": [],
   "source": [
    "# processing\n",
    "import math\n",
    "import scipy as sp\n",
    "import numpy as np\n",
    "import pandas as pd\n",
    "from Bio import SeqIO\n",
    "\n",
    "# custom packages\n",
    "import tregs\n",
    "\n",
    "# visualization\n",
    "import matplotlib.pyplot as plt\n",
    "import seaborn as sns"
   ]
  },
  {
   "attachments": {},
   "cell_type": "markdown",
   "metadata": {},
   "source": [
    "### Loading input data"
   ]
  },
  {
   "cell_type": "code",
   "execution_count": 2,
   "metadata": {},
   "outputs": [],
   "source": [
    "_genome = []\n",
    "for record in SeqIO.parse(\"../../data/mg1655_genome.fasta\", \"fasta\"):\n",
    "    _genome.append(str(record.seq))\n",
    "genome = _genome[0]"
   ]
  },
  {
   "cell_type": "code",
   "execution_count": 3,
   "metadata": {},
   "outputs": [
    {
     "data": {
      "text/plain": [
       "'ACAGGTTTCCCGACTGGAAAGCGGGCAGTGAGCGCAACGCAATTAATGTGAGTTAGCTCACTCATTAGGCACCCCAGGCTTTACACTTTATGCTTCCGGCTCGTATGTTGTGTGGAATTGTGAGCGGATAACAATTTCACACAGGAAACAGCTATGACCA'"
      ]
     },
     "execution_count": 3,
     "metadata": {},
     "output_type": "execute_result"
    }
   ],
   "source": [
    "# Promoter\n",
    "rnap_site = 'CAGGCTTTACACTTTATGCTTCCGGCTCGTATGTTGTGTGG'\n",
    "\n",
    "# Operator sequence\n",
    "rep_site = 'AATTGTGAGCGGATAACAATT'\n",
    "\n",
    "## Find the transcription start site\n",
    "df = pd.read_csv('../../data/ecoli_gene_list.csv')\n",
    "lacZYA_TSS = int(df[(df.gene == 'lacZ') & (df.promoter == 'lacZp1')]['tss'].iloc[0])\n",
    "promoter = tregs.seq_utils.get_regulatory_region(genome, lacZYA_TSS, reverse=True)\n",
    "promoter"
   ]
  },
  {
   "cell_type": "code",
   "execution_count": 4,
   "metadata": {},
   "outputs": [],
   "source": [
    "# obtained from https://journals.plos.org/ploscompbiol/article/figure?id=10.1371/journal.pcbi.1002811.g002\n",
    "\n",
    "rnap_emat_raw = np.loadtxt('../../data/energy_matrices/RNAP_energy_matrix.txt')\n",
    "rnap_emat = tregs.simulate.fix_wt(rnap_emat_raw, rnap_site)"
   ]
  },
  {
   "cell_type": "code",
   "execution_count": 5,
   "metadata": {},
   "outputs": [],
   "source": [
    "O1_1027_raw = np.load('../../data/energy_matrices/lacThermoforTO1.npy')\n",
    "\n",
    "O1_1027_fixed = np.zeros(np.shape(O1_1027_raw))\n",
    "for i in range(3):\n",
    "    O1_1027_fixed[i] = tregs.simulate.fix_wt(O1_1027_raw[i], rep_site)\n",
    "\n",
    "rep_emat = np.mean(O1_1027_fixed, axis=0)"
   ]
  },
  {
   "attachments": {},
   "cell_type": "markdown",
   "metadata": {},
   "source": [
    "### Calculate $p_{\\mathrm{bound}}$"
   ]
  },
  {
   "cell_type": "code",
   "execution_count": 6,
   "metadata": {},
   "outputs": [],
   "source": [
    "def get_pactive(c, KA, KI, eAI):\n",
    "    z = np.zeros(4)\n",
    "    z[0] = 1\n",
    "    z[1] = c / KA\n",
    "    z[2] = np.exp(-eAI)\n",
    "    z[3] = c / KI\n",
    "    return (z[0] + z[1])**2 / ((z[0] + z[1])**2 + z[2] * (1 + z[3])**2)\n",
    "\n",
    "\n",
    "def simrep_pbound_with_inducer(p_seq, r_seq, n_NS, n_p, n_r,\n",
    "                               p_emat, r_emat, ep_wt, era_wt, eri_wt,\n",
    "                               c, KA, KI, eAI):\n",
    "\n",
    "    w_p = tregs.simulate.get_weight(p_seq, p_emat, e_wt=ep_wt)\n",
    "    w_ra = tregs.simulate.get_weight(r_seq, r_emat, e_wt=era_wt)\n",
    "    w_ri = tregs.simulate.get_weight(r_seq, r_emat, e_wt=eri_wt)\n",
    "    pactive = get_pactive(c, KA, KI, eAI)\n",
    "\n",
    "    z = np.zeros(4)\n",
    "    z[0] = 1\n",
    "    z[1] = n_p / n_NS * w_p\n",
    "    z[2] = pactive * n_r / n_NS * w_ra\n",
    "    z[3] = (1 - pactive) * n_r / n_NS * w_ri\n",
    "\n",
    "    return z[1] / np.sum(z)"
   ]
  },
  {
   "cell_type": "code",
   "execution_count": 7,
   "metadata": {},
   "outputs": [
    {
     "data": {
      "image/png": "[encoded data removed]",
      "text/plain": [
       "<Figure size 432x208.8 with 1 Axes>"
      ]
     },
     "metadata": {},
     "output_type": "display_data"
    }
   ],
   "source": [
    "n_NS = len(genome)\n",
    "n_p = 4600\n",
    "n_r = 10\n",
    "ep_wt = -5\n",
    "era_wt = -15\n",
    "eri_wt = -1\n",
    "c = 10**(-6)\n",
    "KA = 139 * 10**(-6)\n",
    "KI = 0.53 * 10**(-6)\n",
    "eAI = 4.5\n",
    "\n",
    "df = tregs.simulate.sim(promoter, simrep_pbound_with_inducer, [rnap_site, rep_site], \n",
    "                        *[n_NS, n_p, n_r, rnap_emat, rep_emat, ep_wt, era_wt, eri_wt, c, KA, KI, eAI])\n",
    "\n",
    "region_params = [(-38, -30, 'P', 'RNAP'), (-15, -5, 'P', 'RNAP'), (2, 17, 'R', 'LacI')]\n",
    "tregs.footprint.plot_footprint(promoter, df, region_params,\n",
    "                               x_lims=(-45, 25), fig_width=6,\n",
    "                               legend_xcoord=1.35,\n",
    "                               annotate_stn=False,\n",
    "                               outfile='../../manuscript/figures/plots/fig10/inducer_fp1.pdf')"
   ]
  },
  {
   "cell_type": "code",
   "execution_count": 8,
   "metadata": {},
   "outputs": [
    {
     "data": {
      "image/png": "[encoded data removed]",
      "text/plain": [
       "<Figure size 432x208.8 with 1 Axes>"
      ]
     },
     "metadata": {},
     "output_type": "display_data"
    }
   ],
   "source": [
    "n_NS = len(genome)\n",
    "n_p = 4600\n",
    "n_r1 = 10\n",
    "ep_wt = -5\n",
    "era_wt = -15\n",
    "eri_wt = -1\n",
    "c = 10**(-3)\n",
    "KA = 139 * 10**(-6)\n",
    "KI = 0.53 * 10**(-6)\n",
    "eAI = 4.5\n",
    "\n",
    "df = tregs.simulate.sim(promoter, simrep_pbound_with_inducer, [rnap_site, rep_site], \n",
    "                        *[n_NS, n_p, n_r, rnap_emat, rep_emat, ep_wt, era_wt, eri_wt, c, KA, KI, eAI])\n",
    "\n",
    "region_params = [(-38, -30, 'P', 'RNAP'), (-15, -5, 'P', 'RNAP'), (2, 17, 'R', 'LacI')]\n",
    "tregs.footprint.plot_footprint(promoter, df, region_params,\n",
    "                               x_lims=(-45, 25), fig_width=6,\n",
    "                               legend_xcoord=1.35,\n",
    "                               annotate_stn=False,\n",
    "                               outfile='../../manuscript/figures/plots/fig10/inducer_fp2.pdf')"
   ]
  },
  {
   "cell_type": "code",
   "execution_count": 9,
   "metadata": {},
   "outputs": [],
   "source": [
    "mutant_bank = []\n",
    "for i in range(10):\n",
    "    mutants = np.unique(tregs.wgregseq.mutations_rand(promoter,\n",
    "                                                rate=0.1,\n",
    "                                                num_mutants=5000,\n",
    "                                                number_fixed=True,\n",
    "                                                keep_wildtype=True))\n",
    "    mutant_bank.append(mutants)"
   ]
  },
  {
   "cell_type": "code",
   "execution_count": 10,
   "metadata": {},
   "outputs": [],
   "source": [
    "n_NS = len(genome)\n",
    "n_p = 4600\n",
    "n_r = 10\n",
    "ep_wt = -5\n",
    "era_wt = -15\n",
    "eri_wt = -1\n",
    "KA = 139 * 10**(-6)\n",
    "KI = 0.53 * 10**(-6)\n",
    "eAI = 4.5\n",
    "\n",
    "signal = []\n",
    "inducer_conc = []\n",
    "for i in np.arange(-7, -2, 0.2):\n",
    "    c = 10**i\n",
    "    inducer_conc.append(c)\n",
    "\n",
    "    tmp = []\n",
    "    for i in range(10):\n",
    "        df = tregs.simulate.sim(promoter, simrep_pbound_with_inducer, [rnap_site, rep_site], \n",
    "                            *[n_NS, n_p, n_r, rnap_emat, rep_emat, ep_wt, era_wt, eri_wt, c, KA, KI, eAI])\n",
    "\n",
    "        mut_list = df['seq'].values\n",
    "        mu_data = df['norm_ct_1']\n",
    "        upper_bound = np.mean(mu_data)\n",
    "        nbins = 2\n",
    "\n",
    "        footprint = tregs.footprint.get_info_footprint(mut_list, mu_data, promoter, nbins, upper_bound,\n",
    "                                                    pseudocount=10**(-6))\n",
    "        tmp.append(np.mean(footprint[(2+115):(17+116)]))\n",
    "    signal.append(np.mean(tmp))"
   ]
  },
  {
   "cell_type": "code",
   "execution_count": 18,
   "metadata": {},
   "outputs": [],
   "source": [
    "norm_inducer_conc = np.asarray(inducer_conc) / KA"
   ]
  },
  {
   "cell_type": "code",
   "execution_count": 19,
   "metadata": {},
   "outputs": [],
   "source": [
    "from scipy.optimize import curve_fit\n",
    "\n",
    "def sigmoid(x, a, b, c, d):\n",
    "    return a / (1. + np.exp(-c * (x - d))) + b\n",
    "\n",
    "p0 = [-max(signal), min(signal), 1, 1] # this is an mandatory initial guess\n",
    "\n",
    "popt, pcov = curve_fit(sigmoid, norm_inducer_conc, signal, p0, maxfev=10000)"
   ]
  },
  {
   "cell_type": "code",
   "execution_count": 34,
   "metadata": {},
   "outputs": [
    {
     "data": {
      "image/png": "[encoded data removed]",
      "text/plain": [
       "<Figure size 288x198 with 1 Axes>"
      ]
     },
     "metadata": {},
     "output_type": "display_data"
    }
   ],
   "source": [
    "# plot signal vs inducer concentration\n",
    "fig, ax = plt.subplots(figsize=(4, 2.75))\n",
    "ax.scatter(norm_inducer_conc, signal, color='k')\n",
    "ax.plot(norm_inducer_conc, sigmoid(norm_inducer_conc, *popt), color='grey')\n",
    "ax.set_xscale('log')\n",
    "ax.set_xticks([0.001, 0.01, 0.1, 1, 10])\n",
    "ax.set_xlabel('Inducer concentration / ' + r'$K_A$')\n",
    "ax.set_ylabel('Average mutual\\ninformation (bits)')\n",
    "plt.tight_layout()\n",
    "plt.savefig('../../manuscript/figures/plots/fig10/inducer.pdf', bbox_inches='tight')"
   ]
  },
  {
   "cell_type": "markdown",
   "metadata": {},
   "source": [
    "### Simple activation with induction"
   ]
  },
  {
   "cell_type": "code",
   "execution_count": 6,
   "metadata": {},
   "outputs": [],
   "source": [
    "def get_pactive(c, M_AL, M_AR, M_IL, M_IR, e_int_A, e_int_I, e_AI):\n",
    "    z = np.zeros(8)\n",
    "    z[0] = 1\n",
    "    z[1] = c / M_AL\n",
    "    z[2] = c / M_AR\n",
    "    z[3] = np.exp(-e_int_A) * z[1] * z[2]\n",
    "    z[4] = np.exp(- 2 * e_AI)\n",
    "    z[5] = z[4] * c / M_IL\n",
    "    z[6] = z[4] * c / M_IR\n",
    "    z[7] = z[4] * np.exp(-e_int_I) * (c / M_IL) * (c / M_IR)\n",
    "\n",
    "    return np.sum(z[:4]) / np.sum(z)"
   ]
  },
  {
   "cell_type": "code",
   "execution_count": 10,
   "metadata": {},
   "outputs": [],
   "source": [
    "def simact_pbound_with_inducer(p_seq, a_seq, n_NS, n_p, n_a,\n",
    "                               p_emat, a_emat,\n",
    "                               ep_wt, eaa_wt, eai_wt,\n",
    "                               c, M_AL, M_AR, M_IL, M_IR, e_int_A, e_int_I, e_AI):\n",
    "\n",
    "    w_p = tregs.simulate.get_weight(p_seq, p_emat, e_wt=ep_wt)\n",
    "    w_aa = tregs.simulate.get_weight(a_seq, a_emat, e_wt=eaa_wt)\n",
    "    w_ai = tregs.simulate.get_weight(a_seq, a_emat, e_wt=eai_wt)\n",
    "    pactive = get_pactive(c, M_AL, M_AR, M_IL, M_IR, e_int_A, e_int_I, e_AI)\n",
    "\n",
    "    z = np.zeros(6)\n",
    "    z[0] = 1\n",
    "    z[1] = n_p / n_NS * w_p\n",
    "    z[2] = pactive * n_a / n_NS * w_aa * w_p * np.exp(-e_int_A)\n",
    "    z[3] = (1 - pactive) * n_a / n_NS * w_ai * w_p * np.exp(-e_int_I)\n",
    "    z[4] = pactive * w_aa\n",
    "    z[5] = (1 - pactive) * w_ai\n",
    "\n",
    "    return (z[1] + z[2] + z[3]) / np.sum(z)"
   ]
  },
  {
   "cell_type": "code",
   "execution_count": 8,
   "metadata": {},
   "outputs": [],
   "source": [
    "# CRP binding site\n",
    "crp_site = 'ATTAATGTGAGTTAGCTCACTCATTA'"
   ]
  },
  {
   "cell_type": "code",
   "execution_count": 9,
   "metadata": {},
   "outputs": [],
   "source": [
    "crp_emat_raw = pd.read_table('../../data/energy_matrices/crp_tau_final_all_26.txt', delim_whitespace=True)\n",
    "crp_emat = crp_emat_raw[['par_A', 'par_C', 'par_G', 'par_T']].to_numpy().T * 1.62"
   ]
  },
  {
   "cell_type": "code",
   "execution_count": 13,
   "metadata": {},
   "outputs": [
    {
     "data": {
      "image/png": "[encoded data removed]",
      "text/plain": [
       "<Figure size 720x208.8 with 1 Axes>"
      ]
     },
     "metadata": {},
     "output_type": "display_data"
    }
   ],
   "source": [
    "# only increasing strength of activator-promoter binding\n",
    "\n",
    "n_NS = len(genome)\n",
    "n_p = 5000\n",
    "n_a = 50\n",
    "ep_wt = -3\n",
    "eaa_wt = -13\n",
    "eai_wt = -1\n",
    "e_int_A = -10\n",
    "e_int_I = 0\n",
    "e_AI = -3\n",
    "\n",
    "M_AL = 3 * 10**(-6)\n",
    "M_AR = 3 * 10**(-6)\n",
    "M_IL = 10**(-7)\n",
    "M_IR = 10**(-7)\n",
    "\n",
    "\n",
    "c = 10**(-7)\n",
    "df = tregs.simulate.sim(promoter, simact_pbound_with_inducer, [rnap_site, crp_site], \n",
    "                        *[n_NS, n_p, n_a, rnap_emat, crp_emat, ep_wt, eaa_wt, eai_wt,\n",
    "                          c, M_AL, M_AR, M_IL, M_IR, e_int_A, e_int_I, e_AI])\n",
    "\n",
    "region_params = [(-38, -30, 'P', 'RNAP'), (-15, -5, 'P', 'RNAP'), (-70, -52, 'A', 'CRP')]\n",
    "tregs.footprint.plot_footprint(promoter, df, region_params,\n",
    "                               annotate_stn=False)"
   ]
  },
  {
   "cell_type": "code",
   "execution_count": 22,
   "metadata": {},
   "outputs": [
    {
     "data": {
      "image/png": "[encoded data removed]",
      "text/plain": [
       "<Figure size 720x208.8 with 1 Axes>"
      ]
     },
     "metadata": {},
     "output_type": "display_data"
    }
   ],
   "source": [
    "c = 10**(-10)\n",
    "df = tregs.simulate.sim(promoter, simact_pbound_with_inducer, [rnap_site, crp_site], \n",
    "                        *[n_NS, n_p, n_a, rnap_emat, crp_emat, ep_wt, eaa_wt, eai_wt,\n",
    "                          c, M_AL, M_AR, M_IL, M_IR, e_int_A, e_int_I, e_AI])\n",
    "\n",
    "region_params = [(-38, -30, 'P', 'RNAP'), (-15, -5, 'P', 'RNAP'), (-70, -52, 'A', 'CRP')]\n",
    "tregs.footprint.plot_footprint(promoter, df, region_params,\n",
    "                               annotate_stn=False)"
   ]
  },
  {
   "cell_type": "code",
   "execution_count": 23,
   "metadata": {},
   "outputs": [],
   "source": [
    "signal = []\n",
    "inducer_conc = []\n",
    "for i in np.arange(-10, -2, 0.2):\n",
    "    c = 10**i\n",
    "    inducer_conc.append(c)\n",
    "\n",
    "    tmp = []\n",
    "    for i in range(1):\n",
    "        df = tregs.simulate.sim(promoter, simact_pbound_with_inducer, [rnap_site, crp_site], \n",
    "                        *[n_NS, n_p, n_a, rnap_emat, crp_emat, ep_wt, eaa_wt, eai_wt,\n",
    "                          c, M_AL, M_AR, M_IL, M_IR, e_int_A, e_int_I, e_AI])\n",
    "\n",
    "        mut_list = df['seq'].values\n",
    "        mu_data = df['norm_ct_1']\n",
    "        upper_bound = np.mean(mu_data)\n",
    "        nbins = 2\n",
    "\n",
    "        footprint = tregs.footprint.get_info_footprint(mut_list, mu_data, promoter, nbins, upper_bound,\n",
    "                                                    pseudocount=10**(-6))\n",
    "        tmp.append(np.mean(footprint[(-70+115):(-52+116)]))\n",
    "    signal.append(np.mean(tmp))"
   ]
  },
  {
   "cell_type": "code",
   "execution_count": 24,
   "metadata": {},
   "outputs": [],
   "source": [
    "norm_inducer_conc = np.asarray(inducer_conc) / M_AL"
   ]
  },
  {
   "cell_type": "code",
   "execution_count": 25,
   "metadata": {},
   "outputs": [
    {
     "name": "stderr",
     "output_type": "stream",
     "text": [
      "/var/folders/dq/785ln7hn5m1_bmycnj08bnmh0000gn/T/ipykernel_73192/2667675745.py:4: RuntimeWarning: overflow encountered in exp\n",
      "  return a / (1. + np.exp(-c * (x - d))) + b\n"
     ]
    }
   ],
   "source": [
    "from scipy.optimize import curve_fit\n",
    "\n",
    "def sigmoid(x, a, b, c, d):\n",
    "    return a / (1. + np.exp(-c * (x - d))) + b\n",
    "\n",
    "p0 = [-max(signal), min(signal), 1, 1] # this is an mandatory initial guess\n",
    "\n",
    "popt, pcov = curve_fit(sigmoid, norm_inducer_conc, signal, p0, maxfev=10000)"
   ]
  },
  {
   "cell_type": "code",
   "execution_count": 26,
   "metadata": {},
   "outputs": [
    {
     "data": {
      "image/png": "[encoded data removed]",
      "text/plain": [
       "<Figure size 288x198 with 1 Axes>"
      ]
     },
     "metadata": {},
     "output_type": "display_data"
    }
   ],
   "source": [
    "# plot signal vs inducer concentration\n",
    "fig, ax = plt.subplots(figsize=(4, 2.75))\n",
    "ax.scatter(inducer_conc, signal, color='k')\n",
    "#ax.plot(inducer_conc, sigmoid(norm_inducer_conc, *popt), color='grey')\n",
    "ax.set_xscale('log')\n",
    "#ax.set_xticks([0.001, 0.01, 0.1, 1, 10])\n",
    "ax.set_xlabel('Inducer concentration / ' + r'$K_A$')\n",
    "ax.set_ylabel('Average mutual\\ninformation (bits)')\n",
    "plt.tight_layout()\n",
    "#plt.savefig('../../manuscript/figures/plots/fig10/inducer.pdf', bbox_inches='tight')"
   ]
  },
  {
   "cell_type": "code",
   "execution_count": null,
   "metadata": {},
   "outputs": [],
   "source": []
  }
 ],
 "metadata": {
  "kernelspec": {
   "display_name": "theoretical_regseq",
   "language": "python",
   "name": "python3"
  },
  "language_info": {
   "codemirror_mode": {
    "name": "ipython",
    "version": 3
   },
   "file_extension": ".py",
   "mimetype": "text/x-python",
   "name": "python",
   "nbconvert_exporter": "python",
   "pygments_lexer": "ipython3",
   "version": "3.10.4"
  },
  "orig_nbformat": 4
 },
 "nbformat": 4,
 "nbformat_minor": 2
}
