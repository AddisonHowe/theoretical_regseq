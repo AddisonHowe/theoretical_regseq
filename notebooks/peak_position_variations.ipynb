{
 "cells": [
  {
   "cell_type": "code",
   "execution_count": 1,
   "metadata": {
    "collapsed": false
   },
   "outputs": [],
   "source": [
    "import math\n",
    "import numpy as np\n",
    "import pandas as pd\n",
    "from Bio import SeqIO\n",
    "\n",
    "# progress bar\n",
    "from tqdm import tqdm\n",
    "\n",
    "# custom packages\n",
    "import tregs\n",
    "\n",
    "# visualization\n",
    "import matplotlib.pyplot as plt\n",
    "import seaborn as sns"
   ]
  },
  {
   "attachments": {},
   "cell_type": "markdown",
   "metadata": {},
   "source": [
    "In this notebook, we explore the the level of noise in the information footprint that results from the so-called hitchhiking effect as well as how it scales as a function of library size. \n"
   ]
  },
  {
   "attachments": {},
   "cell_type": "markdown",
   "metadata": {},
   "source": [
    "## Plotting average signal and average noise as a function of library size"
   ]
  },
  {
   "cell_type": "code",
   "execution_count": 2,
   "metadata": {},
   "outputs": [],
   "source": [
    "## Loading WT promoter sequence\n",
    "\n",
    "# Promoter\n",
    "lacWT = 'CAGGCTTTACACTTTATGCTTCCGGCTCGTATGTTGTGTGG'\n",
    "\n",
    "# Operator sequences\n",
    "O1 = 'AATTGTGAGCGGATAACAATT'\n",
    "\n",
    "_genome = []\n",
    "for record in SeqIO.parse(\"../data/mg1655_genome.fasta\", \"fasta\"):\n",
    "    _genome.append(str(record.seq))\n",
    "genome = _genome[0]\n",
    "\n",
    "df = pd.read_csv('../data/ecoli_gene_list.csv')\n",
    "lacO1_TSS = int(df[(df.gene == 'lacZ') & (df.promoter == 'lacZp1')]['tss'].iloc[0])\n",
    "lacO1 = tregs.seq_utils.get_regulatory_region(genome, lacO1_TSS, reverse=True)"
   ]
  },
  {
   "cell_type": "code",
   "execution_count": 3,
   "metadata": {},
   "outputs": [],
   "source": [
    "## Loading and fixing the RNAP energy matrix\n",
    "rnap_emat_raw = np.loadtxt('../data/energy_matrices/RNAP_energy_matrix.txt')\n",
    "rnap_emat = tregs.simulate.fix_wt(rnap_emat_raw, lacWT)\n",
    "\n",
    "## Loading and fixing the lacI energy matrix\n",
    "O1_1027_raw = np.load('../data/energy_matrices/lacThermoforTO1.npy')\n",
    "\n",
    "O1_1027_fixed = np.zeros(np.shape(O1_1027_raw))\n",
    "for i in range(3):\n",
    "    O1_1027_fixed[i] = tregs.simulate.fix_wt(O1_1027_raw[i], O1)\n",
    "O1_emat = np.mean(O1_1027_fixed, axis=0)"
   ]
  },
  {
   "cell_type": "code",
   "execution_count": 4,
   "metadata": {},
   "outputs": [],
   "source": [
    "## specifying parameters\n",
    "n_NS = len(genome)\n",
    "n_p = 4600\n",
    "n_r = 10\n",
    "\n",
    "ep_wt = -5\n",
    "er_wt = -15\n",
    "\n",
    "nbins = 2\n",
    "upper_bound = 5"
   ]
  },
  {
   "cell_type": "code",
   "execution_count": 17,
   "metadata": {},
   "outputs": [],
   "source": [
    "def simulate(n_seqs, nbins, upper_bound):\n",
    "    df = tregs.simulate.simrep(lacO1, lacWT, O1, rnap_emat, O1_emat, \n",
    "                                ep_wt, er_wt, n_NS, n_p, n_r, num_mutants=n_seqs)\n",
    "    mut_list = df['seq'].values\n",
    "    mu_data = df['norm_ct_1']\n",
    "    footprint = tregs.footprint.get_info_footprint(mut_list, mu_data,\n",
    "                                                    lacO1, nbins, upper_bound)\n",
    "    return footprint\n",
    "\n",
    "\n",
    "from itertools import compress\n",
    "\n",
    "def combine_regions(regions):\n",
    "\n",
    "    regions = sorted(regions)\n",
    "    # sorting is necessary: the rest of the function does not work if list is not sorted\n",
    "\n",
    "    combined_regions = []\n",
    "    i = 0\n",
    "    while i < len(regions):\n",
    "        start = regions[i][0]\n",
    "        tmp_end = regions[i][1]\n",
    "        tmp_index = i\n",
    "        for j in range(i+1, len(regions)):\n",
    "            if regions[j][0] <= tmp_end:\n",
    "                tmp_end = regions[j][1]\n",
    "                tmp_index = j\n",
    "        combined_regions.append((start, tmp_end))\n",
    "        i = tmp_index + 1\n",
    "\n",
    "    return combined_regions\n",
    "\n",
    "\n",
    "def find_binding_sites(heights, smoothing_winsize, windowsize, stepsize,\n",
    "                       min_ratio=2):\n",
    "    cut = int((smoothing_winsize - 1) / 2)\n",
    "    avg_height = np.mean(heights)\n",
    "\n",
    "    position = 0\n",
    "    window_ratio = []\n",
    "    positions = []\n",
    "    while position <= (len(heights) - windowsize):\n",
    "        window = heights[position:(position + windowsize)]\n",
    "        window_avg = np.mean(window)\n",
    "        window_ratio.append(window_avg / avg_height)\n",
    "        positions.append((position - 115 + cut, position + windowsize - 115 + cut))\n",
    "        position += stepsize\n",
    "\n",
    "    peak_windows = list(compress(positions, np.asarray(window_ratio) >= min_ratio))\n",
    "    binding_sites = combine_regions(peak_windows)\n",
    "    return binding_sites"
   ]
  },
  {
   "cell_type": "code",
   "execution_count": 7,
   "metadata": {},
   "outputs": [
    {
     "name": "stdout",
     "output_type": "stream",
     "text": [
      "[(-38, -29), (-15, -4), (3, 11)]\n"
     ]
    },
    {
     "data": {
      "image/png": "[encoded data removed]",
      "text/plain": [
       "<Figure size 720x144 with 1 Axes>"
      ]
     },
     "metadata": {
      "needs_background": "light"
     },
     "output_type": "display_data"
    }
   ],
   "source": [
    "fig, ax = plt.subplots(figsize=(10,2))\n",
    "ax.set_ylabel('Information (bits)')\n",
    "ax.set_xlabel('position')\n",
    "\n",
    "windowsize = 3\n",
    "cut = int((windowsize - 1) / 2)\n",
    "x = np.arange(-115 + cut, 45 - cut)\n",
    "nbins = 2\n",
    "upper_bound = 10\n",
    "n_seqs = 10000\n",
    "footprint = simulate(n_seqs, nbins, upper_bound)\n",
    "\n",
    "binding_sites = find_binding_sites(footprint, smoothing_winsize=windowsize, windowsize=2, stepsize=1, min_ratio=2)\n",
    "print(binding_sites)\n",
    "for binding_site in binding_sites:\n",
    "        ax.axvspan(binding_site[0], binding_site[1], alpha=0.7, color='lightgray')\n",
    "ax.bar(x, footprint, edgecolor=None)\n",
    "\n",
    "plt.show()"
   ]
  },
  {
   "cell_type": "code",
   "execution_count": 9,
   "metadata": {},
   "outputs": [
    {
     "name": "stdout",
     "output_type": "stream",
     "text": [
      "[(-38, -29), (-15, -4), (2, 12)]\n"
     ]
    },
    {
     "data": {
      "image/png": "[encoded data removed]",
      "text/plain": [
       "<Figure size 720x144 with 1 Axes>"
      ]
     },
     "metadata": {
      "needs_background": "light"
     },
     "output_type": "display_data"
    }
   ],
   "source": [
    "fig, ax = plt.subplots(figsize=(10,2))\n",
    "ax.set_ylabel('Information (bits)')\n",
    "ax.set_xlabel('position')\n",
    "\n",
    "windowsize = 3\n",
    "cut = int((windowsize - 1) / 2)\n",
    "x = np.arange(-115 + cut, 45 - cut)\n",
    "nbins = 2\n",
    "upper_bound = 10\n",
    "n_seqs = 10000\n",
    "footprint = simulate(n_seqs, nbins, upper_bound)\n",
    "\n",
    "binding_sites = find_binding_sites(footprint, smoothing_winsize=windowsize, windowsize=2, stepsize=1, min_ratio=2)\n",
    "print(binding_sites)\n",
    "for binding_site in binding_sites:\n",
    "        ax.axvspan(binding_site[0], binding_site[1], alpha=0.7, color='lightgray')\n",
    "ax.bar(x, footprint, edgecolor=None)\n",
    "\n",
    "plt.show()"
   ]
  },
  {
   "cell_type": "code",
   "execution_count": 18,
   "metadata": {},
   "outputs": [
    {
     "name": "stdout",
     "output_type": "stream",
     "text": [
      "[(-37, -29), (-15, -5), (3, 12)]\n"
     ]
    },
    {
     "data": {
      "image/png": "[encoded data removed]",
      "text/plain": [
       "<Figure size 720x144 with 1 Axes>"
      ]
     },
     "metadata": {
      "needs_background": "light"
     },
     "output_type": "display_data"
    }
   ],
   "source": [
    "fig, ax = plt.subplots(figsize=(10,2))\n",
    "ax.set_ylabel('Information (bits)')\n",
    "ax.set_xlabel('position')\n",
    "\n",
    "windowsize = 3\n",
    "cut = int((windowsize - 1) / 2)\n",
    "x = np.arange(-115 + cut, 45 - cut)\n",
    "nbins = 2\n",
    "upper_bound = 10\n",
    "n_seqs = 10000\n",
    "footprint = simulate(n_seqs, nbins, upper_bound)\n",
    "\n",
    "binding_sites = find_binding_sites(footprint, smoothing_winsize=windowsize, windowsize=1, stepsize=1, min_ratio=2)\n",
    "print(binding_sites)\n",
    "for binding_site in binding_sites:\n",
    "        ax.axvspan(binding_site[0], binding_site[1], alpha=0.7, color='lightgray')\n",
    "ax.bar(x, footprint, edgecolor=None)\n",
    "\n",
    "plt.show()"
   ]
  },
  {
   "cell_type": "code",
   "execution_count": 19,
   "metadata": {},
   "outputs": [
    {
     "data": {
      "text/plain": [
       "array([[ 77,  85],\n",
       "       [ 99, 109],\n",
       "       [117, 126]])"
      ]
     },
     "execution_count": 19,
     "metadata": {},
     "output_type": "execute_result"
    }
   ],
   "source": [
    "binding_sites = np.asarray(binding_sites) + 114\n",
    "binding_sites"
   ]
  },
  {
   "cell_type": "code",
   "execution_count": 21,
   "metadata": {},
   "outputs": [
    {
     "data": {
      "text/plain": [
       "array([0.00701361, 0.0107502 , 0.01085639, 0.00890688, 0.00896505,\n",
       "       0.01215896, 0.00819306, 0.00458634])"
      ]
     },
     "execution_count": 21,
     "metadata": {},
     "output_type": "execute_result"
    }
   ],
   "source": [
    "footprint[77:85]"
   ]
  },
  {
   "cell_type": "code",
   "execution_count": 24,
   "metadata": {},
   "outputs": [
    {
     "data": {
      "text/plain": [
       "array([9.55738522e-04, 6.10651556e-04, 1.42922169e-03, 1.66270417e-03,\n",
       "       1.68635024e-03, 7.27524442e-04, 5.41710336e-04, 3.40251038e-04,\n",
       "       2.47241469e-04, 5.61189020e-05, 6.22301633e-05, 2.67082906e-04,\n",
       "       7.28944169e-04, 9.73588159e-04, 6.35871007e-03, 6.35825468e-03,\n",
       "       1.45178024e-02, 2.17592935e-02, 2.38807314e-02, 1.59682120e-02,\n",
       "       5.63096029e-03, 1.49061879e-02, 1.49405709e-02, 1.27150203e-02,\n",
       "       9.54727086e-04, 5.22779664e-04, 3.06742234e-04, 2.37527178e-04,\n",
       "       1.82294110e-04, 2.19190735e-04, 2.41796916e-04, 1.48539150e-03,\n",
       "       4.77629502e-03, 6.03867473e-03, 7.40221306e-03, 6.91834095e-03,\n",
       "       6.76424719e-03, 5.92456214e-03, 6.58813637e-03, 5.51179865e-03,\n",
       "       4.65581717e-03, 1.85378173e-03, 2.05723250e-03, 1.40627227e-03,\n",
       "       1.23944195e-03, 1.78244257e-03, 1.47695679e-03, 9.75065910e-04,\n",
       "       1.55496141e-04, 1.84792680e-04, 5.99954923e-05, 9.75110151e-05,\n",
       "       6.83701306e-05, 6.94215507e-05, 8.26120621e-06, 4.49914418e-05,\n",
       "       7.31500407e-05, 1.12664493e-04, 1.26805303e-04, 1.05207909e-04,\n",
       "       7.51089300e-05, 2.45315625e-05, 1.00611334e-04, 9.88978978e-05,\n",
       "       9.85798284e-05, 3.28121987e-05, 2.95870433e-05, 5.16973701e-05,\n",
       "       3.57665972e-05, 5.91090485e-05, 7.42478250e-05, 6.83938188e-05,\n",
       "       5.39252709e-05])"
      ]
     },
     "execution_count": 24,
     "metadata": {},
     "output_type": "execute_result"
    }
   ],
   "source": [
    "footprint[85:]"
   ]
  },
  {
   "cell_type": "code",
   "execution_count": null,
   "metadata": {},
   "outputs": [],
   "source": []
  }
 ],
 "metadata": {
  "kernelspec": {
   "display_name": "theoretical_regseq",
   "language": "python",
   "name": "python3"
  },
  "language_info": {
   "codemirror_mode": {
    "name": "ipython",
    "version": 3
   },
   "file_extension": ".py",
   "mimetype": "text/x-python",
   "name": "python",
   "nbconvert_exporter": "python",
   "pygments_lexer": "ipython3",
   "version": "3.10.4"
  },
  "vscode": {
   "interpreter": {
    "hash": "b5793fdbd013b36b2bc0f38e105e8917934d5be643f8da82bca1fa4652d4ea09"
   }
  }
 },
 "nbformat": 4,
 "nbformat_minor": 2
}
