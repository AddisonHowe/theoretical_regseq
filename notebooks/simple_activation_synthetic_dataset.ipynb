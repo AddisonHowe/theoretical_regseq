{
 "cells": [
  {
   "cell_type": "code",
   "execution_count": 1,
   "metadata": {
    "collapsed": false
   },
   "outputs": [],
   "source": [
    "import random, math\n",
    "import numpy as np\n",
    "import pandas as pd\n",
    "from Bio import SeqIO\n",
    "\n",
    "# custom packages\n",
    "import wgregseq\n",
    "\n",
    "import sys\n",
    "sys.path.insert(1, '../scripts')\n",
    "import simulate_seq as ss\n",
    "import footprint as fp\n",
    "import footprint_to_sites as f2s\n",
    "\n",
    "# visualization\n",
    "import matplotlib.pyplot as plt\n",
    "import seaborn as sns"
   ]
  },
  {
   "cell_type": "markdown",
   "metadata": {},
   "source": [
    "## Computing p_bound for simple activation"
   ]
  },
  {
   "cell_type": "code",
   "execution_count": 2,
   "metadata": {},
   "outputs": [],
   "source": [
    "def simact_pbound(e_ap, n_p, n_a, n_NS):\n",
    "    \n",
    "    a_weight = n_a / n_NS * np.exp(13.12)\n",
    "    _f_reg = 1 + a_weight\n",
    "    f_reg = (1 + a_weight * np.exp(- e_ap)) / _f_reg\n",
    "    _pbound = 1 + n_NS / (n_p * f_reg) * np.exp(5.3)\n",
    "    pbound = 1 / _pbound\n",
    "    return pbound"
   ]
  },
  {
   "cell_type": "code",
   "execution_count": 3,
   "metadata": {},
   "outputs": [],
   "source": [
    "for record in SeqIO.parse(\"../../data/mg1655_genome.fasta\", \"fasta\"):\n",
    "    n_NS = len(record.seq)"
   ]
  },
  {
   "cell_type": "code",
   "execution_count": 4,
   "metadata": {},
   "outputs": [],
   "source": [
    "n_a = np.arange(0, 100)\n",
    "pbound3 = []\n",
    "pbound4 = []\n",
    "pbound5 = []\n",
    "for i in n_a:\n",
    "    pbound3.append(simact_pbound(-3, 500, i, n_NS))\n",
    "    pbound4.append(simact_pbound(-4, 500, i, n_NS))\n",
    "    pbound5.append(simact_pbound(-5, 500, i, n_NS))"
   ]
  },
  {
   "cell_type": "code",
   "execution_count": 5,
   "metadata": {},
   "outputs": [
    {
     "data": {
      "image/png": "[encoded data removed]",
      "text/plain": [
       "<Figure size 216x216 with 1 Axes>"
      ]
     },
     "metadata": {
      "needs_background": "light"
     },
     "output_type": "display_data"
    }
   ],
   "source": [
    "fig, ax = plt.subplots(figsize=(3,3))\n",
    "\n",
    "colors = sns.color_palette(\"hls\", 3)\n",
    "\n",
    "ax.plot(n_a, pbound3, color=colors[0])\n",
    "ax.plot(n_a, pbound4, color=colors[1])\n",
    "ax.plot(n_a, pbound5, color=colors[2])\n",
    "ax.set_xlabel('Activator copy number', fontsize=12)\n",
    "ax.set_ylabel('pbound', fontsize=12)\n",
    "ax.legend(['$-3 k_BT$', '$-4 k_BT$', '$-5 k_BT$'],\n",
    "          title=r'$\\varepsilon_{ap}$', fontsize=12,\n",
    "          bbox_to_anchor=(1.05, 0.8), frameon=False)\n",
    "plt.savefig('./plots/simact.png', dpi=300, bbox_inches='tight')\n",
    "plt.show()"
   ]
  },
  {
   "cell_type": "markdown",
   "metadata": {},
   "source": [
    "Here we use groSL as a case study for simple activation"
   ]
  },
  {
   "cell_type": "markdown",
   "metadata": {},
   "source": [
    "## Identify binding sites"
   ]
  },
  {
   "cell_type": "code",
   "execution_count": 5,
   "metadata": {},
   "outputs": [],
   "source": [
    "df = pd.read_csv('~/rpgroup/RegSeq/data/information_footprints/groSLheatdatasetinfofootprint.txt', delim_whitespace=True)"
   ]
  },
  {
   "cell_type": "code",
   "execution_count": 6,
   "metadata": {},
   "outputs": [
    {
     "data": {
      "text/plain": [
       "[(76, 82), (96, 105)]"
      ]
     },
     "execution_count": 6,
     "metadata": {},
     "output_type": "execute_result"
    }
   ],
   "source": [
    "raw_info = df['info']\n",
    "\n",
    "bsites = f2s.find_binding_sites(raw_info)\n",
    "bsites"
   ]
  },
  {
   "cell_type": "code",
   "execution_count": 8,
   "metadata": {},
   "outputs": [
    {
     "data": {
      "image/png": "[encoded data removed]",
      "text/plain": [
       "<Figure size 864x180 with 1 Axes>"
      ]
     },
     "metadata": {
      "needs_background": "light"
     },
     "output_type": "display_data"
    }
   ],
   "source": [
    "fig, ax = plt.subplots(figsize=(12, 2.5))\n",
    "\n",
    "ax.bar(np.arange(-115, 45), df['info'])\n",
    "ax.set_ylabel('Information (bits)')\n",
    "ax.set_xlabel('Position')\n",
    "ax.axhline(0, color='black', linewidth=0.5)\n",
    "for i in [76, 82, 96, 105]:\n",
    "    ax.axvline(i-115, color='red', linewidth=0.5)\n",
    "ax.set_xlim(-115, 45)\n",
    "plt.show()"
   ]
  },
  {
   "cell_type": "markdown",
   "metadata": {},
   "source": [
    "## Identify and annotate regulatory region"
   ]
  },
  {
   "cell_type": "code",
   "execution_count": 7,
   "metadata": {},
   "outputs": [],
   "source": [
    "_genome = []\n",
    "for record in SeqIO.parse(\"../../data/mg1655_genome.fasta\", \"fasta\"):\n",
    "    _genome.append(str(record.seq))\n",
    "genome = _genome[0]"
   ]
  },
  {
   "cell_type": "code",
   "execution_count": 8,
   "metadata": {},
   "outputs": [
    {
     "data": {
      "text/html": [
       "<div>\n",
       "<style scoped>\n",
       "    .dataframe tbody tr th:only-of-type {\n",
       "        vertical-align: middle;\n",
       "    }\n",
       "\n",
       "    .dataframe tbody tr th {\n",
       "        vertical-align: top;\n",
       "    }\n",
       "\n",
       "    .dataframe thead th {\n",
       "        text-align: right;\n",
       "    }\n",
       "</style>\n",
       "<table border=\"1\" class=\"dataframe\">\n",
       "  <thead>\n",
       "    <tr style=\"text-align: right;\">\n",
       "      <th></th>\n",
       "      <th>gene</th>\n",
       "      <th>promoter</th>\n",
       "      <th>gene_position</th>\n",
       "      <th>direction</th>\n",
       "      <th>tss</th>\n",
       "      <th>evidence</th>\n",
       "    </tr>\n",
       "  </thead>\n",
       "  <tbody>\n",
       "    <tr>\n",
       "      <th>1865</th>\n",
       "      <td>groS</td>\n",
       "      <td>groSp</td>\n",
       "      <td>4370688.0</td>\n",
       "      <td>+</td>\n",
       "      <td>4370616.0</td>\n",
       "      <td>[\"COMP\", \"COMP\", \"COMP\", \"COMP\", \"EXP\", \"EXP\",...</td>\n",
       "    </tr>\n",
       "    <tr>\n",
       "      <th>1867</th>\n",
       "      <td>groS</td>\n",
       "      <td>groSp2</td>\n",
       "      <td>4370688.0</td>\n",
       "      <td>+</td>\n",
       "      <td>4370616.0</td>\n",
       "      <td>[\"COMP\", \"COMP\", \"COMP\", \"COMP\", \"EXP\", \"EXP\",...</td>\n",
       "    </tr>\n",
       "  </tbody>\n",
       "</table>\n",
       "</div>"
      ],
      "text/plain": [
       "      gene promoter  gene_position direction        tss  \\\n",
       "1865  groS    groSp      4370688.0         +  4370616.0   \n",
       "1867  groS   groSp2      4370688.0         +  4370616.0   \n",
       "\n",
       "                                               evidence  \n",
       "1865  [\"COMP\", \"COMP\", \"COMP\", \"COMP\", \"EXP\", \"EXP\",...  \n",
       "1867  [\"COMP\", \"COMP\", \"COMP\", \"COMP\", \"EXP\", \"EXP\",...  "
      ]
     },
     "execution_count": 8,
     "metadata": {},
     "output_type": "execute_result"
    }
   ],
   "source": [
    "df = pd.read_csv('../../data/ecoli_gene_list.csv')\n",
    "df[df.gene == 'groS']"
   ]
  },
  {
   "cell_type": "code",
   "execution_count": 9,
   "metadata": {},
   "outputs": [
    {
     "data": {
      "text/plain": [
       "4370616"
      ]
     },
     "execution_count": 9,
     "metadata": {},
     "output_type": "execute_result"
    }
   ],
   "source": [
    "\n",
    "groSL_TSS = int(df[(df.gene == 'groS') & (df.promoter == 'groSp')]['tss'].iloc[0])\n",
    "groSL_TSS"
   ]
  },
  {
   "cell_type": "code",
   "execution_count": 10,
   "metadata": {},
   "outputs": [
    {
     "data": {
      "text/plain": [
       "'AAATTGCGATGAAATGTGAGGTGAATCAGGGTTTTCACCCGATTTTGTGCTGATCAGAATTTTTTTTCTTTTTCCCCCTTGAAGGGGCGAAGCCTCATCCCCATTTCTCTGGTCACCAGCCGGGAAACCACGTAAGCTCCGGCGTCACCCATAACAGATA'"
      ]
     },
     "execution_count": 10,
     "metadata": {},
     "output_type": "execute_result"
    }
   ],
   "source": [
    "groSL = ss.get_regulatory_region(genome, groSL_TSS)\n",
    "groSL"
   ]
  },
  {
   "cell_type": "markdown",
   "metadata": {},
   "source": [
    "## Load energy matrices"
   ]
  },
  {
   "cell_type": "code",
   "execution_count": 11,
   "metadata": {},
   "outputs": [],
   "source": [
    "# Import full energy matrix\n",
    "\n",
    "df_emat = pd.read_csv('~/rpgroup/regseq_all_matrices/groSLheatdataset_alldone_with_largeMCMC195', delim_whitespace=True)\n",
    "emat = df_emat[['val_A', 'val_C', 'val_G', 'val_T']][:160].to_numpy().T"
   ]
  },
  {
   "cell_type": "code",
   "execution_count": 12,
   "metadata": {},
   "outputs": [],
   "source": [
    "act_start, act_end = bsites[0]\n",
    "rnap_start, rnap_end = bsites[1]"
   ]
  },
  {
   "cell_type": "code",
   "execution_count": 13,
   "metadata": {},
   "outputs": [
    {
     "data": {
      "text/plain": [
       "'CCTTGAA'"
      ]
     },
     "execution_count": 13,
     "metadata": {},
     "output_type": "execute_result"
    }
   ],
   "source": [
    "groSL[76:83]"
   ]
  },
  {
   "cell_type": "code",
   "execution_count": 14,
   "metadata": {},
   "outputs": [
    {
     "data": {
      "image/png": "[encoded data removed]",
      "text/plain": [
       "<Figure size 360x108 with 2 Axes>"
      ]
     },
     "metadata": {
      "needs_background": "light"
     },
     "output_type": "display_data"
    }
   ],
   "source": [
    "div_colors = sns.diverging_palette(16, 258, s=56, l=51, n=15, sep=2, center='light', as_cmap=True)\n",
    "\n",
    "fig, ax = plt.subplots(figsize=(5, 1.5))\n",
    "a_emat = emat[:, 76:83]\n",
    "sns.heatmap(a_emat, cmap=div_colors, ax=ax, vmin=-.5, vmax=.5)\n",
    "ax.set_yticklabels(['A', 'C', 'G', 'T'], rotation=360)\n",
    "plt.show()"
   ]
  },
  {
   "cell_type": "code",
   "execution_count": 15,
   "metadata": {},
   "outputs": [
    {
     "data": {
      "text/plain": [
       "'ATCCCCATTT'"
      ]
     },
     "execution_count": 15,
     "metadata": {},
     "output_type": "execute_result"
    }
   ],
   "source": [
    "groSL[96:106]"
   ]
  },
  {
   "cell_type": "code",
   "execution_count": 16,
   "metadata": {},
   "outputs": [
    {
     "data": {
      "image/png": "[encoded data removed]",
      "text/plain": [
       "<Figure size 360x108 with 2 Axes>"
      ]
     },
     "metadata": {
      "needs_background": "light"
     },
     "output_type": "display_data"
    }
   ],
   "source": [
    "fig, ax = plt.subplots(figsize=(5, 1.5))\n",
    "p_emat = emat[:, 96:106]\n",
    "sns.heatmap(p_emat, cmap=div_colors, ax=ax, vmin=-.5, vmax=.5)\n",
    "ax.set_yticklabels(['A', 'C', 'G', 'T'], rotation=360)\n",
    "plt.show()"
   ]
  },
  {
   "cell_type": "markdown",
   "metadata": {},
   "source": [
    "## Generate mutated sequences"
   ]
  },
  {
   "cell_type": "code",
   "execution_count": 17,
   "metadata": {},
   "outputs": [],
   "source": [
    "groSL_mutants = np.unique(wgregseq.mutations_rand(groSL, rate=0.1, num_mutants=100000, number_fixed=True))"
   ]
  },
  {
   "cell_type": "code",
   "execution_count": 18,
   "metadata": {},
   "outputs": [],
   "source": [
    "n_p = 1500\n",
    "n_a = 50\n",
    "e_ap = -20"
   ]
  },
  {
   "cell_type": "code",
   "execution_count": 19,
   "metadata": {},
   "outputs": [],
   "source": [
    "l_tr = []\n",
    "for mut in groSL_mutants:\n",
    "    rv = {}\n",
    "    rv['seq'] = mut\n",
    "    rnap_mut = mut[rnap_start:rnap_end].upper()\n",
    "    act_mut = mut[act_start:act_end].upper()\n",
    "    rv['pbound'] = ss.simact_pbound(rnap_mut, act_mut, -p_emat, -a_emat, e_ap, n_p, n_a, n_NS)\n",
    "    l_tr.append(rv)"
   ]
  },
  {
   "cell_type": "code",
   "execution_count": 20,
   "metadata": {},
   "outputs": [
    {
     "data": {
      "text/html": [
       "<div>\n",
       "<style scoped>\n",
       "    .dataframe tbody tr th:only-of-type {\n",
       "        vertical-align: middle;\n",
       "    }\n",
       "\n",
       "    .dataframe tbody tr th {\n",
       "        vertical-align: top;\n",
       "    }\n",
       "\n",
       "    .dataframe thead th {\n",
       "        text-align: right;\n",
       "    }\n",
       "</style>\n",
       "<table border=\"1\" class=\"dataframe\">\n",
       "  <thead>\n",
       "    <tr style=\"text-align: right;\">\n",
       "      <th></th>\n",
       "      <th>seq</th>\n",
       "      <th>pbound</th>\n",
       "    </tr>\n",
       "  </thead>\n",
       "  <tbody>\n",
       "    <tr>\n",
       "      <th>0</th>\n",
       "      <td>AAATTGCGATGAAATGTGAGGTGAATCAGGGTTTTCACCCGATTTT...</td>\n",
       "      <td>0.854657</td>\n",
       "    </tr>\n",
       "    <tr>\n",
       "      <th>1</th>\n",
       "      <td>AAATTGCGATGAAATGTGAGGTGAATCAGGGTTTTCACCCGATTTT...</td>\n",
       "      <td>0.801324</td>\n",
       "    </tr>\n",
       "    <tr>\n",
       "      <th>2</th>\n",
       "      <td>AAATTGCGATGAAATGTGAGGTGAATCAGGGTTTTCACCCGATTTT...</td>\n",
       "      <td>0.820647</td>\n",
       "    </tr>\n",
       "    <tr>\n",
       "      <th>3</th>\n",
       "      <td>AAATTGCGATGAAATGTGAGGTGAATCAGGGTTTTCACCCGATTTT...</td>\n",
       "      <td>0.847487</td>\n",
       "    </tr>\n",
       "    <tr>\n",
       "      <th>4</th>\n",
       "      <td>AAATTGCGATGAAATGTGAGGTGAATCAGGGTTTTCACCCGATTTT...</td>\n",
       "      <td>0.809516</td>\n",
       "    </tr>\n",
       "  </tbody>\n",
       "</table>\n",
       "</div>"
      ],
      "text/plain": [
       "                                                 seq    pbound\n",
       "0  AAATTGCGATGAAATGTGAGGTGAATCAGGGTTTTCACCCGATTTT...  0.854657\n",
       "1  AAATTGCGATGAAATGTGAGGTGAATCAGGGTTTTCACCCGATTTT...  0.801324\n",
       "2  AAATTGCGATGAAATGTGAGGTGAATCAGGGTTTTCACCCGATTTT...  0.820647\n",
       "3  AAATTGCGATGAAATGTGAGGTGAATCAGGGTTTTCACCCGATTTT...  0.847487\n",
       "4  AAATTGCGATGAAATGTGAGGTGAATCAGGGTTTTCACCCGATTTT...  0.809516"
      ]
     },
     "execution_count": 20,
     "metadata": {},
     "output_type": "execute_result"
    }
   ],
   "source": [
    "df_tr = pd.DataFrame.from_records(l_tr)\n",
    "df_tr.head()"
   ]
  },
  {
   "cell_type": "markdown",
   "metadata": {},
   "source": [
    "## Generate sequence counts using exponential distribution"
   ]
  },
  {
   "cell_type": "code",
   "execution_count": 21,
   "metadata": {},
   "outputs": [],
   "source": [
    "dna_cnt = np.random.exponential(1, size=len(df_tr)) * 10"
   ]
  },
  {
   "cell_type": "code",
   "execution_count": 22,
   "metadata": {},
   "outputs": [],
   "source": [
    "dna_cnt_up = []\n",
    "for cnt in dna_cnt:\n",
    "    dna_cnt_up.append(math.ceil(cnt))"
   ]
  },
  {
   "cell_type": "code",
   "execution_count": 23,
   "metadata": {},
   "outputs": [],
   "source": [
    "df_tr['ct_0'] = dna_cnt_up\n",
    "df_tr['ct_1'] = df_tr['ct_0'] * df_tr['pbound']\n",
    "df_tr['ct_1'] = df_tr['ct_1'].astype(int)\n",
    "df_tr['ct'] = df_tr['ct_0'] + df_tr['ct_1']"
   ]
  },
  {
   "cell_type": "code",
   "execution_count": 24,
   "metadata": {},
   "outputs": [],
   "source": [
    "df_tr['ct'] = df_tr['ct'].astype(float)\n",
    "df_tr['ct_0'] = df_tr['ct_0'].astype(float)\n",
    "df_tr['ct_1'] = df_tr['ct_1'].astype(float)"
   ]
  },
  {
   "cell_type": "code",
   "execution_count": 25,
   "metadata": {},
   "outputs": [
    {
     "data": {
      "text/html": [
       "<div>\n",
       "<style scoped>\n",
       "    .dataframe tbody tr th:only-of-type {\n",
       "        vertical-align: middle;\n",
       "    }\n",
       "\n",
       "    .dataframe tbody tr th {\n",
       "        vertical-align: top;\n",
       "    }\n",
       "\n",
       "    .dataframe thead th {\n",
       "        text-align: right;\n",
       "    }\n",
       "</style>\n",
       "<table border=\"1\" class=\"dataframe\">\n",
       "  <thead>\n",
       "    <tr style=\"text-align: right;\">\n",
       "      <th></th>\n",
       "      <th>seq</th>\n",
       "      <th>pbound</th>\n",
       "      <th>ct_0</th>\n",
       "      <th>ct_1</th>\n",
       "      <th>ct</th>\n",
       "    </tr>\n",
       "  </thead>\n",
       "  <tbody>\n",
       "    <tr>\n",
       "      <th>0</th>\n",
       "      <td>AAATTGCGATGAAATGTGAGGTGAATCAGGGTTTTCACCCGATTTT...</td>\n",
       "      <td>0.854657</td>\n",
       "      <td>2.0</td>\n",
       "      <td>1.0</td>\n",
       "      <td>3.0</td>\n",
       "    </tr>\n",
       "    <tr>\n",
       "      <th>1</th>\n",
       "      <td>AAATTGCGATGAAATGTGAGGTGAATCAGGGTTTTCACCCGATTTT...</td>\n",
       "      <td>0.801324</td>\n",
       "      <td>3.0</td>\n",
       "      <td>2.0</td>\n",
       "      <td>5.0</td>\n",
       "    </tr>\n",
       "    <tr>\n",
       "      <th>2</th>\n",
       "      <td>AAATTGCGATGAAATGTGAGGTGAATCAGGGTTTTCACCCGATTTT...</td>\n",
       "      <td>0.820647</td>\n",
       "      <td>7.0</td>\n",
       "      <td>5.0</td>\n",
       "      <td>12.0</td>\n",
       "    </tr>\n",
       "    <tr>\n",
       "      <th>3</th>\n",
       "      <td>AAATTGCGATGAAATGTGAGGTGAATCAGGGTTTTCACCCGATTTT...</td>\n",
       "      <td>0.847487</td>\n",
       "      <td>2.0</td>\n",
       "      <td>1.0</td>\n",
       "      <td>3.0</td>\n",
       "    </tr>\n",
       "    <tr>\n",
       "      <th>4</th>\n",
       "      <td>AAATTGCGATGAAATGTGAGGTGAATCAGGGTTTTCACCCGATTTT...</td>\n",
       "      <td>0.809516</td>\n",
       "      <td>15.0</td>\n",
       "      <td>12.0</td>\n",
       "      <td>27.0</td>\n",
       "    </tr>\n",
       "  </tbody>\n",
       "</table>\n",
       "</div>"
      ],
      "text/plain": [
       "                                                 seq    pbound  ct_0  ct_1  \\\n",
       "0  AAATTGCGATGAAATGTGAGGTGAATCAGGGTTTTCACCCGATTTT...  0.854657   2.0   1.0   \n",
       "1  AAATTGCGATGAAATGTGAGGTGAATCAGGGTTTTCACCCGATTTT...  0.801324   3.0   2.0   \n",
       "2  AAATTGCGATGAAATGTGAGGTGAATCAGGGTTTTCACCCGATTTT...  0.820647   7.0   5.0   \n",
       "3  AAATTGCGATGAAATGTGAGGTGAATCAGGGTTTTCACCCGATTTT...  0.847487   2.0   1.0   \n",
       "4  AAATTGCGATGAAATGTGAGGTGAATCAGGGTTTTCACCCGATTTT...  0.809516  15.0  12.0   \n",
       "\n",
       "     ct  \n",
       "0   3.0  \n",
       "1   5.0  \n",
       "2  12.0  \n",
       "3   3.0  \n",
       "4  27.0  "
      ]
     },
     "execution_count": 25,
     "metadata": {},
     "output_type": "execute_result"
    }
   ],
   "source": [
    "df_tr.head()"
   ]
  },
  {
   "cell_type": "code",
   "execution_count": 26,
   "metadata": {},
   "outputs": [],
   "source": [
    "df_tr.to_csv('../../data/synthetic_datasets/groSL_synthetic_dataset.csv', index=False)"
   ]
  },
  {
   "cell_type": "markdown",
   "metadata": {},
   "source": [
    "## Information footprint"
   ]
  },
  {
   "cell_type": "code",
   "execution_count": 27,
   "metadata": {},
   "outputs": [
    {
     "data": {
      "text/html": [
       "<div>\n",
       "<style scoped>\n",
       "    .dataframe tbody tr th:only-of-type {\n",
       "        vertical-align: middle;\n",
       "    }\n",
       "\n",
       "    .dataframe tbody tr th {\n",
       "        vertical-align: top;\n",
       "    }\n",
       "\n",
       "    .dataframe thead th {\n",
       "        text-align: right;\n",
       "    }\n",
       "</style>\n",
       "<table border=\"1\" class=\"dataframe\">\n",
       "  <thead>\n",
       "    <tr style=\"text-align: right;\">\n",
       "      <th></th>\n",
       "      <th>seq</th>\n",
       "      <th>pbound</th>\n",
       "      <th>ct_0</th>\n",
       "      <th>ct_1</th>\n",
       "      <th>ct</th>\n",
       "    </tr>\n",
       "  </thead>\n",
       "  <tbody>\n",
       "    <tr>\n",
       "      <th>0</th>\n",
       "      <td>AAATTGCGATGAAATGTGAGGTGAATCAGGGTTTTCACCCGATTTT...</td>\n",
       "      <td>0.854657</td>\n",
       "      <td>2.0</td>\n",
       "      <td>1.0</td>\n",
       "      <td>3.0</td>\n",
       "    </tr>\n",
       "    <tr>\n",
       "      <th>1</th>\n",
       "      <td>AAATTGCGATGAAATGTGAGGTGAATCAGGGTTTTCACCCGATTTT...</td>\n",
       "      <td>0.801324</td>\n",
       "      <td>3.0</td>\n",
       "      <td>2.0</td>\n",
       "      <td>5.0</td>\n",
       "    </tr>\n",
       "    <tr>\n",
       "      <th>2</th>\n",
       "      <td>AAATTGCGATGAAATGTGAGGTGAATCAGGGTTTTCACCCGATTTT...</td>\n",
       "      <td>0.820647</td>\n",
       "      <td>7.0</td>\n",
       "      <td>5.0</td>\n",
       "      <td>12.0</td>\n",
       "    </tr>\n",
       "    <tr>\n",
       "      <th>3</th>\n",
       "      <td>AAATTGCGATGAAATGTGAGGTGAATCAGGGTTTTCACCCGATTTT...</td>\n",
       "      <td>0.847487</td>\n",
       "      <td>2.0</td>\n",
       "      <td>1.0</td>\n",
       "      <td>3.0</td>\n",
       "    </tr>\n",
       "    <tr>\n",
       "      <th>4</th>\n",
       "      <td>AAATTGCGATGAAATGTGAGGTGAATCAGGGTTTTCACCCGATTTT...</td>\n",
       "      <td>0.809516</td>\n",
       "      <td>15.0</td>\n",
       "      <td>12.0</td>\n",
       "      <td>27.0</td>\n",
       "    </tr>\n",
       "  </tbody>\n",
       "</table>\n",
       "</div>"
      ],
      "text/plain": [
       "                                                 seq    pbound  ct_0  ct_1  \\\n",
       "0  AAATTGCGATGAAATGTGAGGTGAATCAGGGTTTTCACCCGATTTT...  0.854657   2.0   1.0   \n",
       "1  AAATTGCGATGAAATGTGAGGTGAATCAGGGTTTTCACCCGATTTT...  0.801324   3.0   2.0   \n",
       "2  AAATTGCGATGAAATGTGAGGTGAATCAGGGTTTTCACCCGATTTT...  0.820647   7.0   5.0   \n",
       "3  AAATTGCGATGAAATGTGAGGTGAATCAGGGTTTTCACCCGATTTT...  0.847487   2.0   1.0   \n",
       "4  AAATTGCGATGAAATGTGAGGTGAATCAGGGTTTTCACCCGATTTT...  0.809516  15.0  12.0   \n",
       "\n",
       "     ct  \n",
       "0   3.0  \n",
       "1   5.0  \n",
       "2  12.0  \n",
       "3   3.0  \n",
       "4  27.0  "
      ]
     },
     "execution_count": 27,
     "metadata": {},
     "output_type": "execute_result"
    }
   ],
   "source": [
    "fpath = '../../data/synthetic_datasets/groSL_synthetic_dataset.csv'\n",
    "\n",
    "df_groSL = pd.read_csv(fpath)\n",
    "df_groSL.head()"
   ]
  },
  {
   "cell_type": "code",
   "execution_count": 28,
   "metadata": {},
   "outputs": [],
   "source": [
    "wtseq = groSL"
   ]
  },
  {
   "cell_type": "code",
   "execution_count": 29,
   "metadata": {},
   "outputs": [
    {
     "data": {
      "text/plain": [
       "<AxesSubplot:xlabel='position', ylabel='Information (bits)'>"
      ]
     },
     "execution_count": 29,
     "metadata": {},
     "output_type": "execute_result"
    },
    {
     "data": {
      "image/png": "[encoded data removed]",
      "text/plain": [
       "<Figure size 720x144 with 1 Axes>"
      ]
     },
     "metadata": {
      "needs_background": "light"
     },
     "output_type": "display_data"
    }
   ],
   "source": [
    "fp.plot_mi_footprint(fpath, wtseq, color=True, output_file='./fig.png')"
   ]
  },
  {
   "cell_type": "code",
   "execution_count": 32,
   "metadata": {},
   "outputs": [
    {
     "data": {
      "text/plain": [
       "<AxesSubplot:xlabel='position', ylabel='Information (bits)'>"
      ]
     },
     "execution_count": 32,
     "metadata": {},
     "output_type": "execute_result"
    },
    {
     "data": {
      "image/png": "[encoded data removed]",
      "text/plain": [
       "<Figure size 720x144 with 1 Axes>"
      ]
     },
     "metadata": {
      "needs_background": "light"
     },
     "output_type": "display_data"
    }
   ],
   "source": [
    "fp.plot_linreg_footprint(fpath, wtseq, pseudocount=0.5)"
   ]
  }
 ],
 "metadata": {
  "kernelspec": {
   "display_name": "Python 3.10.4 ('env_thermo_seq')",
   "language": "python",
   "name": "python3"
  },
  "language_info": {
   "codemirror_mode": {
    "name": "ipython",
    "version": 3
   },
   "file_extension": ".py",
   "mimetype": "text/x-python",
   "name": "python",
   "nbconvert_exporter": "python",
   "pygments_lexer": "ipython3",
   "version": "3.10.4"
  },
  "vscode": {
   "interpreter": {
    "hash": "5e0c78d6696da6e3ddb4651dd94c59f5d0a59a4d4b8438d3476f738d0fde1b6d"
   }
  }
 },
 "nbformat": 4,
 "nbformat_minor": 2
}
