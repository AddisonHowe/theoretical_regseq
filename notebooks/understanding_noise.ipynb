{
 "cells": [
  {
   "attachments": {},
   "cell_type": "markdown",
   "metadata": {},
   "source": [
    "The purpose of this notebook is to better understand where the noise in the information footprint comes from"
   ]
  },
  {
   "cell_type": "code",
   "execution_count": 1,
   "metadata": {},
   "outputs": [],
   "source": [
    "## processing\n",
    "import numpy as np\n",
    "import pandas as pd\n",
    "from Bio import SeqIO\n",
    "\n",
    "## custom package\n",
    "import tregseq\n",
    "\n",
    "## visualization\n",
    "import matplotlib.pyplot as plt"
   ]
  },
  {
   "attachments": {},
   "cell_type": "markdown",
   "metadata": {},
   "source": [
    "TO-DO:\n",
    "- Add decoy sites\n",
    "- Slide energy matrix of RNAP/lacI across random mutant of lacZYA promoter and calculating the percentage of mutants where there is stronger binding than at the stronger binding site\n",
    "- Need to modify procedure for building synthetic datasets to take into account these scenarios"
   ]
  },
  {
   "attachments": {},
   "cell_type": "markdown",
   "metadata": {},
   "source": [
    "## How likely is spurious binding?"
   ]
  },
  {
   "cell_type": "code",
   "execution_count": 2,
   "metadata": {},
   "outputs": [],
   "source": [
    "## Loading WT promoter sequence\n",
    "\n",
    "# Promoter\n",
    "lacWT = 'CAGGCTTTACACTTTATGCTTCCGGCTCGTATGTTGTGTGG'\n",
    "\n",
    "# Operator sequences\n",
    "O1 = 'AATTGTGAGCGGATAACAATT'\n",
    "\n",
    "_genome = []\n",
    "for record in SeqIO.parse(\"../data/mg1655_genome.fasta\", \"fasta\"):\n",
    "    _genome.append(str(record.seq))\n",
    "genome = _genome[0]\n",
    "\n",
    "df = pd.read_csv('../data/ecoli_gene_list.csv')\n",
    "lacO1_TSS = int(df[(df.gene == 'lacZ') & (df.promoter == 'lacZp1')]['tss'].iloc[0])\n",
    "lacO1 = tregseq.seq_utils.get_regulatory_region(genome, lacO1_TSS, reverse=True)"
   ]
  },
  {
   "cell_type": "code",
   "execution_count": 3,
   "metadata": {},
   "outputs": [],
   "source": [
    "## Loading and fixing the RNAP energy matrix\n",
    "rnap_emat_raw = np.loadtxt('../data/energy_matrices/RNAP_energy_matrix.txt')\n",
    "rnap_emat = tregseq.simulate.fix_wt(rnap_emat_raw, lacWT)\n",
    "\n",
    "## Loading and fixing the lacI energy matrix\n",
    "O1_1027_raw = np.load('../data/energy_matrices/lacThermoforTO1.npy')\n",
    "\n",
    "O1_1027_fixed = np.zeros(np.shape(O1_1027_raw))\n",
    "for i in range(3):\n",
    "    O1_1027_fixed[i] = tregseq.simulate.fix_wt(O1_1027_raw[i], O1)\n",
    "O1_emat = np.mean(O1_1027_fixed, axis=0)"
   ]
  },
  {
   "cell_type": "code",
   "execution_count": 4,
   "metadata": {},
   "outputs": [],
   "source": [
    "lacO1_mutants = np.unique(tregseq.wgregseq.mutations_rand(lacO1, rate=0.1, num_mutants=100000, number_fixed=True))"
   ]
  },
  {
   "attachments": {},
   "cell_type": "markdown",
   "metadata": {},
   "source": [
    "Next, let's slide the energy matrix across each mutant sequence and check whether the region of minimum energy correspond to the expected binding site."
   ]
  },
  {
   "cell_type": "code",
   "execution_count": 5,
   "metadata": {},
   "outputs": [
    {
     "name": "stdout",
     "output_type": "stream",
     "text": [
      "The RNAP binding site is from 74 to 115\n"
     ]
    }
   ],
   "source": [
    "lac_start, lac_end = tregseq.seq_utils.find_binding_site(lacO1, lacWT)\n",
    "print('The RNAP binding site is from {} to {}'.format(lac_start, lac_end))"
   ]
  },
  {
   "cell_type": "code",
   "execution_count": 6,
   "metadata": {},
   "outputs": [],
   "source": [
    "lenWT = len(lacWT)\n",
    "\n",
    "start_sites = np.zeros(160)\n",
    "min_energies = []\n",
    "for mut in lacO1_mutants:\n",
    "    min_energy = -2.9\n",
    "    start = 74\n",
    "    for i in range(160 - lenWT):\n",
    "        subseq = mut[i:(i+lenWT)].upper()\n",
    "        assert len(subseq) == lenWT\n",
    "        benergy = tregseq.simulate.get_d_energy(subseq, rnap_emat, e_wt=-2.9)\n",
    "        if benergy <= min_energy:\n",
    "            start = i\n",
    "            min_energy = benergy\n",
    "    start_sites[start] += 1\n",
    "    min_energies.append(min_energy)"
   ]
  },
  {
   "cell_type": "code",
   "execution_count": 7,
   "metadata": {},
   "outputs": [
    {
     "data": {
      "text/plain": [
       "8.6157"
      ]
     },
     "execution_count": 7,
     "metadata": {},
     "output_type": "execute_result"
    }
   ],
   "source": [
    "start_sites[74] / 10000"
   ]
  },
  {
   "cell_type": "code",
   "execution_count": 8,
   "metadata": {},
   "outputs": [
    {
     "data": {
      "image/png": "[encoded data removed]",
      "text/plain": [
       "<Figure size 720x216 with 2 Axes>"
      ]
     },
     "metadata": {
      "needs_background": "light"
     },
     "output_type": "display_data"
    }
   ],
   "source": [
    "fig, axes = plt.subplots(1, 2, figsize=(10,3))\n",
    "ax1, ax2 = axes[0], axes[1]\n",
    "\n",
    "x = np.arange(-115, 45)\n",
    "start_sites[74] = 0\n",
    "ax1.bar(x, start_sites / 10000)\n",
    "ax1.axvline(75-115, color='red')\n",
    "ax1.set_xlim(-115, 45)\n",
    "ax1.set_xlabel('Position')\n",
    "ax1.set_ylabel('Fraction of RNAP binding site\\nstart position')\n",
    "\n",
    "ax2.hist(min_energies, bins=20)\n",
    "ax2.set_yscale('log')\n",
    "ax2.set_xlabel('Minimum binding energy (kBT)')\n",
    "ax2.set_ylabel('Count')\n",
    "\n",
    "plt.show()"
   ]
  },
  {
   "cell_type": "markdown",
   "metadata": {},
   "source": [
    "Next, let's slide the energy matrix across each mutant sequence and check whether the region of minimum energy correspond to the expected binding site."
   ]
  },
  {
   "cell_type": "code",
   "execution_count": 9,
   "metadata": {},
   "outputs": [
    {
     "name": "stdout",
     "output_type": "stream",
     "text": [
      "The repressor binding site is from 115 to 136\n"
     ]
    }
   ],
   "source": [
    "O1_start, O1_end = tregseq.seq_utils.find_binding_site(lacO1, O1)\n",
    "print('The repressor binding site is from {} to {}'.format(O1_start, O1_end))"
   ]
  },
  {
   "cell_type": "code",
   "execution_count": 10,
   "metadata": {},
   "outputs": [],
   "source": [
    "lenWT = len(O1)\n",
    "\n",
    "start_sites = np.zeros(160)\n",
    "min_energies = []\n",
    "for mut in lacO1_mutants:\n",
    "    min_energy = -15.3\n",
    "    start = 115\n",
    "    for i in range(160 - lenWT):\n",
    "        subseq = mut[i:(i+lenWT)].upper()\n",
    "        assert len(subseq) == lenWT\n",
    "        benergy = tregseq.simulate.get_d_energy(subseq, O1_emat, e_wt=-15.3)\n",
    "        if benergy <= min_energy:\n",
    "            start = i\n",
    "            min_energy = benergy\n",
    "    start_sites[start] += 1\n",
    "    min_energies.append(min_energy)"
   ]
  },
  {
   "cell_type": "code",
   "execution_count": 11,
   "metadata": {},
   "outputs": [
    {
     "data": {
      "text/plain": [
       "100000.0"
      ]
     },
     "execution_count": 11,
     "metadata": {},
     "output_type": "execute_result"
    }
   ],
   "source": [
    "start_sites[115]"
   ]
  },
  {
   "cell_type": "code",
   "execution_count": 12,
   "metadata": {},
   "outputs": [
    {
     "data": {
      "image/png": "[encoded data removed]",
      "text/plain": [
       "<Figure size 720x216 with 2 Axes>"
      ]
     },
     "metadata": {
      "needs_background": "light"
     },
     "output_type": "display_data"
    }
   ],
   "source": [
    "fig, axes = plt.subplots(1, 2, figsize=(10,3))\n",
    "ax1, ax2 = axes[0], axes[1]\n",
    "\n",
    "x = np.arange(-115, 45)\n",
    "start_sites[115] = 0\n",
    "ax1.bar(x, start_sites / 10000)\n",
    "ax1.axvline(0, color='red')\n",
    "ax1.set_xlim(-115, 45)\n",
    "ax1.set_xlabel('Position')\n",
    "ax1.set_ylabel('Fraction of lacI binding site\\nstart position')\n",
    "\n",
    "ax2.hist(min_energies, bins=20)\n",
    "ax2.set_yscale('log')\n",
    "ax2.set_xlabel('Minimum binding energy (kBT)')\n",
    "ax2.set_ylabel('Count')\n",
    "\n",
    "plt.show()"
   ]
  },
  {
   "cell_type": "markdown",
   "metadata": {},
   "source": []
  }
 ],
 "metadata": {
  "kernelspec": {
   "display_name": "theoretical_regseq",
   "language": "python",
   "name": "python3"
  },
  "language_info": {
   "codemirror_mode": {
    "name": "ipython",
    "version": 3
   },
   "file_extension": ".py",
   "mimetype": "text/x-python",
   "name": "python",
   "nbconvert_exporter": "python",
   "pygments_lexer": "ipython3",
   "version": "3.10.4"
  },
  "orig_nbformat": 4
 },
 "nbformat": 4,
 "nbformat_minor": 2
}
