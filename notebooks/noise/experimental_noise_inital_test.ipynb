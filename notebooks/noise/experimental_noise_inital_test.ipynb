{
 "cells": [
  {
   "cell_type": "code",
   "execution_count": 1,
   "metadata": {},
   "outputs": [],
   "source": [
    "# processing\n",
    "import numpy as np\n",
    "import pandas as pd\n",
    "from Bio import SeqIO\n",
    "\n",
    "# custom packages\n",
    "import tregs\n",
    "\n",
    "# visualization\n",
    "import matplotlib.pyplot as plt\n",
    "import seaborn as sns\n",
    "#plt.rcParams['figure.dpi'] = 150"
   ]
  },
  {
   "attachments": {},
   "cell_type": "markdown",
   "metadata": {},
   "source": [
    "It seems that experimental noise does lead to more noise in the information footprint. However, my hypothesis is that the level of noise has to be bigger than the bin size (so as to facilitate a sufficient number of bin transitions) in order to lead to noise."
   ]
  },
  {
   "attachments": {},
   "cell_type": "markdown",
   "metadata": {},
   "source": [
    "## Loading input data"
   ]
  },
  {
   "cell_type": "code",
   "execution_count": 2,
   "metadata": {},
   "outputs": [],
   "source": [
    "_genome = []\n",
    "for record in SeqIO.parse(\"../../data/mg1655_genome.fasta\", \"fasta\"):\n",
    "    _genome.append(str(record.seq))\n",
    "genome = _genome[0]"
   ]
  },
  {
   "cell_type": "code",
   "execution_count": 3,
   "metadata": {},
   "outputs": [],
   "source": [
    "# Promoter\n",
    "rnap_site = 'CAGGCTTTACACTTTATGCTTCCGGCTCGTATGTTGTGTGG'\n",
    "\n",
    "# Operator sequence\n",
    "rep_site = 'AATTGTGAGCGGATAACAATT'\n",
    "\n",
    "## Find the transcription start site\n",
    "df = pd.read_csv('../../data/ecoli_gene_list.csv')\n",
    "lacZYA_TSS = int(df[(df.gene == 'lacZ') & (df.promoter == 'lacZp1')]['tss'].iloc[0])\n",
    "promoter = tregs.seq_utils.get_regulatory_region(genome, lacZYA_TSS, reverse=True)"
   ]
  },
  {
   "cell_type": "code",
   "execution_count": 4,
   "metadata": {},
   "outputs": [],
   "source": [
    "# obtained from https://journals.plos.org/ploscompbiol/article/figure?id=10.1371/journal.pcbi.1002811.g002\n",
    "\n",
    "rnap_emat_raw = np.loadtxt('../../data/energy_matrices/RNAP_energy_matrix.txt')\n",
    "rnap_emat = tregs.simulate.fix_wt(rnap_emat_raw, rnap_site)"
   ]
  },
  {
   "cell_type": "code",
   "execution_count": 5,
   "metadata": {},
   "outputs": [],
   "source": [
    "O1_1027_raw = np.load('../../data/energy_matrices/lacThermoforTO1.npy')\n",
    "\n",
    "O1_1027_fixed = np.zeros(np.shape(O1_1027_raw))\n",
    "for i in range(3):\n",
    "    O1_1027_fixed[i] = tregs.simulate.fix_wt(O1_1027_raw[i], rep_site)\n",
    "\n",
    "rep_emat = np.mean(O1_1027_fixed, axis=0)"
   ]
  },
  {
   "attachments": {},
   "cell_type": "markdown",
   "metadata": {},
   "source": [
    "## Intial tests"
   ]
  },
  {
   "attachments": {},
   "cell_type": "markdown",
   "metadata": {},
   "source": [
    "### Assuming RNA count is normally distributed"
   ]
  },
  {
   "cell_type": "code",
   "execution_count": 6,
   "metadata": {},
   "outputs": [],
   "source": [
    "def simrep_with_expt_noise(wtseq, rnap_wtseq, rep_wtseq, rnap_emat, O1_emat, \n",
    "                           ep_wt, er_wt, n_NS, n_p, n_r, noise_level=1,\n",
    "                           num_mutants=1000, scaling_factor=100):\n",
    "    \n",
    "    mutants = np.unique(tregs.wgregseq.mutations_rand(wtseq,\n",
    "                                       rate=0.1,\n",
    "                                       num_mutants=num_mutants,\n",
    "                                       number_fixed=True))\n",
    "\n",
    "    rnap_start, rnap_end = tregs.seq_utils.find_binding_site(wtseq, rnap_wtseq)\n",
    "    rep_start, rep_end = tregs.seq_utils.find_binding_site(wtseq, rep_wtseq)\n",
    "\n",
    "    df_simrep = tregs.simulate.simrep_helper(mutants, rnap_start, rnap_end, rep_start, rep_end,\n",
    "                                             rnap_emat, O1_emat, n_p, n_r, n_NS,\n",
    "                                             ep_wt, er_wt)\n",
    "    \n",
    "    dna_cnt = tregs.simulate.get_dna_cnt(len(df_simrep))\n",
    "    df_simrep['ct_0'] = dna_cnt\n",
    "    df_simrep = df_simrep[df_simrep.ct_0 != 0.0]\n",
    "\n",
    "    noise = 1 + np.random.normal(loc=0, scale=noise_level, size=num_mutants)\n",
    "    df_simrep['ct_1'] = df_simrep['ct_0'] * df_simrep['pbound'] * scaling_factor\n",
    "    df_simrep['ct_1'] = df_simrep['ct_1'].mul(noise, axis=0)\n",
    "    df_simrep.loc[df_simrep['ct_1'] < 0, 'ct_1'] = 0\n",
    "    df_simrep['ct_1'] = 1 + df_simrep['ct_1'].astype(int) # adding 1 as a pseudocount\n",
    "    df_simrep['ct'] = df_simrep['ct_0'] + df_simrep['ct_1']\n",
    "\n",
    "    df_simrep['ct'] = df_simrep['ct'].astype(float)\n",
    "    df_simrep['ct_0'] = df_simrep['ct_0'].astype(float)\n",
    "    df_simrep['ct_1'] = df_simrep['ct_1'].astype(float)\n",
    "    df_simrep['norm_ct_1'] = df_simrep['ct_1'] / df_simrep['ct_0']\n",
    "\n",
    "    return df_simrep"
   ]
  },
  {
   "cell_type": "code",
   "execution_count": 7,
   "metadata": {},
   "outputs": [],
   "source": [
    "n_NS = len(genome)\n",
    "ep_wt, er_wt = -5, -15\n",
    "n_p = 4600\n",
    "n_r = 15\n",
    "\n",
    "df = simrep_with_expt_noise(promoter, rnap_site, rep_site, rnap_emat, rep_emat, \n",
    "                            ep_wt, er_wt, n_NS, n_p, n_r, noise_level=2)\n",
    "n_seqs = len(df)\n",
    "mut_list = df['seq'].values\n",
    "mu_data = df['norm_ct_1']"
   ]
  },
  {
   "cell_type": "code",
   "execution_count": 8,
   "metadata": {},
   "outputs": [
    {
     "data": {
      "image/png": "[encoded data removed]",
      "text/plain": [
       "<Figure size 720x144 with 1 Axes>"
      ]
     },
     "metadata": {
      "needs_background": "light"
     },
     "output_type": "display_data"
    }
   ],
   "source": [
    "nbins = 2\n",
    "upper_bound = 5\n",
    "footprint = tregs.footprint.get_info_footprint(mut_list, mu_data, promoter, nbins, upper_bound,\n",
    "                                               pseudocount=0)\n",
    "\n",
    "exshift_list = tregs.footprint.get_expression_shift(mut_list, mu_data.values, promoter,\n",
    "                                                    smoothed=True, windowsize=3)\n",
    "shiftcolors = [('salmon' if exshift > 0 else 'royalblue') for exshift in exshift_list]\n",
    "\n",
    "fig, ax = plt.subplots(figsize=(10,2))\n",
    "ax.set_ylabel('Information (bits)')\n",
    "ax.set_xlabel('position')\n",
    "\n",
    "windowsize = 3\n",
    "cut = int((windowsize - 1) / 2)\n",
    "x = np.arange(-115 + cut, 45 - cut)\n",
    "ax.bar(x, footprint, edgecolor=None, color=shiftcolors)\n",
    "\n",
    "#plt.savefig('../figs/lacI_synthetic_footprint_5_15.png', dpi=300, bbox_inches='tight')\n",
    "plt.show()"
   ]
  },
  {
   "attachments": {},
   "cell_type": "markdown",
   "metadata": {},
   "source": [
    "### Assuming RNA count exists on an exponential distribution"
   ]
  },
  {
   "cell_type": "code",
   "execution_count": 9,
   "metadata": {},
   "outputs": [],
   "source": [
    "def simrep_with_expt_noise(wtseq, rnap_wtseq, rep_wtseq, rnap_emat, O1_emat, \n",
    "                           ep_wt, er_wt, n_NS, n_p, n_r, noise_level=1,\n",
    "                           num_mutants=1000, scaling_factor=100):\n",
    "    \n",
    "    mutants = np.unique(tregs.wgregseq.mutations_rand(wtseq,\n",
    "                                       rate=0.1,\n",
    "                                       num_mutants=num_mutants,\n",
    "                                       number_fixed=True))\n",
    "\n",
    "    rnap_start, rnap_end = tregs.seq_utils.find_binding_site(wtseq, rnap_wtseq)\n",
    "    rep_start, rep_end = tregs.seq_utils.find_binding_site(wtseq, rep_wtseq)\n",
    "\n",
    "    df_simrep = tregs.simulate.simrep_helper(mutants, rnap_start, rnap_end, rep_start, rep_end,\n",
    "                                             rnap_emat, O1_emat, n_p, n_r, n_NS,\n",
    "                                             ep_wt, er_wt)\n",
    "    \n",
    "    dna_cnt = tregs.simulate.get_dna_cnt(len(df_simrep))\n",
    "    df_simrep['ct_0'] = dna_cnt\n",
    "    df_simrep = df_simrep[df_simrep.ct_0 != 0.0]\n",
    "\n",
    "    noise = np.random.exponential(noise_level, size=num_mutants)\n",
    "    df_simrep['ct_1'] = df_simrep['ct_0'] * df_simrep['pbound'] * scaling_factor\n",
    "    df_simrep['ct_1'] = df_simrep['ct_1'].mul(noise, axis=0)\n",
    "    df_simrep['ct_1'] = 1 + df_simrep['ct_1'].astype(int) # adding 1 as a pseudocount\n",
    "    df_simrep['ct'] = df_simrep['ct_0'] + df_simrep['ct_1']\n",
    "\n",
    "    df_simrep['ct'] = df_simrep['ct'].astype(float)\n",
    "    df_simrep['ct_0'] = df_simrep['ct_0'].astype(float)\n",
    "    df_simrep['ct_1'] = df_simrep['ct_1'].astype(float)\n",
    "    df_simrep['norm_ct_1'] = df_simrep['ct_1'] / df_simrep['ct_0']\n",
    "\n",
    "    return df_simrep"
   ]
  },
  {
   "cell_type": "code",
   "execution_count": 10,
   "metadata": {},
   "outputs": [],
   "source": [
    "n_NS = len(genome)\n",
    "ep_wt, er_wt = -5, -15\n",
    "n_p = 4600\n",
    "n_r = 15\n",
    "\n",
    "df = simrep_with_expt_noise(promoter, rnap_site, rep_site, rnap_emat, rep_emat, \n",
    "                            ep_wt, er_wt, n_NS, n_p, n_r, noise_level=1)\n",
    "n_seqs = len(df)\n",
    "mut_list = df['seq'].values\n",
    "mu_data = df['norm_ct_1']"
   ]
  },
  {
   "cell_type": "code",
   "execution_count": 11,
   "metadata": {},
   "outputs": [
    {
     "data": {
      "image/png": "[encoded data removed]",
      "text/plain": [
       "<Figure size 720x144 with 1 Axes>"
      ]
     },
     "metadata": {
      "needs_background": "light"
     },
     "output_type": "display_data"
    }
   ],
   "source": [
    "nbins = 2\n",
    "upper_bound = 10\n",
    "footprint = tregs.footprint.get_info_footprint(mut_list, mu_data, promoter, nbins, upper_bound,\n",
    "                                               pseudocount=0)\n",
    "\n",
    "exshift_list = tregs.footprint.get_expression_shift(mut_list, mu_data.values, promoter,\n",
    "                                                    smoothed=True, windowsize=3)\n",
    "shiftcolors = [('salmon' if exshift > 0 else 'royalblue') for exshift in exshift_list]\n",
    "\n",
    "fig, ax = plt.subplots(figsize=(10,2))\n",
    "ax.set_ylabel('Information (bits)')\n",
    "ax.set_xlabel('position')\n",
    "\n",
    "windowsize = 3\n",
    "cut = int((windowsize - 1) / 2)\n",
    "x = np.arange(-115 + cut, 45 - cut)\n",
    "ax.bar(x, footprint, edgecolor=None, color=shiftcolors)\n",
    "\n",
    "#plt.savefig('../figs/lacI_synthetic_footprint_5_15.png', dpi=300, bbox_inches='tight')\n",
    "plt.show()"
   ]
  }
 ],
 "metadata": {
  "kernelspec": {
   "display_name": "theoretical_regseq",
   "language": "python",
   "name": "python3"
  },
  "language_info": {
   "codemirror_mode": {
    "name": "ipython",
    "version": 3
   },
   "file_extension": ".py",
   "mimetype": "text/x-python",
   "name": "python",
   "nbconvert_exporter": "python",
   "pygments_lexer": "ipython3",
   "version": "3.10.4"
  },
  "orig_nbformat": 4
 },
 "nbformat": 4,
 "nbformat_minor": 2
}
