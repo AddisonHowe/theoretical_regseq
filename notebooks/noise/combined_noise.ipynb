{
 "cells": [
  {
   "cell_type": "code",
   "execution_count": 1,
   "metadata": {},
   "outputs": [
    {
     "data": {
      "text/plain": [
       "{'green': '#7AA974',\n",
       " 'light_green': '#BFD598',\n",
       " 'pale_green': '#DCECCB',\n",
       " 'yellow': '#EAC264',\n",
       " 'light_yellow': '#F3DAA9',\n",
       " 'pale_yellow': '#FFEDCE',\n",
       " 'blue': '#738FC1',\n",
       " 'light_blue': '#A9BFE3',\n",
       " 'pale_blue': '#C9D7EE',\n",
       " 'red': '#D56C55',\n",
       " 'light_red': '#E8B19D',\n",
       " 'pale_red': '#F1D4C9',\n",
       " 'purple': '#AB85AC',\n",
       " 'light_purple': '#D4C2D9',\n",
       " 'dark_green': '#7E9D90',\n",
       " 'dark_brown': '#905426'}"
      ]
     },
     "execution_count": 1,
     "metadata": {},
     "output_type": "execute_result"
    }
   ],
   "source": [
    "# processing\n",
    "import numpy as np\n",
    "import pandas as pd\n",
    "from Bio import SeqIO\n",
    "\n",
    "# custom packages\n",
    "import tregs\n",
    "\n",
    "# visualization\n",
    "import matplotlib as mpl\n",
    "import matplotlib.pyplot as plt\n",
    "from matplotlib.lines import Line2D\n",
    "plt.rcParams.update({'font.size': 12})\n",
    "\n",
    "from matplotlib import font_manager\n",
    "font_manager.fontManager.addfont('../../misc/lucida-sans-unicode.ttf')\n",
    "\n",
    "import seaborn as sns\n",
    "tregs.mpl_pboc.plotting_style()"
   ]
  },
  {
   "attachments": {},
   "cell_type": "markdown",
   "metadata": {},
   "source": [
    "It seems that experimental noise does lead to more noise in the information footprint. However, my hypothesis is that the level of noise has to be bigger than the bin size (so as to facilitate a sufficient number of bin transitions) in order to lead to noise."
   ]
  },
  {
   "attachments": {},
   "cell_type": "markdown",
   "metadata": {},
   "source": [
    "### Loading input data"
   ]
  },
  {
   "cell_type": "code",
   "execution_count": 2,
   "metadata": {},
   "outputs": [],
   "source": [
    "_genome = []\n",
    "for record in SeqIO.parse(\"../../data/mg1655_genome.fasta\", \"fasta\"):\n",
    "    _genome.append(str(record.seq))\n",
    "genome = _genome[0]"
   ]
  },
  {
   "cell_type": "code",
   "execution_count": 3,
   "metadata": {},
   "outputs": [],
   "source": [
    "# Promoter\n",
    "rnap_site = 'CAGGCTTTACACTTTATGCTTCCGGCTCGTATGTTGTGTGG'\n",
    "\n",
    "# Operator sequence\n",
    "rep_site = 'AATTGTGAGCGGATAACAATT'\n",
    "\n",
    "## Find the transcription start site\n",
    "df = pd.read_csv('../../data/ecoli_gene_list.csv')\n",
    "lacZYA_TSS = int(df[(df.gene == 'lacZ') & (df.promoter == 'lacZp1')]['tss'].iloc[0])\n",
    "promoter = tregs.seq_utils.get_regulatory_region(genome, lacZYA_TSS, reverse=True)"
   ]
  },
  {
   "cell_type": "code",
   "execution_count": 4,
   "metadata": {},
   "outputs": [],
   "source": [
    "# obtained from https://journals.plos.org/ploscompbiol/article/figure?id=10.1371/journal.pcbi.1002811.g002\n",
    "\n",
    "rnap_emat_raw = np.loadtxt('../../data/energy_matrices/RNAP_energy_matrix.txt')\n",
    "rnap_emat = tregs.simulate.fix_wt(rnap_emat_raw, rnap_site)"
   ]
  },
  {
   "cell_type": "code",
   "execution_count": 5,
   "metadata": {},
   "outputs": [],
   "source": [
    "O1_1027_raw = np.load('../../data/energy_matrices/lacThermoforTO1.npy')\n",
    "\n",
    "O1_1027_fixed = np.zeros(np.shape(O1_1027_raw))\n",
    "for i in range(3):\n",
    "    O1_1027_fixed[i] = tregs.simulate.fix_wt(O1_1027_raw[i], rep_site)\n",
    "\n",
    "rep_emat = np.mean(O1_1027_fixed, axis=0)"
   ]
  },
  {
   "attachments": {},
   "cell_type": "markdown",
   "metadata": {},
   "source": [
    "### Sliding energy matrix"
   ]
  },
  {
   "cell_type": "code",
   "execution_count": 6,
   "metadata": {},
   "outputs": [],
   "source": [
    "def simrep_pbound(promoter_variant, rep_mut, p_emat, r_emat, n_p, n_r, n_NS,\n",
    "                  ep_wt=0, er_wt=0):\n",
    "\n",
    "    w_rnap_tot = 0\n",
    "    for i in range(160 - p_emat.shape[0]):\n",
    "        subseq = promoter_variant[i:(i + p_emat.shape[0])].upper()\n",
    "        w_rnap = tregs.simulate.get_weight(subseq, p_emat, e_wt=ep_wt)\n",
    "        w_rnap_tot += w_rnap\n",
    "\n",
    "    w_rep = tregs.simulate.get_weight(rep_mut, r_emat, e_wt=er_wt)\n",
    "\n",
    "    return (n_p / n_NS * w_rnap_tot) / (1 + n_p / n_NS * w_rnap_tot + n_r / n_NS * w_rep)\n",
    "\n",
    "def simrep_helper(mutants, rnap_start, rnap_end, rep_start, rep_end,\n",
    "                  rnap_emat, O1_emat, n_p, n_r, n_NS,\n",
    "                  ep_wt, er_wt):\n",
    "\n",
    "    l_tr = []\n",
    "    for mut in mutants:\n",
    "        rv = {}\n",
    "        rv['seq'] = mut\n",
    "        rep_mut = mut[rep_start:rep_end].upper()\n",
    "        rv['pbound'] = simrep_pbound(mut, rep_mut, rnap_emat, O1_emat,\n",
    "                                     n_p, n_r, n_NS,\n",
    "                                     ep_wt=ep_wt, er_wt=er_wt)\n",
    "        l_tr.append(rv)\n",
    "    df = pd.DataFrame.from_records(l_tr)\n",
    "\n",
    "    return df"
   ]
  },
  {
   "attachments": {},
   "cell_type": "markdown",
   "metadata": {},
   "source": [
    "### Simulating PCR"
   ]
  },
  {
   "cell_type": "code",
   "execution_count": 7,
   "metadata": {},
   "outputs": [],
   "source": [
    "def amplify(seq_cnt, rounds, alpha=10, beta=1.5):\n",
    "    num_seqs = len(seq_cnt)\n",
    "    for round in range(rounds):\n",
    "        amp_factor = 1 + np.random.beta(a=alpha, b=beta, size=num_seqs)\n",
    "        seq_cnt = np.multiply(seq_cnt, amp_factor)\n",
    "    scaling_factor = 10**(len(str(int(min(seq_cnt)))) - 1)\n",
    "    return seq_cnt / scaling_factor"
   ]
  },
  {
   "cell_type": "code",
   "execution_count": 8,
   "metadata": {},
   "outputs": [],
   "source": [
    "def simrep_with_pcr(wtseq, rnap_wtseq, rep_wtseq, rnap_emat, O1_emat, \n",
    "                    ep_wt, er_wt, n_NS, n_p, n_r,\n",
    "                    num_mutants=1000,\n",
    "                    rounds=20, alpha=10, beta=1.5):\n",
    "    \n",
    "    mutants = np.unique(tregs.wgregseq.mutations_rand(wtseq,\n",
    "                                       rate=0.1,\n",
    "                                       num_mutants=num_mutants,\n",
    "                                       number_fixed=True))\n",
    "\n",
    "    rnap_start, rnap_end = tregs.seq_utils.find_binding_site(wtseq, rnap_wtseq)\n",
    "    rep_start, rep_end = tregs.seq_utils.find_binding_site(wtseq, rep_wtseq)\n",
    "\n",
    "    df = simrep_helper(mutants, rnap_start, rnap_end, rep_start, rep_end,\n",
    "                              rnap_emat, O1_emat, n_p, n_r, n_NS,\n",
    "                              ep_wt, er_wt)\n",
    "    \n",
    "    dna_cnt = tregs.simulate.get_dna_cnt(len(df))\n",
    "    df['ct_0'] = dna_cnt\n",
    "    df = df[df.ct_0 != 0.0]\n",
    "\n",
    "    df['ct_1_original'] = df['ct_0'] * df['pbound']\n",
    "    rna_cnt = amplify(df['ct_1_original'].to_numpy(), rounds, alpha=alpha, beta=beta)\n",
    "    df['ct_1'] = rna_cnt\n",
    "    #df['ct_1'] = 1 + df['ct_1'].astype(int) # adding 1 as a pseudocount\n",
    "    \n",
    "    df['ct_0'] = df['ct_0'].astype(float)\n",
    "    df['ct_1'] = df['ct_1'].astype(float)\n",
    "    df['noise'] = (df['ct_1'].to_numpy() / np.min(df['ct_1'])) / (df['ct_1_original'].to_numpy() / np.min(df['ct_1_original']))\n",
    "    df['norm_ct_1'] = df['ct_1'] / df['ct_0']\n",
    "\n",
    "    return df"
   ]
  },
  {
   "attachments": {},
   "cell_type": "markdown",
   "metadata": {},
   "source": [
    "### Random sampling"
   ]
  },
  {
   "cell_type": "code",
   "execution_count": 9,
   "metadata": {},
   "outputs": [],
   "source": [
    "def random_sampling(df, n=10**5):\n",
    "    df_large = df.loc[df.index.repeat(df.ct_1)]\n",
    "    print(len(df_large))\n",
    "    print('There are {} copies of RNA in total'.format(np.sum(df['ct_1'])))\n",
    "    \n",
    "    df_random = df_large.sample(n=n).drop_duplicates()\n",
    "    print('The current library size is {}'.format(len(df_random)))\n",
    "    print('Library diversity decreaes by {:.1f}%'.format( (1 - len(df_random) / len(df)) * 100))\n",
    "    return df_random"
   ]
  },
  {
   "attachments": {},
   "cell_type": "markdown",
   "metadata": {},
   "source": [
    "### Combining PCR bias and random sampling"
   ]
  },
  {
   "cell_type": "code",
   "execution_count": 10,
   "metadata": {},
   "outputs": [],
   "source": [
    "def get_footprint_with_noise(promoter, rnap_site, rep_site, rnap_emat, rep_emat,\n",
    "                             ep_wt, er_wt, n_NS, n_p, n_r,\n",
    "                             rounds=20, alpha=10, beta=1.5, sample_size=1000):\n",
    "    df = simrep_with_pcr(promoter, rnap_site, rep_site, rnap_emat, rep_emat, \n",
    "                    ep_wt, er_wt, n_NS, n_p, n_r,\n",
    "                    num_mutants=1000,\n",
    "                    rounds=rounds, alpha=alpha, beta=beta)\n",
    "\n",
    "    df_random = random_sampling(df, n=sample_size)\n",
    "    mut_list = df_random['seq'].values\n",
    "    mu_data = df_random['norm_ct_1']\n",
    "\n",
    "    nbins = 2\n",
    "    upper_bound = np.mean(mu_data)\n",
    "    footprint = tregs.footprint.get_info_footprint(mut_list, mu_data, promoter, nbins, upper_bound)\n",
    "    exshift_list = tregs.footprint.get_expression_shift(mut_list, mu_data.values, promoter,\n",
    "                                                        smoothed=True, windowsize=3)\n",
    "    return footprint, exshift_list, mu_data"
   ]
  },
  {
   "cell_type": "code",
   "execution_count": 11,
   "metadata": {},
   "outputs": [],
   "source": [
    "n_NS = len(genome)\n",
    "ep_wt, er_wt = -3, -10\n",
    "n_p = 4600\n",
    "n_r = 50"
   ]
  },
  {
   "cell_type": "code",
   "execution_count": 12,
   "metadata": {},
   "outputs": [
    {
     "name": "stdout",
     "output_type": "stream",
     "text": [
      "16690\n",
      "There are 17185.851956574326 copies of RNA in total\n",
      "The current library size is 896\n",
      "Library diversity decreaes by 10.4%\n"
     ]
    }
   ],
   "source": [
    "footprint, exshift_list, mu_data = get_footprint_with_noise(promoter, rnap_site, rep_site, rnap_emat, rep_emat,\n",
    "                                                            ep_wt, er_wt, n_NS, n_p, n_r,\n",
    "                                                            rounds=5, sample_size=10000)"
   ]
  },
  {
   "cell_type": "code",
   "execution_count": 13,
   "metadata": {},
   "outputs": [
    {
     "data": {
      "image/png": "[encoded data removed]",
      "text/plain": [
       "<Figure size 864x180 with 1 Axes>"
      ]
     },
     "metadata": {},
     "output_type": "display_data"
    }
   ],
   "source": [
    "fig, ax = plt.subplots(figsize=(12,2.5))\n",
    "\n",
    "ax.axvspan(-38, -30, alpha=0.7, color='#A9BFE3')\n",
    "ax.axvspan(-15, -5, alpha=0.7, color='#A9BFE3')\n",
    "ax.axvspan(2, 20, alpha=0.7, color='#E8B19D')\n",
    "\n",
    "ax.set_ylim(top=max(footprint)*1.15)\n",
    "ax.add_patch(mpl.patches.Rectangle((-38, max(footprint)*1.15),\n",
    "                                        8,\n",
    "                                        max(footprint) * 0.2,\n",
    "                                        facecolor='#738FC1',\n",
    "                                        clip_on=False,\n",
    "                                        linewidth = 0))\n",
    "ax.text(-38 + 0.5 * 8, max(footprint) * 1.2, 'RNAP', fontsize = 10, color = 'k',\n",
    "         ha='center', va='baseline')\n",
    "\n",
    "ax.add_patch(mpl.patches.Rectangle((-15, max(footprint)*1.15),\n",
    "                                        10,\n",
    "                                        max(footprint) * 0.2,\n",
    "                                        facecolor='#738FC1',\n",
    "                                        clip_on=False,\n",
    "                                        linewidth = 0))\n",
    "ax.text(-15 + 0.5 * 10, max(footprint) * 1.2, 'RNAP', fontsize = 10, color = 'k',\n",
    "         ha='center', va='baseline')\n",
    "\n",
    "ax.add_patch(mpl.patches.Rectangle((2, max(footprint)*1.15),\n",
    "                                        18,\n",
    "                                        max(footprint) * 0.2,\n",
    "                                        facecolor='#D56C55',\n",
    "                                        clip_on=False,\n",
    "                                        linewidth = 0))\n",
    "ax.text(2 + 0.5 * 18, max(footprint) * 1.2, 'LacI', fontsize = 10, color = 'k',\n",
    "         ha='center', va='baseline')\n",
    "\n",
    "\n",
    "windowsize=3\n",
    "cut = int((windowsize - 1) / 2)\n",
    "x = np.arange(-115 + cut, 45 - cut)\n",
    "shiftcolors = [('#D56C55' if exshift > 0 else '#738FC1') for exshift in exshift_list]\n",
    "ax.bar(x, footprint, color=shiftcolors, edgecolor=None, linewidth=0)\n",
    "ax.set_ylabel('Information (bits)', fontsize=12)\n",
    "\n",
    "custom_lines = [Line2D([0], [0], color='#D56C55', lw=4),\n",
    "                Line2D([0], [0], color='#738FC1', lw=4)]\n",
    "plt.legend(custom_lines,\n",
    "           ['Mutation\\nincreases\\nexpression', 'Mutation\\ndecreases\\nexpression'],\n",
    "           bbox_to_anchor=(1.2, 0.95), frameon=False)\n",
    "\n",
    "plt.tight_layout()\n",
    "plt.savefig('../../figs/noisy_footprint.png', dpi=300, bbox_inches='tight')\n",
    "plt.show()"
   ]
  },
  {
   "attachments": {},
   "cell_type": "markdown",
   "metadata": {},
   "source": [
    "## Simple activation"
   ]
  },
  {
   "cell_type": "code",
   "execution_count": 14,
   "metadata": {},
   "outputs": [],
   "source": [
    "def simact_pbound(p_seq, a_seq, p_emat, a_emat, n_p, n_a, n_NS,\n",
    "                  ep_wt=0, ea_wt=0, e_ap=0):\n",
    "\n",
    "    p = (n_p / n_NS) * tregs.simulate.get_weight(p_seq, p_emat, e_wt=ep_wt)\n",
    "    a = (n_a / n_NS) * tregs.simulate.get_weight(a_seq, a_emat, e_wt=ea_wt)\n",
    "    w = np.exp(-e_ap)\n",
    "\n",
    "    pbound = (p + a * p * w) / (1 + a + p + a * p * w)\n",
    "\n",
    "    return pbound\n",
    "\n",
    "\n",
    "def simact_helper(mutants, rnap_start, rnap_end, act_start, act_end,\n",
    "                  rnap_emat, act_emat, n_p, n_a, n_NS,\n",
    "                  ep_wt=0, ea_wt=0, e_ap=0):\n",
    "\n",
    "    l_tr = []\n",
    "    for mut in mutants:\n",
    "        rv = {}\n",
    "        rv['seq'] = mut\n",
    "        rnap_mut = mut[rnap_start:rnap_end].upper()\n",
    "        act_mut = mut[act_start:act_end].upper()\n",
    "        rv['pbound'] = simact_pbound(rnap_mut, act_mut, rnap_emat, act_emat,\n",
    "                                     n_p, n_a, n_NS,\n",
    "                                     ep_wt=ep_wt, ea_wt=ea_wt, e_ap=e_ap)\n",
    "        l_tr.append(rv)\n",
    "    df = pd.DataFrame.from_records(l_tr)\n",
    "\n",
    "    return df\n",
    "\n",
    "\n",
    "def amplify(seq_cnt, rounds, alpha=10, beta=1.5):\n",
    "    num_seqs = len(seq_cnt)\n",
    "    for round in range(rounds):\n",
    "        amp_factor = 1 + np.random.beta(a=alpha, b=beta, size=num_seqs)\n",
    "        seq_cnt = np.multiply(seq_cnt, amp_factor)\n",
    "    scaling_factor = 10**(len(str(int(min(seq_cnt)))) - 1)\n",
    "    return seq_cnt / scaling_factor\n",
    "\n",
    "\n",
    "def simact_with_pcr(wtseq, rnap_wtseq, act_wtseq,\n",
    "           rnap_emat, act_emat, n_p, n_a, n_NS,\n",
    "           ep_wt=0, ea_wt=0, e_ap=0,\n",
    "           num_mutants=1000, scaling_factor=100,\n",
    "           rounds=20, alpha=10, beta=1.5):\n",
    "    \n",
    "    mutants = np.unique(tregs.wgregseq.mutations_rand(\n",
    "                                    wtseq,\n",
    "                                    rate=0.1,\n",
    "                                    num_mutants=num_mutants,\n",
    "                                    number_fixed=True))\n",
    "\n",
    "    rnap_start, rnap_end = tregs.seq_utils.find_binding_site(wtseq, rnap_wtseq)\n",
    "    act_start, act_end = tregs.seq_utils.find_binding_site(wtseq, act_wtseq)\n",
    "\n",
    "    df = simact_helper(mutants, rnap_start, rnap_end, act_start, act_end,\n",
    "                       rnap_emat, act_emat, n_p, n_a, n_NS,\n",
    "                       ep_wt, ea_wt, e_ap)\n",
    "    \n",
    "    dna_cnt = tregs.simulate.get_dna_cnt(len(df))\n",
    "    df['ct_0'] = dna_cnt\n",
    "    df = df[df.ct_0 != 0.0]\n",
    "\n",
    "    df['ct_1_original'] = df['ct_0'] * df['pbound']\n",
    "    rna_cnt = amplify(df['ct_1_original'].to_numpy(), rounds, alpha=alpha, beta=beta)\n",
    "    df['ct_1'] = rna_cnt\n",
    "    #df['ct_1'] = 1 + df['ct_1'].astype(int) # adding 1 as a pseudocount\n",
    "    \n",
    "    df['ct_0'] = df['ct_0'].astype(float)\n",
    "    df['ct_1'] = df['ct_1'].astype(float)\n",
    "    df['noise'] = (df['ct_1'].to_numpy() / np.min(df['ct_1'])) / (df['ct_1_original'].to_numpy() / np.min(df['ct_1_original']))\n",
    "    df['norm_ct_1'] = df['ct_1'] / df['ct_0']\n",
    "\n",
    "    return df\n",
    "\n",
    "\n",
    "def random_sampling(df, n=10**5):\n",
    "    df_large = df.loc[df.index.repeat(df.ct_1)]\n",
    "    print(len(df_large))\n",
    "    print('There are {} copies of RNA in total'.format(np.sum(df['ct_1'])))\n",
    "    \n",
    "    df_random = df_large.sample(n=n).drop_duplicates()\n",
    "    print('The current library size is {}'.format(len(df_random)))\n",
    "    print('Library diversity decreaes by {:.1f}%'.format( (1 - len(df_random) / len(df)) * 100))\n",
    "    return df_random\n",
    "\n",
    "\n",
    "def get_footprint_with_noise(wtseq, rnap_wtseq, act_wtseq,\n",
    "                             rnap_emat, act_emat, n_p, n_a, n_NS,\n",
    "                             ep_wt, ea_wt, e_ap, \n",
    "                             rounds=20, alpha=10, beta=1.5, sample_size=1000):\n",
    "    \n",
    "    df = simact_with_pcr(wtseq, rnap_wtseq, act_wtseq,\n",
    "                         rnap_emat, act_emat, n_p, n_a, n_NS,\n",
    "                         ep_wt=ep_wt, ea_wt=ea_wt, e_ap=e_ap,\n",
    "                         num_mutants=1000,\n",
    "                         rounds=rounds, alpha=alpha, beta=beta)\n",
    "\n",
    "    df_random = random_sampling(df, n=sample_size)\n",
    "    mut_list = df_random['seq'].values\n",
    "    mu_data = df_random['norm_ct_1']\n",
    "\n",
    "    nbins = 2\n",
    "    upper_bound = np.mean(mu_data)\n",
    "    footprint = tregs.footprint.get_info_footprint(mut_list, mu_data, promoter, nbins, upper_bound)\n",
    "    exshift_list = tregs.footprint.get_expression_shift(mut_list, mu_data.values, promoter,\n",
    "                                                        smoothed=True, windowsize=3)\n",
    "    return footprint, exshift_list, mu_data"
   ]
  },
  {
   "cell_type": "code",
   "execution_count": 15,
   "metadata": {},
   "outputs": [],
   "source": [
    "def plot_footprint(footprint, exshift_list,\n",
    "                   outfile=None):\n",
    "    \n",
    "    fig, ax = plt.subplots(figsize=(12,2.5))\n",
    "\n",
    "    ax.axvspan(-38, -30, alpha=0.7, color='#A9BFE3')\n",
    "    ax.axvspan(-15, -5, alpha=0.7, color='#A9BFE3')\n",
    "    ax.axvspan(-70, -52, alpha=0.7, color='#DCECCB')\n",
    "\n",
    "    ax.set_ylim(top=max(footprint)*1.15)\n",
    "    ax.add_patch(mpl.patches.Rectangle((-38, max(footprint)*1.15),\n",
    "                                            8,\n",
    "                                            max(footprint) * 0.2,\n",
    "                                            facecolor='#738FC1',\n",
    "                                            clip_on=False,\n",
    "                                            linewidth = 0))\n",
    "    ax.text(-38 + 0.5 * 8, max(footprint) * 1.2, 'RNAP', fontsize = 10, color = 'k',\n",
    "            ha='center', va='baseline')\n",
    "\n",
    "    ax.add_patch(mpl.patches.Rectangle((-15, max(footprint)*1.15),\n",
    "                                            10,\n",
    "                                            max(footprint) * 0.2,\n",
    "                                            facecolor='#738FC1',\n",
    "                                            clip_on=False,\n",
    "                                            linewidth = 0))\n",
    "    ax.text(-15 + 0.5 * 10, max(footprint) * 1.2, 'RNAP', fontsize = 10, color = 'k',\n",
    "            ha='center', va='baseline')\n",
    "\n",
    "    ax.add_patch(mpl.patches.Rectangle((-70, max(footprint)*1.15),\n",
    "                                            18,\n",
    "                                            max(footprint) * 0.2,\n",
    "                                            facecolor='#7AA974',\n",
    "                                            clip_on=False,\n",
    "                                            linewidth = 0))\n",
    "    ax.text(-70 + 0.5 * 18, max(footprint) * 1.2, 'CRP', fontsize = 10, color = 'k',\n",
    "            ha='center', va='baseline')\n",
    "\n",
    "\n",
    "    windowsize=3\n",
    "    cut = int((windowsize - 1) / 2)\n",
    "    x = np.arange(-115 + cut, 45 - cut)\n",
    "    shiftcolors = [('#D56C55' if exshift > 0 else '#738FC1') for exshift in exshift_list]\n",
    "    ax.bar(x, footprint, color=shiftcolors, edgecolor=None, linewidth=0)\n",
    "    ax.set_ylabel('Information (bits)', fontsize=12)\n",
    "\n",
    "    custom_lines = [Line2D([0], [0], color='#D56C55', lw=4),\n",
    "                    Line2D([0], [0], color='#738FC1', lw=4)]\n",
    "    plt.legend(custom_lines,\n",
    "            ['Mutation\\nincreases\\nexpression', 'Mutation\\ndecreases\\nexpression'],\n",
    "            bbox_to_anchor=(1.2, 0.95), frameon=False)\n",
    "\n",
    "    plt.tight_layout()\n",
    "    if outfile is not None:\n",
    "        plt.savefig(outfile, dpi=300, bbox_inches='tight')\n",
    "    plt.show()"
   ]
  },
  {
   "cell_type": "code",
   "execution_count": 16,
   "metadata": {},
   "outputs": [],
   "source": [
    "crp_site = 'ATTAATGTGAGTTAGCTCACTCATTA'\n",
    "crp_emat_raw = pd.read_table('../../data/energy_matrices/crp_tau_final_all_26.txt', delim_whitespace=True)\n",
    "crp_emat = crp_emat_raw[['par_A', 'par_C', 'par_G', 'par_T']].to_numpy().T * 1.62"
   ]
  },
  {
   "cell_type": "code",
   "execution_count": 17,
   "metadata": {},
   "outputs": [],
   "source": [
    "# only increasing strength of RNAP-activator binding\n",
    "\n",
    "n_NS = len(genome)\n",
    "n_p = 4600\n",
    "n_a = 50\n",
    "ep_wt = -7\n",
    "ea_wt = -15\n",
    "e_ap = -7"
   ]
  },
  {
   "cell_type": "code",
   "execution_count": 18,
   "metadata": {},
   "outputs": [
    {
     "name": "stdout",
     "output_type": "stream",
     "text": [
      "96077\n",
      "There are 96574.02687563872 copies of RNA in total\n",
      "The current library size is 874\n",
      "Library diversity decreaes by 12.6%\n"
     ]
    },
    {
     "data": {
      "image/png": "[encoded data removed]",
      "text/plain": [
       "<Figure size 864x180 with 1 Axes>"
      ]
     },
     "metadata": {},
     "output_type": "display_data"
    }
   ],
   "source": [
    "footprint, exshift_list, mu_data = get_footprint_with_noise(promoter, rnap_site, crp_site,\n",
    "                                                            rnap_emat, crp_emat, n_p, n_a, n_NS,\n",
    "                                                            ep_wt, ea_wt, e_ap,\n",
    "                                                            rounds=5, sample_size=10000)\n",
    "\n",
    "plot_footprint(footprint, exshift_list,\n",
    "               outfile='../../figs/noisy_simact.png')"
   ]
  }
 ],
 "metadata": {
  "kernelspec": {
   "display_name": "theoretical_regseq",
   "language": "python",
   "name": "python3"
  },
  "language_info": {
   "codemirror_mode": {
    "name": "ipython",
    "version": 3
   },
   "file_extension": ".py",
   "mimetype": "text/x-python",
   "name": "python",
   "nbconvert_exporter": "python",
   "pygments_lexer": "ipython3",
   "version": "3.10.4"
  },
  "orig_nbformat": 4
 },
 "nbformat": 4,
 "nbformat_minor": 2
}
