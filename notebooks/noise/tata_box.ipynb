{
 "cells": [
  {
   "cell_type": "code",
   "execution_count": 1,
   "metadata": {},
   "outputs": [],
   "source": [
    "# processing\n",
    "import numpy as np\n",
    "import pandas as pd\n",
    "from Bio import SeqIO\n",
    "\n",
    "# custom package\n",
    "import tregs\n",
    "\n",
    "# visualization\n",
    "import matplotlib.pyplot as plt\n",
    "import seaborn as sns\n",
    "sns.set_style(\"ticks\")"
   ]
  },
  {
   "attachments": {},
   "cell_type": "markdown",
   "metadata": {},
   "source": [
    "### Functions"
   ]
  },
  {
   "cell_type": "code",
   "execution_count": 2,
   "metadata": {},
   "outputs": [],
   "source": [
    "def count_matches(seq1, seq2, key_sites=None):\n",
    "\n",
    "    if key_sites is not None:\n",
    "        sites = key_sites\n",
    "    else:\n",
    "        sites = np.arange(len(seq1))\n",
    "    \n",
    "    n_matches = 0\n",
    "    for i in sites:\n",
    "        if seq1[i] == seq2[i]:\n",
    "            n_matches += 1\n",
    "\n",
    "    return n_matches"
   ]
  },
  {
   "cell_type": "code",
   "execution_count": 3,
   "metadata": {},
   "outputs": [],
   "source": [
    "def search_tata(seqs, positional=False, key_sites=None):\n",
    "    if key_sites is not None:\n",
    "        matches = np.zeros(len(key_sites) + 1)\n",
    "    else:\n",
    "        matches = np.zeros(7)\n",
    "\n",
    "    if positional:\n",
    "        matches_pos = np.zeros((7, 160))\n",
    "    for seq in seqs:\n",
    "        seq = seq.upper()\n",
    "        for i in range(len(seq) - 6):\n",
    "            window = seq[i:(i+6)]\n",
    "            m = count_matches(window, 'TATAAT', key_sites=key_sites)\n",
    "            matches[m] += 1\n",
    "            if positional:\n",
    "                matches_pos[m, i] += 1\n",
    "    if positional:\n",
    "        return matches, matches_pos\n",
    "    else:\n",
    "        return matches"
   ]
  },
  {
   "attachments": {},
   "cell_type": "markdown",
   "metadata": {},
   "source": [
    "### Finding TATA-boxes in the entire genome"
   ]
  },
  {
   "cell_type": "code",
   "execution_count": 4,
   "metadata": {},
   "outputs": [],
   "source": [
    "_genome = []\n",
    "for record in SeqIO.parse(\"../../data/mg1655_genome.fasta\", \"fasta\"):\n",
    "    _genome.append(str(record.seq))\n",
    "genome = _genome[0]"
   ]
  },
  {
   "cell_type": "code",
   "execution_count": 5,
   "metadata": {},
   "outputs": [],
   "source": [
    "matches = search_tata([genome])"
   ]
  },
  {
   "cell_type": "code",
   "execution_count": 6,
   "metadata": {},
   "outputs": [
    {
     "name": "stdout",
     "output_type": "stream",
     "text": [
      "There are 163481.0 TATA-like boxes in the E. coli genome\n"
     ]
    }
   ],
   "source": [
    "print('There are {} TATA-like boxes in the E. coli genome'.format(np.sum(matches[4:])))"
   ]
  },
  {
   "cell_type": "code",
   "execution_count": 7,
   "metadata": {},
   "outputs": [
    {
     "data": {
      "image/png": "[encoded data removed]",
      "text/plain": [
       "<Figure size 432x288 with 1 Axes>"
      ]
     },
     "metadata": {},
     "output_type": "display_data"
    }
   ],
   "source": [
    "fig, ax = plt.subplots()\n",
    "ax.bar(np.arange(0,7,1), matches)\n",
    "ax.set_yscale('log')\n",
    "ax.set_xlabel('Number of matches with TATAAT')\n",
    "ax.set_ylabel('Count')\n",
    "plt.show()"
   ]
  },
  {
   "cell_type": "code",
   "execution_count": 8,
   "metadata": {},
   "outputs": [],
   "source": [
    "matches = search_tata([genome], key_sites=[2,3,4])"
   ]
  },
  {
   "cell_type": "code",
   "execution_count": 9,
   "metadata": {},
   "outputs": [
    {
     "data": {
      "text/plain": [
       "array([2001293., 1922703.,  648792.,   68858.])"
      ]
     },
     "execution_count": 9,
     "metadata": {},
     "output_type": "execute_result"
    }
   ],
   "source": [
    "matches"
   ]
  },
  {
   "cell_type": "code",
   "execution_count": 10,
   "metadata": {},
   "outputs": [
    {
     "name": "stdout",
     "output_type": "stream",
     "text": [
      "There are 68858.0 TATA-like boxes in the E. coli genome\n"
     ]
    }
   ],
   "source": [
    "print('There are {} TATA-like boxes in the E. coli genome'.format(matches[-1]))"
   ]
  },
  {
   "attachments": {},
   "cell_type": "markdown",
   "metadata": {},
   "source": [
    "### Find TATA-boxes in the promoters"
   ]
  },
  {
   "cell_type": "code",
   "execution_count": 11,
   "metadata": {},
   "outputs": [
    {
     "data": {
      "text/html": [
       "<div>\n",
       "<style scoped>\n",
       "    .dataframe tbody tr th:only-of-type {\n",
       "        vertical-align: middle;\n",
       "    }\n",
       "\n",
       "    .dataframe tbody tr th {\n",
       "        vertical-align: top;\n",
       "    }\n",
       "\n",
       "    .dataframe thead th {\n",
       "        text-align: right;\n",
       "    }\n",
       "</style>\n",
       "<table border=\"1\" class=\"dataframe\">\n",
       "  <thead>\n",
       "    <tr style=\"text-align: right;\">\n",
       "      <th></th>\n",
       "      <th>gene</th>\n",
       "      <th>promoter</th>\n",
       "      <th>gene_position</th>\n",
       "      <th>direction</th>\n",
       "      <th>tss</th>\n",
       "      <th>evidence</th>\n",
       "    </tr>\n",
       "  </thead>\n",
       "  <tbody>\n",
       "    <tr>\n",
       "      <th>0</th>\n",
       "      <td>accA</td>\n",
       "      <td>accAp2</td>\n",
       "      <td>208621.0</td>\n",
       "      <td>+</td>\n",
       "      <td>208326.0</td>\n",
       "      <td>[\"none\", \"EXP\"]</td>\n",
       "    </tr>\n",
       "    <tr>\n",
       "      <th>1</th>\n",
       "      <td>accA</td>\n",
       "      <td>accAp1</td>\n",
       "      <td>208621.0</td>\n",
       "      <td>+</td>\n",
       "      <td>208411.0</td>\n",
       "      <td>[\"COMP\", \"EXP\", \"EXP\"]</td>\n",
       "    </tr>\n",
       "    <tr>\n",
       "      <th>2</th>\n",
       "      <td>accB</td>\n",
       "      <td>accBp1</td>\n",
       "      <td>3405436.0</td>\n",
       "      <td>+</td>\n",
       "      <td>3405140.0</td>\n",
       "      <td>[\"COMP\", \"EXP\", \"COMP\"]</td>\n",
       "    </tr>\n",
       "    <tr>\n",
       "      <th>4</th>\n",
       "      <td>accB</td>\n",
       "      <td>accBp2</td>\n",
       "      <td>3405436.0</td>\n",
       "      <td>+</td>\n",
       "      <td>3405172.0</td>\n",
       "      <td>[\"none\", \"EXP\"]</td>\n",
       "    </tr>\n",
       "    <tr>\n",
       "      <th>6</th>\n",
       "      <td>accD</td>\n",
       "      <td>accDp</td>\n",
       "      <td>2433926.0</td>\n",
       "      <td>-</td>\n",
       "      <td>2434015.0</td>\n",
       "      <td>[\"COMP\", \"COMP\", \"EXP\"]</td>\n",
       "    </tr>\n",
       "  </tbody>\n",
       "</table>\n",
       "</div>"
      ],
      "text/plain": [
       "   gene promoter  gene_position direction        tss                 evidence\n",
       "0  accA   accAp2       208621.0         +   208326.0          [\"none\", \"EXP\"]\n",
       "1  accA   accAp1       208621.0         +   208411.0   [\"COMP\", \"EXP\", \"EXP\"]\n",
       "2  accB   accBp1      3405436.0         +  3405140.0  [\"COMP\", \"EXP\", \"COMP\"]\n",
       "4  accB   accBp2      3405436.0         +  3405172.0          [\"none\", \"EXP\"]\n",
       "6  accD    accDp      2433926.0         -  2434015.0  [\"COMP\", \"COMP\", \"EXP\"]"
      ]
     },
     "execution_count": 11,
     "metadata": {},
     "output_type": "execute_result"
    }
   ],
   "source": [
    "df = pd.read_csv('../../data/ecoli_gene_list.csv')\n",
    "df = df.drop_duplicates(subset='tss')\n",
    "df.head()"
   ]
  },
  {
   "cell_type": "code",
   "execution_count": 12,
   "metadata": {},
   "outputs": [],
   "source": [
    "promoters = []\n",
    "for index, row in df.iterrows():\n",
    "    promoter = tregs.seq_utils.get_regulatory_region(genome, int(row['tss']), reverse=True)\n",
    "    promoters.append(promoter)"
   ]
  },
  {
   "cell_type": "code",
   "execution_count": 13,
   "metadata": {},
   "outputs": [],
   "source": [
    "matches_promoters = search_tata(promoters)"
   ]
  },
  {
   "cell_type": "code",
   "execution_count": 14,
   "metadata": {},
   "outputs": [
    {
     "data": {
      "image/png": "[encoded data removed]",
      "text/plain": [
       "<Figure size 432x288 with 1 Axes>"
      ]
     },
     "metadata": {},
     "output_type": "display_data"
    }
   ],
   "source": [
    "fig, ax = plt.subplots()\n",
    "ax.bar(np.arange(0,7,1), matches_promoters)\n",
    "ax.set_yscale('log')\n",
    "ax.set_xlabel('Number of matches with TATAAT')\n",
    "ax.set_ylabel('Count')\n",
    "plt.show()"
   ]
  },
  {
   "cell_type": "code",
   "execution_count": 15,
   "metadata": {},
   "outputs": [
    {
     "data": {
      "text/plain": [
       "5.903245173318166"
      ]
     },
     "execution_count": 15,
     "metadata": {},
     "output_type": "execute_result"
    }
   ],
   "source": [
    "np.sum(matches_promoters[4:]) / np.sum(matches_promoters) * 100"
   ]
  },
  {
   "attachments": {},
   "cell_type": "markdown",
   "metadata": {},
   "source": [
    "### Plotting the position of the TATAAT boxes"
   ]
  },
  {
   "cell_type": "code",
   "execution_count": 16,
   "metadata": {},
   "outputs": [],
   "source": [
    "matches, pos = search_tata(promoters, positional=True)"
   ]
  },
  {
   "cell_type": "code",
   "execution_count": 17,
   "metadata": {},
   "outputs": [
    {
     "data": {
      "text/plain": [
       "array([[287., 326., 320., ...,   0.,   0.,   0.],\n",
       "       [706., 686., 698., ...,   0.,   0.,   0.],\n",
       "       [664., 622., 596., ...,   0.,   0.,   0.],\n",
       "       ...,\n",
       "       [ 82.,  86.,  84., ...,   0.,   0.,   0.],\n",
       "       [  9.,   8.,  10., ...,   0.,   0.,   0.],\n",
       "       [  1.,   0.,   1., ...,   0.,   0.,   0.]])"
      ]
     },
     "execution_count": 17,
     "metadata": {},
     "output_type": "execute_result"
    }
   ],
   "source": [
    "pos"
   ]
  },
  {
   "cell_type": "code",
   "execution_count": 18,
   "metadata": {},
   "outputs": [
    {
     "data": {
      "image/png": "[encoded data removed]",
      "text/plain": [
       "<Figure size 720x504 with 3 Axes>"
      ]
     },
     "metadata": {},
     "output_type": "display_data"
    }
   ],
   "source": [
    "fig, axes = plt.subplots(3, 1, figsize=(10,7),\n",
    "                         sharex=True)\n",
    "for i in range(3):\n",
    "    axes[i].bar(np.arange(-115, 45), pos[4:][i, :])\n",
    "    axes[i].set_title('{} mismatches with TATAAT box'.format(2-i))\n",
    "    axes[i].set_ylabel('Count', fontsize=12)\n",
    "\n",
    "axes[-1].set_xlabel('Position along the promoter', fontsize=12)\n",
    "\n",
    "plt.tight_layout()\n",
    "plt.show()"
   ]
  },
  {
   "attachments": {},
   "cell_type": "markdown",
   "metadata": {},
   "source": [
    "### Counting the number of mismatches after enforcing the TAXXXT motif"
   ]
  },
  {
   "cell_type": "code",
   "execution_count": 24,
   "metadata": {},
   "outputs": [],
   "source": [
    "def count_strong_matches(seq1, seq2, key_sites):\n",
    "\n",
    "    matched = True\n",
    "    for i in key_sites:\n",
    "        if seq1[i] != seq2[i]:\n",
    "            matched = False\n",
    "    \n",
    "    if matched:    \n",
    "        n_matches = 0\n",
    "        for ii in range(len(seq1)):\n",
    "            if ii not in key_sites:\n",
    "                if seq1[ii] == seq2[ii]:\n",
    "                    n_matches += 1\n",
    "    else:\n",
    "        n_matches = -1\n",
    "\n",
    "    return n_matches"
   ]
  },
  {
   "cell_type": "code",
   "execution_count": 25,
   "metadata": {},
   "outputs": [],
   "source": [
    "def search_tata_strong(seqs, key_sites):\n",
    "\n",
    "    matches = np.zeros(len(key_sites) + 1)\n",
    "    matches_pos = np.zeros((len(key_sites) + 1, 160))\n",
    "\n",
    "    for seq in seqs:\n",
    "        seq = seq.upper()\n",
    "        for i in range(len(seq) - 6):\n",
    "            window = seq[i:(i+6)]\n",
    "            m = count_strong_matches(window, 'TATAAT', key_sites)\n",
    "            matches[m] += 1\n",
    "            matches_pos[m, i] += 1\n",
    "\n",
    "    return matches, matches_pos"
   ]
  },
  {
   "cell_type": "code",
   "execution_count": 26,
   "metadata": {},
   "outputs": [],
   "source": [
    "matches, pos = search_tata_strong(promoters, [0, 1, 5])"
   ]
  },
  {
   "cell_type": "code",
   "execution_count": 34,
   "metadata": {},
   "outputs": [
    {
     "data": {
      "image/png": "[encoded data removed]",
      "text/plain": [
       "<Figure size 720x360 with 2 Axes>"
      ]
     },
     "metadata": {},
     "output_type": "display_data"
    }
   ],
   "source": [
    "fig, axes = plt.subplots(2, 1, figsize=(10,5),\n",
    "                         sharex=True)\n",
    "for i in range(2):\n",
    "    axes[i].bar(np.arange(-115, 45), pos[:2][i, :])\n",
    "    axes[i].set_title('TAXXXT motif with {} mismatches at positions 3, 4, 5'.format(2-i))\n",
    "    axes[i].set_ylabel('Count', fontsize=12)\n",
    "\n",
    "axes[-1].set_xlabel('Position along the promoter', fontsize=12)\n",
    "\n",
    "plt.tight_layout()\n",
    "plt.show()"
   ]
  },
  {
   "cell_type": "code",
   "execution_count": null,
   "metadata": {},
   "outputs": [],
   "source": []
  }
 ],
 "metadata": {
  "kernelspec": {
   "display_name": "theoretical_regseq",
   "language": "python",
   "name": "python3"
  },
  "language_info": {
   "codemirror_mode": {
    "name": "ipython",
    "version": 3
   },
   "file_extension": ".py",
   "mimetype": "text/x-python",
   "name": "python",
   "nbconvert_exporter": "python",
   "pygments_lexer": "ipython3",
   "version": "3.10.4"
  },
  "orig_nbformat": 4
 },
 "nbformat": 4,
 "nbformat_minor": 2
}
