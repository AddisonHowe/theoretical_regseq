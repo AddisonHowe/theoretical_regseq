{
 "cells": [
  {
   "cell_type": "code",
   "execution_count": 1,
   "metadata": {
    "collapsed": false
   },
   "outputs": [
    {
     "data": {
      "text/plain": [
       "{'green': '#7AA974',\n",
       " 'light_green': '#BFD598',\n",
       " 'pale_green': '#DCECCB',\n",
       " 'yellow': '#EAC264',\n",
       " 'light_yellow': '#F3DAA9',\n",
       " 'pale_yellow': '#FFEDCE',\n",
       " 'blue': '#738FC1',\n",
       " 'light_blue': '#A9BFE3',\n",
       " 'pale_blue': '#C9D7EE',\n",
       " 'red': '#D56C55',\n",
       " 'light_red': '#E8B19D',\n",
       " 'pale_red': '#F1D4C9',\n",
       " 'purple': '#AB85AC',\n",
       " 'light_purple': '#D4C2D9',\n",
       " 'dark_green': '#7E9D90',\n",
       " 'dark_brown': '#905426'}"
      ]
     },
     "execution_count": 1,
     "metadata": {},
     "output_type": "execute_result"
    }
   ],
   "source": [
    "# processing\n",
    "import math\n",
    "import numpy as np\n",
    "import pandas as pd\n",
    "from Bio import SeqIO\n",
    "\n",
    "# custom packages\n",
    "import tregs\n",
    "\n",
    "# visualization\n",
    "import matplotlib as mpl\n",
    "import matplotlib.pyplot as plt\n",
    "from matplotlib.lines import Line2D\n",
    "plt.rcParams.update({'font.size': 12})\n",
    "\n",
    "from matplotlib import font_manager\n",
    "font_manager.fontManager.addfont('../../misc/lucida-sans-unicode.ttf')\n",
    "\n",
    "import seaborn as sns\n",
    "tregs.mpl_pboc.plotting_style()"
   ]
  },
  {
   "attachments": {},
   "cell_type": "markdown",
   "metadata": {},
   "source": [
    "### Loading input data"
   ]
  },
  {
   "cell_type": "code",
   "execution_count": 2,
   "metadata": {},
   "outputs": [],
   "source": [
    "_genome = []\n",
    "for record in SeqIO.parse(\"../../data/mg1655_genome.fasta\", \"fasta\"):\n",
    "    _genome.append(str(record.seq))\n",
    "genome = _genome[0]"
   ]
  },
  {
   "cell_type": "code",
   "execution_count": 3,
   "metadata": {},
   "outputs": [
    {
     "data": {
      "text/plain": [
       "'ACAGGTTTCCCGACTGGAAAGCGGGCAGTGAGCGCAACGCAATTAATGTGAGTTAGCTCACTCATTAGGCACCCCAGGCTTTACACTTTATGCTTCCGGCTCGTATGTTGTGTGGAATTGTGAGCGGATAACAATTTCACACAGGAAACAGCTATGACCA'"
      ]
     },
     "execution_count": 3,
     "metadata": {},
     "output_type": "execute_result"
    }
   ],
   "source": [
    "# Promoter\n",
    "rnap_site = 'CAGGCTTTACACTTTATGCTTCCGGCTCGTATGTTGTGTGG'\n",
    "\n",
    "# Operator sequence\n",
    "rep_site = 'AATTGTGAGCGGATAACAATT'\n",
    "\n",
    "## Find the transcription start site\n",
    "df = pd.read_csv('../../data/ecoli_gene_list.csv')\n",
    "lacZYA_TSS = int(df[(df.gene == 'lacZ') & (df.promoter == 'lacZp1')]['tss'].iloc[0])\n",
    "promoter = tregs.seq_utils.get_regulatory_region(genome, lacZYA_TSS, reverse=True)\n",
    "promoter"
   ]
  },
  {
   "cell_type": "code",
   "execution_count": 4,
   "metadata": {},
   "outputs": [],
   "source": [
    "# obtained from https://journals.plos.org/ploscompbiol/article/figure?id=10.1371/journal.pcbi.1002811.g002\n",
    "\n",
    "rnap_emat_raw = np.loadtxt('../../data/energy_matrices/RNAP_energy_matrix.txt')\n",
    "rnap_emat = tregs.simulate.fix_wt(rnap_emat_raw, rnap_site)"
   ]
  },
  {
   "cell_type": "code",
   "execution_count": 5,
   "metadata": {},
   "outputs": [],
   "source": [
    "O1_1027_raw = np.load('../../data/energy_matrices/lacThermoforTO1.npy')\n",
    "\n",
    "O1_1027_fixed = np.zeros(np.shape(O1_1027_raw))\n",
    "for i in range(3):\n",
    "    O1_1027_fixed[i] = tregs.simulate.fix_wt(O1_1027_raw[i], rep_site)\n",
    "\n",
    "rep_emat = np.mean(O1_1027_fixed, axis=0)"
   ]
  },
  {
   "attachments": {},
   "cell_type": "markdown",
   "metadata": {},
   "source": [
    "### Searching for TATA-like boxes in the lacZYA promoter"
   ]
  },
  {
   "cell_type": "code",
   "execution_count": 6,
   "metadata": {},
   "outputs": [],
   "source": [
    "def count_strong_matches(seq1, seq2, key_sites):\n",
    "\n",
    "    matched = True\n",
    "    for i in key_sites:\n",
    "        if seq1[i] != seq2[i]:\n",
    "            matched = False\n",
    "    \n",
    "    if matched:    \n",
    "        n_matches = 0\n",
    "        for ii in range(len(seq1)):\n",
    "            if ii not in key_sites:\n",
    "                if seq1[ii] == seq2[ii]:\n",
    "                    n_matches += 1\n",
    "    else:\n",
    "        n_matches = -1\n",
    "\n",
    "    return n_matches"
   ]
  },
  {
   "cell_type": "code",
   "execution_count": 7,
   "metadata": {},
   "outputs": [],
   "source": [
    "def search_tata_strong(seqs, key_sites):\n",
    "\n",
    "    matches = np.zeros(len(key_sites) + 1)\n",
    "    matches_pos = np.zeros((len(key_sites) + 1, 160))\n",
    "\n",
    "    for seq in seqs:\n",
    "        seq = seq.upper()\n",
    "        for i in range(len(seq) - 6):\n",
    "            window = seq[i:(i+6)]\n",
    "            m = count_strong_matches(window, 'TATAAT', key_sites)\n",
    "            matches[m] += 1\n",
    "            matches_pos[m, i] += 1\n",
    "\n",
    "    return matches, matches_pos"
   ]
  },
  {
   "cell_type": "code",
   "execution_count": 8,
   "metadata": {},
   "outputs": [],
   "source": [
    "matches, pos = search_tata_strong([promoter], [0, 1, 5])"
   ]
  },
  {
   "cell_type": "code",
   "execution_count": 9,
   "metadata": {},
   "outputs": [
    {
     "data": {
      "image/png": "[encoded data removed]",
      "text/plain": [
       "<Figure size 720x360 with 2 Axes>"
      ]
     },
     "metadata": {},
     "output_type": "display_data"
    }
   ],
   "source": [
    "fig, axes = plt.subplots(2, 1, figsize=(10,5),\n",
    "                         sharex=True)\n",
    "for i in range(2):\n",
    "    axes[i].bar(np.arange(-115, 45), pos[:2][i, :])\n",
    "    axes[i].set_title('TAXXXT motif with {} mismatches at positions 3, 4, 5'.format(2-i))\n",
    "    axes[i].set_ylabel('Count', fontsize=12)\n",
    "\n",
    "axes[-1].set_xlabel('Position along the promoter', fontsize=12)\n",
    "\n",
    "plt.tight_layout()\n",
    "plt.show()"
   ]
  },
  {
   "attachments": {},
   "cell_type": "markdown",
   "metadata": {},
   "source": [
    "Let's slide the energy matrix for RNAP and plot the binding energy at each site."
   ]
  },
  {
   "cell_type": "code",
   "execution_count": 10,
   "metadata": {},
   "outputs": [],
   "source": [
    "l_energy = []\n",
    "for i in range(160 - len(rnap_site)):\n",
    "    subseq = promoter[i:(i + len(rnap_site))].upper()\n",
    "    binding_energy = tregs.simulate.get_d_energy(subseq, rnap_emat, e_wt=-2.9)\n",
    "    l_energy.append(binding_energy)"
   ]
  },
  {
   "attachments": {},
   "cell_type": "markdown",
   "metadata": {},
   "source": [
    "As a first pass, we ignore the cases that the RNAP and the repressor can bind at the same site."
   ]
  },
  {
   "cell_type": "code",
   "execution_count": 11,
   "metadata": {},
   "outputs": [
    {
     "data": {
      "text/plain": [
       "(41, 4)"
      ]
     },
     "execution_count": 11,
     "metadata": {},
     "output_type": "execute_result"
    }
   ],
   "source": [
    "rnap_emat.shape"
   ]
  },
  {
   "cell_type": "code",
   "execution_count": 12,
   "metadata": {},
   "outputs": [
    {
     "data": {
      "text/plain": [
       "(21, 4)"
      ]
     },
     "execution_count": 12,
     "metadata": {},
     "output_type": "execute_result"
    }
   ],
   "source": [
    "rep_emat.shape"
   ]
  },
  {
   "cell_type": "code",
   "execution_count": 6,
   "metadata": {},
   "outputs": [],
   "source": [
    "def simrep_pbound(promoter_variant, rep_site, p_emat, r_emat, n_p, n_r, n_NS,\n",
    "                  ep_wt=0, er_wt=0):\n",
    "\n",
    "    w_rnap_tot = 0\n",
    "    for i in range(160 - p_emat.shape[0]):\n",
    "        subseq = promoter_variant[i:(i + p_emat.shape[0])].upper()\n",
    "        w_rnap = tregs.simulate.get_weight(subseq, p_emat, e_wt=ep_wt)\n",
    "        w_rnap_tot += w_rnap\n",
    "\n",
    "    w_r = tregs.simulate.get_weight(rep_site, r_emat, e_wt=er_wt)\n",
    "\n",
    "    return (n_p / n_NS * w_rnap_tot) / (1 + n_p / n_NS * w_rnap_tot + n_r / n_NS * w_r)"
   ]
  },
  {
   "cell_type": "code",
   "execution_count": 7,
   "metadata": {},
   "outputs": [],
   "source": [
    "def simrep_helper(mutants, rnap_start, rnap_end, rep_start, rep_end,\n",
    "                  rnap_emat, O1_emat, n_p, n_r, n_NS,\n",
    "                  ep_wt, er_wt):\n",
    "\n",
    "    l_tr = []\n",
    "    for mut in mutants:\n",
    "        rv = {}\n",
    "        rv['seq'] = mut\n",
    "        rv['pbound'] = simrep_pbound(mut, mut[rep_start:rep_end].upper(), rnap_emat, O1_emat,\n",
    "                                     n_p, n_r, n_NS,\n",
    "                                     ep_wt=ep_wt, er_wt=er_wt)\n",
    "        l_tr.append(rv)\n",
    "    df_simrep = pd.DataFrame.from_records(l_tr)\n",
    "\n",
    "    return df_simrep\n",
    "\n",
    "\n",
    "def get_dna_cnt(n_seqs):\n",
    "\n",
    "    dna_cnt = np.random.exponential(1, size=n_seqs) * 10\n",
    "\n",
    "    dna_cnt_up = []\n",
    "    for cnt in dna_cnt:\n",
    "        dna_cnt_up.append(math.ceil(cnt))\n",
    "\n",
    "    return dna_cnt\n",
    "\n",
    "\n",
    "def simrep(wtseq, rnap_wtseq, rep_wtseq, rnap_emat, rep_emat, \n",
    "           ep_wt, er_wt, n_NS, n_p, n_r,\n",
    "           num_mutants=10000, mutrate=0.1, scaling_factor=100):\n",
    "    \n",
    "    mutants = np.unique(tregs.wgregseq.mutations_rand(wtseq,\n",
    "                                       rate=mutrate,\n",
    "                                       num_mutants=num_mutants,\n",
    "                                       number_fixed=True))\n",
    "\n",
    "    rnap_start, rnap_end = tregs.seq_utils.find_binding_site(wtseq, rnap_wtseq)\n",
    "    rep_start, rep_end = tregs.seq_utils.find_binding_site(wtseq,rep_wtseq)\n",
    "\n",
    "    df_simrep = simrep_helper(mutants, rnap_start, rnap_end, rep_start, rep_end,\n",
    "                          rnap_emat, rep_emat, n_p, n_r, n_NS,\n",
    "                          ep_wt, er_wt)\n",
    "    \n",
    "    dna_cnt = get_dna_cnt(len(df_simrep))\n",
    "    df_simrep['ct_0'] = dna_cnt\n",
    "    df_simrep = df_simrep[df_simrep.ct_0 != 0.0]\n",
    "\n",
    "    df_simrep['ct_1'] = 0.1 + df_simrep['ct_0'] * df_simrep['pbound'] * scaling_factor\n",
    "    df_simrep['ct_1'] = df_simrep['ct_1'].astype(int)\n",
    "\n",
    "    df_simrep['ct_0'] = df_simrep['ct_0'].astype(float)\n",
    "    df_simrep['ct_1'] = df_simrep['ct_1'].astype(float)\n",
    "    df_simrep['norm_ct_1'] = df_simrep['ct_1'] / df_simrep['ct_0']\n",
    "\n",
    "    return df_simrep"
   ]
  },
  {
   "cell_type": "code",
   "execution_count": 8,
   "metadata": {},
   "outputs": [],
   "source": [
    "n_NS = len(genome)\n",
    "n_p = 4600\n",
    "n_r = 10\n",
    "\n",
    "ep_wt = -5\n",
    "er_wt = -15\n",
    "\n",
    "df = simrep(promoter, rnap_site, rep_site, rnap_emat, rep_emat, \n",
    "            ep_wt, er_wt, n_NS, n_p, n_r)"
   ]
  },
  {
   "cell_type": "code",
   "execution_count": 21,
   "metadata": {},
   "outputs": [
    {
     "data": {
      "image/png": "[encoded data removed]",
      "text/plain": [
       "<Figure size 864x180 with 1 Axes>"
      ]
     },
     "metadata": {},
     "output_type": "display_data"
    }
   ],
   "source": [
    "region_params = [(-38, -30, 'P', 'RNAP'), (-15, -5, 'P', 'RNAP'), (2, 17, 'R', 'LacI')]\n",
    "tregs.footprint.plot_footprint(promoter, df, region_params,\n",
    "                               up_scaling_factor=1.5,\n",
    "                               outfile='../../figs/simrep_footprint_spurious_binding.png')"
   ]
  },
  {
   "cell_type": "code",
   "execution_count": 23,
   "metadata": {},
   "outputs": [
    {
     "data": {
      "image/png": "[encoded data removed]",
      "text/plain": [
       "<Figure size 864x180 with 1 Axes>"
      ]
     },
     "metadata": {},
     "output_type": "display_data"
    }
   ],
   "source": [
    "n_NS = len(genome)\n",
    "n_p = 4600\n",
    "n_r = 10\n",
    "ep_wt = -5\n",
    "er_wt = -15\n",
    "\n",
    "df = tregs.simulate.sim(promoter, tregs.simulate.simrep_pbound, [rnap_site, rep_site], \n",
    "                        *[n_NS, n_p, n_r, rnap_emat, rep_emat, ep_wt, er_wt])\n",
    "\n",
    "region_params = [(-38, -30, 'P', 'RNAP'), (-15, -5, 'P', 'RNAP'), (2, 17, 'R', 'LacI')]\n",
    "tregs.footprint.plot_footprint(promoter, df, region_params,\n",
    "                               up_scaling_factor=1.5,\n",
    "                               outfile='../../figs/simrep_footprint_control.png')"
   ]
  },
  {
   "cell_type": "code",
   "execution_count": null,
   "metadata": {},
   "outputs": [],
   "source": []
  }
 ],
 "metadata": {
  "kernelspec": {
   "display_name": "theoretical_regseq",
   "language": "python",
   "name": "python3"
  },
  "language_info": {
   "codemirror_mode": {
    "name": "ipython",
    "version": 3
   },
   "file_extension": ".py",
   "mimetype": "text/x-python",
   "name": "python",
   "nbconvert_exporter": "python",
   "pygments_lexer": "ipython3",
   "version": "3.10.4"
  },
  "vscode": {
   "interpreter": {
    "hash": "b5793fdbd013b36b2bc0f38e105e8917934d5be643f8da82bca1fa4652d4ea09"
   }
  }
 },
 "nbformat": 4,
 "nbformat_minor": 2
}
