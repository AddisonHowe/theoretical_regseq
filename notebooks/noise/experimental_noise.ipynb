{
 "cells": [
  {
   "cell_type": "code",
   "execution_count": 1,
   "metadata": {},
   "outputs": [],
   "source": [
    "# processing\n",
    "import numpy as np\n",
    "import pandas as pd\n",
    "from Bio import SeqIO\n",
    "\n",
    "# custom packages\n",
    "import tregs\n",
    "\n",
    "# visualization\n",
    "import matplotlib.pyplot as plt\n",
    "import seaborn as sns\n",
    "plt.rcParams['figure.dpi'] = 150"
   ]
  },
  {
   "attachments": {},
   "cell_type": "markdown",
   "metadata": {},
   "source": [
    "It seems that experimental noise does lead to more noise in the information footprint. However, my hypothesis is that the level of noise has to be bigger than the bin size (so as to facilitate a sufficient number of bin transitions) in order to lead to noise."
   ]
  },
  {
   "attachments": {},
   "cell_type": "markdown",
   "metadata": {},
   "source": [
    "### Loading input data"
   ]
  },
  {
   "cell_type": "code",
   "execution_count": 2,
   "metadata": {},
   "outputs": [],
   "source": [
    "_genome = []\n",
    "for record in SeqIO.parse(\"../../data/mg1655_genome.fasta\", \"fasta\"):\n",
    "    _genome.append(str(record.seq))\n",
    "genome = _genome[0]"
   ]
  },
  {
   "cell_type": "code",
   "execution_count": 3,
   "metadata": {},
   "outputs": [],
   "source": [
    "# Promoter\n",
    "rnap_site = 'CAGGCTTTACACTTTATGCTTCCGGCTCGTATGTTGTGTGG'\n",
    "\n",
    "# Operator sequence\n",
    "rep_site = 'AATTGTGAGCGGATAACAATT'\n",
    "\n",
    "## Find the transcription start site\n",
    "df = pd.read_csv('../../data/ecoli_gene_list.csv')\n",
    "lacZYA_TSS = int(df[(df.gene == 'lacZ') & (df.promoter == 'lacZp1')]['tss'].iloc[0])\n",
    "promoter = tregs.seq_utils.get_regulatory_region(genome, lacZYA_TSS, reverse=True)"
   ]
  },
  {
   "cell_type": "code",
   "execution_count": 4,
   "metadata": {},
   "outputs": [],
   "source": [
    "# obtained from https://journals.plos.org/ploscompbiol/article/figure?id=10.1371/journal.pcbi.1002811.g002\n",
    "\n",
    "rnap_emat_raw = np.loadtxt('../../data/energy_matrices/RNAP_energy_matrix.txt')\n",
    "rnap_emat = tregs.simulate.fix_wt(rnap_emat_raw, rnap_site)"
   ]
  },
  {
   "cell_type": "code",
   "execution_count": 5,
   "metadata": {},
   "outputs": [],
   "source": [
    "O1_1027_raw = np.load('../../data/energy_matrices/lacThermoforTO1.npy')\n",
    "\n",
    "O1_1027_fixed = np.zeros(np.shape(O1_1027_raw))\n",
    "for i in range(3):\n",
    "    O1_1027_fixed[i] = tregs.simulate.fix_wt(O1_1027_raw[i], rep_site)\n",
    "\n",
    "rep_emat = np.mean(O1_1027_fixed, axis=0)"
   ]
  },
  {
   "attachments": {},
   "cell_type": "markdown",
   "metadata": {},
   "source": [
    "## Simulating PCR"
   ]
  },
  {
   "cell_type": "code",
   "execution_count": 6,
   "metadata": {},
   "outputs": [],
   "source": [
    "def amplify(seq_cnt, rounds, alpha=10, beta=1.5):\n",
    "    num_seqs = len(seq_cnt)\n",
    "    for round in range(rounds):\n",
    "        amp_factor = 1 + np.random.beta(a=alpha, b=beta, size=num_seqs)\n",
    "        seq_cnt = np.multiply(seq_cnt, amp_factor)\n",
    "    scaling_factor = 10**(len(str(int(min(seq_cnt)))) - 1)\n",
    "    return seq_cnt / scaling_factor"
   ]
  },
  {
   "cell_type": "code",
   "execution_count": 7,
   "metadata": {},
   "outputs": [],
   "source": [
    "def simrep_with_pcr(wtseq, rnap_wtseq, rep_wtseq, rnap_emat, O1_emat, \n",
    "                    ep_wt, er_wt, n_NS, n_p, n_r,\n",
    "                    num_mutants=1000,\n",
    "                    rounds=20, alpha=10, beta=1.5):\n",
    "    \n",
    "    mutants = np.unique(tregs.wgregseq.mutations_rand(wtseq,\n",
    "                                       rate=0.1,\n",
    "                                       num_mutants=num_mutants,\n",
    "                                       number_fixed=True))\n",
    "\n",
    "    rnap_start, rnap_end = tregs.seq_utils.find_binding_site(wtseq, rnap_wtseq)\n",
    "    rep_start, rep_end = tregs.seq_utils.find_binding_site(wtseq, rep_wtseq)\n",
    "\n",
    "    df_simrep = tregs.simulate.simrep_helper(mutants, rnap_start, rnap_end, rep_start, rep_end,\n",
    "                                             rnap_emat, O1_emat, n_p, n_r, n_NS,\n",
    "                                             ep_wt, er_wt)\n",
    "    \n",
    "    dna_cnt = tregs.simulate.get_dna_cnt(len(df_simrep))\n",
    "    df_simrep['ct_0'] = dna_cnt\n",
    "    df_simrep = df_simrep[df_simrep.ct_0 != 0.0]\n",
    "\n",
    "    df_simrep['ct_1_original'] = df_simrep['ct_0'] * df_simrep['pbound']\n",
    "    rna_cnt = amplify(df_simrep['ct_1_original'].to_numpy(), rounds, alpha=alpha, beta=beta)\n",
    "    df_simrep['ct_1'] = rna_cnt\n",
    "    #df_simrep['ct_1'] = 1 + df_simrep['ct_1'].astype(int) # adding 1 as a pseudocount\n",
    "    \n",
    "    df_simrep['ct_0'] = df_simrep['ct_0'].astype(float)\n",
    "    df_simrep['ct_1'] = df_simrep['ct_1'].astype(float)\n",
    "    df_simrep['noise'] = (df_simrep['ct_1'].to_numpy() / np.min(df_simrep['ct_1'])) / (df_simrep['ct_1_original'].to_numpy() / np.min(df_simrep['ct_1_original']))\n",
    "    df_simrep['norm_ct_1'] = df_simrep['ct_1'] / df_simrep['ct_0']\n",
    "\n",
    "    return df_simrep"
   ]
  },
  {
   "cell_type": "code",
   "execution_count": 8,
   "metadata": {},
   "outputs": [],
   "source": [
    "n_NS = len(genome)\n",
    "ep_wt, er_wt = -5, -15\n",
    "n_p = 4600\n",
    "n_r = 15\n",
    "\n",
    "df = simrep_with_pcr(promoter, rnap_site, rep_site, rnap_emat, rep_emat, \n",
    "                            ep_wt, er_wt, n_NS, n_p, n_r, rounds=30, alpha=3, beta=2)\n",
    "n_seqs = len(df)\n",
    "mut_list = df['seq'].values\n",
    "mu_data = df['norm_ct_1']"
   ]
  },
  {
   "cell_type": "code",
   "execution_count": 9,
   "metadata": {},
   "outputs": [
    {
     "data": {
      "image/png": "[encoded data removed]",
      "text/plain": [
       "<Figure size 216x144 with 1 Axes>"
      ]
     },
     "metadata": {
      "needs_background": "light"
     },
     "output_type": "display_data"
    }
   ],
   "source": [
    "fig, ax = plt.subplots(figsize=(3, 2))\n",
    "dist = np.random.beta(a=3, b=2, size=1000000)\n",
    "sns.kdeplot(dist)\n",
    "ax.set_xlabel('Amplification factor')\n",
    "plt.show()"
   ]
  },
  {
   "cell_type": "code",
   "execution_count": 10,
   "metadata": {},
   "outputs": [
    {
     "data": {
      "image/png": "[encoded data removed]",
      "text/plain": [
       "<Figure size 216x144 with 1 Axes>"
      ]
     },
     "metadata": {
      "needs_background": "light"
     },
     "output_type": "display_data"
    }
   ],
   "source": [
    "fig, ax = plt.subplots(figsize=(3,2))\n",
    "ax.hist(df['noise'], bins=30, color='dodgerblue')\n",
    "ax.set_xlabel('Noise level (Ratio between normalized\\nRNA count after amplification\\nand normalized original RNA count')\n",
    "ax.set_ylabel('Count')\n",
    "plt.show()"
   ]
  },
  {
   "cell_type": "code",
   "execution_count": 11,
   "metadata": {},
   "outputs": [],
   "source": [
    "nbins = 2\n",
    "upper_bound = np.mean(mu_data)\n",
    "footprint = tregs.footprint.get_info_footprint(mut_list, mu_data, promoter, nbins, upper_bound,\n",
    "                                               pseudocount=10**(-6))\n",
    "exshift_list = tregs.footprint.get_expression_shift(mut_list, mu_data.values, promoter,\n",
    "                                                    smoothed=True, windowsize=3)"
   ]
  },
  {
   "cell_type": "code",
   "execution_count": 12,
   "metadata": {},
   "outputs": [
    {
     "data": {
      "image/png": "[encoded data removed]",
      "text/plain": [
       "<Figure size 720x144 with 1 Axes>"
      ]
     },
     "metadata": {
      "needs_background": "light"
     },
     "output_type": "display_data"
    }
   ],
   "source": [
    "fig, ax = plt.subplots(figsize=(10,2))\n",
    "ax.set_ylabel('Information (bits)')\n",
    "ax.set_xlabel('position')\n",
    "\n",
    "windowsize = 3\n",
    "cut = int((windowsize - 1) / 2)\n",
    "x = np.arange(-115 + cut, 45 - cut)\n",
    "shiftcolors = [('salmon' if exshift > 0 else 'royalblue') for exshift in exshift_list]\n",
    "ax.bar(x, footprint, edgecolor=None, color=shiftcolors)\n",
    "\n",
    "#plt.savefig('../figs/lacI_synthetic_footprint_5_15.png', dpi=300, bbox_inches='tight')\n",
    "plt.show()"
   ]
  },
  {
   "attachments": {},
   "cell_type": "markdown",
   "metadata": {},
   "source": [
    "### Random sampling"
   ]
  },
  {
   "cell_type": "code",
   "execution_count": 11,
   "metadata": {},
   "outputs": [],
   "source": [
    "def random_sampling(df, n=10**5):\n",
    "    df_large = df.loc[df.index.repeat(df.ct_1)]\n",
    "    print(len(df_large))\n",
    "    print('There are {} copies of RNA in total'.format(np.sum(df['ct_1'])))\n",
    "    \n",
    "    df_random = df_large.sample(n=n).drop_duplicates()\n",
    "    print('The current library size is {}'.format(len(df_random)))\n",
    "    print('Library diversity decreaes by {:.1f}%'.format( (1 - len(df_random) / len(df)) * 100))\n",
    "    return df_random"
   ]
  },
  {
   "cell_type": "code",
   "execution_count": 39,
   "metadata": {},
   "outputs": [],
   "source": [
    "n_NS = len(genome)\n",
    "ep_wt, er_wt = -5, -15\n",
    "n_p = 4600\n",
    "n_r = 15"
   ]
  },
  {
   "cell_type": "code",
   "execution_count": 41,
   "metadata": {},
   "outputs": [],
   "source": [
    "def get_footprint(n_NS, ep_wt, er_wt, n_p, n_r, sample_size=10**5):\n",
    "    df = tregs.simulate.simrep(promoter, rnap_site, rep_site, rnap_emat, rep_emat, \n",
    "                            ep_wt, er_wt, n_NS, n_p, n_r, num_mutants=10000, scaling_factor=100)\n",
    "\n",
    "    df_random = random_sampling(df, n=sample_size)\n",
    "    mut_list = df_random['seq'].values\n",
    "    mu_data = df_random['norm_ct_1']\n",
    "\n",
    "    nbins = 2\n",
    "    upper_bound = np.mean(mu_data)\n",
    "    footprint = tregs.footprint.get_info_footprint(mut_list, mu_data, promoter, nbins, upper_bound,\n",
    "                                                pseudocount=10**(-6))\n",
    "    exshift_list = tregs.footprint.get_expression_shift(mut_list, mu_data.values, promoter,\n",
    "                                                        smoothed=True, windowsize=3)\n",
    "    return footprint, exshift_list, mu_data"
   ]
  },
  {
   "cell_type": "code",
   "execution_count": 42,
   "metadata": {},
   "outputs": [
    {
     "name": "stdout",
     "output_type": "stream",
     "text": [
      "639797\n",
      "There are 639797.0 copies of RNA in total\n",
      "The current library size is 7804\n",
      "Library diversity decreaes by 22.0%\n"
     ]
    }
   ],
   "source": [
    "footprint, exshift_list, mu_data = get_footprint(n_NS, ep_wt, er_wt, n_p, n_r)"
   ]
  },
  {
   "cell_type": "code",
   "execution_count": 43,
   "metadata": {},
   "outputs": [
    {
     "data": {
      "image/png": "[encoded data removed]",
      "text/plain": [
       "<Figure size 720x144 with 1 Axes>"
      ]
     },
     "metadata": {
      "needs_background": "light"
     },
     "output_type": "display_data"
    }
   ],
   "source": [
    "fig, ax = plt.subplots(figsize=(10,2))\n",
    "ax.set_ylabel('Information (bits)')\n",
    "ax.set_xlabel('position')\n",
    "\n",
    "windowsize = 3\n",
    "cut = int((windowsize - 1) / 2)\n",
    "x = np.arange(-115 + cut, 45 - cut)\n",
    "shiftcolors = [('salmon' if exshift > 0 else 'royalblue') for exshift in exshift_list]\n",
    "ax.bar(x, footprint, edgecolor=None, color=shiftcolors)\n",
    "\n",
    "#plt.savefig('../figs/lacI_synthetic_footprint_5_15.png', dpi=300, bbox_inches='tight')\n",
    "plt.show()"
   ]
  },
  {
   "cell_type": "code",
   "execution_count": 44,
   "metadata": {},
   "outputs": [
    {
     "name": "stdout",
     "output_type": "stream",
     "text": [
      "644453\n",
      "There are 644453.0 copies of RNA in total\n",
      "The current library size is 851\n",
      "Library diversity decreaes by 91.5%\n"
     ]
    }
   ],
   "source": [
    "footprint, exshift_list, mu_data = get_footprint(n_NS, ep_wt, er_wt, n_p, n_r, sample_size=1000)"
   ]
  },
  {
   "cell_type": "code",
   "execution_count": 45,
   "metadata": {},
   "outputs": [
    {
     "data": {
      "image/png": "[encoded data removed]",
      "text/plain": [
       "<Figure size 720x144 with 1 Axes>"
      ]
     },
     "metadata": {
      "needs_background": "light"
     },
     "output_type": "display_data"
    }
   ],
   "source": [
    "fig, ax = plt.subplots(figsize=(10,2))\n",
    "ax.set_ylabel('Information (bits)')\n",
    "ax.set_xlabel('position')\n",
    "\n",
    "windowsize = 3\n",
    "cut = int((windowsize - 1) / 2)\n",
    "x = np.arange(-115 + cut, 45 - cut)\n",
    "shiftcolors = [('salmon' if exshift > 0 else 'royalblue') for exshift in exshift_list]\n",
    "ax.bar(x, footprint, edgecolor=None, color=shiftcolors)\n",
    "\n",
    "#plt.savefig('../figs/lacI_synthetic_footprint_5_15.png', dpi=300, bbox_inches='tight')\n",
    "plt.show()"
   ]
  },
  {
   "cell_type": "code",
   "execution_count": 46,
   "metadata": {},
   "outputs": [],
   "source": [
    "df = tregs.simulate.simrep(promoter, rnap_site, rep_site, rnap_emat, rep_emat, \n",
    "                            ep_wt, er_wt, n_NS, n_p, n_r, num_mutants=832)\n",
    "\n",
    "mut_list = df['seq'].values\n",
    "mu_data2 = df['norm_ct_1']\n",
    "\n",
    "nbins = 2\n",
    "upper_bound = np.mean(mu_data2)\n",
    "footprint = tregs.footprint.get_info_footprint(mut_list, mu_data2, promoter, nbins, upper_bound,\n",
    "                                            pseudocount=10**(-6))\n",
    "exshift_list = tregs.footprint.get_expression_shift(mut_list, mu_data2.values, promoter,\n",
    "                                                    smoothed=True, windowsize=3)"
   ]
  },
  {
   "cell_type": "code",
   "execution_count": 47,
   "metadata": {},
   "outputs": [
    {
     "data": {
      "image/png": "[encoded data removed]",
      "text/plain": [
       "<Figure size 720x144 with 1 Axes>"
      ]
     },
     "metadata": {
      "needs_background": "light"
     },
     "output_type": "display_data"
    }
   ],
   "source": [
    "fig, ax = plt.subplots(figsize=(10,2))\n",
    "ax.set_ylabel('Information (bits)')\n",
    "ax.set_xlabel('position')\n",
    "\n",
    "windowsize = 3\n",
    "cut = int((windowsize - 1) / 2)\n",
    "x = np.arange(-115 + cut, 45 - cut)\n",
    "shiftcolors = [('salmon' if exshift > 0 else 'royalblue') for exshift in exshift_list]\n",
    "ax.bar(x, footprint, edgecolor=None, color=shiftcolors)\n",
    "\n",
    "#plt.savefig('../figs/lacI_synthetic_footprint_5_15.png', dpi=300, bbox_inches='tight')\n",
    "plt.show()"
   ]
  },
  {
   "cell_type": "code",
   "execution_count": 48,
   "metadata": {},
   "outputs": [
    {
     "data": {
      "image/png": "[encoded data removed]",
      "text/plain": [
       "<Figure size 288x216 with 1 Axes>"
      ]
     },
     "metadata": {
      "needs_background": "light"
     },
     "output_type": "display_data"
    }
   ],
   "source": [
    "fig, ax = plt.subplots(figsize=(4,3))\n",
    "sns.kdeplot(mu_data, label='Random sampling')\n",
    "sns.kdeplot(mu_data2, label='Reducing library size')\n",
    "ax.legend()\n",
    "plt.show()"
   ]
  },
  {
   "attachments": {},
   "cell_type": "markdown",
   "metadata": {},
   "source": [
    "## Combining PCR bias and random sampling"
   ]
  },
  {
   "cell_type": "code",
   "execution_count": 8,
   "metadata": {},
   "outputs": [],
   "source": [
    "def get_footprint_with_experimental_noise(n_NS, ep_wt, er_wt, n_p, n_r, \n",
    "                                          rounds=20, alpha=10, beta=1.5, sample_size=10**5):\n",
    "    df = simrep_with_pcr(promoter, rnap_site, rep_site, rnap_emat, rep_emat, \n",
    "                    ep_wt, er_wt, n_NS, n_p, n_r,\n",
    "                    num_mutants=1000,\n",
    "                    rounds=rounds, alpha=alpha, beta=beta)\n",
    "\n",
    "    df_random = random_sampling(df, n=sample_size)\n",
    "    mut_list = df_random['seq'].values\n",
    "    mu_data = df_random['norm_ct_1']\n",
    "\n",
    "    nbins = 2\n",
    "    upper_bound = np.mean(mu_data)\n",
    "    footprint = tregs.footprint.get_info_footprint(mut_list, mu_data, promoter, nbins, upper_bound,\n",
    "                                                pseudocount=10**(-6))\n",
    "    exshift_list = tregs.footprint.get_expression_shift(mut_list, mu_data.values, promoter,\n",
    "                                                        smoothed=True, windowsize=3)\n",
    "    return footprint, exshift_list, mu_data"
   ]
  },
  {
   "cell_type": "code",
   "execution_count": 9,
   "metadata": {},
   "outputs": [],
   "source": [
    "n_NS = len(genome)\n",
    "ep_wt, er_wt = -5, -15\n",
    "n_p = 4600\n",
    "n_r = 15"
   ]
  },
  {
   "cell_type": "code",
   "execution_count": 12,
   "metadata": {},
   "outputs": [
    {
     "name": "stdout",
     "output_type": "stream",
     "text": [
      "309702\n",
      "There are 310194.4082714635 copies of RNA in total\n",
      "The current library size is 792\n",
      "Library diversity decreaes by 20.8%\n"
     ]
    }
   ],
   "source": [
    "footprint, exshift_list, mu_data = get_footprint_with_experimental_noise(n_NS, ep_wt, er_wt, n_p, n_r,\n",
    "                                                 rounds=10, sample_size=10000)"
   ]
  },
  {
   "cell_type": "code",
   "execution_count": 13,
   "metadata": {},
   "outputs": [
    {
     "data": {
      "image/png": "[encoded data removed]",
      "text/plain": [
       "<Figure size 1500x300 with 1 Axes>"
      ]
     },
     "metadata": {
      "needs_background": "light"
     },
     "output_type": "display_data"
    }
   ],
   "source": [
    "fig, ax = plt.subplots(figsize=(10,2))\n",
    "ax.set_ylabel('Information (bits)')\n",
    "ax.set_xlabel('position')\n",
    "\n",
    "windowsize = 3\n",
    "cut = int((windowsize - 1) / 2)\n",
    "x = np.arange(-115 + cut, 45 - cut)\n",
    "shiftcolors = [('salmon' if exshift > 0 else 'royalblue') for exshift in exshift_list]\n",
    "ax.bar(x, footprint, edgecolor=None, color=shiftcolors)\n",
    "\n",
    "plt.show()"
   ]
  },
  {
   "cell_type": "code",
   "execution_count": 14,
   "metadata": {},
   "outputs": [
    {
     "name": "stdout",
     "output_type": "stream",
     "text": [
      "97424743\n",
      "There are 97425247.63948701 copies of RNA in total\n",
      "The current library size is 388\n",
      "Library diversity decreaes by 61.2%\n"
     ]
    }
   ],
   "source": [
    "footprint, exshift_list, mu_data = get_footprint_with_experimental_noise(n_NS, ep_wt, er_wt, n_p, n_r,\n",
    "                                                                         rounds=30, sample_size=1000)"
   ]
  },
  {
   "cell_type": "code",
   "execution_count": 15,
   "metadata": {},
   "outputs": [
    {
     "data": {
      "image/png": "[encoded data removed]",
      "text/plain": [
       "<Figure size 1500x300 with 1 Axes>"
      ]
     },
     "metadata": {
      "needs_background": "light"
     },
     "output_type": "display_data"
    }
   ],
   "source": [
    "fig, ax = plt.subplots(figsize=(10,2))\n",
    "ax.set_ylabel('Information (bits)')\n",
    "ax.set_xlabel('position')\n",
    "\n",
    "windowsize = 3\n",
    "cut = int((windowsize - 1) / 2)\n",
    "x = np.arange(-115 + cut, 45 - cut)\n",
    "shiftcolors = [('salmon' if exshift > 0 else 'royalblue') for exshift in exshift_list]\n",
    "ax.bar(x, footprint, edgecolor=None, color=shiftcolors)\n",
    "\n",
    "plt.show()"
   ]
  }
 ],
 "metadata": {
  "kernelspec": {
   "display_name": "theoretical_regseq",
   "language": "python",
   "name": "python3"
  },
  "language_info": {
   "codemirror_mode": {
    "name": "ipython",
    "version": 3
   },
   "file_extension": ".py",
   "mimetype": "text/x-python",
   "name": "python",
   "nbconvert_exporter": "python",
   "pygments_lexer": "ipython3",
   "version": "3.10.4"
  },
  "orig_nbformat": 4
 },
 "nbformat": 4,
 "nbformat_minor": 2
}
