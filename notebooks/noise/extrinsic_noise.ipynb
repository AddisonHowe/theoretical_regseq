{
 "cells": [
  {
   "cell_type": "code",
   "execution_count": 1,
   "metadata": {
    "collapsed": false
   },
   "outputs": [],
   "source": [
    "# processing\n",
    "import numpy as np\n",
    "import pandas as pd\n",
    "from Bio import SeqIO\n",
    "\n",
    "# custom packages\n",
    "import tregs\n",
    "\n",
    "# visualization\n",
    "import matplotlib.pyplot as plt\n",
    "#plt.rcParams['figure.dpi'] = 150"
   ]
  },
  {
   "attachments": {},
   "cell_type": "markdown",
   "metadata": {},
   "source": [
    "### Loading input data"
   ]
  },
  {
   "cell_type": "code",
   "execution_count": 2,
   "metadata": {},
   "outputs": [],
   "source": [
    "_genome = []\n",
    "for record in SeqIO.parse(\"../../data/mg1655_genome.fasta\", \"fasta\"):\n",
    "    _genome.append(str(record.seq))\n",
    "genome = _genome[0]"
   ]
  },
  {
   "cell_type": "code",
   "execution_count": 3,
   "metadata": {},
   "outputs": [],
   "source": [
    "# Promoter\n",
    "rnap_site = 'CAGGCTTTACACTTTATGCTTCCGGCTCGTATGTTGTGTGG'\n",
    "\n",
    "# Operator sequence\n",
    "rep_site = 'AATTGTGAGCGGATAACAATT'\n",
    "\n",
    "## Find the transcription start site\n",
    "df = pd.read_csv('../../data/ecoli_gene_list.csv')\n",
    "lacZYA_TSS = int(df[(df.gene == 'lacZ') & (df.promoter == 'lacZp1')]['tss'].iloc[0])\n",
    "promoter = tregs.seq_utils.get_regulatory_region(genome, lacZYA_TSS, reverse=True)"
   ]
  },
  {
   "cell_type": "code",
   "execution_count": 4,
   "metadata": {},
   "outputs": [],
   "source": [
    "# obtained from https://journals.plos.org/ploscompbiol/article/figure?id=10.1371/journal.pcbi.1002811.g002\n",
    "\n",
    "rnap_emat_raw = np.loadtxt('../../data/energy_matrices/RNAP_energy_matrix.txt')\n",
    "rnap_emat = tregs.simulate.fix_wt(rnap_emat_raw, rnap_site)"
   ]
  },
  {
   "cell_type": "code",
   "execution_count": 5,
   "metadata": {},
   "outputs": [],
   "source": [
    "O1_1027_raw = np.load('../../data/energy_matrices/lacThermoforTO1.npy')\n",
    "\n",
    "O1_1027_fixed = np.zeros(np.shape(O1_1027_raw))\n",
    "for i in range(3):\n",
    "    O1_1027_fixed[i] = tregs.simulate.fix_wt(O1_1027_raw[i], rep_site)\n",
    "\n",
    "rep_emat = np.mean(O1_1027_fixed, axis=0)"
   ]
  },
  {
   "attachments": {},
   "cell_type": "markdown",
   "metadata": {},
   "source": [
    "### Comparing the magnitude of $\\Delta p_{\\mathrm{bound}}$ due to change in number of RNAPs/repressors and $\\Delta p_{\\mathrm{bound}}$ due to random mutations"
   ]
  },
  {
   "cell_type": "code",
   "execution_count": 6,
   "metadata": {},
   "outputs": [],
   "source": [
    "## fixing R, varying P\n",
    "\n",
    "n_NS = len(genome)\n",
    "n_r = 10\n",
    "range_n_p = np.arange(1000, 1000000, 1000)\n",
    "\n",
    "l_pbound1 = []\n",
    "for n_p in range_n_p:    \n",
    "    pbound = tregs.simulate.simrep_pbound(rnap_site, rep_site, rnap_emat, rep_emat, n_p, n_r, n_NS,\n",
    "                                          ep_wt=-5, er_wt=-15)\n",
    "    l_pbound1.append(pbound)"
   ]
  },
  {
   "cell_type": "code",
   "execution_count": 7,
   "metadata": {},
   "outputs": [],
   "source": [
    "## fixing P, varying R\n",
    "\n",
    "n_NS = len(genome)\n",
    "n_p = 4600\n",
    "range_n_r = np.arange(1, 100)\n",
    "\n",
    "l_pbound2 = []\n",
    "for n_r in range_n_r:    \n",
    "    pbound = tregs.simulate.simrep_pbound(rnap_site, rep_site, rnap_emat, rep_emat, n_p, n_r, n_NS,\n",
    "                                          ep_wt=-5, er_wt=-15)\n",
    "    l_pbound2.append(pbound)"
   ]
  },
  {
   "cell_type": "code",
   "execution_count": 8,
   "metadata": {},
   "outputs": [],
   "source": [
    "lac_mutants = np.unique(tregs.wgregseq.mutations_rand(promoter, rate=0.1, num_mutants=10000, number_fixed=True))\n",
    "\n",
    "rnap_site_start, rnap_site_end = tregs.seq_utils.find_binding_site(promoter, rnap_site)\n",
    "rep_site_start, rep_site_end = tregs.seq_utils.find_binding_site(promoter, rep_site)\n",
    "\n",
    "l_mut = []\n",
    "for mut in lac_mutants:\n",
    "    rv = {}\n",
    "    rv['seq'] = mut\n",
    "    rnap_site_mut = mut[rnap_site_start:rnap_site_end].upper()\n",
    "    rep_site_mut = mut[rep_site_start:rep_site_end].upper()\n",
    "    \n",
    "    n_p = 4600\n",
    "    n_r = 10\n",
    "    rv['e_rnap'] = tregs.simulate.get_d_energy(rnap_site_mut, rnap_emat, e_wt=-5)\n",
    "    rv['e_rep'] = tregs.simulate.get_d_energy(rep_site_mut, rep_emat, e_wt=-15)\n",
    "    rv['pbound'] = tregs.simulate.simrep_pbound(rnap_site_mut, rep_site_mut, rnap_emat, rep_emat, n_p, n_r, n_NS,\n",
    "                                                  ep_wt=-5, er_wt=-15)\n",
    "    l_mut.append(rv)\n",
    "\n",
    "df_mut = pd.DataFrame.from_records(l_mut)"
   ]
  },
  {
   "attachments": {},
   "cell_type": "markdown",
   "metadata": {},
   "source": [
    "Note:\n",
    "\n",
    "For simple repression, the expression for probabiltiy of binding can be written as\n",
    "$$\n",
    "\\begin{align}\n",
    "    p_{\\mathrm{bound}} &= \\frac{\\frac{P}{N_{NS}} \\cdot e^{- \\beta \\Delta \\varepsilon_{p}}}{1 + \\frac{P}{N_{NS}} \\cdot e^{- \\beta \\Delta \\varepsilon_{p}} + \\frac{R}{N_{NS}} \\cdot e^{- \\beta \\Delta \\varepsilon_{r}}} \\\\\n",
    "        &= \\frac{P \\cdot e^{- \\beta \\Delta \\varepsilon_{p}}}{N_{NS} + P \\cdot e^{- \\beta \\Delta \\varepsilon_{p}} + R \\cdot e^{- \\beta \\Delta \\varepsilon_{r}}}.\n",
    "\\end{align}\n",
    "$$\n",
    "\n",
    "Here $P = \\mathrm{few} \\cdot 10^3$, $e^{-\\beta \\Delta \\varepsilon_p} = e^5 \\approx 150$, and $N_{NS} \\approx \\mathrm{few} \\cdot 10^6$. Therefore $P \\cdot e^{-\\beta \\Delta \\varepsilon_p} \\ll N_{NS}$. This means that we can re-write the probability of binding as\n",
    "$$\n",
    "    p_{\\mathrm{bound}} = \\frac{P \\cdot e^{- \\beta \\Delta \\varepsilon_{p}}}{N_{NS} + R \\cdot e^{- \\beta \\Delta \\varepsilon_{r}}},\n",
    "$$\n",
    "therefore $p_\\mathrm{bound}$ is linearly related to $P$.\n",
    "\n",
    "On the other hand, $R = \\mathrm{few} \\cdot 10$, $e^{-\\beta \\Delta \\varepsilon_r} = e^{15} \\approx \\mathrm{few} \\cdot 10^6$. Therefore $R \\cdot e^{-\\beta \\Delta \\varepsilon_r} \\gg N_{NS}$. This means that we can re-write the probability of binding as\n",
    "$$\n",
    "    p_{\\mathrm{bound}} = \\frac{1}{1 + R \\cdot e^{- \\beta \\Delta \\varepsilon_{r}}},\n",
    "$$\n",
    "therefore $p_\\mathrm{bound}$ is linearly related to $R^{-1}$."
   ]
  },
  {
   "cell_type": "code",
   "execution_count": 9,
   "metadata": {},
   "outputs": [
    {
     "data": {
      "image/png": "[encoded data removed]",
      "text/plain": [
       "<Figure size 432x432 with 4 Axes>"
      ]
     },
     "metadata": {
      "needs_background": "light"
     },
     "output_type": "display_data"
    }
   ],
   "source": [
    "fig, axes = plt.subplots(2, 2, figsize=(6, 6))\n",
    "ax1, ax2, ax3, ax4 = axes.flatten()\n",
    "\n",
    "ax1.plot(range_n_p, l_pbound1)\n",
    "ax1.set_xlim(2000, 10000)\n",
    "ax1.set_ylim(0, 0.05)\n",
    "ax1.set_xlabel('Number of RNAPs')\n",
    "ax1.set_ylabel('Probabilty of RNAP binding')\n",
    "\n",
    "ax2.scatter(df_mut.e_rnap, df_mut.pbound, alpha=0.2, s=5)\n",
    "ax2.set_xlabel('Binding energy of RNAP')\n",
    "\n",
    "ax3.plot(range_n_r, l_pbound2)\n",
    "ax3.set_xlabel('Number of repressors')\n",
    "ax3.set_ylabel('Probabilty of RNAP binding')\n",
    "\n",
    "ax4.scatter(df_mut.e_rep, df_mut.pbound, alpha=0.2, s=5)\n",
    "ax4.set_xlabel('Binding energy of lacI repressor')\n",
    "\n",
    "plt.tight_layout()\n",
    "plt.show()"
   ]
  },
  {
   "attachments": {},
   "cell_type": "markdown",
   "metadata": {},
   "source": [
    "### Building information footprint when the number of RNAPs/repressors exists on a distribution"
   ]
  },
  {
   "attachments": {},
   "cell_type": "markdown",
   "metadata": {},
   "source": [
    "**TO-DO: Try both a Gaussian distribution and a uniform distribution. Are there other distributions that might be more appropriate?**"
   ]
  },
  {
   "cell_type": "code",
   "execution_count": 10,
   "metadata": {},
   "outputs": [],
   "source": [
    "def simrep_helper(mutants, rnap_start, rnap_end, rep_start, rep_end,\n",
    "                  rnap_emat, O1_emat, n_p_low, n_p_high, n_r_low, n_r_high, n_NS,\n",
    "                  ep_wt, er_wt):\n",
    "\n",
    "    l_simrep = []\n",
    "    for mut in mutants:\n",
    "        rv = {}\n",
    "        rv['seq'] = mut\n",
    "        rnap_mut = mut[rnap_start:rnap_end].upper()\n",
    "        rep_mut = mut[rep_start:rep_end].upper()\n",
    "\n",
    "        n_p = int(10 ** np.random.uniform(np.log10(n_p_low), np.log10(n_p_high)))\n",
    "        n_r = int(10 ** np.random.uniform(np.log10(n_r_low), np.log10(n_r_high)))\n",
    "        rv['P'] = n_p\n",
    "        rv['R'] = n_r\n",
    "        rv['pbound'] = tregs.simulate.simrep_pbound(rnap_mut, rep_mut, rnap_emat, O1_emat,\n",
    "                                     n_p, n_r, n_NS,\n",
    "                                     ep_wt=ep_wt, er_wt=er_wt)\n",
    "        l_simrep.append(rv)\n",
    "    df_simrep = pd.DataFrame.from_records(l_simrep)\n",
    "\n",
    "    return df_simrep\n",
    "\n",
    "\n",
    "def simrep_with_noise(wtseq, rnap_wtseq, rep_wtseq, rnap_emat, O1_emat, \n",
    "           ep_wt, er_wt, n_NS, n_p_low, n_p_high, n_r_low, n_r_high,\n",
    "           num_mutants=10000, scaling_factor=100):\n",
    "    \n",
    "    mutants = np.unique(tregs.wgregseq.mutations_rand(wtseq,\n",
    "                                       rate=0.1,\n",
    "                                       num_mutants=num_mutants,\n",
    "                                       number_fixed=True))\n",
    "\n",
    "    rnap_start, rnap_end = tregs.seq_utils.find_binding_site(wtseq, rnap_wtseq)\n",
    "    rep_start, rep_end = tregs.seq_utils.find_binding_site(wtseq, rep_wtseq)\n",
    "\n",
    "    df_simrep = simrep_helper(mutants, rnap_start, rnap_end, rep_start, rep_end,\n",
    "                          rnap_emat, O1_emat, n_p_low, n_p_high, n_r_low, n_r_high, n_NS,\n",
    "                          ep_wt, er_wt)\n",
    "    \n",
    "    dna_cnt = tregs.simulate.get_dna_cnt(len(df_simrep))\n",
    "    df_simrep['ct_0'] = dna_cnt\n",
    "    df_simrep = df_simrep[df_simrep.ct_0 != 0.0]\n",
    "\n",
    "    df_simrep['ct_1'] = 0.1 + df_simrep['ct_0'] * df_simrep['pbound'] * scaling_factor\n",
    "    df_simrep['ct_1'] = df_simrep['ct_1'].astype(int)\n",
    "    df_simrep['ct'] = df_simrep['ct_0'] + df_simrep['ct_1']\n",
    "\n",
    "    df_simrep['ct'] = df_simrep['ct'].astype(float)\n",
    "    df_simrep['ct_0'] = df_simrep['ct_0'].astype(float)\n",
    "    df_simrep['ct_1'] = df_simrep['ct_1'].astype(float)\n",
    "    df_simrep['norm_ct_1'] = df_simrep['ct_1'] / df_simrep['ct_0']\n",
    "\n",
    "    return df_simrep"
   ]
  },
  {
   "cell_type": "code",
   "execution_count": 11,
   "metadata": {},
   "outputs": [
    {
     "data": {
      "image/png": "[encoded data removed]",
      "text/plain": [
       "<Figure size 720x144 with 1 Axes>"
      ]
     },
     "metadata": {
      "needs_background": "light"
     },
     "output_type": "display_data"
    }
   ],
   "source": [
    "n_NS = len(genome)\n",
    "ep_wt, er_wt = -5, -15\n",
    "n_p_low, n_p_high = 1000, 10000\n",
    "n_r_low, n_r_high = 10, 100\n",
    "\n",
    "df = simrep_with_noise(promoter, rnap_site, rep_site, rnap_emat, rep_emat, \n",
    "                       ep_wt, er_wt, n_NS,\n",
    "                       n_p_low, n_p_high, n_r_low, n_r_high)\n",
    "n_seqs = len(df)\n",
    "mut_list = df['seq'].values\n",
    "mu_data = df['norm_ct_1']\n",
    "nbins = 2\n",
    "upper_bound = 5\n",
    "footprint = tregs.footprint.get_info_footprint(mut_list, mu_data, promoter, nbins, upper_bound,\n",
    "                                               pseudocount=0)\n",
    "\n",
    "exshift_list = tregs.footprint.get_expression_shift(mut_list, mu_data.values, promoter,\n",
    "                                                    smoothed=True, windowsize=3)\n",
    "shiftcolors = [('salmon' if exshift > 0 else 'royalblue') for exshift in exshift_list]\n",
    "\n",
    "fig, ax = plt.subplots(figsize=(10,2))\n",
    "ax.set_ylabel('Information (bits)')\n",
    "ax.set_xlabel('position')\n",
    "\n",
    "windowsize = 3\n",
    "cut = int((windowsize - 1) / 2)\n",
    "x = np.arange(-115 + cut, 45 - cut)\n",
    "ax.bar(x, footprint, edgecolor=None, color=shiftcolors)\n",
    "\n",
    "#plt.savefig('../figs/lacI_synthetic_footprint_5_15.png', dpi=300, bbox_inches='tight')\n",
    "plt.show()"
   ]
  },
  {
   "cell_type": "code",
   "execution_count": 12,
   "metadata": {},
   "outputs": [
    {
     "data": {
      "image/png": "[encoded data removed]",
      "text/plain": [
       "<Figure size 720x144 with 1 Axes>"
      ]
     },
     "metadata": {
      "needs_background": "light"
     },
     "output_type": "display_data"
    }
   ],
   "source": [
    "n_NS = len(genome)\n",
    "ep_wt, er_wt = -5, -15\n",
    "n_p_low, n_p_high = 1000, 15000\n",
    "n_r_low, n_r_high = 10, 50\n",
    "\n",
    "df = simrep_with_noise(promoter, rnap_site, rep_site, rnap_emat, rep_emat, \n",
    "                       ep_wt, er_wt, n_NS,\n",
    "                       n_p_low, n_p_high, n_r_low, n_r_high)\n",
    "n_seqs = len(df)\n",
    "mut_list = df['seq'].values\n",
    "mu_data = df['norm_ct_1']\n",
    "nbins = 2\n",
    "upper_bound = 5\n",
    "footprint = tregs.footprint.get_info_footprint(mut_list, mu_data, promoter, nbins, upper_bound,\n",
    "                                               pseudocount=0)\n",
    "\n",
    "exshift_list = tregs.footprint.get_expression_shift(mut_list, mu_data.values, promoter,\n",
    "                                                    smoothed=True, windowsize=3)\n",
    "shiftcolors = [('salmon' if exshift > 0 else 'royalblue') for exshift in exshift_list]\n",
    "\n",
    "fig, ax = plt.subplots(figsize=(10,2))\n",
    "ax.set_ylabel('Information (bits)')\n",
    "ax.set_xlabel('position')\n",
    "\n",
    "windowsize = 3\n",
    "cut = int((windowsize - 1) / 2)\n",
    "x = np.arange(-115 + cut, 45 - cut)\n",
    "ax.bar(x, footprint, edgecolor=None, color=shiftcolors)\n",
    "\n",
    "#plt.savefig('../figs/lacI_synthetic_footprint_5_15.png', dpi=300, bbox_inches='tight')\n",
    "plt.show()"
   ]
  },
  {
   "cell_type": "code",
   "execution_count": 13,
   "metadata": {},
   "outputs": [
    {
     "data": {
      "image/png": "[encoded data removed]",
      "text/plain": [
       "<Figure size 720x144 with 1 Axes>"
      ]
     },
     "metadata": {
      "needs_background": "light"
     },
     "output_type": "display_data"
    }
   ],
   "source": [
    "n_NS = len(genome)\n",
    "ep_wt, er_wt = -5, -15\n",
    "n_p_low, n_p_high = 1000, 20000\n",
    "n_r_low, n_r_high = 10, 50\n",
    "\n",
    "df = simrep_with_noise(promoter, rnap_site, rep_site, rnap_emat, rep_emat, \n",
    "                       ep_wt, er_wt, n_NS,\n",
    "                       n_p_low, n_p_high, n_r_low, n_r_high)\n",
    "n_seqs = len(df)\n",
    "mut_list = df['seq'].values\n",
    "mu_data = df['norm_ct_1']\n",
    "nbins = 2\n",
    "upper_bound = 10\n",
    "footprint = tregs.footprint.get_info_footprint(mut_list, mu_data, promoter, nbins, upper_bound,\n",
    "                                               pseudocount=0)\n",
    "\n",
    "exshift_list = tregs.footprint.get_expression_shift(mut_list, mu_data.values, promoter,\n",
    "                                                    smoothed=True, windowsize=3)\n",
    "shiftcolors = [('salmon' if exshift > 0 else 'royalblue') for exshift in exshift_list]\n",
    "\n",
    "fig, ax = plt.subplots(figsize=(10,2))\n",
    "ax.set_ylabel('Information (bits)')\n",
    "ax.set_xlabel('position')\n",
    "\n",
    "windowsize = 3\n",
    "cut = int((windowsize - 1) / 2)\n",
    "x = np.arange(-115 + cut, 45 - cut)\n",
    "ax.bar(x, footprint, edgecolor=None, color=shiftcolors)\n",
    "\n",
    "#plt.savefig('../figs/lacI_synthetic_footprint_5_15.png', dpi=300, bbox_inches='tight')\n",
    "plt.show()"
   ]
  },
  {
   "cell_type": "code",
   "execution_count": 14,
   "metadata": {},
   "outputs": [
    {
     "data": {
      "image/png": "[encoded data removed]",
      "text/plain": [
       "<Figure size 720x144 with 1 Axes>"
      ]
     },
     "metadata": {
      "needs_background": "light"
     },
     "output_type": "display_data"
    }
   ],
   "source": [
    "n_NS = len(genome)\n",
    "ep_wt, er_wt = -5, -15\n",
    "n_p_low, n_p_high = 1000, 10000\n",
    "n_r_low, n_r_high = 10, 100000\n",
    "\n",
    "df = simrep_with_noise(promoter, rnap_site, rep_site, rnap_emat, rep_emat, \n",
    "                       ep_wt, er_wt, n_NS,\n",
    "                       n_p_low, n_p_high, n_r_low, n_r_high)\n",
    "n_seqs = len(df)\n",
    "mut_list = df['seq'].values\n",
    "mu_data = df['norm_ct_1']\n",
    "nbins = 2\n",
    "upper_bound = 5\n",
    "footprint = tregs.footprint.get_info_footprint(mut_list, mu_data, promoter, nbins, upper_bound,\n",
    "                                               pseudocount=0)\n",
    "\n",
    "exshift_list = tregs.footprint.get_expression_shift(mut_list, mu_data.values, promoter,\n",
    "                                                    smoothed=True, windowsize=3)\n",
    "shiftcolors = [('salmon' if exshift > 0 else 'royalblue') for exshift in exshift_list]\n",
    "\n",
    "fig, ax = plt.subplots(figsize=(10,2))\n",
    "ax.set_ylabel('Information (bits)')\n",
    "ax.set_xlabel('position')\n",
    "\n",
    "windowsize = 3\n",
    "cut = int((windowsize - 1) / 2)\n",
    "x = np.arange(-115 + cut, 45 - cut)\n",
    "ax.bar(x, footprint, edgecolor=None, color=shiftcolors)\n",
    "\n",
    "#plt.savefig('../figs/lacI_synthetic_footprint_5_15.png', dpi=300, bbox_inches='tight')\n",
    "plt.show()"
   ]
  },
  {
   "cell_type": "code",
   "execution_count": 15,
   "metadata": {},
   "outputs": [
    {
     "data": {
      "image/png": "[encoded data removed]",
      "text/plain": [
       "<Figure size 720x144 with 1 Axes>"
      ]
     },
     "metadata": {
      "needs_background": "light"
     },
     "output_type": "display_data"
    }
   ],
   "source": [
    "n_NS = len(genome)\n",
    "ep_wt, er_wt = -5, -15\n",
    "n_p_low, n_p_high = 1000, 10000\n",
    "n_r_low, n_r_high = 99000, 100000\n",
    "\n",
    "df = simrep_with_noise(promoter, rnap_site, rep_site, rnap_emat, rep_emat, \n",
    "                       ep_wt, er_wt, n_NS,\n",
    "                       n_p_low, n_p_high, n_r_low, n_r_high)\n",
    "n_seqs = len(df)\n",
    "mut_list = df['seq'].values\n",
    "mu_data = df['norm_ct_1']\n",
    "nbins = 2\n",
    "upper_bound = 5\n",
    "footprint = tregs.footprint.get_info_footprint(mut_list, mu_data, promoter, nbins, upper_bound,\n",
    "                                               pseudocount=0)\n",
    "\n",
    "exshift_list = tregs.footprint.get_expression_shift(mut_list, mu_data.values, promoter,\n",
    "                                                    smoothed=True, windowsize=3)\n",
    "shiftcolors = [('salmon' if exshift > 0 else 'royalblue') for exshift in exshift_list]\n",
    "\n",
    "fig, ax = plt.subplots(figsize=(10,2))\n",
    "ax.set_ylabel('Information (bits)')\n",
    "ax.set_xlabel('position')\n",
    "\n",
    "windowsize = 3\n",
    "cut = int((windowsize - 1) / 2)\n",
    "x = np.arange(-115 + cut, 45 - cut)\n",
    "ax.bar(x, footprint, edgecolor=None, color=shiftcolors)\n",
    "\n",
    "#plt.savefig('../figs/lacI_synthetic_footprint_5_15.png', dpi=300, bbox_inches='tight')\n",
    "plt.show()"
   ]
  }
 ],
 "metadata": {
  "kernelspec": {
   "display_name": "theoretical_regseq",
   "language": "python",
   "name": "python3"
  },
  "language_info": {
   "codemirror_mode": {
    "name": "ipython",
    "version": 3
   },
   "file_extension": ".py",
   "mimetype": "text/x-python",
   "name": "python",
   "nbconvert_exporter": "python",
   "pygments_lexer": "ipython3",
   "version": "3.10.4"
  },
  "vscode": {
   "interpreter": {
    "hash": "b5793fdbd013b36b2bc0f38e105e8917934d5be643f8da82bca1fa4652d4ea09"
   }
  }
 },
 "nbformat": 4,
 "nbformat_minor": 2
}
