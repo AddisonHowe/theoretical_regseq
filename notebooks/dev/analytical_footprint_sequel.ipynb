{
 "cells": [
  {
   "cell_type": "code",
   "execution_count": 1,
   "metadata": {},
   "outputs": [],
   "source": [
    "import numpy as np"
   ]
  },
  {
   "cell_type": "code",
   "execution_count": 2,
   "metadata": {},
   "outputs": [],
   "source": [
    "def get_MI(p_b_u, p_b, p_u):\n",
    "    I = p_b_u[0] * np.log2(p_b_u[0] / (p_b[0] * p_u[0]))\n",
    "    I += p_b_u[1] * np.log2(p_b_u[1] / (p_b[0] * p_u[1]))\n",
    "    I += p_b_u[2] * np.log2(p_b_u[2] / (p_b[1] * p_u[0]))\n",
    "    I += p_b_u[3] * np.log2(p_b_u[3] / (p_b[1] * p_u[1]))\n",
    "    return I"
   ]
  },
  {
   "cell_type": "code",
   "execution_count": 15,
   "metadata": {},
   "outputs": [
    {
     "data": {
      "text/plain": [
       "0.0799069952275928"
      ]
     },
     "execution_count": 15,
     "metadata": {},
     "output_type": "execute_result"
    }
   ],
   "source": [
    "p_b_u = np.array([61/124, 49/124, 1/124, 13/124])\n",
    "p_b = np.array([0.9, 0.1])\n",
    "p_u = np.array([0.5, 0.5])\n",
    "get_MI(p_b_u, p_b, p_u)"
   ]
  },
  {
   "cell_type": "code",
   "execution_count": 10,
   "metadata": {},
   "outputs": [
    {
     "data": {
      "text/plain": [
       "1.0"
      ]
     },
     "execution_count": 10,
     "metadata": {},
     "output_type": "execute_result"
    }
   ],
   "source": [
    "H_u = -p_u[0] * np.log2(p_u[0]) - p_u[1] * np.log2(p_u[1])\n",
    "H_u"
   ]
  },
  {
   "cell_type": "code",
   "execution_count": 16,
   "metadata": {},
   "outputs": [
    {
     "data": {
      "text/plain": [
       "0.9200930047724071"
      ]
     },
     "execution_count": 16,
     "metadata": {},
     "output_type": "execute_result"
    }
   ],
   "source": [
    "H_u_b = - p_b_u[0] * np.log2(p_b_u[0] / p_b[0]) - p_b_u[1] * np.log2(p_b_u[1] / p_b[0]) - p_b_u[2] * np.log2(p_b_u[2] / p_b[1]) - p_b_u[3] * np.log2(p_b_u[3] / p_b[1])\n",
    "H_u_b"
   ]
  },
  {
   "cell_type": "code",
   "execution_count": 4,
   "metadata": {},
   "outputs": [],
   "source": [
    "def get_MI_3bins(p_b_u, p_b, p_u):\n",
    "    I = p_b_u[0] * np.log2(p_b_u[0] / (p_b[0] * p_u[0]))\n",
    "    I += p_b_u[1] * np.log2(p_b_u[1] / (p_b[0] * p_u[1]))\n",
    "    I += p_b_u[2] * np.log2(p_b_u[2] / (p_b[0] * p_u[2]))\n",
    "    I += p_b_u[3] * np.log2(p_b_u[3] / (p_b[1] * p_u[0]))\n",
    "    I += p_b_u[4] * np.log2(p_b_u[4] / (p_b[1] * p_u[1]))\n",
    "    I += p_b_u[5] * np.log2(p_b_u[5] / (p_b[1] * p_u[2]))\n",
    "    return I"
   ]
  },
  {
   "cell_type": "code",
   "execution_count": 18,
   "metadata": {},
   "outputs": [
    {
     "data": {
      "text/plain": [
       "0.12361665951431618"
      ]
     },
     "execution_count": 18,
     "metadata": {},
     "output_type": "execute_result"
    }
   ],
   "source": [
    "p_b_u = np.array([29, 41, 41, 13, 1, 1]) / 126\n",
    "p_b = np.array([0.9, 0.1])\n",
    "p_u = np.array([1/3, 1/3, 1/3])\n",
    "get_MI_3bins(p_b_u, p_b, p_u)"
   ]
  },
  {
   "cell_type": "code",
   "execution_count": 19,
   "metadata": {},
   "outputs": [
    {
     "data": {
      "text/plain": [
       "1.584962500721156"
      ]
     },
     "execution_count": 19,
     "metadata": {},
     "output_type": "execute_result"
    }
   ],
   "source": [
    "H_u = -p_u[0] * np.log2(p_u[0]) - p_u[1] * np.log2(p_u[1])  - p_u[2] * np.log2(p_u[2])\n",
    "H_u"
   ]
  },
  {
   "cell_type": "code",
   "execution_count": 20,
   "metadata": {},
   "outputs": [
    {
     "data": {
      "text/plain": [
       "1.4613458412068403"
      ]
     },
     "execution_count": 20,
     "metadata": {},
     "output_type": "execute_result"
    }
   ],
   "source": [
    "H_u_b = - p_b_u[0] * np.log2(p_b_u[0] / p_b[0]) - p_b_u[1] * np.log2(p_b_u[1] / p_b[0]) - p_b_u[2] * np.log2(p_b_u[2] / p_b[0]) - p_b_u[3] * np.log2(p_b_u[3] / p_b[1]) - p_b_u[4] * np.log2(p_b_u[4] / p_b[1]) - p_b_u[5] * np.log2(p_b_u[5] / p_b[1])\n",
    "H_u_b"
   ]
  },
  {
   "cell_type": "code",
   "execution_count": null,
   "metadata": {},
   "outputs": [],
   "source": []
  }
 ],
 "metadata": {
  "kernelspec": {
   "display_name": "theoretical_regseq",
   "language": "python",
   "name": "python3"
  },
  "language_info": {
   "codemirror_mode": {
    "name": "ipython",
    "version": 3
   },
   "file_extension": ".py",
   "mimetype": "text/x-python",
   "name": "python",
   "nbconvert_exporter": "python",
   "pygments_lexer": "ipython3",
   "version": "3.10.4"
  },
  "orig_nbformat": 4
 },
 "nbformat": 4,
 "nbformat_minor": 2
}
