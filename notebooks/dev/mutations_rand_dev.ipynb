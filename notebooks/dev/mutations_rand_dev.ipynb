{
 "cells": [
  {
   "cell_type": "code",
   "execution_count": 1,
   "metadata": {},
   "outputs": [],
   "source": [
    "import numpy as np\n",
    "import numba"
   ]
  },
  {
   "cell_type": "code",
   "execution_count": 2,
   "metadata": {},
   "outputs": [],
   "source": [
    "@numba.njit\n",
    "def _random_mutation_generator(sequence, rate, number_fixed):\n",
    "    if number_fixed:\n",
    "        num_mutations = int(rate*len(sequence))\n",
    "    else:\n",
    "        num_mutations = np.random.poisson(len(sequence) * rate)\n",
    "    positions = np.random.choice(np.arange(len(sequence)), num_mutations, replace=False)\n",
    "    return positions"
   ]
  },
  {
   "cell_type": "code",
   "execution_count": 3,
   "metadata": {},
   "outputs": [],
   "source": [
    "testseq = 'A' * 100"
   ]
  },
  {
   "cell_type": "code",
   "execution_count": 4,
   "metadata": {},
   "outputs": [
    {
     "data": {
      "text/plain": [
       "array([81, 29, 34, 17, 97, 51,  2,  6, 99, 58])"
      ]
     },
     "execution_count": 4,
     "metadata": {},
     "output_type": "execute_result"
    }
   ],
   "source": [
    "_random_mutation_generator(testseq, rate=0.1, number_fixed=True)"
   ]
  },
  {
   "cell_type": "code",
   "execution_count": 5,
   "metadata": {},
   "outputs": [],
   "source": [
    "def random_mutation_generator(sequence, rate, num_mutants, number_fixed):\n",
    "    mutant_list = np.empty(num_mutants, dtype='object')\n",
    "    for i in range(num_mutants):\n",
    "        mutant_list[i] = _random_mutation_generator(sequence, rate, number_fixed)\n",
    "    \n",
    "    return mutant_list"
   ]
  },
  {
   "cell_type": "code",
   "execution_count": 6,
   "metadata": {},
   "outputs": [
    {
     "data": {
      "text/plain": [
       "array([array([30, 35, 33, 98, 91, 60, 71, 70, 21, 10]),\n",
       "       array([81, 76, 86, 37, 89, 61, 50, 84, 92, 98]),\n",
       "       array([33,  4, 80, 35, 37, 60,  7, 11, 51, 63]),\n",
       "       array([18, 88, 79, 28, 50, 41, 33, 32,  4, 10]),\n",
       "       array([79, 47, 74, 50, 87, 99,  9, 36, 11, 24]),\n",
       "       array([73, 90, 44, 56, 10, 43, 61,  0, 99, 54]),\n",
       "       array([51, 15, 53, 34, 86, 35, 95, 72, 90, 28]),\n",
       "       array([31, 81, 22, 12, 27, 49, 47, 60, 32,  9]),\n",
       "       array([35, 51, 20, 30, 90, 27, 38, 63, 13, 49]),\n",
       "       array([61, 85, 80, 23, 57, 59, 75, 51, 32, 60])], dtype=object)"
      ]
     },
     "execution_count": 6,
     "metadata": {},
     "output_type": "execute_result"
    }
   ],
   "source": [
    "random_mutation_generator(testseq, rate=0.1, num_mutants=10, number_fixed=True)"
   ]
  },
  {
   "cell_type": "code",
   "execution_count": 7,
   "metadata": {},
   "outputs": [],
   "source": [
    "@numba.njit\n",
    "def filter_letter(x, letter):\n",
    "    return x != letter\n",
    "\n",
    "\n",
    "@numba.njit\n",
    "def filter_mutation(letter, alph):\n",
    "    j = 0\n",
    "    for i in range(alph.size):\n",
    "        if filter_letter(alph[i], letter):\n",
    "            j += 1\n",
    "    result = np.empty(j, dtype=alph.dtype)\n",
    "    j = 0\n",
    "    for i in range(alph.size):\n",
    "        if filter_letter(alph[i], letter):\n",
    "            result[j] = alph[i]\n",
    "            j += 1\n",
    "    return result\n",
    "\n",
    "def mutate_from_index(sequence, index, allowed_alph):\n",
    "    seq_list = list(sequence)\n",
    "    for loci, mutation in index:\n",
    "        seq_list[loci] = filter_mutation(seq_list[loci], allowed_alph)[mutation].lower()\n",
    "    return \"\".join(seq_list)"
   ]
  },
  {
   "cell_type": "code",
   "execution_count": 8,
   "metadata": {},
   "outputs": [],
   "source": [
    "@numba.njit\n",
    "def choose_mutation_bias(letter, letters, allowed_alph):\n",
    "    if letter == 'A':\n",
    "        _alph = allowed_alph[0]\n",
    "    elif letter == 'C':\n",
    "        _alph = allowed_alph[1]\n",
    "    elif letter == 'G':\n",
    "        _alph = allowed_alph[2]\n",
    "    elif letter == 'T':\n",
    "        _alph = allowed_alph[3]\n",
    "    \n",
    "    alph = np.empty(np.sum(_alph), dtype=letters.dtype)\n",
    "    print(alph)\n",
    "    i = 0\n",
    "    j = 0\n",
    "    for x in _alph:\n",
    "        if x:\n",
    "            alph[i] = letters[j]\n",
    "            i += 1\n",
    "        j += 1\n",
    "\n",
    "    return alph\n",
    "\n",
    "@numba.njit\n",
    "def make_mutation(letter, letters, allowed_alph):\n",
    "    alph = choose_mutation_bias(letter, letters, allowed_alph)\n",
    "    index = np.random.choice(np.arange(len(alph)))\n",
    "    return alph[index]\n",
    "\n",
    "def mutate_with_bias(sequence, index, letters, allowed_alph):\n",
    "    seq_list = list(sequence)\n",
    "    for loci in index:\n",
    "        seq_list[loci] = make_mutation(seq_list[loci], letters, allowed_alph).lower()\n",
    "    return \"\".join(seq_list)"
   ]
  },
  {
   "cell_type": "code",
   "execution_count": 9,
   "metadata": {},
   "outputs": [
    {
     "ename": "",
     "evalue": "",
     "output_type": "error",
     "traceback": [
      "\u001b[1;31mCannot execute code, session has been disposed. Please try restarting the Kernel."
     ]
    },
    {
     "ename": "",
     "evalue": "",
     "output_type": "error",
     "traceback": [
      "\u001b[1;31mThe Kernel crashed while executing code in the the current cell or a previous cell. Please review the code in the cell(s) to identify a possible cause of the failure. Click <a href='https://aka.ms/vscodeJupyterKernelCrash'>here</a> for more info. View Jupyter <a href='command:jupyter.viewOutput'>log</a> for further details."
     ]
    }
   ],
   "source": [
    "allowed_alph = np.array([[False, False, False, True],\n",
    "                         [False, False, True, False],\n",
    "                         [False, True, False, False],\n",
    "                         [True, False, False, False]])\n",
    "letters = np.array([\"A\", \"C\", \"G\", \"T\"])\n",
    "\n",
    "mutate_with_bias(testseq, [10], letters, allowed_alph)"
   ]
  },
  {
   "cell_type": "code",
   "execution_count": 10,
   "metadata": {},
   "outputs": [
    {
     "data": {
      "text/plain": [
       "'AAAAAAAAAAcAAAAAAAAAtAAAAAAAAAtAAAAAAAAAcAAAAAAAAAtAAAAAAAAAtAAAAAAAAAcAAAAAAAAAcAAAAAAAAAtAAAAAAAAA'"
      ]
     },
     "execution_count": 10,
     "metadata": {},
     "output_type": "execute_result"
    }
   ],
   "source": [
    "allowed_alph = np.array([[False, True, False, True],\n",
    "                         [False, False, True, False],\n",
    "                         [False, True, False, False],\n",
    "                         [True, False, False, False]])\n",
    "letters = np.array([\"A\", \"C\", \"G\", \"T\"])\n",
    "\n",
    "mutate_with_bias(testseq, [10, 20, 30, 40, 50, 60, 70, 80, 90], letters, allowed_alph)"
   ]
  },
  {
   "cell_type": "code",
   "execution_count": 11,
   "metadata": {},
   "outputs": [],
   "source": [
    "def mutations_rand(\n",
    "    sequence, \n",
    "    num_mutants,\n",
    "    rate,\n",
    "    site_start=0, \n",
    "    site_end=None, \n",
    "    alph_type=\"DNA\",\n",
    "    allowed_alph=None,\n",
    "    number_fixed=False,\n",
    "    keep_wildtype=False,\n",
    "):\n",
    "    \n",
    "    # Get site to mutate\n",
    "    \n",
    "    if site_end==None:\n",
    "        mutation_window = sequence[site_start:]\n",
    "    else:\n",
    "        mutation_window = sequence[site_start:site_end]\n",
    "    \n",
    "    # Create list\n",
    "    if keep_wildtype:\n",
    "        mutants = np.empty(num_mutants+1, dtype='U{}'.format(len(sequence)))\n",
    "        mutants[0] = sequence\n",
    "        i_0 = 1\n",
    "    else:\n",
    "        mutants = np.empty(num_mutants, dtype='U{}'.format(len(sequence)))\n",
    "        i_0 = 0\n",
    "        \n",
    "    mutant_indeces = random_mutation_generator(mutation_window, rate, num_mutants, number_fixed)\n",
    "    if alph_type == \"DNA\":\n",
    "        letters = np.array([\"A\", \"C\", \"G\", \"T\"])\n",
    "    elif alph_type == \"Numeric\":\n",
    "        letters = np.arange(4)\n",
    "    else:\n",
    "        raise ValueError(\"Alphabet type has to be either \\\"DNA\\\" or \\\"Numeric\\\"\")\n",
    "    \n",
    "    if allowed_alph is not None:\n",
    "        for i, x in enumerate(mutant_indeces):\n",
    "            mutants[i + i_0] = sequence[0:site_start] + mutate_with_bias(mutation_window, x, letters, allowed_alph) + sequence[site_end:]\n",
    "    else:\n",
    "        for i, x in enumerate(mutant_indeces):\n",
    "            mutants[i + i_0] = sequence[0:site_start] + mutate_from_index(mutation_window, x, letters) + sequence[site_end:]\n",
    "        \n",
    "    return mutants"
   ]
  },
  {
   "cell_type": "code",
   "execution_count": 12,
   "metadata": {},
   "outputs": [
    {
     "data": {
      "text/plain": [
       "array(['AAAAAAAAAAAAAAAAAAAAAAAAAAAAAAAAAAAAAAAAAAAAAAAAAAAAAAAAAAAAAAAAAAAAAAAAAAAAAAAAAAAAAAAAAAAAAAAAAAAA',\n",
       "       'AAAAAAAAAAAAAAAAAtAtAAAAAAAAAAAAAAAAAAAAAAAAAAAAAAAAAAAAAAAAAAAAAAAAAtAAAAAAtAAttAAAAAAttAAAAAAAAAAA',\n",
       "       'AAAAAAAAAAAAAAAAtAAAAAAAAAAAAAAAAtAAAAAAtAAAAAtAAAAtAAtAAAAAAAAAAAAAAtAAAAAAAAAAAtAAAAAAAAAAAAAAAAAA',\n",
       "       'AAAAAAAAAAAAAAtAtAAAAAAAAAAAAAAAAAAAAAtAAAAAtAAAAAtAAAAAAAAAAAAtAAAAAtAAAAAAAAtAAAAAAAAAAAAAAAAAAAAA',\n",
       "       'AAAAAAAAAAAAAAAAAtAAtAAAAAAAAtAAAttAAAAtAAAAAAAAAAAAAAAAAAAAAAAAAAAAAAAAAAtAAAAAtAAAAAAAAAAAAAAAAAAA',\n",
       "       'AAAAAAAAAAtAAAAAtAAAAAAAAAAAAAAAAAAAAAAAAAAAAAAtAAAAttAAAAAAAAAAAAAAAAAAAAAAAAAAAtAAAtAAAtAAAAAAAAAA',\n",
       "       'AAAAAAAAAAAAttAAAAAAAAAAAAAAAAAAAAAAAttAAAAAAtAAAAAtAAAAAAtAAAAAAAAAAAAAAAtAAAAAAAAAAAAAAAAAAAAAAAAA',\n",
       "       'AAAAAAAAAAtAAAAAAAAAAAAAAAtAAAAAAAAAAAAAAAAAAtAAAAAAAAtttAAAAAAAAAAAAAAAAAAtAAAAAAAAtAAAAAAAAAAAAAAA',\n",
       "       'AAAAAAAAAAAAAAAAAAAAAAtAtAAAAAAtAAAtAAAAAAtAAAAtAAAAAAAAAAtAAAAAAAAtAAAAAAAAAAAAAAAAAAAAAAAAAAAAAAAA',\n",
       "       'AAAAAAAAAAAAAAtAAAAAAAAAAtAAAAAtAAAAAAAAtAAAAAAAAAAAAAAttAAAAAAAAAAAAAAAAAAAAAtAAAtAAAAAAAAAAAAAAAAA',\n",
       "       'AAAAAAAAAAAAAAAAtAAAAAAAAAAAAAAAAAAtAAAAAAAAAAAAtAAAAAAAAAAAAAAAAAAAAAAAtAttAAAAAAtAAAAAAtAAAAAAAAAA'],\n",
       "      dtype='<U100')"
      ]
     },
     "execution_count": 12,
     "metadata": {},
     "output_type": "execute_result"
    }
   ],
   "source": [
    "allowed_alph = np.array([[False, False, False, True],\n",
    "                         [False, False, True, False],\n",
    "                         [False, True, False, False],\n",
    "                         [True, False, False, False]])\n",
    "\n",
    "mutations_rand(testseq, 10, rate=0.1, site_start=10, site_end=90, \n",
    "    alph_type=\"DNA\",\n",
    "    allowed_alph=allowed_alph,\n",
    "    number_fixed=True,\n",
    "    keep_wildtype=True,\n",
    ")"
   ]
  },
  {
   "cell_type": "code",
   "execution_count": 13,
   "metadata": {},
   "outputs": [
    {
     "data": {
      "text/plain": [
       "array(['AAAAAAAAAAAAAAAAAAAAAAAAAAAAAAAAAAAAAAAAAAAAAAAAAAAAAAAAAAAAAAAAAAAAAAAAAAAAAAAAAAAAAAAAAAAAAAAAAAAA',\n",
       "       'AAAAAAAAAAActAAtAAAAAAAAAAtAAAAAAAcAAAAAAAAAAAAAAAAAAAcAAAAtAAcAAAAAAAAAAAAAAAAAAAAAAAAAAAAAAAAAAAAA',\n",
       "       'AAAAAAAAAAAcAAAAAAAAAAAAAAAAAAAAAAAAAAAAAAAAAAAtAAAAAAcAAAAAAAAAAAcAAAAtAAAAtAAAcAAAAAtAAAAAAAAAAAAA',\n",
       "       'AAAAAAAAAAAAAAtAAAAAAAAAtAAAAAcAtAtAAAAAAAAAAAAAAAAAAAAAAAAAAcAAAAAAAAAAAAAAAAAAAAAAAAAttAAAAAAAAAAA',\n",
       "       'AAAAAAAAAAAAAAAAAAAAAtAAAtAAAAAAAAAAAAAAAAAAAAAAAAAAcAtAAAAAcAAAActAAAAtAAAAAAAAAAAAAAAAAAAAAAAAAAAA',\n",
       "       'AAAAAAAAAAAAtAAAAAAtttAtAAAAAAAAAAAAAAAcAAcAAAAAAAAAAAcAAAAAAAAAAAAAAAAAAAAAAAAAAAAAAAAAAAAAAAAAAAAA',\n",
       "       'AAAAAAAAAAAAAcAAAAAActAAAAAAAAAAAAAtAAAAAAAAAAttAAAAAcAAAAAAAAAAAAAAAAAAAAAAAAAAAAAAAAcAAAAAAAAAAAAA',\n",
       "       'AAAAAAAAAAAAAAAAAAAAtAAtAAAAAAAAAcAAAAAAAAAcAAAAAAAAAAAAAAAAAAAAAAAAAAcAcAAAAAAAAAAAAccAAAAAAAAAAAAA',\n",
       "       'AAAAAAAAAAAAAAAAAAAAAAAAccAAtAAAAAAAAAAAAAtAAAAAAAAAAAAAAAAAAAcAAAAAAAAAAAAtAAcAAAcAAAAAAAAAAAAAAAAA',\n",
       "       'AAAAAAAAAAAAAAAtAAAAAAAAAAAtAcAAAAAAAAAAAAAAAAAAAAAAAAtAAcAcAAAAAAAcAAAAAAAAAAAAAAAAAAAAcAAAAAAAAAAA',\n",
       "       'AAAAAAAAAAAAAAAAAAAAAAAAAAAAAAAAAAtAAAAAAAcAAAcAtAtAAAAAAAAAAAAAAtAAAAAAAAAAAAAAAccAAAAAAAAAAAAAAAAA'],\n",
       "      dtype='<U100')"
      ]
     },
     "execution_count": 13,
     "metadata": {},
     "output_type": "execute_result"
    }
   ],
   "source": [
    "allowed_alph = np.array([[False, True, False, True],\n",
    "                         [False, False, True, False],\n",
    "                         [False, True, False, False],\n",
    "                         [True, False, False, False]])\n",
    "\n",
    "mutations_rand(testseq, 10, rate=0.1, site_start=10, site_end=90, \n",
    "    alph_type=\"DNA\",\n",
    "    allowed_alph=allowed_alph,\n",
    "    number_fixed=True,\n",
    "    keep_wildtype=True,\n",
    ")"
   ]
  },
  {
   "cell_type": "code",
   "execution_count": 14,
   "metadata": {},
   "outputs": [
    {
     "data": {
      "text/plain": [
       "array(['ACGTACGTACGTACGTACGTACGTACGTACGTACGTACGTACGTACGTACGTACGTACGTACGTACGTACGTACGTACGTACGTACGTACGTACGTACGT',\n",
       "       'ACGTACGTACGTACGTAgGTACGTACGTACGaACcTACGTtCGTACcTACGTACGTACGTACcTACGTACGTAgGTACGTACcTACGTACGTACGTACGT',\n",
       "       'ACGTACGTACGTACGTACGTACGTACcTACGTACGTACGaACGTACGaACGTACGTACGTtCcTAgcTACGTACGTACcTACGTACGTACGTACGTACGT',\n",
       "       'ACGTACGTACcaACGaACGTACGTtCGTACGTACGTACGaAgGTACGTACcTACGTACGTACGTACGTACGTACGTACcTACGTACGTACGTACGTACGT',\n",
       "       'ACGTACGTACGTACGaACGTAgGTACGTACGTACGTACGTACGTAgGTACcTACGTtCGTACGTACGTAgGTtCGTtCGTACGTACGTACGTACGTACGT',\n",
       "       'ACGTACGTACGTACGTACGTACGTACGTACGTtCGTAgGTAgcTACcTACGTACGTACGTACGTACcaACcTACGTACGTACGTACGTACGTACGTACGT',\n",
       "       'ACGTACGTACGTACGaAgGaACcTACcTACcTACGTACGTACGTACGTACGTACGTACGTACGTACGTACGTACGTAgGTAgGTACGTACGTACGTACGT',\n",
       "       'ACGTACGTACGTtgGaACGTACGTACcTACGTACGTACGTACGTACGaACGTACcaACGTACGTACGaACGTACGTACGTACGTACGTACGTACGTACGT',\n",
       "       'ACGTACGTACGTACGTAgGTACGTACGTAgGTACGTtCGTACGTACGaACGTACGaACGTACGTACGTACGTACGTACcTACGaAgGTACGTACGTACGT',\n",
       "       'ACGTACGTACGTACGTtCGTACGTtCGTACGTACcTAgGTACGTACGTACGTACGTACGTACGaACGTACGTACcTACGTACGTACGTtgGTACGTACGT',\n",
       "       'ACGTACGTACcTACGTACGaACGTACGTACGTAgGTACGTACGTACGTACGTtCGTAgGTACcTACGTACGTACGTACcTACGTACGaACGTACGTACGT'],\n",
       "      dtype='<U100')"
      ]
     },
     "execution_count": 14,
     "metadata": {},
     "output_type": "execute_result"
    }
   ],
   "source": [
    "testseq = 'ACGT' * 25\n",
    "\n",
    "allowed_alph = np.array([[False, False, False, True],\n",
    "                         [False, False, True, False],\n",
    "                         [False, True, False, False],\n",
    "                         [True, False, False, False]])\n",
    "\n",
    "mutations_rand(testseq, 10, rate=0.1, site_start=10, site_end=90, \n",
    "    alph_type=\"DNA\",\n",
    "    allowed_alph=allowed_alph,\n",
    "    number_fixed=True,\n",
    "    keep_wildtype=True,\n",
    ")"
   ]
  },
  {
   "cell_type": "code",
   "execution_count": 17,
   "metadata": {},
   "outputs": [
    {
     "ename": "",
     "evalue": "",
     "output_type": "error",
     "traceback": [
      "\u001b[1;31mCannot execute code, session has been disposed. Please try restarting the Kernel."
     ]
    },
    {
     "ename": "",
     "evalue": "",
     "output_type": "error",
     "traceback": [
      "\u001b[1;31mThe Kernel crashed while executing code in the the current cell or a previous cell. Please review the code in the cell(s) to identify a possible cause of the failure. Click <a href='https://aka.ms/vscodeJupyterKernelCrash'>here</a> for more info. View Jupyter <a href='command:jupyter.viewOutput'>log</a> for further details."
     ]
    }
   ],
   "source": [
    "testseq = 'ACGT' * 25\n",
    "\n",
    "allowed_alph = np.array([[False, False, False, True],\n",
    "                         [False, False, True, False],\n",
    "                         [False, True, False, False],\n",
    "                         [False, False, False, False]])\n",
    "\n",
    "mutations_rand(testseq, 10, rate=0.1, site_start=10, site_end=90, \n",
    "    alph_type=\"DNA\",\n",
    "    allowed_alph=allowed_alph,\n",
    "    number_fixed=True,\n",
    "    keep_wildtype=True,\n",
    ")"
   ]
  },
  {
   "cell_type": "code",
   "execution_count": null,
   "metadata": {},
   "outputs": [],
   "source": []
  }
 ],
 "metadata": {
  "kernelspec": {
   "display_name": "theoretical_regseq",
   "language": "python",
   "name": "python3"
  },
  "language_info": {
   "codemirror_mode": {
    "name": "ipython",
    "version": 3
   },
   "file_extension": ".py",
   "mimetype": "text/x-python",
   "name": "python",
   "nbconvert_exporter": "python",
   "pygments_lexer": "ipython3",
   "version": "3.10.4"
  },
  "orig_nbformat": 4
 },
 "nbformat": 4,
 "nbformat_minor": 2
}
