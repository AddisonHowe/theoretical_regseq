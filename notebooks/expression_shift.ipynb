{
 "cells": [
  {
   "cell_type": "code",
   "execution_count": 1,
   "metadata": {},
   "outputs": [],
   "source": [
    "## processing\n",
    "import numpy as np\n",
    "import pandas as pd\n",
    "\n",
    "## custom package\n",
    "import tregseq\n",
    "\n",
    "## visualization\n",
    "import matplotlib.pyplot as plt"
   ]
  },
  {
   "attachments": {},
   "cell_type": "markdown",
   "metadata": {},
   "source": [
    "## Loading and processing sequencing data"
   ]
  },
  {
   "cell_type": "code",
   "execution_count": 2,
   "metadata": {},
   "outputs": [
    {
     "data": {
      "text/html": [
       "<div>\n",
       "<style scoped>\n",
       "    .dataframe tbody tr th:only-of-type {\n",
       "        vertical-align: middle;\n",
       "    }\n",
       "\n",
       "    .dataframe tbody tr th {\n",
       "        vertical-align: top;\n",
       "    }\n",
       "\n",
       "    .dataframe thead th {\n",
       "        text-align: right;\n",
       "    }\n",
       "</style>\n",
       "<table border=\"1\" class=\"dataframe\">\n",
       "  <thead>\n",
       "    <tr style=\"text-align: right;\">\n",
       "      <th></th>\n",
       "      <th>ct</th>\n",
       "      <th>ct_0</th>\n",
       "      <th>ct_1</th>\n",
       "      <th>seq</th>\n",
       "    </tr>\n",
       "  </thead>\n",
       "  <tbody>\n",
       "    <tr>\n",
       "      <th>0</th>\n",
       "      <td>1.0</td>\n",
       "      <td>1.0</td>\n",
       "      <td>0.0</td>\n",
       "      <td>ACAATTTCACCATAAAATGTCGGCGTTGCCGAAAGAAATAAAATGA...</td>\n",
       "    </tr>\n",
       "    <tr>\n",
       "      <th>1</th>\n",
       "      <td>1.0</td>\n",
       "      <td>1.0</td>\n",
       "      <td>0.0</td>\n",
       "      <td>ACGAATTCCCCATAAGAAGTAAGCGATGCAGAAAGAAATAAAATTA...</td>\n",
       "    </tr>\n",
       "    <tr>\n",
       "      <th>2</th>\n",
       "      <td>1.0</td>\n",
       "      <td>1.0</td>\n",
       "      <td>0.0</td>\n",
       "      <td>ACGAATTCCCCATAAGAAGTAAGCGATGCAGAAAGAAATAAAATTA...</td>\n",
       "    </tr>\n",
       "    <tr>\n",
       "      <th>3</th>\n",
       "      <td>2.0</td>\n",
       "      <td>2.0</td>\n",
       "      <td>0.0</td>\n",
       "      <td>ACGACTTGCCCAATAAATGTGAGCGTTGCCAAAAGGAATACAATGA...</td>\n",
       "    </tr>\n",
       "    <tr>\n",
       "      <th>4</th>\n",
       "      <td>2.0</td>\n",
       "      <td>2.0</td>\n",
       "      <td>0.0</td>\n",
       "      <td>ACGACTTGCCCAATAAATGTGAGCGTTGCCAAAAGGAATACAATGA...</td>\n",
       "    </tr>\n",
       "  </tbody>\n",
       "</table>\n",
       "</div>"
      ],
      "text/plain": [
       "    ct  ct_0  ct_1                                                seq\n",
       "0  1.0   1.0   0.0  ACAATTTCACCATAAAATGTCGGCGTTGCCGAAAGAAATAAAATGA...\n",
       "1  1.0   1.0   0.0  ACGAATTCCCCATAAGAAGTAAGCGATGCAGAAAGAAATAAAATTA...\n",
       "2  1.0   1.0   0.0  ACGAATTCCCCATAAGAAGTAAGCGATGCAGAAAGAAATAAAATTA...\n",
       "3  2.0   2.0   0.0  ACGACTTGCCCAATAAATGTGAGCGTTGCCAAAAGGAATACAATGA...\n",
       "4  2.0   2.0   0.0  ACGACTTGCCCAATAAATGTGAGCGTTGCCAAAAGGAATACAATGA..."
      ]
     },
     "execution_count": 2,
     "metadata": {},
     "output_type": "execute_result"
    }
   ],
   "source": [
    "fpath = '../data/ykgE_dataset_combined.csv'\n",
    "df_ykgE = pd.read_csv(fpath)\n",
    "df_ykgE.head()"
   ]
  },
  {
   "cell_type": "code",
   "execution_count": 3,
   "metadata": {},
   "outputs": [
    {
     "data": {
      "text/html": [
       "<div>\n",
       "<style scoped>\n",
       "    .dataframe tbody tr th:only-of-type {\n",
       "        vertical-align: middle;\n",
       "    }\n",
       "\n",
       "    .dataframe tbody tr th {\n",
       "        vertical-align: top;\n",
       "    }\n",
       "\n",
       "    .dataframe thead th {\n",
       "        text-align: right;\n",
       "    }\n",
       "</style>\n",
       "<table border=\"1\" class=\"dataframe\">\n",
       "  <thead>\n",
       "    <tr style=\"text-align: right;\">\n",
       "      <th></th>\n",
       "      <th>ct</th>\n",
       "      <th>ct_0</th>\n",
       "      <th>ct_1</th>\n",
       "      <th>seq</th>\n",
       "      <th>norm_ct_1</th>\n",
       "    </tr>\n",
       "  </thead>\n",
       "  <tbody>\n",
       "    <tr>\n",
       "      <th>0</th>\n",
       "      <td>1.0</td>\n",
       "      <td>1.0</td>\n",
       "      <td>0.0</td>\n",
       "      <td>ACAATTTCACCATAAAATGTCGGCGTTGCCGAAAGAAATAAAATGA...</td>\n",
       "      <td>0.0</td>\n",
       "    </tr>\n",
       "    <tr>\n",
       "      <th>1</th>\n",
       "      <td>1.0</td>\n",
       "      <td>1.0</td>\n",
       "      <td>0.0</td>\n",
       "      <td>ACGAATTCCCCATAAGAAGTAAGCGATGCAGAAAGAAATAAAATTA...</td>\n",
       "      <td>0.0</td>\n",
       "    </tr>\n",
       "    <tr>\n",
       "      <th>2</th>\n",
       "      <td>1.0</td>\n",
       "      <td>1.0</td>\n",
       "      <td>0.0</td>\n",
       "      <td>ACGAATTCCCCATAAGAAGTAAGCGATGCAGAAAGAAATAAAATTA...</td>\n",
       "      <td>0.0</td>\n",
       "    </tr>\n",
       "    <tr>\n",
       "      <th>3</th>\n",
       "      <td>2.0</td>\n",
       "      <td>2.0</td>\n",
       "      <td>0.0</td>\n",
       "      <td>ACGACTTGCCCAATAAATGTGAGCGTTGCCAAAAGGAATACAATGA...</td>\n",
       "      <td>0.0</td>\n",
       "    </tr>\n",
       "    <tr>\n",
       "      <th>4</th>\n",
       "      <td>2.0</td>\n",
       "      <td>2.0</td>\n",
       "      <td>0.0</td>\n",
       "      <td>ACGACTTGCCCAATAAATGTGAGCGTTGCCAAAAGGAATACAATGA...</td>\n",
       "      <td>0.0</td>\n",
       "    </tr>\n",
       "  </tbody>\n",
       "</table>\n",
       "</div>"
      ],
      "text/plain": [
       "    ct  ct_0  ct_1                                                seq  \\\n",
       "0  1.0   1.0   0.0  ACAATTTCACCATAAAATGTCGGCGTTGCCGAAAGAAATAAAATGA...   \n",
       "1  1.0   1.0   0.0  ACGAATTCCCCATAAGAAGTAAGCGATGCAGAAAGAAATAAAATTA...   \n",
       "2  1.0   1.0   0.0  ACGAATTCCCCATAAGAAGTAAGCGATGCAGAAAGAAATAAAATTA...   \n",
       "3  2.0   2.0   0.0  ACGACTTGCCCAATAAATGTGAGCGTTGCCAAAAGGAATACAATGA...   \n",
       "4  2.0   2.0   0.0  ACGACTTGCCCAATAAATGTGAGCGTTGCCAAAAGGAATACAATGA...   \n",
       "\n",
       "   norm_ct_1  \n",
       "0        0.0  \n",
       "1        0.0  \n",
       "2        0.0  \n",
       "3        0.0  \n",
       "4        0.0  "
      ]
     },
     "execution_count": 3,
     "metadata": {},
     "output_type": "execute_result"
    }
   ],
   "source": [
    "def trim_seqs(row):\n",
    "    return row['seq'][:160]\n",
    "\n",
    "df_ykgE['seq'] = df_ykgE.apply(trim_seqs, axis=1)\n",
    "df_ykgE = df_ykgE[df_ykgE.ct_0 != 0.0]\n",
    "df_ykgE['norm_ct_1'] = df_ykgE['ct_1'] / df_ykgE['ct_0']\n",
    "df_ykgE.head()"
   ]
  },
  {
   "attachments": {},
   "cell_type": "markdown",
   "metadata": {},
   "source": [
    "## Calculating expression shift"
   ]
  },
  {
   "cell_type": "code",
   "execution_count": 4,
   "metadata": {},
   "outputs": [],
   "source": [
    "wtseq = 'TCGATTTCCCCATAAAATGTGAGCGATGCCGAAAGAAATAAAATTAGTTATTGCATTTGACGTTTGGATGAAAGATTATCATTTGTCATACAAATGAGGGGTGGTATGTTGCTAGCCAATTAAAAAAGAACGCCATATTTATTGATGATTGATCCCCCGG'"
   ]
  },
  {
   "cell_type": "code",
   "execution_count": 5,
   "metadata": {},
   "outputs": [],
   "source": [
    "mut_list = df_ykgE['seq'].values\n",
    "mu_data = df_ykgE['norm_ct_1'].values"
   ]
  },
  {
   "cell_type": "code",
   "execution_count": 7,
   "metadata": {},
   "outputs": [],
   "source": [
    "windowsize=5\n",
    "exshift_list = tregseq.footprint.get_expression_shift(mut_list, mu_data, wtseq, smoothed=True, windowsize=windowsize)"
   ]
  },
  {
   "cell_type": "code",
   "execution_count": 8,
   "metadata": {},
   "outputs": [
    {
     "data": {
      "image/png": "[encoded data removed]",
      "text/plain": [
       "<Figure size 720x144 with 1 Axes>"
      ]
     },
     "metadata": {
      "needs_background": "light"
     },
     "output_type": "display_data"
    }
   ],
   "source": [
    "fig, ax = plt.subplots(figsize=(10,2))\n",
    "ax.set_ylabel('Information (bits)')\n",
    "ax.set_xlabel('position')\n",
    "\n",
    "cut = int((windowsize - 1) / 2)\n",
    "x = np.arange(-115 + cut, 45 - cut)\n",
    "shiftcolors = [('salmon' if exshift > 0 else 'royalblue') for exshift in exshift_list]\n",
    "ax.bar(x, exshift_list, edgecolor=None, color=shiftcolors)\n",
    "plt.show()"
   ]
  },
  {
   "attachments": {},
   "cell_type": "markdown",
   "metadata": {},
   "source": [
    "## Testing on simulated lacI data"
   ]
  },
  {
   "cell_type": "code",
   "execution_count": 9,
   "metadata": {},
   "outputs": [
    {
     "data": {
      "text/html": [
       "<div>\n",
       "<style scoped>\n",
       "    .dataframe tbody tr th:only-of-type {\n",
       "        vertical-align: middle;\n",
       "    }\n",
       "\n",
       "    .dataframe tbody tr th {\n",
       "        vertical-align: top;\n",
       "    }\n",
       "\n",
       "    .dataframe thead th {\n",
       "        text-align: right;\n",
       "    }\n",
       "</style>\n",
       "<table border=\"1\" class=\"dataframe\">\n",
       "  <thead>\n",
       "    <tr style=\"text-align: right;\">\n",
       "      <th></th>\n",
       "      <th>seq</th>\n",
       "      <th>pbound</th>\n",
       "      <th>ct_0</th>\n",
       "      <th>ct_1</th>\n",
       "      <th>ct</th>\n",
       "    </tr>\n",
       "  </thead>\n",
       "  <tbody>\n",
       "    <tr>\n",
       "      <th>0</th>\n",
       "      <td>ACAGGTTTCCCGACTGGAAAGCGGGCAGTGAGCGCAACGCAATTAA...</td>\n",
       "      <td>0.000269</td>\n",
       "      <td>22.0</td>\n",
       "      <td>5.0</td>\n",
       "      <td>27.0</td>\n",
       "    </tr>\n",
       "    <tr>\n",
       "      <th>1</th>\n",
       "      <td>ACAGGTTTCCCGACTGGAAAGCGGGCAGTGAGCGCAACGCAATTAA...</td>\n",
       "      <td>0.000088</td>\n",
       "      <td>6.0</td>\n",
       "      <td>0.0</td>\n",
       "      <td>6.0</td>\n",
       "    </tr>\n",
       "    <tr>\n",
       "      <th>2</th>\n",
       "      <td>ACAGGTTTCCCGACTGGAAAGCGGGCAGTGAGCGCAACGCAATTAA...</td>\n",
       "      <td>0.000080</td>\n",
       "      <td>8.0</td>\n",
       "      <td>0.0</td>\n",
       "      <td>8.0</td>\n",
       "    </tr>\n",
       "    <tr>\n",
       "      <th>3</th>\n",
       "      <td>ACAGGTTTCCCGACTGGAAAGCGGGCAGTGAGCGCAACGCAATTAA...</td>\n",
       "      <td>0.000078</td>\n",
       "      <td>7.0</td>\n",
       "      <td>0.0</td>\n",
       "      <td>7.0</td>\n",
       "    </tr>\n",
       "    <tr>\n",
       "      <th>4</th>\n",
       "      <td>ACAGGTTTCCCGACTGGAAAGCGGGCAGTGAGCGCAACGCAATTAA...</td>\n",
       "      <td>0.000045</td>\n",
       "      <td>18.0</td>\n",
       "      <td>0.0</td>\n",
       "      <td>18.0</td>\n",
       "    </tr>\n",
       "  </tbody>\n",
       "</table>\n",
       "</div>"
      ],
      "text/plain": [
       "                                                 seq    pbound  ct_0  ct_1  \\\n",
       "0  ACAGGTTTCCCGACTGGAAAGCGGGCAGTGAGCGCAACGCAATTAA...  0.000269  22.0   5.0   \n",
       "1  ACAGGTTTCCCGACTGGAAAGCGGGCAGTGAGCGCAACGCAATTAA...  0.000088   6.0   0.0   \n",
       "2  ACAGGTTTCCCGACTGGAAAGCGGGCAGTGAGCGCAACGCAATTAA...  0.000080   8.0   0.0   \n",
       "3  ACAGGTTTCCCGACTGGAAAGCGGGCAGTGAGCGCAACGCAATTAA...  0.000078   7.0   0.0   \n",
       "4  ACAGGTTTCCCGACTGGAAAGCGGGCAGTGAGCGCAACGCAATTAA...  0.000045  18.0   0.0   \n",
       "\n",
       "     ct  \n",
       "0  27.0  \n",
       "1   6.0  \n",
       "2   8.0  \n",
       "3   7.0  \n",
       "4  18.0  "
      ]
     },
     "execution_count": 9,
     "metadata": {},
     "output_type": "execute_result"
    }
   ],
   "source": [
    "fpath = '../data/synthetic_datasets/lacI_synthetic_dataset.csv'\n",
    "df_lacI = pd.read_csv(fpath)\n",
    "df_lacI.head()"
   ]
  },
  {
   "cell_type": "code",
   "execution_count": 10,
   "metadata": {},
   "outputs": [],
   "source": [
    "wtseq = 'ACAGGTTTCCCGACTGGAAAGCGGGCAGTGAGCGCAACGCAATTAATGTGAGTTAGCTCACTCATTAGGCACCCCAGGCTTTACACTTTATGCTTCCGGCTCGTATGTTGTGTGGAATTGTGAGCGGATAACAATTTCACACAGGAAACAGCTATGACCA'"
   ]
  },
  {
   "cell_type": "code",
   "execution_count": 11,
   "metadata": {},
   "outputs": [],
   "source": [
    "df_lacI = df_lacI[df_lacI.ct_0 != 0.0]\n",
    "df_lacI['norm_ct_1'] = df_lacI['ct_1'] / df_lacI['ct_0']\n",
    "\n",
    "n_seqs = len(df_lacI)\n",
    "mut_list = df_lacI['seq'].values\n",
    "mu_data = df_lacI['norm_ct_1'].values"
   ]
  },
  {
   "cell_type": "code",
   "execution_count": 12,
   "metadata": {},
   "outputs": [],
   "source": [
    "windowsize=5\n",
    "exshift_list = tregseq.footprint.get_expression_shift(mut_list, mu_data, wtseq, smoothed=True, windowsize=windowsize)"
   ]
  },
  {
   "cell_type": "code",
   "execution_count": 13,
   "metadata": {},
   "outputs": [
    {
     "data": {
      "image/png": "[encoded data removed]",
      "text/plain": [
       "<Figure size 720x144 with 1 Axes>"
      ]
     },
     "metadata": {
      "needs_background": "light"
     },
     "output_type": "display_data"
    }
   ],
   "source": [
    "fig, ax = plt.subplots(figsize=(10,2))\n",
    "ax.set_ylabel('Information (bits)')\n",
    "ax.set_xlabel('position')\n",
    "\n",
    "cut = int((windowsize - 1) / 2)\n",
    "x = np.arange(-115 + cut, 45 - cut)\n",
    "shiftcolors = [('salmon' if exshift > 0 else 'royalblue') for exshift in exshift_list]\n",
    "ax.bar(x, exshift_list, edgecolor=None, color=shiftcolors)\n",
    "plt.show()"
   ]
  }
 ],
 "metadata": {
  "kernelspec": {
   "display_name": "theoretical_regseq",
   "language": "python",
   "name": "python3"
  },
  "language_info": {
   "codemirror_mode": {
    "name": "ipython",
    "version": 3
   },
   "file_extension": ".py",
   "mimetype": "text/x-python",
   "name": "python",
   "nbconvert_exporter": "python",
   "pygments_lexer": "ipython3",
   "version": "3.10.4"
  },
  "orig_nbformat": 4
 },
 "nbformat": 4,
 "nbformat_minor": 2
}
