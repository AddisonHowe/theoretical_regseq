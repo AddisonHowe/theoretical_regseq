{
 "cells": [
  {
   "cell_type": "code",
   "execution_count": 1,
   "metadata": {
    "collapsed": false
   },
   "outputs": [],
   "source": [
    "import math\n",
    "import numpy as np\n",
    "import pandas as pd\n",
    "from Bio import SeqIO\n",
    "\n",
    "# custom packages\n",
    "import sys\n",
    "sys.path.insert(1, '../src/tregseq')\n",
    "import wgregseq, seq_utils, simulate\n",
    "\n",
    "# visualization\n",
    "import matplotlib.pyplot as plt\n",
    "import seaborn as sns"
   ]
  },
  {
   "attachments": {},
   "cell_type": "markdown",
   "metadata": {},
   "source": [
    "In this notebook, we will simulate a synthetic dataset for a gene with the simple repression regulatory architecture. We choose the lacZYA promoter, which contains the LacI O1 binding site. The energy matrix for RNAP has been previously determined by [Brewster et al.](https://journals.plos.org/ploscompbiol/article/figure?id=10.1371/journal.pcbi.1002811.g002) and the energy matrix for lacI has been determined in Barnes et al.\n"
   ]
  },
  {
   "attachments": {},
   "cell_type": "markdown",
   "metadata": {},
   "source": [
    "## 0. Loading input data"
   ]
  },
  {
   "attachments": {},
   "cell_type": "markdown",
   "metadata": {},
   "source": [
    "### regulatory sequence"
   ]
  },
  {
   "attachments": {},
   "cell_type": "markdown",
   "metadata": {},
   "source": [
    "Given the genomic sequence of *E. coli* and the known TSS of lacZ, we load the sequence of the lacZYA promoter assuming that the length of the promoter is 160bp."
   ]
  },
  {
   "cell_type": "code",
   "execution_count": 2,
   "metadata": {},
   "outputs": [],
   "source": [
    "_genome = []\n",
    "for record in SeqIO.parse(\"../data/mg1655_genome.fasta\", \"fasta\"):\n",
    "    _genome.append(str(record.seq))\n",
    "genome = _genome[0]"
   ]
  },
  {
   "cell_type": "code",
   "execution_count": 3,
   "metadata": {},
   "outputs": [
    {
     "data": {
      "text/plain": [
       "366343"
      ]
     },
     "execution_count": 3,
     "metadata": {},
     "output_type": "execute_result"
    }
   ],
   "source": [
    "## Find the transcription start site\n",
    "df = pd.read_csv('../data/ecoli_gene_list.csv')\n",
    "lacO1_TSS = int(df[(df.gene == 'lacZ') & (df.promoter == 'lacZp1')]['tss'].iloc[0])\n",
    "lacO1_TSS"
   ]
  },
  {
   "cell_type": "code",
   "execution_count": 4,
   "metadata": {},
   "outputs": [
    {
     "data": {
      "text/plain": [
       "'ACAGGTTTCCCGACTGGAAAGCGGGCAGTGAGCGCAACGCAATTAATGTGAGTTAGCTCACTCATTAGGCACCCCAGGCTTTACACTTTATGCTTCCGGCTCGTATGTTGTGTGGAATTGTGAGCGGATAACAATTTCACACAGGAAACAGCTATGACCA'"
      ]
     },
     "execution_count": 4,
     "metadata": {},
     "output_type": "execute_result"
    }
   ],
   "source": [
    "lacO1 = seq_utils.get_regulatory_region(genome, lacO1_TSS, reverse=True)\n",
    "lacO1"
   ]
  },
  {
   "cell_type": "code",
   "execution_count": 5,
   "metadata": {},
   "outputs": [],
   "source": [
    "# Promoter\n",
    "lacWT = 'CAGGCTTTACACTTTATGCTTCCGGCTCGTATGTTGTGTGG'\n",
    "\n",
    "# Operator sequences\n",
    "O1 = 'AATTGTGAGCGGATAACAATT'"
   ]
  },
  {
   "cell_type": "code",
   "execution_count": 6,
   "metadata": {},
   "outputs": [
    {
     "data": {
      "text/plain": [
       "74"
      ]
     },
     "execution_count": 6,
     "metadata": {},
     "output_type": "execute_result"
    }
   ],
   "source": [
    "lacO1.find(lacWT)"
   ]
  },
  {
   "cell_type": "code",
   "execution_count": 7,
   "metadata": {},
   "outputs": [
    {
     "data": {
      "text/plain": [
       "115"
      ]
     },
     "execution_count": 7,
     "metadata": {},
     "output_type": "execute_result"
    }
   ],
   "source": [
    "lacO1.find(O1)"
   ]
  },
  {
   "attachments": {},
   "cell_type": "markdown",
   "metadata": {},
   "source": [
    "### energy matrices"
   ]
  },
  {
   "attachments": {},
   "cell_type": "markdown",
   "metadata": {},
   "source": [
    "Now we load the experimentally determined energy matrices. We \"fix\" the matrices such that the binding energy corresponding to the wild type base identity at each position is 0. This makes sense because when we calculate $p_{\\mathrm{bound}}$ and fold change, the relevant parameter is $\\Delta \\varepsilon$."
   ]
  },
  {
   "cell_type": "code",
   "execution_count": 8,
   "metadata": {},
   "outputs": [],
   "source": [
    "# obtained from https://journals.plos.org/ploscompbiol/article/figure?id=10.1371/journal.pcbi.1002811.g002\n",
    "\n",
    "rnap_emat_raw = np.loadtxt('../data/energy_matrices/RNAP_energy_matrix.txt')\n",
    "rnap_emat = simulate.fix_wt(rnap_emat_raw, lacWT)"
   ]
  },
  {
   "cell_type": "code",
   "execution_count": 9,
   "metadata": {},
   "outputs": [
    {
     "data": {
      "image/png": "[encoded data removed]",
      "text/plain": [
       "<Figure size 1152x108 with 2 Axes>"
      ]
     },
     "metadata": {
      "needs_background": "light"
     },
     "output_type": "display_data"
    }
   ],
   "source": [
    "div_colors = sns.diverging_palette(16, 258, s=56, l=51, n=15, sep=2, center='light', as_cmap=True)\n",
    "\n",
    "fig, ax = plt.subplots(figsize=(16, 1.5))\n",
    "sns.heatmap(rnap_emat.T, cmap=div_colors, ax=ax, vmin=-5, vmax=5)\n",
    "ax.set_yticklabels(['A', 'C', 'G', 'T'], rotation=360)\n",
    "plt.show()"
   ]
  },
  {
   "cell_type": "code",
   "execution_count": 10,
   "metadata": {},
   "outputs": [],
   "source": [
    "O1_1027_raw = np.load('../data/energy_matrices/lacThermoforTO1.npy')\n",
    "\n",
    "O1_1027_fixed = np.zeros(np.shape(O1_1027_raw))\n",
    "for i in range(3):\n",
    "    O1_1027_fixed[i] = simulate.fix_wt(O1_1027_raw[i], O1)\n",
    "\n",
    "O1_emat = np.mean(O1_1027_fixed, axis=0)"
   ]
  },
  {
   "cell_type": "code",
   "execution_count": 11,
   "metadata": {},
   "outputs": [],
   "source": [
    "# Set up dictionaries that can be used to make a dataframe for all predictions and measurements\n",
    "# energy_dict = {'O1' : -15.3, 'O2' : -13.9, 'O3' : -9.7}"
   ]
  },
  {
   "cell_type": "code",
   "execution_count": 12,
   "metadata": {},
   "outputs": [
    {
     "data": {
      "image/png": "[encoded data removed]",
      "text/plain": [
       "<Figure size 576x108 with 2 Axes>"
      ]
     },
     "metadata": {
      "needs_background": "light"
     },
     "output_type": "display_data"
    }
   ],
   "source": [
    "fig, ax = plt.subplots(figsize=(8, 1.5))\n",
    "\n",
    "sns.heatmap(O1_emat.T, cmap=div_colors, ax=ax, vmin=-5, vmax=5)\n",
    "ax.set_yticklabels(['A', 'C', 'G', 'T'], rotation=360)\n",
    "plt.show()"
   ]
  },
  {
   "attachments": {},
   "cell_type": "markdown",
   "metadata": {},
   "source": [
    "## 1. Generate promoter variants"
   ]
  },
  {
   "attachments": {},
   "cell_type": "markdown",
   "metadata": {},
   "source": [
    "We generate promoter variants by making random mutations based on the wild type regulatory sequence. We use $10^5$ promoter variants (which is quite large) for now but need to potentially test the minimum number of promoter variants required for a nice-looking information footprint."
   ]
  },
  {
   "cell_type": "code",
   "execution_count": 13,
   "metadata": {},
   "outputs": [],
   "source": [
    "lacO1_mutants = np.unique(wgregseq.mutations_rand(lacO1, rate=0.1, num_mutants=100000, number_fixed=True))"
   ]
  },
  {
   "attachments": {},
   "cell_type": "markdown",
   "metadata": {},
   "source": [
    "## 2. Calculate $p_{\\mathrm{bound}}$"
   ]
  },
  {
   "attachments": {},
   "cell_type": "markdown",
   "metadata": {},
   "source": [
    "Now we have everything we need to calculate the probability of RNAP binding for each promoter variant. For a gene with the simple repression regulatory architecture, we can express the probablity of binding (show derivation in manuscript) as\n",
    "$$\n",
    "p_{\\mathrm{bound}} = \\frac{\\frac{P}{N_{NS}}e^{-\\beta \\Delta \\varepsilon_P}}{1 + \\frac{P}{N_{NS}}e^{-\\beta \\Delta \\varepsilon_P} + \\frac{R}{N_{NS}}e^{-\\beta \\Delta \\varepsilon_R}}.\n",
    "$$\n",
    "As we can see, the parameters that we need are the number of RNAPs ($P$), the number of repressors ($R$), the number of non-specific binding sites ($N_{NS}$), and the binding energies for RNAP and lacI ($\\Delta \\varepsilon_P$ and $\\Delta \\varepsilon_R$)."
   ]
  },
  {
   "attachments": {},
   "cell_type": "markdown",
   "metadata": {},
   "source": [
    "The data for $P$ and $R$ can be readily found on BioNumbers. Assuming that every site in the genome can be a non-specific binding site, we can approximate $N_{NS}$ as the length of the genome."
   ]
  },
  {
   "cell_type": "code",
   "execution_count": 14,
   "metadata": {},
   "outputs": [],
   "source": [
    "n_NS = len(genome)\n",
    "\n",
    "n_p = 4600 #[BNID: 108601]\n",
    "\n",
    "# [BNID: 100734]\n",
    "n_r = 10 # 0.01 * 10**(-6) M (mol / m3) * 10^(-18) m^3 * 6 * 10**23 mol-1; doesn't really match tho"
   ]
  },
  {
   "attachments": {},
   "cell_type": "markdown",
   "metadata": {},
   "source": [
    "Next, for each promoter variant, we calculate the energy of binding of the RNAP and lacI by mapping the mutant sequences to the energy matrices. Finally, we can plug in the values for all the parameters into the expression above to calculate $p_{\\mathrm{bound}}$."
   ]
  },
  {
   "cell_type": "code",
   "execution_count": 15,
   "metadata": {},
   "outputs": [],
   "source": [
    "lac_start, lac_end = seq_utils.find_binding_site(lacO1, lacWT)\n",
    "O1_start, O1_end = seq_utils.find_binding_site(lacO1, O1)"
   ]
  },
  {
   "cell_type": "code",
   "execution_count": 16,
   "metadata": {},
   "outputs": [],
   "source": [
    "l_tr = []\n",
    "for mut in lacO1_mutants:\n",
    "    rv = {}\n",
    "    rv['seq'] = mut\n",
    "    psite_mut = mut[lac_start:lac_end].upper()\n",
    "    O1_mut = mut[O1_start:O1_end].upper()\n",
    "    rv['pbound'] = simulate.simrep_pbound(psite_mut, O1_mut, rnap_emat, O1_emat, n_p, n_r, n_NS)\n",
    "    l_tr.append(rv)"
   ]
  },
  {
   "cell_type": "code",
   "execution_count": 17,
   "metadata": {},
   "outputs": [
    {
     "data": {
      "text/html": [
       "<div>\n",
       "<style scoped>\n",
       "    .dataframe tbody tr th:only-of-type {\n",
       "        vertical-align: middle;\n",
       "    }\n",
       "\n",
       "    .dataframe tbody tr th {\n",
       "        vertical-align: top;\n",
       "    }\n",
       "\n",
       "    .dataframe thead th {\n",
       "        text-align: right;\n",
       "    }\n",
       "</style>\n",
       "<table border=\"1\" class=\"dataframe\">\n",
       "  <thead>\n",
       "    <tr style=\"text-align: right;\">\n",
       "      <th></th>\n",
       "      <th>seq</th>\n",
       "      <th>pbound</th>\n",
       "    </tr>\n",
       "  </thead>\n",
       "  <tbody>\n",
       "    <tr>\n",
       "      <th>0</th>\n",
       "      <td>ACAGGTTTCCCGACTGGAAAGCGGGCAGTGAGCGCAACGCAATTAA...</td>\n",
       "      <td>0.000332</td>\n",
       "    </tr>\n",
       "    <tr>\n",
       "      <th>1</th>\n",
       "      <td>ACAGGTTTCCCGACTGGAAAGCGGGCAGTGAGCGCAACGCAATTAA...</td>\n",
       "      <td>0.000037</td>\n",
       "    </tr>\n",
       "    <tr>\n",
       "      <th>2</th>\n",
       "      <td>ACAGGTTTCCCGACTGGAAAGCGGGCAGTGAGCGCAACGCAATTAA...</td>\n",
       "      <td>0.000044</td>\n",
       "    </tr>\n",
       "    <tr>\n",
       "      <th>3</th>\n",
       "      <td>ACAGGTTTCCCGACTGGAAAGCGGGCAGTGAGCGCAACGCAATTAA...</td>\n",
       "      <td>0.000711</td>\n",
       "    </tr>\n",
       "    <tr>\n",
       "      <th>4</th>\n",
       "      <td>ACAGGTTTCCCGACTGGAAAGCGGGCAGTGAGCGCAACGCAATTAA...</td>\n",
       "      <td>0.000747</td>\n",
       "    </tr>\n",
       "  </tbody>\n",
       "</table>\n",
       "</div>"
      ],
      "text/plain": [
       "                                                 seq    pbound\n",
       "0  ACAGGTTTCCCGACTGGAAAGCGGGCAGTGAGCGCAACGCAATTAA...  0.000332\n",
       "1  ACAGGTTTCCCGACTGGAAAGCGGGCAGTGAGCGCAACGCAATTAA...  0.000037\n",
       "2  ACAGGTTTCCCGACTGGAAAGCGGGCAGTGAGCGCAACGCAATTAA...  0.000044\n",
       "3  ACAGGTTTCCCGACTGGAAAGCGGGCAGTGAGCGCAACGCAATTAA...  0.000711\n",
       "4  ACAGGTTTCCCGACTGGAAAGCGGGCAGTGAGCGCAACGCAATTAA...  0.000747"
      ]
     },
     "execution_count": 17,
     "metadata": {},
     "output_type": "execute_result"
    }
   ],
   "source": [
    "df_tr = pd.DataFrame.from_records(l_tr)\n",
    "df_tr.head()"
   ]
  },
  {
   "attachments": {},
   "cell_type": "markdown",
   "metadata": {},
   "source": [
    "## 3. Generate sequence counts"
   ]
  },
  {
   "attachments": {},
   "cell_type": "markdown",
   "metadata": {},
   "source": [
    "Now, in order to produce a dataset that has the same structure as the dataset that we would obtain experimentally by performing RNA sequencing, we need map the values for $p_\\mathrm{bound}$ to RNA counts.\n",
    "\n",
    "We first rely on the occupancy hypothesis, which states that the rate of mRNA production is proportion to the probability of RNA polymerase occupany at the promoter (from Figure 1 theory paper). This means that\n",
    "$$\n",
    "\\frac{dm}{dt} = r p_{\\mathrm{bound}} - \\gamma m,\n",
    "$$\n",
    "where $m$ is the number of mRNAs, $r$ is the rate of transcription, and $\\gamma$ is the rate of degradation. \n",
    "Therefore, at steady state,\n",
    "$$\n",
    "m^* = \\frac{r}{\\gamma} p_{\\mathrm{bound}}.\n",
    "$$\n",
    "\n",
    "In this case we assume that the rate of transcription is proportional to the number of copies of DNA in the system (this could be the copy of plasmids or the copy of genes in the chromosomal, in the case where we perform chromosomal integration). Hence we re-write the above equation as\n",
    "$$\n",
    "m^* = \\frac{r'}{\\gamma} c_{\\mathrm{DNA}} p_{\\mathrm{bound}}.\n",
    "$$\n",
    "\n",
    "During the library prepration stage of the experiment, we need to perform multiple rounds of PCRs. This means that the DNA that are initially more abundant will be make more abundant across the PCR cycles, and therefore the DNA count is expected to be exponentially distributed.\n",
    "\n",
    "**Outstanding questions:**\n",
    "* What if it's uniform?\n",
    "* Add additional noise?"
   ]
  },
  {
   "cell_type": "code",
   "execution_count": 18,
   "metadata": {},
   "outputs": [],
   "source": [
    "dna_cnt = np.random.exponential(1, size=len(df_tr)) * 10"
   ]
  },
  {
   "cell_type": "code",
   "execution_count": 19,
   "metadata": {},
   "outputs": [],
   "source": [
    "dna_cnt_up = []\n",
    "for cnt in dna_cnt:\n",
    "    dna_cnt_up.append(math.ceil(cnt))"
   ]
  },
  {
   "attachments": {},
   "cell_type": "markdown",
   "metadata": {},
   "source": [
    "We plot the DNA count just to make sure it indeed looks exponential, and it does."
   ]
  },
  {
   "cell_type": "code",
   "execution_count": 20,
   "metadata": {},
   "outputs": [
    {
     "data": {
      "image/png": "[encoded data removed]",
      "text/plain": [
       "<Figure size 432x288 with 1 Axes>"
      ]
     },
     "metadata": {
      "needs_background": "light"
     },
     "output_type": "display_data"
    }
   ],
   "source": [
    "plt.hist(dna_cnt_up, bins=20)\n",
    "plt.xlabel('DNA count')\n",
    "plt.ylabel('Count')\n",
    "plt.show()"
   ]
  },
  {
   "attachments": {},
   "cell_type": "markdown",
   "metadata": {},
   "source": [
    "Here we arbitrarily choose 200 for the scaling factor. It might be of interest to look more into what number to choose."
   ]
  },
  {
   "cell_type": "code",
   "execution_count": 21,
   "metadata": {},
   "outputs": [],
   "source": [
    "df_tr['ct_0'] = dna_cnt_up\n",
    "df_tr['ct_1'] = df_tr['ct_0'] * df_tr['pbound'] * 200\n",
    "df_tr['ct_1'] = df_tr['ct_1'].astype(int)\n",
    "df_tr['ct'] = df_tr['ct_0'] + df_tr['ct_1']"
   ]
  },
  {
   "cell_type": "code",
   "execution_count": 22,
   "metadata": {},
   "outputs": [],
   "source": [
    "df_tr['ct'] = df_tr['ct'].astype(float)\n",
    "df_tr['ct_0'] = df_tr['ct_0'].astype(float)\n",
    "df_tr['ct_1'] = df_tr['ct_1'].astype(float)"
   ]
  },
  {
   "cell_type": "code",
   "execution_count": 23,
   "metadata": {},
   "outputs": [
    {
     "data": {
      "text/html": [
       "<div>\n",
       "<style scoped>\n",
       "    .dataframe tbody tr th:only-of-type {\n",
       "        vertical-align: middle;\n",
       "    }\n",
       "\n",
       "    .dataframe tbody tr th {\n",
       "        vertical-align: top;\n",
       "    }\n",
       "\n",
       "    .dataframe thead th {\n",
       "        text-align: right;\n",
       "    }\n",
       "</style>\n",
       "<table border=\"1\" class=\"dataframe\">\n",
       "  <thead>\n",
       "    <tr style=\"text-align: right;\">\n",
       "      <th></th>\n",
       "      <th>seq</th>\n",
       "      <th>pbound</th>\n",
       "      <th>ct_0</th>\n",
       "      <th>ct_1</th>\n",
       "      <th>ct</th>\n",
       "    </tr>\n",
       "  </thead>\n",
       "  <tbody>\n",
       "    <tr>\n",
       "      <th>0</th>\n",
       "      <td>ACAGGTTTCCCGACTGGAAAGCGGGCAGTGAGCGCAACGCAATTAA...</td>\n",
       "      <td>0.000332</td>\n",
       "      <td>6.0</td>\n",
       "      <td>0.0</td>\n",
       "      <td>6.0</td>\n",
       "    </tr>\n",
       "    <tr>\n",
       "      <th>1</th>\n",
       "      <td>ACAGGTTTCCCGACTGGAAAGCGGGCAGTGAGCGCAACGCAATTAA...</td>\n",
       "      <td>0.000037</td>\n",
       "      <td>16.0</td>\n",
       "      <td>0.0</td>\n",
       "      <td>16.0</td>\n",
       "    </tr>\n",
       "    <tr>\n",
       "      <th>2</th>\n",
       "      <td>ACAGGTTTCCCGACTGGAAAGCGGGCAGTGAGCGCAACGCAATTAA...</td>\n",
       "      <td>0.000044</td>\n",
       "      <td>8.0</td>\n",
       "      <td>0.0</td>\n",
       "      <td>8.0</td>\n",
       "    </tr>\n",
       "    <tr>\n",
       "      <th>3</th>\n",
       "      <td>ACAGGTTTCCCGACTGGAAAGCGGGCAGTGAGCGCAACGCAATTAA...</td>\n",
       "      <td>0.000711</td>\n",
       "      <td>14.0</td>\n",
       "      <td>1.0</td>\n",
       "      <td>15.0</td>\n",
       "    </tr>\n",
       "    <tr>\n",
       "      <th>4</th>\n",
       "      <td>ACAGGTTTCCCGACTGGAAAGCGGGCAGTGAGCGCAACGCAATTAA...</td>\n",
       "      <td>0.000747</td>\n",
       "      <td>11.0</td>\n",
       "      <td>1.0</td>\n",
       "      <td>12.0</td>\n",
       "    </tr>\n",
       "  </tbody>\n",
       "</table>\n",
       "</div>"
      ],
      "text/plain": [
       "                                                 seq    pbound  ct_0  ct_1  \\\n",
       "0  ACAGGTTTCCCGACTGGAAAGCGGGCAGTGAGCGCAACGCAATTAA...  0.000332   6.0   0.0   \n",
       "1  ACAGGTTTCCCGACTGGAAAGCGGGCAGTGAGCGCAACGCAATTAA...  0.000037  16.0   0.0   \n",
       "2  ACAGGTTTCCCGACTGGAAAGCGGGCAGTGAGCGCAACGCAATTAA...  0.000044   8.0   0.0   \n",
       "3  ACAGGTTTCCCGACTGGAAAGCGGGCAGTGAGCGCAACGCAATTAA...  0.000711  14.0   1.0   \n",
       "4  ACAGGTTTCCCGACTGGAAAGCGGGCAGTGAGCGCAACGCAATTAA...  0.000747  11.0   1.0   \n",
       "\n",
       "     ct  \n",
       "0   6.0  \n",
       "1  16.0  \n",
       "2   8.0  \n",
       "3  15.0  \n",
       "4  12.0  "
      ]
     },
     "execution_count": 23,
     "metadata": {},
     "output_type": "execute_result"
    }
   ],
   "source": [
    "df_tr.head()"
   ]
  },
  {
   "cell_type": "code",
   "execution_count": 24,
   "metadata": {},
   "outputs": [
    {
     "data": {
      "image/png": "[encoded data removed]",
      "text/plain": [
       "<Figure size 432x288 with 1 Axes>"
      ]
     },
     "metadata": {
      "needs_background": "light"
     },
     "output_type": "display_data"
    }
   ],
   "source": [
    "plt.hist(df_tr['ct_1'], bins=20)\n",
    "plt.xlabel('DNA count')\n",
    "plt.ylabel('Count')\n",
    "plt.yscale('log')\n",
    "plt.show()"
   ]
  },
  {
   "attachments": {},
   "cell_type": "markdown",
   "metadata": {},
   "source": [
    "Finally we save the data for the next step in the pipeline -- which is to make information footprints!"
   ]
  },
  {
   "cell_type": "code",
   "execution_count": 25,
   "metadata": {},
   "outputs": [],
   "source": [
    "df_tr.to_csv('../data/synthetic_datasets/lacI_synthetic_dataset.csv', index=False)"
   ]
  },
  {
   "cell_type": "markdown",
   "metadata": {},
   "source": []
  }
 ],
 "metadata": {
  "kernelspec": {
   "display_name": "theoretical_regseq",
   "language": "python",
   "name": "python3"
  },
  "language_info": {
   "codemirror_mode": {
    "name": "ipython",
    "version": 3
   },
   "file_extension": ".py",
   "mimetype": "text/x-python",
   "name": "python",
   "nbconvert_exporter": "python",
   "pygments_lexer": "ipython3",
   "version": "3.10.4"
  },
  "vscode": {
   "interpreter": {
    "hash": "b5793fdbd013b36b2bc0f38e105e8917934d5be643f8da82bca1fa4652d4ea09"
   }
  }
 },
 "nbformat": 4,
 "nbformat_minor": 2
}
