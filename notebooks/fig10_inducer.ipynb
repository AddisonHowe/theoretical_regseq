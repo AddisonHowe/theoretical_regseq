{
 "cells": [
  {
   "cell_type": "markdown",
   "metadata": {},
   "source": [
    "## Changing the concentration of the inducer"
   ]
  },
  {
   "cell_type": "markdown",
   "metadata": {},
   "source": [
    "Required packages:"
   ]
  },
  {
   "cell_type": "code",
   "execution_count": 1,
   "metadata": {},
   "outputs": [],
   "source": [
    "# processing\n",
    "import numpy as np\n",
    "import pandas as pd\n",
    "from Bio import SeqIO\n",
    "from scipy.optimize import curve_fit\n",
    "\n",
    "# custom packages\n",
    "import tregs\n",
    "\n",
    "# visualization\n",
    "import matplotlib.pyplot as plt\n",
    "\n",
    "fdir = '../data/'\n",
    "out_fdir = '../plots/fig10/'"
   ]
  },
  {
   "cell_type": "markdown",
   "metadata": {},
   "source": [
    "### 0. Loading input data"
   ]
  },
  {
   "cell_type": "markdown",
   "metadata": {},
   "source": [
    "Same as in the notebook `fig3_architecture.ipynb`, we first load the required promoter sequence and energy matrices."
   ]
  },
  {
   "cell_type": "code",
   "execution_count": 2,
   "metadata": {},
   "outputs": [],
   "source": [
    "_genome = []\n",
    "for record in SeqIO.parse(fdir + \"mg1655_genome.fasta\", \"fasta\"):\n",
    "    _genome.append(str(record.seq))\n",
    "genome = _genome[0]\n",
    "\n",
    "df = pd.read_csv(fdir + 'ecoli_gene_list.csv')\n",
    "lacZYA_TSS = int(df[(df.gene == 'lacZ') & (df.promoter == 'lacZp1')]['tss'].iloc[0])\n",
    "promoter = tregs.seq_utils.get_regulatory_region(genome, lacZYA_TSS, reverse=True)"
   ]
  },
  {
   "cell_type": "markdown",
   "metadata": {},
   "source": [
    "We manually specify the binding site sequences. Note that these sequences all need to be contained within the promoter sequence itself."
   ]
  },
  {
   "cell_type": "code",
   "execution_count": 3,
   "metadata": {},
   "outputs": [],
   "source": [
    "rnap_site = 'CAGGCTTTACACTTTATGCTTCCGGCTCGTATGTTGTGTGG'\n",
    "rep_site = 'AATTGTGAGCGGATAACAATT'"
   ]
  },
  {
   "cell_type": "markdown",
   "metadata": {},
   "source": [
    "We read in the known energy matrix for RNA polymerase. This energy matrix is experimentally determined and shown in Figure 2 of Brewster et al., 2012. (https://journals.plos.org/ploscompbiol/article/figure?id=10.1371/journal.pcbi.1002811.g002). We use the function `fix_wt` from the `tregs` package to normalize the energy matrix such that the wild type base identities correspond to a binding energy of $0\\ k_BT$."
   ]
  },
  {
   "cell_type": "code",
   "execution_count": 4,
   "metadata": {},
   "outputs": [],
   "source": [
    "rnap_emat_raw = np.loadtxt(fdir + 'energy_matrices/RNAP_energy_matrix.txt')\n",
    "rnap_emat = tregs.simulate.fix_wt(rnap_emat_raw, rnap_site)"
   ]
  },
  {
   "cell_type": "markdown",
   "metadata": {},
   "source": [
    "Similarly, we read in the experimentally determined energy matrix for the lacI repressor (Barnes et al., 2019) and normalize the energy matrix."
   ]
  },
  {
   "cell_type": "code",
   "execution_count": 5,
   "metadata": {},
   "outputs": [],
   "source": [
    "O1_1027_raw = np.load(fdir + 'energy_matrices/lacThermoforTO1.npy')\n",
    "\n",
    "O1_1027_fixed = np.zeros(np.shape(O1_1027_raw))\n",
    "for i in range(3):\n",
    "    O1_1027_fixed[i] = tregs.simulate.fix_wt(O1_1027_raw[i], rep_site)\n",
    "\n",
    "rep_emat = np.mean(O1_1027_fixed, axis=0)"
   ]
  },
  {
   "cell_type": "markdown",
   "metadata": {},
   "source": [
    "### 1.1 Calculating average mutual information as a function of inducer concentration"
   ]
  },
  {
   "cell_type": "markdown",
   "metadata": {},
   "source": [
    "Firstly, we define the function `simrep_pbound_with_inducer`, which calculates $p_{\\mathrm{bound}}$ when the repressor in the simple repression motif is made inducible. In addition, we define the helper function `get_pactive` which calculates the proportion of repressors that are active."
   ]
  },
  {
   "cell_type": "code",
   "execution_count": 6,
   "metadata": {},
   "outputs": [],
   "source": [
    "def get_pactive(c, KA, KI, eAI):\n",
    "    \"\"\"\n",
    "    Calculate the probability that the repressor is in an active state\n",
    "\n",
    "    Parameters:\n",
    "    ----------\n",
    "    c : float\n",
    "        Concentration of the inducer.\n",
    "    KA : float\n",
    "        Dissociation constant of inducer binding to the active repressor.\n",
    "    KI : float\n",
    "        Dissociation constant of inducer binding to the inactive repressor.\n",
    "    eAI : float\n",
    "        Free energy difference between the active repressor state and the inactive repressor state.\n",
    "\n",
    "    Returns:\n",
    "    -------\n",
    "    float\n",
    "        The probability that the repressor is in an active state.\n",
    "    \"\"\"\n",
    "    z = np.zeros(4)\n",
    "    z[0] = 1\n",
    "    z[1] = c / KA\n",
    "    z[2] = np.exp(-eAI)\n",
    "    z[3] = c / KI\n",
    "    return (z[0] + z[1])**2 / ((z[0] + z[1])**2 + z[2] * (1 + z[3])**2)\n",
    "\n",
    "\n",
    "def simrep_pbound_with_inducer(p_seq, r_seq, n_NS, n_p, n_r,\n",
    "                               p_emat, r_emat, ep_wt, era_wt, eri_wt,\n",
    "                               c, KA, KI, eAI):\n",
    "    \"\"\"\n",
    "    Calculate the probability of RNAP being bound in the presence of an inducer.\n",
    "\n",
    "    Parameters:\n",
    "    ----------\n",
    "    p_seq : str\n",
    "        Sequence of the RNAP binding site.\n",
    "    r_seq : str\n",
    "        Sequence of the repressor binding site.\n",
    "    n_NS : float\n",
    "        Scaling factor for non-specific binding.\n",
    "    n_p : int\n",
    "        Number of RNAP.\n",
    "    n_r : int\n",
    "        Number of repressors.\n",
    "    p_emat : array-like\n",
    "        Energy matrix for RNAP.\n",
    "    r_emat : array-like\n",
    "        Energy matrix for repressor.\n",
    "    ep_wt : float\n",
    "        Wild-type binding energy for RNAP.\n",
    "    era_wt : float\n",
    "        Wild-type binding energy for the active repressor.\n",
    "    eri_wt : float\n",
    "        Wild-type binding energy for the inactive repressor.\n",
    "    c : float\n",
    "        Concentration of the inducer.\n",
    "    KA : float\n",
    "        Dissociation constant of inducer binding to the active repressor.\n",
    "    KI : float\n",
    "        Dissociation constant of inducer binding to the inactive repressor.\n",
    "    eAI : float\n",
    "        Free energy difference between the active repressor state and the inactive repressor state.\n",
    "\n",
    "    Returns:\n",
    "    -------\n",
    "    float\n",
    "        The probability of RNAP being bound.\n",
    "    \"\"\"\n",
    "    w_p = tregs.simulate.get_weight(p_seq, p_emat, e_wt=ep_wt)\n",
    "    w_ra = tregs.simulate.get_weight(r_seq, r_emat, e_wt=era_wt)\n",
    "    w_ri = tregs.simulate.get_weight(r_seq, r_emat, e_wt=eri_wt)\n",
    "    pactive = get_pactive(c, KA, KI, eAI)\n",
    "\n",
    "    z = np.zeros(4)\n",
    "    z[0] = 1\n",
    "    z[1] = n_p / n_NS * w_p\n",
    "    z[2] = pactive * n_r / n_NS * w_ra\n",
    "    z[3] = (1 - pactive) * n_r / n_NS * w_ri\n",
    "\n",
    "    return z[1] / np.sum(z)"
   ]
  },
  {
   "cell_type": "markdown",
   "metadata": {},
   "source": [
    "For each inducer concentration, we simulate 20 synthetic datasets in order to observe the average effects. To save computational time, we first generate 20 mutant libraries beforehand using the function `mutations_rand`."
   ]
  },
  {
   "cell_type": "code",
   "execution_count": 7,
   "metadata": {},
   "outputs": [],
   "source": [
    "mutant_bank = []\n",
    "for i in range(20):\n",
    "    mutants = np.unique(tregs.wgregseq.mutations_rand(promoter,\n",
    "                                                rate=0.1,\n",
    "                                                num_mutants=5000,\n",
    "                                                number_fixed=True,\n",
    "                                                keep_wildtype=True))\n",
    "    mutant_bank.append(mutants)"
   ]
  },
  {
   "cell_type": "markdown",
   "metadata": {},
   "source": [
    "We define the usual parameters needed for a simple repression thermodynamic model and the range of inducer concentrations. For each inducer concentration, we build synthetic datasets for each of the 20 pre-generated synthetic dataset and we keep track of the average mutual information at the repressor binding site."
   ]
  },
  {
   "cell_type": "code",
   "execution_count": 8,
   "metadata": {},
   "outputs": [],
   "source": [
    "n_NS = len(genome)\n",
    "n_p = 5000\n",
    "n_r = 10\n",
    "ep_wt = -5\n",
    "era_wt = -15\n",
    "eri_wt = -1\n",
    "KA = 139 * 10**(-6)\n",
    "KI = 0.53 * 10**(-6)\n",
    "eAI = 4.5\n",
    "\n",
    "signal = []\n",
    "inducer_conc = []\n",
    "for i in np.arange(-7, -2, 0.2):\n",
    "    c = 10**i\n",
    "    inducer_conc.append(c)\n",
    "\n",
    "    tmp = []\n",
    "    for i in range(20):\n",
    "        df = tregs.simulate.sim(promoter, simrep_pbound_with_inducer, [rnap_site, rep_site], \n",
    "                            *[n_NS, n_p, n_r, rnap_emat, rep_emat, ep_wt, era_wt, eri_wt, c, KA, KI, eAI])\n",
    "\n",
    "        mut_list = df['seq'].values\n",
    "        mu_data = df['norm_ct_1']\n",
    "        upper_bound = np.mean(mu_data)\n",
    "        nbins = 2\n",
    "\n",
    "        footprint = tregs.footprint.get_info_footprint(mut_list, mu_data, promoter, nbins, upper_bound,\n",
    "                                                    pseudocount=10**(-6))\n",
    "        tmp.append(np.mean(footprint[(2+115):(17+116)]))\n",
    "    signal.append(np.mean(tmp))"
   ]
  },
  {
   "cell_type": "markdown",
   "metadata": {},
   "source": [
    "The curve is sigmoidal shaped, and we fit a sigmoidal curve to it. Before doing so, we also normalize the inducer concentration by dividing it by the values of $K_A$."
   ]
  },
  {
   "cell_type": "code",
   "execution_count": 9,
   "metadata": {},
   "outputs": [],
   "source": [
    "def sigmoid(x, a, b, c, d):\n",
    "    return a / (1. + np.exp(-c * (x - d))) + b\n",
    "\n",
    "p0 = [-max(signal), min(signal), 1, 1] # mandatory initial guess\n",
    "\n",
    "norm_inducer_conc = np.asarray(inducer_conc) / KA\n",
    "\n",
    "popt, pcov = curve_fit(sigmoid, norm_inducer_conc, signal, p0, maxfev=10000)"
   ]
  },
  {
   "cell_type": "markdown",
   "metadata": {},
   "source": [
    "Finally, we plot the average mutual information at the repressor binding site against the normalized inducer concentration."
   ]
  },
  {
   "cell_type": "code",
   "execution_count": 10,
   "metadata": {},
   "outputs": [
    {
     "data": {
      "image/png": "[encoded data removed]",
      "text/plain": [
       "<Figure size 400x260 with 1 Axes>"
      ]
     },
     "metadata": {},
     "output_type": "display_data"
    }
   ],
   "source": [
    "fig, ax = plt.subplots(figsize=(4, 2.6))\n",
    "ax.scatter(norm_inducer_conc, signal, color='k')\n",
    "ax.plot(norm_inducer_conc, sigmoid(norm_inducer_conc, *popt), color='grey')\n",
    "ax.set_xscale('log')\n",
    "ax.set_xticks([0.001, 0.01, 0.1, 1, 10])\n",
    "ax.set_xlabel('Inducer concentration / ' + r'$K_A$')\n",
    "ax.set_ylabel('Average mutual\\ninformation (bits)')\n",
    "plt.tight_layout()\n",
    "plt.savefig('../plots/fig10/inducer.pdf', bbox_inches='tight')"
   ]
  },
  {
   "cell_type": "markdown",
   "metadata": {},
   "source": [
    "### 1.2 Example information footprint at high and low inducer concentrations"
   ]
  },
  {
   "cell_type": "markdown",
   "metadata": {},
   "source": [
    "First, we simulate an information footprint at the inducer concentration $10^{-6}\\, M$."
   ]
  },
  {
   "cell_type": "code",
   "execution_count": 11,
   "metadata": {},
   "outputs": [
    {
     "data": {
      "image/png": "[encoded data removed]",
      "text/plain": [
       "<Figure size 600x290 with 1 Axes>"
      ]
     },
     "metadata": {},
     "output_type": "display_data"
    }
   ],
   "source": [
    "n_NS = len(genome)\n",
    "n_p = 5000\n",
    "n_r = 10\n",
    "ep_wt = -5\n",
    "era_wt = -15\n",
    "eri_wt = -1\n",
    "c = 10**(-6)\n",
    "KA = 139 * 10**(-6)\n",
    "KI = 0.53 * 10**(-6)\n",
    "eAI = 4.5\n",
    "\n",
    "df = tregs.simulate.sim(promoter, simrep_pbound_with_inducer, [rnap_site, rep_site], \n",
    "                        *[n_NS, n_p, n_r, rnap_emat, rep_emat, ep_wt, era_wt, eri_wt, c, KA, KI, eAI])\n",
    "\n",
    "region_params = [(-38, -30, 'P', 'RNAP'), (-15, -5, 'P', 'RNAP'), (2, 17, 'R', 'LacI')]\n",
    "tregs.footprint.plot_footprint(promoter, df, region_params,\n",
    "                               x_lims=(-45, 25), fig_width=6,\n",
    "                               outfile='../plots/fig10/inducer_fp1.pdf')"
   ]
  },
  {
   "cell_type": "markdown",
   "metadata": {},
   "source": [
    "We also simulate an information footprint at the inducer concentration $10^{-3}\\, M$."
   ]
  },
  {
   "cell_type": "code",
   "execution_count": 12,
   "metadata": {},
   "outputs": [
    {
     "data": {
      "image/png": "[encoded data removed]",
      "text/plain": [
       "<Figure size 600x290 with 1 Axes>"
      ]
     },
     "metadata": {},
     "output_type": "display_data"
    }
   ],
   "source": [
    "n_NS = len(genome)\n",
    "n_p = 5000\n",
    "n_r1 = 10\n",
    "ep_wt = -5\n",
    "era_wt = -15\n",
    "eri_wt = -1\n",
    "c = 10**(-3)\n",
    "KA = 139 * 10**(-6)\n",
    "KI = 0.53 * 10**(-6)\n",
    "eAI = 4.5\n",
    "\n",
    "df = tregs.simulate.sim(promoter, simrep_pbound_with_inducer, [rnap_site, rep_site], \n",
    "                        *[n_NS, n_p, n_r, rnap_emat, rep_emat, ep_wt, era_wt, eri_wt, c, KA, KI, eAI])\n",
    "\n",
    "region_params = [(-38, -30, 'P', 'RNAP'), (-15, -5, 'P', 'RNAP'), (2, 17, 'R', 'LacI')]\n",
    "tregs.footprint.plot_footprint(promoter, df, region_params,\n",
    "                               x_lims=(-45, 25), fig_width=6,\n",
    "                               outfile='../plots/fig10/inducer_fp2.pdf')"
   ]
  }
 ],
 "metadata": {
  "kernelspec": {
   "display_name": "tregs",
   "language": "python",
   "name": "python3"
  },
  "language_info": {
   "codemirror_mode": {
    "name": "ipython",
    "version": 3
   },
   "file_extension": ".py",
   "mimetype": "text/x-python",
   "name": "python",
   "nbconvert_exporter": "python",
   "pygments_lexer": "ipython3",
   "version": "3.10.13"
  }
 },
 "nbformat": 4,
 "nbformat_minor": 2
}
