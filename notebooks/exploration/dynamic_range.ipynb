{
 "cells": [
  {
   "cell_type": "code",
   "execution_count": 1,
   "metadata": {
    "collapsed": false
   },
   "outputs": [],
   "source": [
    "import numpy as np\n",
    "import pandas as pd\n",
    "from Bio import SeqIO\n",
    "\n",
    "# custom packages\n",
    "import tregs\n",
    "\n",
    "# visualization\n",
    "import matplotlib.pyplot as plt\n",
    "import seaborn as sns"
   ]
  },
  {
   "attachments": {},
   "cell_type": "markdown",
   "metadata": {},
   "source": [
    "### Loading input data"
   ]
  },
  {
   "cell_type": "code",
   "execution_count": 2,
   "metadata": {},
   "outputs": [],
   "source": [
    "_genome = []\n",
    "for record in SeqIO.parse(\"../../data/mg1655_genome.fasta\", \"fasta\"):\n",
    "    _genome.append(str(record.seq))\n",
    "genome = _genome[0]"
   ]
  },
  {
   "cell_type": "code",
   "execution_count": 3,
   "metadata": {},
   "outputs": [
    {
     "data": {
      "text/plain": [
       "'ACAGGTTTCCCGACTGGAAAGCGGGCAGTGAGCGCAACGCAATTAATGTGAGTTAGCTCACTCATTAGGCACCCCAGGCTTTACACTTTATGCTTCCGGCTCGTATGTTGTGTGGAATTGTGAGCGGATAACAATTTCACACAGGAAACAGCTATGACCA'"
      ]
     },
     "execution_count": 3,
     "metadata": {},
     "output_type": "execute_result"
    }
   ],
   "source": [
    "df = pd.read_csv('../../data/ecoli_gene_list.csv')\n",
    "lacZYA_TSS = int(df[(df.gene == 'lacZ') & (df.promoter == 'lacZp1')]['tss'].iloc[0])\n",
    "promoter = tregs.seq_utils.get_regulatory_region(genome, lacZYA_TSS, reverse=True)\n",
    "promoter"
   ]
  },
  {
   "cell_type": "code",
   "execution_count": 4,
   "metadata": {},
   "outputs": [],
   "source": [
    "# Promoter\n",
    "rnap_site = 'CAGGCTTTACACTTTATGCTTCCGGCTCGTATGTTGTGTGG'"
   ]
  },
  {
   "cell_type": "code",
   "execution_count": 5,
   "metadata": {},
   "outputs": [],
   "source": [
    "# obtained from https://journals.plos.org/ploscompbiol/article/figure?id=10.1371/journal.pcbi.1002811.g002\n",
    "\n",
    "rnap_emat_raw = np.loadtxt('../../data/energy_matrices/RNAP_energy_matrix.txt')\n",
    "rnap_emat = tregs.simulate.fix_wt(rnap_emat_raw, rnap_site)"
   ]
  },
  {
   "attachments": {},
   "cell_type": "markdown",
   "metadata": {},
   "source": [
    "### Simple repression"
   ]
  },
  {
   "cell_type": "code",
   "execution_count": 6,
   "metadata": {},
   "outputs": [],
   "source": [
    "# LacI binding site\n",
    "rep_site = 'AATTGTGAGCGGATAACAATT'"
   ]
  },
  {
   "cell_type": "code",
   "execution_count": 7,
   "metadata": {},
   "outputs": [],
   "source": [
    "# obtained from https://journals.plos.org/ploscompbiol/article/figure?id=10.1371/journal.pcbi.1002811.g002\n",
    "\n",
    "rnap_emat_raw = np.loadtxt('../../data/energy_matrices/RNAP_energy_matrix.txt')\n",
    "rnap_emat = tregs.simulate.fix_wt(rnap_emat_raw, rnap_site)"
   ]
  },
  {
   "cell_type": "code",
   "execution_count": 8,
   "metadata": {},
   "outputs": [],
   "source": [
    "O1_1027_raw = np.load('../../data/energy_matrices/lacThermoforTO1.npy')\n",
    "\n",
    "O1_1027_fixed = np.zeros(np.shape(O1_1027_raw))\n",
    "for i in range(3):\n",
    "    O1_1027_fixed[i] = tregs.simulate.fix_wt(O1_1027_raw[i], rep_site)\n",
    "\n",
    "rep_emat = np.mean(O1_1027_fixed, axis=0)"
   ]
  },
  {
   "cell_type": "code",
   "execution_count": 17,
   "metadata": {},
   "outputs": [],
   "source": [
    "n_NS = len(genome)\n",
    "n_p = 4600\n",
    "l_n_r = np.arange(0, 51)\n",
    "ep_wt = -5\n",
    "er_wt = -15\n",
    "\n",
    "l_range_simrep = []\n",
    "for n_r in l_n_r:\n",
    "    df = tregs.simulate.sim(promoter, tregs.simulate.simrep_pbound, [rnap_site, rep_site],\n",
    "                            *[n_NS, n_p, n_r, rnap_emat, rep_emat, ep_wt, er_wt],\n",
    "                            scaling_factor=10**6)\n",
    "    \n",
    "    mut_list = df['seq'].values\n",
    "    mu_data = df['norm_ct_1']\n",
    "    upper_bound = np.mean(mu_data)\n",
    "    nbins = 2\n",
    "    footprint = tregs.footprint.get_info_footprint(mut_list, mu_data, promoter, nbins, upper_bound,\n",
    "                                               pseudocount=10**(-6))\n",
    "\n",
    "    rv = {}\n",
    "    rv['architecture'] = 'simple_repression'\n",
    "    rv['tf_copy_number'] = n_r\n",
    "    rv['dynamic_range'] = np.max(df['norm_ct_1']) - np.min(df['norm_ct_1'])\n",
    "    rv['maximum_mi'] = np.max(footprint)\n",
    "    l_range_simrep.append(rv)\n",
    "\n",
    "# convert list of dictionaries to dataframe\n",
    "df_range_simrep = pd.DataFrame(l_range_simrep)"
   ]
  },
  {
   "cell_type": "code",
   "execution_count": 23,
   "metadata": {},
   "outputs": [
    {
     "data": {
      "text/plain": [
       "Text(0, 0.5, 'Maximum mutual information')"
      ]
     },
     "execution_count": 23,
     "metadata": {},
     "output_type": "execute_result"
    },
    {
     "data": {
      "image/png": "[encoded data removed]",
      "text/plain": [
       "<Figure size 576x432 with 1 Axes>"
      ]
     },
     "metadata": {},
     "output_type": "display_data"
    }
   ],
   "source": [
    "# scatter plot of dynamic range vs maximum mutual information\n",
    "fig, ax = plt.subplots(figsize=(8, 6))\n",
    "sns.scatterplot(data=df_range_simrep, x='dynamic_range', y='maximum_mi', ax=ax)\n",
    "ax.set_xlabel('Dynamic range')\n",
    "ax.set_ylabel('Maximum mutual information')"
   ]
  },
  {
   "attachments": {},
   "cell_type": "markdown",
   "metadata": {},
   "source": [
    "### Simple activation"
   ]
  },
  {
   "cell_type": "code",
   "execution_count": 24,
   "metadata": {},
   "outputs": [],
   "source": [
    "# CRP binding site\n",
    "crp_site = 'ATTAATGTGAGTTAGCTCACTCATTA'"
   ]
  },
  {
   "cell_type": "code",
   "execution_count": 25,
   "metadata": {},
   "outputs": [],
   "source": [
    "# energy matrix obtained from Fig 3. of Kinney et al., 2010 (https://www.pnas.org/doi/full/10.1073/pnas.1004290107)\n",
    "# elements expressed in kcal/mol (1 kcal/mol = 1.62kbT)\n",
    "\n",
    "crp_emat_raw = pd.read_table('../../data/energy_matrices/crp_tau_final_all_26.txt', delim_whitespace=True)\n",
    "crp_emat = crp_emat_raw[['par_A', 'par_C', 'par_G', 'par_T']].to_numpy().T * 1.62"
   ]
  },
  {
   "cell_type": "code",
   "execution_count": 27,
   "metadata": {},
   "outputs": [],
   "source": [
    "# only increasing strength of activator-promoter binding\n",
    "\n",
    "n_NS = len(genome)\n",
    "n_p = 4600\n",
    "ep_wt = -7\n",
    "ea_wt = -15\n",
    "e_ap = -10\n",
    "l_n_a = np.arange(0, 51)\n",
    "\n",
    "l_range_simact = []\n",
    "for n_a in l_n_a:\n",
    "    df = tregs.simulate.sim(promoter, tregs.simulate.simact_pbound, [rnap_site, crp_site], \n",
    "                            *[n_NS, n_p, n_a, rnap_emat, crp_emat, ep_wt, ea_wt, e_ap],\n",
    "                            scaling_factor=10**6)\n",
    "    \n",
    "    mut_list = df['seq'].values\n",
    "    mu_data = df['norm_ct_1']\n",
    "    upper_bound = np.mean(mu_data)\n",
    "    nbins = 2\n",
    "    footprint = tregs.footprint.get_info_footprint(mut_list, mu_data, promoter, nbins, upper_bound,\n",
    "                                               pseudocount=10**(-6))\n",
    "\n",
    "    rv = {}\n",
    "    rv['architecture'] = 'simple_repression'\n",
    "    rv['tf_copy_number'] = n_r\n",
    "    rv['dynamic_range'] = np.max(df['norm_ct_1']) - np.min(df['norm_ct_1'])\n",
    "    rv['maximum_mi'] = np.max(footprint)\n",
    "    l_range_simact.append(rv)\n",
    "\n",
    "# convert list of dictionaries to dataframe\n",
    "df_range_simact = pd.DataFrame(l_range_simact)"
   ]
  },
  {
   "attachments": {},
   "cell_type": "markdown",
   "metadata": {},
   "source": [
    "### Double repression"
   ]
  },
  {
   "cell_type": "code",
   "execution_count": 28,
   "metadata": {},
   "outputs": [],
   "source": [
    "rep1_site = promoter[(115-50):(115-40)]\n",
    "rep2_site = promoter[(115+15):(115+25)]\n",
    "r1_emat = tregs.simulate.generate_emap(rep1_site, fixed=True, fixed_value=1)\n",
    "r2_emat = tregs.simulate.generate_emap(rep2_site, fixed=True, fixed_value=1)"
   ]
  },
  {
   "cell_type": "code",
   "execution_count": 29,
   "metadata": {},
   "outputs": [],
   "source": [
    "n_NS = len(genome)\n",
    "ep_wt, er1_wt, er2_wt = -5, -15, -15\n",
    "e_int = -10\n",
    "n_p, n_r2 = 4600, 15\n",
    "l_n_r1 = np.arange(0, 51)\n",
    "\n",
    "l_range_doublerep_AND = []\n",
    "for n_r1 in l_n_r1:\n",
    "    df = tregs.simulate.sim(promoter, tregs.simulate.doublerep_pbound, [rnap_site, rep1_site, rep2_site],\n",
    "                        *[n_NS, n_p, n_r1, n_r2, rnap_emat, r1_emat, r2_emat, ep_wt, er1_wt, er2_wt, e_int, 'AND'],\n",
    "                        scaling_factor=10**6)\n",
    "    \n",
    "    mut_list = df['seq'].values\n",
    "    mu_data = df['norm_ct_1']\n",
    "    upper_bound = np.mean(mu_data)\n",
    "    nbins = 2\n",
    "    footprint = tregs.footprint.get_info_footprint(mut_list, mu_data, promoter, nbins, upper_bound,\n",
    "                                               pseudocount=10**(-6))\n",
    "\n",
    "    rv = {}\n",
    "    rv['architecture'] = 'simple_repression'\n",
    "    rv['tf_copy_number'] = n_r\n",
    "    rv['dynamic_range'] = np.max(df['norm_ct_1']) - np.min(df['norm_ct_1'])\n",
    "    rv['maximum_mi'] = np.max(footprint)\n",
    "    l_range_doublerep_AND.append(rv)\n",
    "\n",
    "# convert list of dictionaries to dataframe\n",
    "df_range_doublerep_AND = pd.DataFrame(l_range_doublerep_AND)"
   ]
  },
  {
   "cell_type": "code",
   "execution_count": 32,
   "metadata": {},
   "outputs": [],
   "source": [
    "n_NS = len(genome)\n",
    "ep_wt, er1_wt, er2_wt = -5, -15, -15\n",
    "e_int = -10\n",
    "n_p, n_r2 = 4600, 15\n",
    "l_n_r1 = np.arange(0, 51)\n",
    "\n",
    "l_range_doublerep_OR = []\n",
    "for n_r1 in l_n_r1:\n",
    "    df = tregs.simulate.sim(promoter, tregs.simulate.doublerep_pbound, [rnap_site, rep1_site, rep2_site],\n",
    "                        *[n_NS, n_p, n_r1, n_r2, rnap_emat, r1_emat, r2_emat, ep_wt, er1_wt, er2_wt, e_int, 'OR'],\n",
    "                        scaling_factor=10**6)\n",
    "    \n",
    "    mut_list = df['seq'].values\n",
    "    mu_data = df['norm_ct_1']\n",
    "    upper_bound = np.mean(mu_data)\n",
    "    nbins = 2\n",
    "    footprint = tregs.footprint.get_info_footprint(mut_list, mu_data, promoter, nbins, upper_bound,\n",
    "                                               pseudocount=10**(-6))\n",
    "\n",
    "    rv = {}\n",
    "    rv['architecture'] = 'double repression, OR gate'\n",
    "    rv['tf_copy_number'] = n_r\n",
    "    rv['dynamic_range'] = np.max(df['norm_ct_1']) - np.min(df['norm_ct_1'])\n",
    "    rv['maximum_mi'] = np.max(footprint)\n",
    "    l_range_doublerep_OR.append(rv)\n",
    "\n",
    "# convert list of dictionaries to dataframe\n",
    "df_range_doublerep_OR = pd.DataFrame(l_range_doublerep_AND)"
   ]
  },
  {
   "attachments": {},
   "cell_type": "markdown",
   "metadata": {},
   "source": [
    "### Double activation"
   ]
  },
  {
   "cell_type": "code",
   "execution_count": 33,
   "metadata": {},
   "outputs": [],
   "source": [
    "act1_site = promoter[(115 - 110 + 15):(115 - 110 + 25)]\n",
    "act2_site = promoter[(115 - 110 + 35):(115 - 110 + 45)]\n",
    "a1_emat = tregs.simulate.generate_emap(act1_site, fixed=True, fixed_value=1)\n",
    "a2_emat = tregs.simulate.generate_emap(act2_site, fixed=True, fixed_value=1)"
   ]
  },
  {
   "cell_type": "code",
   "execution_count": 34,
   "metadata": {},
   "outputs": [],
   "source": [
    "n_NS = len(genome)\n",
    "ep_wt, ea1_wt, ea2_wt = -2, -5, -5\n",
    "e_int_pa1, e_int_pa2, e_int_a1a2 = -5, -5, -5\n",
    "n_p, n_a1, n_a2 = 4600, 50, 50\n",
    "\n",
    "l_range_doubleact_AND = []\n",
    "for n_r1 in l_n_r1:\n",
    "    df = tregs.simulate.sim(promoter, tregs.simulate.doublerep_pbound, [rnap_site, rep1_site, rep2_site],\n",
    "                        *[n_NS, n_p, n_r1, n_r2, rnap_emat, r1_emat, r2_emat, ep_wt, er1_wt, er2_wt, e_int, 'AND'],\n",
    "                        scaling_factor=10**6)\n",
    "    \n",
    "    mut_list = df['seq'].values\n",
    "    mu_data = df['norm_ct_1']\n",
    "    upper_bound = np.mean(mu_data)\n",
    "    nbins = 2\n",
    "    footprint = tregs.footprint.get_info_footprint(mut_list, mu_data, promoter, nbins, upper_bound,\n",
    "                                               pseudocount=10**(-6))\n",
    "\n",
    "    rv = {}\n",
    "    rv['architecture'] = 'double activation, AND gate'\n",
    "    rv['tf_copy_number'] = n_r\n",
    "    rv['dynamic_range'] = np.max(df['norm_ct_1']) - np.min(df['norm_ct_1'])\n",
    "    rv['maximum_mi'] = np.max(footprint)\n",
    "    l_range_doubleact_AND.append(rv)\n",
    "\n",
    "# convert list of dictionaries to dataframe\n",
    "df_range_doubleact_AND = pd.DataFrame(l_range_doubleact_AND)"
   ]
  },
  {
   "cell_type": "code",
   "execution_count": null,
   "metadata": {},
   "outputs": [],
   "source": [
    "n_NS = len(genome)\n",
    "ep_wt, ea1_wt, ea2_wt = -2, -5, -5\n",
    "e_int_pa1, e_int_pa2, e_int_a1a2 = -5, -5, -5\n",
    "n_p, n_a1, n_a2 = 4600, 50, 50\n",
    "\n",
    "l_range_doubleact_OR = []\n",
    "for n_r1 in l_n_r1:\n",
    "    df = tregs.simulate.sim(promoter, tregs.simulate.doublerep_pbound, [rnap_site, rep1_site, rep2_site],\n",
    "                        *[n_NS, n_p, n_r1, n_r2, rnap_emat, r1_emat, r2_emat, ep_wt, er1_wt, er2_wt, e_int, 'AND'],\n",
    "                        scaling_factor=10**6)\n",
    "    \n",
    "    mut_list = df['seq'].values\n",
    "    mu_data = df['norm_ct_1']\n",
    "    upper_bound = np.mean(mu_data)\n",
    "    nbins = 2\n",
    "    footprint = tregs.footprint.get_info_footprint(mut_list, mu_data, promoter, nbins, upper_bound,\n",
    "                                               pseudocount=10**(-6))\n",
    "\n",
    "    rv = {}\n",
    "    rv['architecture'] = 'double activation, AND gate'\n",
    "    rv['tf_copy_number'] = n_r\n",
    "    rv['dynamic_range'] = np.max(df['norm_ct_1']) - np.min(df['norm_ct_1'])\n",
    "    rv['maximum_mi'] = np.max(footprint)\n",
    "    l_range_doubleact_AND.append(rv)\n",
    "\n",
    "# convert list of dictionaries to dataframe\n",
    "df_range_doubleact_OR = pd.DataFrame(l_range_doubleact_AND)"
   ]
  },
  {
   "attachments": {},
   "cell_type": "markdown",
   "metadata": {},
   "source": [
    "**Notes:**\n",
    "- binding energy for RNAP should be lower when there is double activation\n",
    "- full operator but only mutate one of them -- would we be able to deduce looping"
   ]
  },
  {
   "cell_type": "code",
   "execution_count": 35,
   "metadata": {},
   "outputs": [
    {
     "data": {
      "text/html": [
       "<div>\n",
       "<style scoped>\n",
       "    .dataframe tbody tr th:only-of-type {\n",
       "        vertical-align: middle;\n",
       "    }\n",
       "\n",
       "    .dataframe tbody tr th {\n",
       "        vertical-align: top;\n",
       "    }\n",
       "\n",
       "    .dataframe thead th {\n",
       "        text-align: right;\n",
       "    }\n",
       "</style>\n",
       "<table border=\"1\" class=\"dataframe\">\n",
       "  <thead>\n",
       "    <tr style=\"text-align: right;\">\n",
       "      <th></th>\n",
       "      <th>architecture</th>\n",
       "      <th>tf_copy_number</th>\n",
       "      <th>dynamic_range</th>\n",
       "      <th>maximum_mi</th>\n",
       "    </tr>\n",
       "  </thead>\n",
       "  <tbody>\n",
       "    <tr>\n",
       "      <th>0</th>\n",
       "      <td>simple_repression</td>\n",
       "      <td>0</td>\n",
       "      <td>606347.451232</td>\n",
       "      <td>0.049777</td>\n",
       "    </tr>\n",
       "    <tr>\n",
       "      <th>1</th>\n",
       "      <td>simple_repression</td>\n",
       "      <td>1</td>\n",
       "      <td>672210.360284</td>\n",
       "      <td>0.047635</td>\n",
       "    </tr>\n",
       "    <tr>\n",
       "      <th>2</th>\n",
       "      <td>simple_repression</td>\n",
       "      <td>2</td>\n",
       "      <td>761750.070141</td>\n",
       "      <td>0.040405</td>\n",
       "    </tr>\n",
       "    <tr>\n",
       "      <th>3</th>\n",
       "      <td>simple_repression</td>\n",
       "      <td>3</td>\n",
       "      <td>585545.529387</td>\n",
       "      <td>0.040857</td>\n",
       "    </tr>\n",
       "    <tr>\n",
       "      <th>4</th>\n",
       "      <td>simple_repression</td>\n",
       "      <td>4</td>\n",
       "      <td>622439.583371</td>\n",
       "      <td>0.038754</td>\n",
       "    </tr>\n",
       "    <tr>\n",
       "      <th>...</th>\n",
       "      <td>...</td>\n",
       "      <td>...</td>\n",
       "      <td>...</td>\n",
       "      <td>...</td>\n",
       "    </tr>\n",
       "    <tr>\n",
       "      <th>46</th>\n",
       "      <td>simple_repression</td>\n",
       "      <td>50</td>\n",
       "      <td>10.530212</td>\n",
       "      <td>0.013324</td>\n",
       "    </tr>\n",
       "    <tr>\n",
       "      <th>47</th>\n",
       "      <td>simple_repression</td>\n",
       "      <td>50</td>\n",
       "      <td>6.048524</td>\n",
       "      <td>0.014702</td>\n",
       "    </tr>\n",
       "    <tr>\n",
       "      <th>48</th>\n",
       "      <td>simple_repression</td>\n",
       "      <td>50</td>\n",
       "      <td>9.110119</td>\n",
       "      <td>0.014930</td>\n",
       "    </tr>\n",
       "    <tr>\n",
       "      <th>49</th>\n",
       "      <td>simple_repression</td>\n",
       "      <td>50</td>\n",
       "      <td>17.470847</td>\n",
       "      <td>0.013511</td>\n",
       "    </tr>\n",
       "    <tr>\n",
       "      <th>50</th>\n",
       "      <td>simple_repression</td>\n",
       "      <td>50</td>\n",
       "      <td>9.071449</td>\n",
       "      <td>0.015059</td>\n",
       "    </tr>\n",
       "  </tbody>\n",
       "</table>\n",
       "<p>257 rows × 4 columns</p>\n",
       "</div>"
      ],
      "text/plain": [
       "         architecture  tf_copy_number  dynamic_range  maximum_mi\n",
       "0   simple_repression               0  606347.451232    0.049777\n",
       "1   simple_repression               1  672210.360284    0.047635\n",
       "2   simple_repression               2  761750.070141    0.040405\n",
       "3   simple_repression               3  585545.529387    0.040857\n",
       "4   simple_repression               4  622439.583371    0.038754\n",
       "..                ...             ...            ...         ...\n",
       "46  simple_repression              50      10.530212    0.013324\n",
       "47  simple_repression              50       6.048524    0.014702\n",
       "48  simple_repression              50       9.110119    0.014930\n",
       "49  simple_repression              50      17.470847    0.013511\n",
       "50  simple_repression              50       9.071449    0.015059\n",
       "\n",
       "[257 rows x 4 columns]"
      ]
     },
     "execution_count": 35,
     "metadata": {},
     "output_type": "execute_result"
    }
   ],
   "source": [
    "# concatenate dynamic range dataframes\n",
    "df_range = pd.concat([df_range_simrep, df_range_simact, df_range_doublerep_AND, df_range_doublerep_OR, df_range_doubleact_AND])\n",
    "df_range"
   ]
  },
  {
   "cell_type": "code",
   "execution_count": 37,
   "metadata": {},
   "outputs": [
    {
     "data": {
      "text/plain": [
       "Text(0, 0.5, 'Maximum mutual information')"
      ]
     },
     "execution_count": 37,
     "metadata": {},
     "output_type": "execute_result"
    },
    {
     "data": {
      "image/png": "[encoded data removed]",
      "text/plain": [
       "<Figure size 576x432 with 1 Axes>"
      ]
     },
     "metadata": {},
     "output_type": "display_data"
    }
   ],
   "source": [
    "# plot dynamic range vs maximum mutual information\n",
    "fig, ax = plt.subplots(figsize=(8, 6))\n",
    "sns.scatterplot(data=df_range, x='dynamic_range', y='maximum_mi', ax=ax)\n",
    "ax.set_xlabel('Dynamic range')\n",
    "ax.set_ylabel('Maximum mutual information')"
   ]
  },
  {
   "attachments": {},
   "cell_type": "markdown",
   "metadata": {},
   "source": [
    "### Repression-activation"
   ]
  },
  {
   "cell_type": "code",
   "execution_count": 23,
   "metadata": {},
   "outputs": [],
   "source": [
    "n_NS = len(genome)\n",
    "ep_wt, er_wt, ea_wt = -2, -13, -13\n",
    "e_int = -10\n",
    "n_p, n_r, n_a = 4600, 50, 50\n",
    "\n",
    "df = tregs.simulate.sim(promoter, tregs.simulate.repact_pbound, [rnap_site, rep_site, crp_site],\n",
    "                        *[n_NS, n_p, n_r, n_a, rnap_emat, rep_emat, crp_emat, ep_wt, er_wt, ea_wt, e_int], scaling_factor=10*6)\n",
    "\n",
    "region_params = [(-38, -30, 'P', 'RNAP'), (-15, -5, 'P', 'RNAP'), (-70, -52, 'A', 'CRP'), (2, 17, 'R', 'LacI')]"
   ]
  },
  {
   "cell_type": "code",
   "execution_count": 24,
   "metadata": {},
   "outputs": [
    {
     "data": {
      "image/png": "[encoded data removed]",
      "text/plain": [
       "<Figure size 864x180 with 1 Axes>"
      ]
     },
     "metadata": {},
     "output_type": "display_data"
    }
   ],
   "source": [
    "tregs.footprint.plot_footprint(promoter, df, region_params,\n",
    "                               nbins=2, annotate_stn=False,\n",
    "                               outfile='../../manuscript/figures/plots/fig3/repact.png')"
   ]
  }
 ],
 "metadata": {
  "kernelspec": {
   "display_name": "Python 3.10.4 ('env_thermo_seq')",
   "language": "python",
   "name": "python3"
  },
  "language_info": {
   "codemirror_mode": {
    "name": "ipython",
    "version": 3
   },
   "file_extension": ".py",
   "mimetype": "text/x-python",
   "name": "python",
   "nbconvert_exporter": "python",
   "pygments_lexer": "ipython3",
   "version": "3.10.4"
  },
  "vscode": {
   "interpreter": {
    "hash": "5e0c78d6696da6e3ddb4651dd94c59f5d0a59a4d4b8438d3476f738d0fde1b6d"
   }
  }
 },
 "nbformat": 4,
 "nbformat_minor": 2
}
