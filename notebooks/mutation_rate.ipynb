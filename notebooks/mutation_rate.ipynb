{
 "cells": [
  {
   "cell_type": "code",
   "execution_count": 1,
   "metadata": {
    "collapsed": false
   },
   "outputs": [],
   "source": [
    "import math\n",
    "import numpy as np\n",
    "import pandas as pd\n",
    "from Bio import SeqIO\n",
    "\n",
    "# custom packages\n",
    "import tregs\n",
    "\n",
    "# visualization\n",
    "import matplotlib.pyplot as plt\n",
    "import seaborn as sns"
   ]
  },
  {
   "attachments": {},
   "cell_type": "markdown",
   "metadata": {},
   "source": [
    "## 0. Loading input data"
   ]
  },
  {
   "cell_type": "code",
   "execution_count": 2,
   "metadata": {},
   "outputs": [],
   "source": [
    "_genome = []\n",
    "for record in SeqIO.parse(\"../data/mg1655_genome.fasta\", \"fasta\"):\n",
    "    _genome.append(str(record.seq))\n",
    "genome = _genome[0]"
   ]
  },
  {
   "cell_type": "code",
   "execution_count": 3,
   "metadata": {},
   "outputs": [],
   "source": [
    "# Promoter\n",
    "rnap_site = 'CAGGCTTTACACTTTATGCTTCCGGCTCGTATGTTGTGTGG'\n",
    "\n",
    "# Operator sequence\n",
    "rep_site = 'AATTGTGAGCGGATAACAATT'\n",
    "\n",
    "# Find the transcription start site\n",
    "df = pd.read_csv('../data/ecoli_gene_list.csv')\n",
    "lacZYA_TSS = int(df[(df.gene == 'lacZ') & (df.promoter == 'lacZp1')]['tss'].iloc[0])\n",
    "promoter = tregs.seq_utils.get_regulatory_region(genome, lacZYA_TSS, reverse=True)"
   ]
  },
  {
   "cell_type": "code",
   "execution_count": 4,
   "metadata": {},
   "outputs": [],
   "source": [
    "# obtained from https://journals.plos.org/ploscompbiol/article/figure?id=10.1371/journal.pcbi.1002811.g002\n",
    "\n",
    "rnap_emat_raw = np.loadtxt('../data/energy_matrices/RNAP_energy_matrix.txt')\n",
    "rnap_emat = tregs.simulate.fix_wt(rnap_emat_raw, rnap_site)"
   ]
  },
  {
   "cell_type": "code",
   "execution_count": 5,
   "metadata": {},
   "outputs": [],
   "source": [
    "O1_1027_raw = np.load('../data/energy_matrices/lacThermoforTO1.npy')\n",
    "\n",
    "O1_1027_fixed = np.zeros(np.shape(O1_1027_raw))\n",
    "for i in range(3):\n",
    "    O1_1027_fixed[i] = tregs.simulate.fix_wt(O1_1027_raw[i], rep_site)\n",
    "\n",
    "rep_emat = np.mean(O1_1027_fixed, axis=0)"
   ]
  },
  {
   "attachments": {},
   "cell_type": "markdown",
   "metadata": {},
   "source": [
    "### Lowering mutation rate"
   ]
  },
  {
   "cell_type": "code",
   "execution_count": 6,
   "metadata": {},
   "outputs": [],
   "source": [
    "n_NS = len(genome)\n",
    "n_p = 4600\n",
    "n_r = 15\n",
    "ep_wt = -5\n",
    "er_wt = -15"
   ]
  },
  {
   "cell_type": "code",
   "execution_count": 8,
   "metadata": {},
   "outputs": [],
   "source": [
    "def get_footprint(promoter, rnap_site, rep_site, rnap_emat, rep_emat, \n",
    "                  ep_wt, er_wt, n_NS, n_p, n_r,\n",
    "                  num_mutants=10000, mutrate=0.05, scaling_factor=100,\n",
    "                  pseudocount=0, windowsize=3, upper_bound=5):\n",
    "    df = tregs.simulate.simrep(promoter, rnap_site, rep_site, rnap_emat, rep_emat, \n",
    "                               ep_wt, er_wt, n_NS, n_p, n_r,\n",
    "                               num_mutants=num_mutants,\n",
    "                               mutrate=mutrate,\n",
    "                               scaling_factor=scaling_factor)\n",
    "\n",
    "    mut_list = df['seq'].values\n",
    "    mu_data = df['norm_ct_1']\n",
    "    nbins = 2\n",
    "    footprint = tregs.footprint.get_info_footprint(mut_list, mu_data, promoter, nbins, upper_bound,\n",
    "                                                   pseudocount=pseudocount)\n",
    "\n",
    "    exshift_list = tregs.footprint.get_expression_shift(mut_list, mu_data.values, promoter,\n",
    "                                                        smoothed=True, windowsize=windowsize)\n",
    "    return footprint, exshift_list"
   ]
  },
  {
   "cell_type": "code",
   "execution_count": 17,
   "metadata": {},
   "outputs": [],
   "source": [
    "footprint, exshift_list = get_footprint(promoter, rnap_site, rep_site, rnap_emat, rep_emat, \n",
    "                                        ep_wt, er_wt, n_NS, n_p, n_r,\n",
    "                                        num_mutants=10000, mutrate=0.1, scaling_factor=100,\n",
    "                                        pseudocount=0, windowsize=3, upper_bound=5)"
   ]
  },
  {
   "cell_type": "code",
   "execution_count": 18,
   "metadata": {},
   "outputs": [
    {
     "data": {
      "image/png": "[encoded data removed]",
      "text/plain": [
       "<Figure size 648x288 with 2 Axes>"
      ]
     },
     "metadata": {
      "needs_background": "light"
     },
     "output_type": "display_data"
    }
   ],
   "source": [
    "fig, axes = plt.subplots(2, 1, figsize=(9,4))\n",
    "ax1, ax2 = axes\n",
    "\n",
    "windowsize = 3\n",
    "cut = int((windowsize - 1) / 2)\n",
    "x = np.arange(-115 + cut, 45 - cut)\n",
    "shiftcolors = [('salmon' if exshift > 0 else 'royalblue') for exshift in exshift_list]\n",
    "\n",
    "ax1.bar(x, footprint, edgecolor=None, color=shiftcolors)\n",
    "ax1.set_ylabel('Information (bits)')\n",
    "\n",
    "ax2.bar(x, exshift_list, edgecolor=None, color=shiftcolors)\n",
    "ax2.set_ylabel('Expression shift')\n",
    "ax2.set_xlabel('position')\n",
    "\n",
    "plt.tight_layout()\n",
    "plt.show()"
   ]
  },
  {
   "cell_type": "code",
   "execution_count": 20,
   "metadata": {},
   "outputs": [],
   "source": [
    "footprint, exshift_list = get_footprint(promoter, rnap_site, rep_site, rnap_emat, rep_emat, \n",
    "                                        ep_wt, er_wt, n_NS, n_p, n_r,\n",
    "                                        num_mutants=10000, mutrate=0.075, scaling_factor=100,\n",
    "                                        pseudocount=0, windowsize=3, upper_bound=5)"
   ]
  },
  {
   "cell_type": "code",
   "execution_count": 21,
   "metadata": {},
   "outputs": [
    {
     "data": {
      "image/png": "[encoded data removed]",
      "text/plain": [
       "<Figure size 648x288 with 2 Axes>"
      ]
     },
     "metadata": {
      "needs_background": "light"
     },
     "output_type": "display_data"
    }
   ],
   "source": [
    "fig, axes = plt.subplots(2, 1, figsize=(9,4))\n",
    "ax1, ax2 = axes\n",
    "\n",
    "windowsize = 3\n",
    "cut = int((windowsize - 1) / 2)\n",
    "x = np.arange(-115 + cut, 45 - cut)\n",
    "shiftcolors = [('salmon' if exshift > 0 else 'royalblue') for exshift in exshift_list]\n",
    "\n",
    "ax1.bar(x, footprint, edgecolor=None, color=shiftcolors)\n",
    "ax1.set_ylabel('Information (bits)')\n",
    "\n",
    "ax2.bar(x, exshift_list, edgecolor=None, color=shiftcolors)\n",
    "ax2.set_ylabel('Expression shift')\n",
    "ax2.set_xlabel('position')\n",
    "\n",
    "plt.tight_layout()\n",
    "plt.show()"
   ]
  },
  {
   "cell_type": "code",
   "execution_count": 22,
   "metadata": {},
   "outputs": [],
   "source": [
    "footprint, exshift_list = get_footprint(promoter, rnap_site, rep_site, rnap_emat, rep_emat, \n",
    "                                        ep_wt, er_wt, n_NS, n_p, n_r,\n",
    "                                        num_mutants=10000, mutrate=0.06, scaling_factor=100,\n",
    "                                        pseudocount=0, windowsize=3, upper_bound=5)"
   ]
  },
  {
   "cell_type": "code",
   "execution_count": 23,
   "metadata": {},
   "outputs": [
    {
     "data": {
      "image/png": "[encoded data removed]",
      "text/plain": [
       "<Figure size 648x288 with 2 Axes>"
      ]
     },
     "metadata": {
      "needs_background": "light"
     },
     "output_type": "display_data"
    }
   ],
   "source": [
    "fig, axes = plt.subplots(2, 1, figsize=(9,4))\n",
    "ax1, ax2 = axes\n",
    "\n",
    "windowsize = 3\n",
    "cut = int((windowsize - 1) / 2)\n",
    "x = np.arange(-115 + cut, 45 - cut)\n",
    "shiftcolors = [('salmon' if exshift > 0 else 'royalblue') for exshift in exshift_list]\n",
    "\n",
    "ax1.bar(x, footprint, edgecolor=None, color=shiftcolors)\n",
    "ax1.set_ylabel('Information (bits)')\n",
    "\n",
    "ax2.bar(x, exshift_list, edgecolor=None, color=shiftcolors)\n",
    "ax2.set_ylabel('Expression shift')\n",
    "ax2.set_xlabel('position')\n",
    "\n",
    "plt.tight_layout()\n",
    "plt.show()"
   ]
  },
  {
   "cell_type": "code",
   "execution_count": 9,
   "metadata": {},
   "outputs": [],
   "source": [
    "footprint, exshift_list = get_footprint(promoter, rnap_site, rep_site, rnap_emat, rep_emat, \n",
    "                                        ep_wt, er_wt, n_NS, n_p, n_r,\n",
    "                                        num_mutants=10000, mutrate=0.05, scaling_factor=100,\n",
    "                                        pseudocount=0, windowsize=3, upper_bound=5)"
   ]
  },
  {
   "cell_type": "code",
   "execution_count": 11,
   "metadata": {},
   "outputs": [
    {
     "data": {
      "image/png": "[encoded data removed]",
      "text/plain": [
       "<Figure size 648x288 with 2 Axes>"
      ]
     },
     "metadata": {
      "needs_background": "light"
     },
     "output_type": "display_data"
    }
   ],
   "source": [
    "fig, axes = plt.subplots(2, 1, figsize=(9,4))\n",
    "ax1, ax2 = axes\n",
    "\n",
    "windowsize = 3\n",
    "cut = int((windowsize - 1) / 2)\n",
    "x = np.arange(-115 + cut, 45 - cut)\n",
    "shiftcolors = [('salmon' if exshift > 0 else 'royalblue') for exshift in exshift_list]\n",
    "\n",
    "ax1.bar(x, footprint, edgecolor=None, color=shiftcolors)\n",
    "ax1.set_ylabel('Information (bits)')\n",
    "\n",
    "ax2.bar(x, exshift_list, edgecolor=None, color=shiftcolors)\n",
    "ax2.set_ylabel('Expression shift')\n",
    "ax2.set_xlabel('position')\n",
    "\n",
    "plt.tight_layout()\n",
    "plt.show()"
   ]
  },
  {
   "cell_type": "code",
   "execution_count": 15,
   "metadata": {},
   "outputs": [],
   "source": [
    "footprint, exshift_list = get_footprint(promoter, rnap_site, rep_site, rnap_emat, rep_emat, \n",
    "                                        ep_wt, er_wt, n_NS, n_p, n_r,\n",
    "                                        num_mutants=10000, mutrate=0.02, scaling_factor=100,\n",
    "                                        pseudocount=10**(-6), windowsize=3, upper_bound=5)"
   ]
  },
  {
   "cell_type": "code",
   "execution_count": 16,
   "metadata": {},
   "outputs": [
    {
     "data": {
      "image/png": "[encoded data removed]",
      "text/plain": [
       "<Figure size 648x288 with 2 Axes>"
      ]
     },
     "metadata": {
      "needs_background": "light"
     },
     "output_type": "display_data"
    }
   ],
   "source": [
    "fig, axes = plt.subplots(2, 1, figsize=(9,4))\n",
    "ax1, ax2 = axes\n",
    "\n",
    "windowsize = 3\n",
    "cut = int((windowsize - 1) / 2)\n",
    "x = np.arange(-115 + cut, 45 - cut)\n",
    "shiftcolors = [('salmon' if exshift > 0 else 'royalblue') for exshift in exshift_list]\n",
    "\n",
    "ax1.bar(x, footprint, edgecolor=None, color=shiftcolors)\n",
    "ax1.set_ylabel('Information (bits)')\n",
    "\n",
    "ax2.bar(x, exshift_list, edgecolor=None, color=shiftcolors)\n",
    "ax2.set_ylabel('Expression shift')\n",
    "ax2.set_xlabel('position')\n",
    "\n",
    "plt.tight_layout()\n",
    "plt.show()"
   ]
  },
  {
   "attachments": {},
   "cell_type": "markdown",
   "metadata": {},
   "source": [
    "### Extreme case: what if we just have point mutations"
   ]
  },
  {
   "cell_type": "code",
   "execution_count": 3,
   "metadata": {},
   "outputs": [],
   "source": [
    "def get_point_mutants(wtseq):\n",
    "    mutants = []\n",
    "    nts = ['A', 'T', 'C', 'G']\n",
    "    for i, wt_nt in enumerate(wtseq):\n",
    "        for nt in nts:\n",
    "            if nt != wt_nt:\n",
    "                mut = wtseq[:i] + nt + wtseq[(i + 1):]\n",
    "                mutants.append(mut)\n",
    "    return mutants"
   ]
  },
  {
   "cell_type": "code",
   "execution_count": 4,
   "metadata": {},
   "outputs": [],
   "source": [
    "def simrep_helper(mutants, rnap_start, rnap_end, rep_start, rep_end,\n",
    "                  rnap_emat, O1_emat, n_p, n_r, n_NS,\n",
    "                  ep_wt, er_wt):\n",
    "\n",
    "    l_simrep = []\n",
    "    for mut in mutants:\n",
    "        rv = {}\n",
    "        rv['seq'] = mut\n",
    "        rnap_mut = mut[rnap_start:rnap_end].upper()\n",
    "        rep_mut = mut[rep_start:rep_end].upper()\n",
    "        rv['pbound'] = tregs.simulate.simrep_pbound(\n",
    "                            rnap_mut, rep_mut, rnap_emat, O1_emat,\n",
    "                            n_p, n_r, n_NS,\n",
    "                            ep_wt=ep_wt, er_wt=er_wt)\n",
    "        l_simrep.append(rv)\n",
    "    df_simrep = pd.DataFrame.from_records(l_simrep)\n",
    "\n",
    "    return df_simrep\n",
    "\n",
    "\n",
    "def simrep_point_mutants(wtseq, rnap_wtseq, rep_wtseq, rnap_emat, O1_emat, \n",
    "           ep_wt, er_wt, n_NS, n_p, n_r, scaling_factor=100):\n",
    "    \n",
    "    mutants = get_point_mutants(wtseq)\n",
    "    \n",
    "    rnap_start, rnap_end = tregs.seq_utils.find_binding_site(wtseq, rnap_wtseq)\n",
    "    rep_start, rep_end = tregs.seq_utils.find_binding_site(wtseq, rep_wtseq)\n",
    "\n",
    "    df_simrep = simrep_helper(mutants, rnap_start, rnap_end, rep_start, rep_end,\n",
    "                          rnap_emat, O1_emat, n_p, n_r, n_NS, ep_wt, er_wt)\n",
    "    \n",
    "    dna_cnt = tregs.simulate.get_dna_cnt(len(df_simrep))\n",
    "    df_simrep['ct_0'] = dna_cnt\n",
    "    df_simrep = df_simrep[df_simrep.ct_0 != 0.0]\n",
    "\n",
    "    df_simrep['ct_1'] = 0.1 + df_simrep['ct_0'] * df_simrep['pbound'] * scaling_factor\n",
    "    df_simrep['ct_1'] = df_simrep['ct_1'].astype(int)\n",
    "    df_simrep['ct'] = df_simrep['ct_0'] + df_simrep['ct_1']\n",
    "\n",
    "    df_simrep['ct'] = df_simrep['ct'].astype(float)\n",
    "    df_simrep['ct_0'] = df_simrep['ct_0'].astype(float)\n",
    "    df_simrep['ct_1'] = df_simrep['ct_1'].astype(float)\n",
    "    df_simrep['norm_ct_1'] = df_simrep['ct_1'] / df_simrep['ct_0']\n",
    "\n",
    "    return df_simrep"
   ]
  },
  {
   "cell_type": "code",
   "execution_count": 9,
   "metadata": {},
   "outputs": [],
   "source": [
    "n_NS = len(genome)\n",
    "ep_wt, er_wt = -5, -15\n",
    "n_p = 4600\n",
    "n_r = 15\n",
    "\n",
    "df = simrep_point_mutants(promoter, rnap_site, rep_site, rnap_emat, rep_emat, \n",
    "                       ep_wt, er_wt, n_NS, n_p, n_r)\n",
    "n_seqs = len(df)\n",
    "mut_list = df['seq'].values\n",
    "mu_data = df['norm_ct_1']\n",
    "nbins = 2\n",
    "upper_bound = 5\n",
    "footprint = tregs.footprint.get_info_footprint(mut_list, mu_data, promoter, nbins, upper_bound,\n",
    "                                               pseudocount=10**(-6))"
   ]
  },
  {
   "cell_type": "code",
   "execution_count": 11,
   "metadata": {},
   "outputs": [],
   "source": [
    "exshift_list = tregs.footprint.get_expression_shift(mut_list, mu_data.values, promoter,\n",
    "                                                    smoothed=True, windowsize=3)\n",
    "shiftcolors = [('salmon' if exshift > 0 else 'royalblue') for exshift in exshift_list]"
   ]
  },
  {
   "cell_type": "code",
   "execution_count": 12,
   "metadata": {},
   "outputs": [
    {
     "data": {
      "image/png": "[encoded data removed]",
      "text/plain": [
       "<Figure size 720x144 with 1 Axes>"
      ]
     },
     "metadata": {
      "needs_background": "light"
     },
     "output_type": "display_data"
    }
   ],
   "source": [
    "fig, ax = plt.subplots(figsize=(10,2))\n",
    "ax.set_ylabel('Information (bits)')\n",
    "ax.set_xlabel('position')\n",
    "\n",
    "windowsize = 3\n",
    "cut = int((windowsize - 1) / 2)\n",
    "x = np.arange(-115 + cut, 45 - cut)\n",
    "ax.bar(x, footprint, edgecolor=None, color=shiftcolors)\n",
    "\n",
    "#plt.savefig('../figs/lacI_synthetic_footprint_5_15.png', dpi=300, bbox_inches='tight')\n",
    "plt.show()"
   ]
  }
 ],
 "metadata": {
  "kernelspec": {
   "display_name": "theoretical_regseq",
   "language": "python",
   "name": "python3"
  },
  "language_info": {
   "codemirror_mode": {
    "name": "ipython",
    "version": 3
   },
   "file_extension": ".py",
   "mimetype": "text/x-python",
   "name": "python",
   "nbconvert_exporter": "python",
   "pygments_lexer": "ipython3",
   "version": "3.10.4"
  },
  "vscode": {
   "interpreter": {
    "hash": "b5793fdbd013b36b2bc0f38e105e8917934d5be643f8da82bca1fa4652d4ea09"
   }
  }
 },
 "nbformat": 4,
 "nbformat_minor": 2
}
