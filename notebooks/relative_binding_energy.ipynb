{
 "cells": [
  {
   "cell_type": "code",
   "execution_count": 1,
   "metadata": {
    "collapsed": false
   },
   "outputs": [
    {
     "data": {
      "text/plain": [
       "{'green': '#7AA974',\n",
       " 'light_green': '#BFD598',\n",
       " 'pale_green': '#DCECCB',\n",
       " 'yellow': '#EAC264',\n",
       " 'light_yellow': '#F3DAA9',\n",
       " 'pale_yellow': '#FFEDCE',\n",
       " 'blue': '#738FC1',\n",
       " 'light_blue': '#A9BFE3',\n",
       " 'pale_blue': '#C9D7EE',\n",
       " 'red': '#D56C55',\n",
       " 'light_red': '#E8B19D',\n",
       " 'pale_red': '#F1D4C9',\n",
       " 'purple': '#AB85AC',\n",
       " 'light_purple': '#D4C2D9',\n",
       " 'dark_green': '#7E9D90',\n",
       " 'dark_brown': '#905426'}"
      ]
     },
     "execution_count": 1,
     "metadata": {},
     "output_type": "execute_result"
    }
   ],
   "source": [
    "import math\n",
    "import numpy as np\n",
    "import pandas as pd\n",
    "from Bio import SeqIO\n",
    "\n",
    "# custom packages\n",
    "import tregs\n",
    "\n",
    "# visualization\n",
    "import matplotlib as mpl\n",
    "import matplotlib.pyplot as plt\n",
    "from matplotlib.lines import Line2D\n",
    "import seaborn as sns\n",
    "#plt.rcParams.update({'font.size': 12})\n",
    "from matplotlib import font_manager\n",
    "font_manager.fontManager.addfont('../misc/lucida-sans-unicode.ttf')\n",
    "\n",
    "# pboc plotting style\n",
    "tregs.mpl_pboc.plotting_style()"
   ]
  },
  {
   "attachments": {},
   "cell_type": "markdown",
   "metadata": {},
   "source": [
    "## 0. Loading input data"
   ]
  },
  {
   "cell_type": "code",
   "execution_count": 2,
   "metadata": {},
   "outputs": [],
   "source": [
    "## Loading WT promoter sequence\n",
    "\n",
    "# Promoter\n",
    "lacWT = 'CAGGCTTTACACTTTATGCTTCCGGCTCGTATGTTGTGTGG'\n",
    "\n",
    "# Operator sequences\n",
    "O1 = 'AATTGTGAGCGGATAACAATT'\n",
    "\n",
    "_genome = []\n",
    "for record in SeqIO.parse(\"../data/mg1655_genome.fasta\", \"fasta\"):\n",
    "    _genome.append(str(record.seq))\n",
    "genome = _genome[0]\n",
    "\n",
    "df = pd.read_csv('../data/ecoli_gene_list.csv')\n",
    "lacO1_TSS = int(df[(df.gene == 'lacZ') & (df.promoter == 'lacZp1')]['tss'].iloc[0])\n",
    "lacO1 = tregs.seq_utils.get_regulatory_region(genome, lacO1_TSS, reverse=True)"
   ]
  },
  {
   "cell_type": "code",
   "execution_count": 3,
   "metadata": {},
   "outputs": [],
   "source": [
    "## Loading and fixing the RNAP energy matrix\n",
    "rnap_emat_raw = np.loadtxt('../data/energy_matrices/RNAP_energy_matrix.txt')\n",
    "rnap_emat = tregs.simulate.fix_wt(rnap_emat_raw, lacWT)\n",
    "\n",
    "## Loading and fixing the lacI energy matrix\n",
    "O1_1027_raw = np.load('../data/energy_matrices/lacThermoforTO1.npy')\n",
    "\n",
    "O1_1027_fixed = np.zeros(np.shape(O1_1027_raw))\n",
    "for i in range(3):\n",
    "    O1_1027_fixed[i] = tregs.simulate.fix_wt(O1_1027_raw[i], O1)\n",
    "O1_emat = np.mean(O1_1027_fixed, axis=0)"
   ]
  },
  {
   "attachments": {},
   "cell_type": "markdown",
   "metadata": {},
   "source": [
    "## 2. Calculate $p_{\\mathrm{bound}}$"
   ]
  },
  {
   "cell_type": "code",
   "execution_count": 4,
   "metadata": {},
   "outputs": [
    {
     "data": {
      "text/html": [
       "<div>\n",
       "<style scoped>\n",
       "    .dataframe tbody tr th:only-of-type {\n",
       "        vertical-align: middle;\n",
       "    }\n",
       "\n",
       "    .dataframe tbody tr th {\n",
       "        vertical-align: top;\n",
       "    }\n",
       "\n",
       "    .dataframe thead th {\n",
       "        text-align: right;\n",
       "    }\n",
       "</style>\n",
       "<table border=\"1\" class=\"dataframe\">\n",
       "  <thead>\n",
       "    <tr style=\"text-align: right;\">\n",
       "      <th></th>\n",
       "      <th>seq</th>\n",
       "      <th>pbound</th>\n",
       "      <th>ct_0</th>\n",
       "      <th>ct_1</th>\n",
       "      <th>ct</th>\n",
       "      <th>norm_ct_1</th>\n",
       "    </tr>\n",
       "  </thead>\n",
       "  <tbody>\n",
       "    <tr>\n",
       "      <th>0</th>\n",
       "      <td>ACAGGTTTCCCGACTGGAAAGCGGGCAGTGAGCGCAACGCAATTAA...</td>\n",
       "      <td>0.006897</td>\n",
       "      <td>12.145314</td>\n",
       "      <td>8.0</td>\n",
       "      <td>20.145314</td>\n",
       "      <td>0.658690</td>\n",
       "    </tr>\n",
       "    <tr>\n",
       "      <th>1</th>\n",
       "      <td>ACAGGTTTCCCGACTGGAAAGCGGGCAGTGAGCGCAACGCAATTAA...</td>\n",
       "      <td>0.039842</td>\n",
       "      <td>36.348534</td>\n",
       "      <td>144.0</td>\n",
       "      <td>180.348534</td>\n",
       "      <td>3.961645</td>\n",
       "    </tr>\n",
       "    <tr>\n",
       "      <th>2</th>\n",
       "      <td>ACAGGTTTCCCGACTGGAAAGCGGGCAGTGAGCGCAACGCAATTAA...</td>\n",
       "      <td>0.634103</td>\n",
       "      <td>6.692531</td>\n",
       "      <td>424.0</td>\n",
       "      <td>430.692531</td>\n",
       "      <td>63.354207</td>\n",
       "    </tr>\n",
       "    <tr>\n",
       "      <th>3</th>\n",
       "      <td>ACAGGTTTCCCGACTGGAAAGCGGGCAGTGAGCGCAACGCAATTAA...</td>\n",
       "      <td>0.040069</td>\n",
       "      <td>4.855268</td>\n",
       "      <td>19.0</td>\n",
       "      <td>23.855268</td>\n",
       "      <td>3.913275</td>\n",
       "    </tr>\n",
       "    <tr>\n",
       "      <th>4</th>\n",
       "      <td>ACAGGTTTCCCGACTGGAAAGCGGGCAGTGAGCGCAACGCAATTAA...</td>\n",
       "      <td>0.014191</td>\n",
       "      <td>0.106294</td>\n",
       "      <td>0.0</td>\n",
       "      <td>0.106294</td>\n",
       "      <td>0.000000</td>\n",
       "    </tr>\n",
       "  </tbody>\n",
       "</table>\n",
       "</div>"
      ],
      "text/plain": [
       "                                                 seq    pbound       ct_0  \\\n",
       "0  ACAGGTTTCCCGACTGGAAAGCGGGCAGTGAGCGCAACGCAATTAA...  0.006897  12.145314   \n",
       "1  ACAGGTTTCCCGACTGGAAAGCGGGCAGTGAGCGCAACGCAATTAA...  0.039842  36.348534   \n",
       "2  ACAGGTTTCCCGACTGGAAAGCGGGCAGTGAGCGCAACGCAATTAA...  0.634103   6.692531   \n",
       "3  ACAGGTTTCCCGACTGGAAAGCGGGCAGTGAGCGCAACGCAATTAA...  0.040069   4.855268   \n",
       "4  ACAGGTTTCCCGACTGGAAAGCGGGCAGTGAGCGCAACGCAATTAA...  0.014191   0.106294   \n",
       "\n",
       "    ct_1          ct  norm_ct_1  \n",
       "0    8.0   20.145314   0.658690  \n",
       "1  144.0  180.348534   3.961645  \n",
       "2  424.0  430.692531  63.354207  \n",
       "3   19.0   23.855268   3.913275  \n",
       "4    0.0    0.106294   0.000000  "
      ]
     },
     "execution_count": 4,
     "metadata": {},
     "output_type": "execute_result"
    }
   ],
   "source": [
    "n_NS = len(genome)\n",
    "n_p = 4600\n",
    "n_r = 10\n",
    "\n",
    "ep_wt = -5\n",
    "er_wt = -15\n",
    "df = tregs.simulate.simrep(lacO1, lacWT, O1, rnap_emat, O1_emat, \n",
    "                                ep_wt, er_wt, n_NS, n_p, n_r)\n",
    "df.head()"
   ]
  },
  {
   "cell_type": "code",
   "execution_count": 5,
   "metadata": {},
   "outputs": [
    {
     "data": {
      "image/png": "[encoded data removed]",
      "text/plain": [
       "<Figure size 432x288 with 1 Axes>"
      ]
     },
     "metadata": {},
     "output_type": "display_data"
    }
   ],
   "source": [
    "plt.hist(df['norm_ct_1'], bins=50)\n",
    "plt.xlabel('Normalized RNA count')\n",
    "plt.ylabel('Count')\n",
    "plt.yscale('log')\n",
    "plt.show()"
   ]
  },
  {
   "cell_type": "code",
   "execution_count": 6,
   "metadata": {},
   "outputs": [],
   "source": [
    "n_seqs = len(df)\n",
    "mut_list = df['seq'].values\n",
    "mu_data = df['norm_ct_1']\n",
    "nbins = 2\n",
    "upper_bound = 5\n",
    "footprint = tregs.footprint.get_info_footprint(mut_list, mu_data, lacO1, nbins, upper_bound)"
   ]
  },
  {
   "cell_type": "code",
   "execution_count": 8,
   "metadata": {},
   "outputs": [
    {
     "ename": "ValueError",
     "evalue": "shape mismatch: objects cannot be broadcast to a single shape.  Mismatch is between arg 0 with shape (156,) and arg 1 with shape (154,).",
     "output_type": "error",
     "traceback": [
      "\u001b[0;31m---------------------------------------------------------------------------\u001b[0m",
      "\u001b[0;31mValueError\u001b[0m                                Traceback (most recent call last)",
      "\u001b[1;32m/Users/rosalindpan/rpgroup/projects/theoretical_regseq/notebooks/relative_binding_energy.ipynb Cell 9\u001b[0m in \u001b[0;36m<cell line: 12>\u001b[0;34m()\u001b[0m\n\u001b[1;32m     <a href='vscode-notebook-cell:/Users/rosalindpan/rpgroup/projects/theoretical_regseq/notebooks/relative_binding_energy.ipynb#X11sZmlsZQ%3D%3D?line=9'>10</a>\u001b[0m x \u001b[39m=\u001b[39m np\u001b[39m.\u001b[39marange(\u001b[39m-\u001b[39m\u001b[39m115\u001b[39m \u001b[39m+\u001b[39m cut, \u001b[39m45\u001b[39m \u001b[39m-\u001b[39m cut)\n\u001b[1;32m     <a href='vscode-notebook-cell:/Users/rosalindpan/rpgroup/projects/theoretical_regseq/notebooks/relative_binding_energy.ipynb#X11sZmlsZQ%3D%3D?line=10'>11</a>\u001b[0m footprint_smoothed \u001b[39m=\u001b[39m tregs\u001b[39m.\u001b[39mutils\u001b[39m.\u001b[39msmoothing(footprint, windowsize\u001b[39m=\u001b[39mwindowsize)\n\u001b[0;32m---> <a href='vscode-notebook-cell:/Users/rosalindpan/rpgroup/projects/theoretical_regseq/notebooks/relative_binding_energy.ipynb#X11sZmlsZQ%3D%3D?line=11'>12</a>\u001b[0m ax\u001b[39m.\u001b[39;49mbar(x, footprint_smoothed, edgecolor\u001b[39m=\u001b[39;49m\u001b[39mNone\u001b[39;49;00m, color\u001b[39m=\u001b[39;49mshiftcolors)\n\u001b[1;32m     <a href='vscode-notebook-cell:/Users/rosalindpan/rpgroup/projects/theoretical_regseq/notebooks/relative_binding_energy.ipynb#X11sZmlsZQ%3D%3D?line=13'>14</a>\u001b[0m \u001b[39m#plt.savefig('../figs/lacI_synthetic_footprint_5_15.png', dpi=300, bbox_inches='tight')\u001b[39;00m\n\u001b[1;32m     <a href='vscode-notebook-cell:/Users/rosalindpan/rpgroup/projects/theoretical_regseq/notebooks/relative_binding_energy.ipynb#X11sZmlsZQ%3D%3D?line=14'>15</a>\u001b[0m plt\u001b[39m.\u001b[39mshow()\n",
      "File \u001b[0;32m~/opt/anaconda3/envs/theoretical_regseq/lib/python3.10/site-packages/matplotlib/__init__.py:1412\u001b[0m, in \u001b[0;36m_preprocess_data.<locals>.inner\u001b[0;34m(ax, data, *args, **kwargs)\u001b[0m\n\u001b[1;32m   1409\u001b[0m \u001b[39m@functools\u001b[39m\u001b[39m.\u001b[39mwraps(func)\n\u001b[1;32m   1410\u001b[0m \u001b[39mdef\u001b[39;00m \u001b[39minner\u001b[39m(ax, \u001b[39m*\u001b[39margs, data\u001b[39m=\u001b[39m\u001b[39mNone\u001b[39;00m, \u001b[39m*\u001b[39m\u001b[39m*\u001b[39mkwargs):\n\u001b[1;32m   1411\u001b[0m     \u001b[39mif\u001b[39;00m data \u001b[39mis\u001b[39;00m \u001b[39mNone\u001b[39;00m:\n\u001b[0;32m-> 1412\u001b[0m         \u001b[39mreturn\u001b[39;00m func(ax, \u001b[39m*\u001b[39m\u001b[39mmap\u001b[39m(sanitize_sequence, args), \u001b[39m*\u001b[39m\u001b[39m*\u001b[39mkwargs)\n\u001b[1;32m   1414\u001b[0m     bound \u001b[39m=\u001b[39m new_sig\u001b[39m.\u001b[39mbind(ax, \u001b[39m*\u001b[39margs, \u001b[39m*\u001b[39m\u001b[39m*\u001b[39mkwargs)\n\u001b[1;32m   1415\u001b[0m     auto_label \u001b[39m=\u001b[39m (bound\u001b[39m.\u001b[39marguments\u001b[39m.\u001b[39mget(label_namer)\n\u001b[1;32m   1416\u001b[0m                   \u001b[39mor\u001b[39;00m bound\u001b[39m.\u001b[39mkwargs\u001b[39m.\u001b[39mget(label_namer))\n",
      "File \u001b[0;32m~/opt/anaconda3/envs/theoretical_regseq/lib/python3.10/site-packages/matplotlib/axes/_axes.py:2342\u001b[0m, in \u001b[0;36mAxes.bar\u001b[0;34m(self, x, height, width, bottom, align, **kwargs)\u001b[0m\n\u001b[1;32m   2339\u001b[0m     \u001b[39mif\u001b[39;00m yerr \u001b[39mis\u001b[39;00m \u001b[39mnot\u001b[39;00m \u001b[39mNone\u001b[39;00m:\n\u001b[1;32m   2340\u001b[0m         yerr \u001b[39m=\u001b[39m \u001b[39mself\u001b[39m\u001b[39m.\u001b[39m_convert_dx(yerr, y0, y, \u001b[39mself\u001b[39m\u001b[39m.\u001b[39mconvert_yunits)\n\u001b[0;32m-> 2342\u001b[0m x, height, width, y, linewidth, hatch \u001b[39m=\u001b[39m np\u001b[39m.\u001b[39;49mbroadcast_arrays(\n\u001b[1;32m   2343\u001b[0m     \u001b[39m# Make args iterable too.\u001b[39;49;00m\n\u001b[1;32m   2344\u001b[0m     np\u001b[39m.\u001b[39;49matleast_1d(x), height, width, y, linewidth, hatch)\n\u001b[1;32m   2346\u001b[0m \u001b[39m# Now that units have been converted, set the tick locations.\u001b[39;00m\n\u001b[1;32m   2347\u001b[0m \u001b[39mif\u001b[39;00m orientation \u001b[39m==\u001b[39m \u001b[39m'\u001b[39m\u001b[39mvertical\u001b[39m\u001b[39m'\u001b[39m:\n",
      "File \u001b[0;32m<__array_function__ internals>:180\u001b[0m, in \u001b[0;36mbroadcast_arrays\u001b[0;34m(*args, **kwargs)\u001b[0m\n",
      "File \u001b[0;32m~/opt/anaconda3/envs/theoretical_regseq/lib/python3.10/site-packages/numpy/lib/stride_tricks.py:539\u001b[0m, in \u001b[0;36mbroadcast_arrays\u001b[0;34m(subok, *args)\u001b[0m\n\u001b[1;32m    532\u001b[0m \u001b[39m# nditer is not used here to avoid the limit of 32 arrays.\u001b[39;00m\n\u001b[1;32m    533\u001b[0m \u001b[39m# Otherwise, something like the following one-liner would suffice:\u001b[39;00m\n\u001b[1;32m    534\u001b[0m \u001b[39m# return np.nditer(args, flags=['multi_index', 'zerosize_ok'],\u001b[39;00m\n\u001b[1;32m    535\u001b[0m \u001b[39m#                  order='C').itviews\u001b[39;00m\n\u001b[1;32m    537\u001b[0m args \u001b[39m=\u001b[39m [np\u001b[39m.\u001b[39marray(_m, copy\u001b[39m=\u001b[39m\u001b[39mFalse\u001b[39;00m, subok\u001b[39m=\u001b[39msubok) \u001b[39mfor\u001b[39;00m _m \u001b[39min\u001b[39;00m args]\n\u001b[0;32m--> 539\u001b[0m shape \u001b[39m=\u001b[39m _broadcast_shape(\u001b[39m*\u001b[39;49margs)\n\u001b[1;32m    541\u001b[0m \u001b[39mif\u001b[39;00m \u001b[39mall\u001b[39m(array\u001b[39m.\u001b[39mshape \u001b[39m==\u001b[39m shape \u001b[39mfor\u001b[39;00m array \u001b[39min\u001b[39;00m args):\n\u001b[1;32m    542\u001b[0m     \u001b[39m# Common case where nothing needs to be broadcasted.\u001b[39;00m\n\u001b[1;32m    543\u001b[0m     \u001b[39mreturn\u001b[39;00m args\n",
      "File \u001b[0;32m~/opt/anaconda3/envs/theoretical_regseq/lib/python3.10/site-packages/numpy/lib/stride_tricks.py:421\u001b[0m, in \u001b[0;36m_broadcast_shape\u001b[0;34m(*args)\u001b[0m\n\u001b[1;32m    416\u001b[0m \u001b[39m\"\"\"Returns the shape of the arrays that would result from broadcasting the\u001b[39;00m\n\u001b[1;32m    417\u001b[0m \u001b[39msupplied arrays against each other.\u001b[39;00m\n\u001b[1;32m    418\u001b[0m \u001b[39m\"\"\"\u001b[39;00m\n\u001b[1;32m    419\u001b[0m \u001b[39m# use the old-iterator because np.nditer does not handle size 0 arrays\u001b[39;00m\n\u001b[1;32m    420\u001b[0m \u001b[39m# consistently\u001b[39;00m\n\u001b[0;32m--> 421\u001b[0m b \u001b[39m=\u001b[39m np\u001b[39m.\u001b[39;49mbroadcast(\u001b[39m*\u001b[39;49margs[:\u001b[39m32\u001b[39;49m])\n\u001b[1;32m    422\u001b[0m \u001b[39m# unfortunately, it cannot handle 32 or more arguments directly\u001b[39;00m\n\u001b[1;32m    423\u001b[0m \u001b[39mfor\u001b[39;00m pos \u001b[39min\u001b[39;00m \u001b[39mrange\u001b[39m(\u001b[39m32\u001b[39m, \u001b[39mlen\u001b[39m(args), \u001b[39m31\u001b[39m):\n\u001b[1;32m    424\u001b[0m     \u001b[39m# ironically, np.broadcast does not properly handle np.broadcast\u001b[39;00m\n\u001b[1;32m    425\u001b[0m     \u001b[39m# objects (it treats them as scalars)\u001b[39;00m\n\u001b[1;32m    426\u001b[0m     \u001b[39m# use broadcasting to avoid allocating the full array\u001b[39;00m\n",
      "\u001b[0;31mValueError\u001b[0m: shape mismatch: objects cannot be broadcast to a single shape.  Mismatch is between arg 0 with shape (156,) and arg 1 with shape (154,)."
     ]
    },
    {
     "data": {
      "image/png": "[encoded data removed]",
      "text/plain": [
       "<Figure size 720x144 with 1 Axes>"
      ]
     },
     "metadata": {},
     "output_type": "display_data"
    }
   ],
   "source": [
    "fig, ax = plt.subplots(figsize=(10,2))\n",
    "ax.set_ylabel('Information (bits)')\n",
    "ax.set_xlabel('position')\n",
    "\n",
    "windowsize = 5\n",
    "exshift_list = tregs.footprint.get_expression_shift(mut_list, mu_data.values, lacO1, smoothed=True, windowsize=windowsize)\n",
    "shiftcolors = [('salmon' if exshift > 0 else 'royalblue') for exshift in exshift_list]\n",
    "\n",
    "cut = int((windowsize - 1) / 2)\n",
    "x = np.arange(-115 + cut, 45 - cut)\n",
    "footprint_smoothed = tregs.utils.smoothing(footprint, windowsize=windowsize)\n",
    "ax.bar(x, footprint_smoothed, edgecolor=None, color=shiftcolors)\n",
    "\n",
    "#plt.savefig('../figs/lacI_synthetic_footprint_5_15.png', dpi=300, bbox_inches='tight')\n",
    "plt.show()"
   ]
  },
  {
   "cell_type": "code",
   "execution_count": null,
   "metadata": {},
   "outputs": [
    {
     "data": {
      "image/png": "[encoded data removed]",
      "text/plain": [
       "<Figure size 720x144 with 1 Axes>"
      ]
     },
     "metadata": {
      "needs_background": "light"
     },
     "output_type": "display_data"
    }
   ],
   "source": [
    "fig, ax = plt.subplots(figsize=(10,2))\n",
    "ax.set_ylabel('Expression shift')\n",
    "ax.set_xlabel('position')\n",
    "\n",
    "cut = int((windowsize - 1) / 2)\n",
    "x = np.arange(-115 + cut, 45 - cut)\n",
    "ax.bar(x, exshift_list, edgecolor=None, color=shiftcolors)\n",
    "\n",
    "#plt.savefig('../figs/lacI_synthetic_exshift_5_15.png', dpi=300, bbox_inches='tight')\n",
    "plt.show()"
   ]
  },
  {
   "cell_type": "code",
   "execution_count": 13,
   "metadata": {},
   "outputs": [
    {
     "data": {
      "text/html": [
       "<div>\n",
       "<style scoped>\n",
       "    .dataframe tbody tr th:only-of-type {\n",
       "        vertical-align: middle;\n",
       "    }\n",
       "\n",
       "    .dataframe tbody tr th {\n",
       "        vertical-align: top;\n",
       "    }\n",
       "\n",
       "    .dataframe thead th {\n",
       "        text-align: right;\n",
       "    }\n",
       "</style>\n",
       "<table border=\"1\" class=\"dataframe\">\n",
       "  <thead>\n",
       "    <tr style=\"text-align: right;\">\n",
       "      <th></th>\n",
       "      <th>seq</th>\n",
       "      <th>pbound</th>\n",
       "      <th>ct_0</th>\n",
       "      <th>ct_1</th>\n",
       "      <th>ct</th>\n",
       "      <th>norm_ct_1</th>\n",
       "    </tr>\n",
       "  </thead>\n",
       "  <tbody>\n",
       "    <tr>\n",
       "      <th>0</th>\n",
       "      <td>ACAGGTTTCCCGACTGGAAAGCGGGCAGTGAGCGCAACGCAATTAA...</td>\n",
       "      <td>0.000091</td>\n",
       "      <td>1.764736</td>\n",
       "      <td>0.0</td>\n",
       "      <td>1.764736</td>\n",
       "      <td>0.000000</td>\n",
       "    </tr>\n",
       "    <tr>\n",
       "      <th>1</th>\n",
       "      <td>ACAGGTTTCCCGACTGGAAAGCGGGCAGTGAGCGCAACGCAATTAA...</td>\n",
       "      <td>0.002559</td>\n",
       "      <td>1.248580</td>\n",
       "      <td>0.0</td>\n",
       "      <td>1.248580</td>\n",
       "      <td>0.000000</td>\n",
       "    </tr>\n",
       "    <tr>\n",
       "      <th>2</th>\n",
       "      <td>ACAGGTTTCCCGACTGGAAAGCGGGCAGTGAGCGCAACGCAATTAA...</td>\n",
       "      <td>0.002678</td>\n",
       "      <td>9.752420</td>\n",
       "      <td>2.0</td>\n",
       "      <td>11.752420</td>\n",
       "      <td>0.205077</td>\n",
       "    </tr>\n",
       "    <tr>\n",
       "      <th>3</th>\n",
       "      <td>ACAGGTTTCCCGACTGGAAAGCGGGCAGTGAGCGCAACGCAATTAA...</td>\n",
       "      <td>0.000879</td>\n",
       "      <td>4.465623</td>\n",
       "      <td>0.0</td>\n",
       "      <td>4.465623</td>\n",
       "      <td>0.000000</td>\n",
       "    </tr>\n",
       "    <tr>\n",
       "      <th>4</th>\n",
       "      <td>ACAGGTTTCCCGACTGGAAAGCGGGCAGTGAGCGCAACGCAATTAA...</td>\n",
       "      <td>0.006125</td>\n",
       "      <td>28.112862</td>\n",
       "      <td>17.0</td>\n",
       "      <td>45.112862</td>\n",
       "      <td>0.604705</td>\n",
       "    </tr>\n",
       "  </tbody>\n",
       "</table>\n",
       "</div>"
      ],
      "text/plain": [
       "                                                 seq    pbound       ct_0  \\\n",
       "0  ACAGGTTTCCCGACTGGAAAGCGGGCAGTGAGCGCAACGCAATTAA...  0.000091   1.764736   \n",
       "1  ACAGGTTTCCCGACTGGAAAGCGGGCAGTGAGCGCAACGCAATTAA...  0.002559   1.248580   \n",
       "2  ACAGGTTTCCCGACTGGAAAGCGGGCAGTGAGCGCAACGCAATTAA...  0.002678   9.752420   \n",
       "3  ACAGGTTTCCCGACTGGAAAGCGGGCAGTGAGCGCAACGCAATTAA...  0.000879   4.465623   \n",
       "4  ACAGGTTTCCCGACTGGAAAGCGGGCAGTGAGCGCAACGCAATTAA...  0.006125  28.112862   \n",
       "\n",
       "   ct_1         ct  norm_ct_1  \n",
       "0   0.0   1.764736   0.000000  \n",
       "1   0.0   1.248580   0.000000  \n",
       "2   2.0  11.752420   0.205077  \n",
       "3   0.0   4.465623   0.000000  \n",
       "4  17.0  45.112862   0.604705  "
      ]
     },
     "execution_count": 13,
     "metadata": {},
     "output_type": "execute_result"
    }
   ],
   "source": [
    "ep_wt = -2\n",
    "er_wt = -15\n",
    "\n",
    "df = tregs.simulate.simrep(lacO1, lacWT, O1, rnap_emat, O1_emat, \n",
    "                                ep_wt, er_wt, n_NS, n_p, n_r)\n",
    "df.head()"
   ]
  },
  {
   "cell_type": "code",
   "execution_count": 10,
   "metadata": {},
   "outputs": [
    {
     "data": {
      "image/png": "[encoded data removed]",
      "text/plain": [
       "<Figure size 432x288 with 1 Axes>"
      ]
     },
     "metadata": {},
     "output_type": "display_data"
    }
   ],
   "source": [
    "plt.hist(df['norm_ct_1'], bins=50)\n",
    "plt.xlabel('Normalized RNA count')\n",
    "plt.ylabel('Count')\n",
    "plt.yscale('log')\n",
    "plt.show()"
   ]
  },
  {
   "cell_type": "code",
   "execution_count": 14,
   "metadata": {},
   "outputs": [],
   "source": [
    "n_seqs = len(df)\n",
    "mut_list = df['seq'].values\n",
    "mu_data = df['norm_ct_1']\n",
    "nbins = 2\n",
    "upper_bound = np.mean(mu_data)\n",
    "footprint = tregs.footprint.get_info_footprint(mut_list, mu_data, lacO1, nbins, upper_bound)"
   ]
  },
  {
   "cell_type": "code",
   "execution_count": 15,
   "metadata": {},
   "outputs": [
    {
     "data": {
      "image/png": "[encoded data removed]",
      "text/plain": [
       "<Figure size 864x180 with 1 Axes>"
      ]
     },
     "metadata": {},
     "output_type": "display_data"
    }
   ],
   "source": [
    "fig, ax = plt.subplots(figsize=(12,2.5))\n",
    "\n",
    "ax.axvspan(-38, -30, alpha=0.7, color='#A9BFE3')\n",
    "ax.axvspan(-15, -5, alpha=0.7, color='#A9BFE3')\n",
    "ax.axvspan(2, 20, alpha=0.7, color='#E8B19D')\n",
    "\n",
    "ax.set_ylim(top=max(footprint)*1.15)\n",
    "ax.add_patch(mpl.patches.Rectangle((-38, max(footprint)*1.15),\n",
    "                                        8,\n",
    "                                        max(footprint) * 0.2,\n",
    "                                        facecolor='#738FC1',\n",
    "                                        clip_on=False,\n",
    "                                        linewidth = 0))\n",
    "ax.text(-38 + 0.5 * 8, max(footprint) * 1.2, 'RNAP', fontsize = 10, color = 'k',\n",
    "         ha='center', va='baseline')\n",
    "\n",
    "ax.add_patch(mpl.patches.Rectangle((-15, max(footprint)*1.15),\n",
    "                                        10,\n",
    "                                        max(footprint) * 0.2,\n",
    "                                        facecolor='#738FC1',\n",
    "                                        clip_on=False,\n",
    "                                        linewidth = 0))\n",
    "ax.text(-15 + 0.5 * 10, max(footprint) * 1.2, 'RNAP', fontsize = 10, color = 'k',\n",
    "         ha='center', va='baseline')\n",
    "\n",
    "ax.add_patch(mpl.patches.Rectangle((2, max(footprint)*1.15),\n",
    "                                        18,\n",
    "                                        max(footprint) * 0.2,\n",
    "                                        facecolor='#D56C55',\n",
    "                                        clip_on=False,\n",
    "                                        linewidth = 0))\n",
    "ax.text(2 + 0.5 * 18, max(footprint) * 1.2, 'LacI', fontsize = 10, color = 'k',\n",
    "         ha='center', va='baseline')\n",
    "\n",
    "\n",
    "windowsize=3\n",
    "cut = int((windowsize - 1) / 2)\n",
    "x = np.arange(-115 + cut, 45 - cut)\n",
    "shiftcolors = [('#D56C55' if exshift > 0 else '#738FC1') for exshift in exshift_list]\n",
    "ax.bar(x, footprint, color=shiftcolors, edgecolor=None, linewidth=0)\n",
    "ax.set_ylabel('Information (bits)', fontsize=12)\n",
    "\n",
    "custom_lines = [Line2D([0], [0], color='#D56C55', lw=4),\n",
    "                Line2D([0], [0], color='#738FC1', lw=4)]\n",
    "plt.legend(custom_lines,\n",
    "           ['Mutation\\nincreases\\nexpression', 'Mutation\\ndecreases\\nexpression'],\n",
    "           bbox_to_anchor=(1.2, 0.95), frameon=False)\n",
    "\n",
    "plt.tight_layout()\n",
    "plt.savefig('../figs/simrep_footprint_weak_RNAP.png', dpi=300, bbox_inches='tight')\n",
    "plt.show()"
   ]
  },
  {
   "cell_type": "code",
   "execution_count": 18,
   "metadata": {},
   "outputs": [
    {
     "data": {
      "image/png": "[encoded data removed]",
      "text/plain": [
       "<Figure size 720x144 with 1 Axes>"
      ]
     },
     "metadata": {
      "needs_background": "light"
     },
     "output_type": "display_data"
    }
   ],
   "source": [
    "fig, ax = plt.subplots(figsize=(10,2))\n",
    "ax.set_ylabel('Information (bits)')\n",
    "ax.set_xlabel('position')\n",
    "\n",
    "windowsize = 3\n",
    "exshift_list = tregs.footprint.get_expression_shift(mut_list, mu_data.values, lacO1, smoothed=True, windowsize=windowsize)\n",
    "shiftcolors = [('salmon' if exshift > 0 else 'royalblue') for exshift in exshift_list]\n",
    "\n",
    "cut = int((windowsize - 1) / 2)\n",
    "x = np.arange(-115 + cut, 45 - cut)\n",
    "footprint_smoothed = tregs.utils.smoothing(footprint, windowsize=windowsize)\n",
    "ax.bar(x, footprint_smoothed, edgecolor=None, color=shiftcolors)\n",
    "\n",
    "plt.savefig('../figs/lacI_synthetic_footprint_3_15.png', dpi=300, bbox_inches='tight')\n",
    "plt.show()"
   ]
  },
  {
   "cell_type": "code",
   "execution_count": 19,
   "metadata": {},
   "outputs": [
    {
     "data": {
      "image/png": "[encoded data removed]",
      "text/plain": [
       "<Figure size 720x144 with 1 Axes>"
      ]
     },
     "metadata": {
      "needs_background": "light"
     },
     "output_type": "display_data"
    }
   ],
   "source": [
    "fig, ax = plt.subplots(figsize=(10,2))\n",
    "ax.set_ylabel('Expression shift')\n",
    "ax.set_xlabel('position')\n",
    "\n",
    "cut = int((windowsize - 1) / 2)\n",
    "x = np.arange(-115 + cut, 45 - cut)\n",
    "ax.bar(x, exshift_list, edgecolor=None, color=shiftcolors)\n",
    "\n",
    "plt.savefig('../figs/lacI_synthetic_exshift_3_15.png', dpi=300, bbox_inches='tight')\n",
    "plt.show()"
   ]
  },
  {
   "cell_type": "code",
   "execution_count": 16,
   "metadata": {},
   "outputs": [
    {
     "data": {
      "text/html": [
       "<div>\n",
       "<style scoped>\n",
       "    .dataframe tbody tr th:only-of-type {\n",
       "        vertical-align: middle;\n",
       "    }\n",
       "\n",
       "    .dataframe tbody tr th {\n",
       "        vertical-align: top;\n",
       "    }\n",
       "\n",
       "    .dataframe thead th {\n",
       "        text-align: right;\n",
       "    }\n",
       "</style>\n",
       "<table border=\"1\" class=\"dataframe\">\n",
       "  <thead>\n",
       "    <tr style=\"text-align: right;\">\n",
       "      <th></th>\n",
       "      <th>seq</th>\n",
       "      <th>pbound</th>\n",
       "      <th>ct_0</th>\n",
       "      <th>ct_1</th>\n",
       "      <th>ct</th>\n",
       "      <th>norm_ct_1</th>\n",
       "    </tr>\n",
       "  </thead>\n",
       "  <tbody>\n",
       "    <tr>\n",
       "      <th>0</th>\n",
       "      <td>ACAGGTTTCCCGACTGGAAAGCGGGCAGTGAGCGCAACGCAATTAA...</td>\n",
       "      <td>8.866722e-04</td>\n",
       "      <td>14.384290</td>\n",
       "      <td>1.0</td>\n",
       "      <td>15.384290</td>\n",
       "      <td>0.069520</td>\n",
       "    </tr>\n",
       "    <tr>\n",
       "      <th>1</th>\n",
       "      <td>ACAGGTTTCCCGACTGGAAAGCGGGCAGTGAGCGCAACGCAATTAA...</td>\n",
       "      <td>2.396250e-04</td>\n",
       "      <td>3.379959</td>\n",
       "      <td>0.0</td>\n",
       "      <td>3.379959</td>\n",
       "      <td>0.000000</td>\n",
       "    </tr>\n",
       "    <tr>\n",
       "      <th>2</th>\n",
       "      <td>ACAGGTTTCCCGACTGGAAAGCGGGCAGTGAGCGCAACGCAATTAA...</td>\n",
       "      <td>2.889300e-03</td>\n",
       "      <td>21.996623</td>\n",
       "      <td>6.0</td>\n",
       "      <td>27.996623</td>\n",
       "      <td>0.272769</td>\n",
       "    </tr>\n",
       "    <tr>\n",
       "      <th>3</th>\n",
       "      <td>ACAGGTTTCCCGACTGGAAAGCGGGCAGTGAGCGCAACGCAATTAA...</td>\n",
       "      <td>2.418088e-07</td>\n",
       "      <td>2.317636</td>\n",
       "      <td>0.0</td>\n",
       "      <td>2.317636</td>\n",
       "      <td>0.000000</td>\n",
       "    </tr>\n",
       "    <tr>\n",
       "      <th>4</th>\n",
       "      <td>ACAGGTTTCCCGACTGGAAAGCGGGCAGTGAGCGCAACGCAATTAA...</td>\n",
       "      <td>1.508447e-07</td>\n",
       "      <td>4.500975</td>\n",
       "      <td>0.0</td>\n",
       "      <td>4.500975</td>\n",
       "      <td>0.000000</td>\n",
       "    </tr>\n",
       "  </tbody>\n",
       "</table>\n",
       "</div>"
      ],
      "text/plain": [
       "                                                 seq        pbound       ct_0  \\\n",
       "0  ACAGGTTTCCCGACTGGAAAGCGGGCAGTGAGCGCAACGCAATTAA...  8.866722e-04  14.384290   \n",
       "1  ACAGGTTTCCCGACTGGAAAGCGGGCAGTGAGCGCAACGCAATTAA...  2.396250e-04   3.379959   \n",
       "2  ACAGGTTTCCCGACTGGAAAGCGGGCAGTGAGCGCAACGCAATTAA...  2.889300e-03  21.996623   \n",
       "3  ACAGGTTTCCCGACTGGAAAGCGGGCAGTGAGCGCAACGCAATTAA...  2.418088e-07   2.317636   \n",
       "4  ACAGGTTTCCCGACTGGAAAGCGGGCAGTGAGCGCAACGCAATTAA...  1.508447e-07   4.500975   \n",
       "\n",
       "   ct_1         ct  norm_ct_1  \n",
       "0   1.0  15.384290   0.069520  \n",
       "1   0.0   3.379959   0.000000  \n",
       "2   6.0  27.996623   0.272769  \n",
       "3   0.0   2.317636   0.000000  \n",
       "4   0.0   4.500975   0.000000  "
      ]
     },
     "execution_count": 16,
     "metadata": {},
     "output_type": "execute_result"
    }
   ],
   "source": [
    "ep_wt = -5\n",
    "er_wt = -25\n",
    "\n",
    "df = tregs.simulate.simrep(lacO1, lacWT, O1, rnap_emat, O1_emat, \n",
    "                                ep_wt, er_wt, n_NS, n_p, n_r)\n",
    "df.head()"
   ]
  },
  {
   "cell_type": "code",
   "execution_count": 26,
   "metadata": {},
   "outputs": [
    {
     "data": {
      "image/png": "[encoded data removed]",
      "text/plain": [
       "<Figure size 432x288 with 1 Axes>"
      ]
     },
     "metadata": {
      "needs_background": "light"
     },
     "output_type": "display_data"
    }
   ],
   "source": [
    "plt.hist(df['norm_ct_1'], bins=50)\n",
    "plt.xlabel('Normalized RNA count')\n",
    "plt.ylabel('Count')\n",
    "plt.yscale('log')\n",
    "plt.show()"
   ]
  },
  {
   "cell_type": "code",
   "execution_count": 17,
   "metadata": {},
   "outputs": [],
   "source": [
    "n_seqs = len(df)\n",
    "mut_list = df['seq'].values\n",
    "mu_data = df['norm_ct_1']\n",
    "nbins = 2\n",
    "upper_bound = np.mean(mu_data)\n",
    "footprint = tregs.footprint.get_info_footprint(mut_list, mu_data, lacO1, nbins, upper_bound)"
   ]
  },
  {
   "cell_type": "code",
   "execution_count": 21,
   "metadata": {},
   "outputs": [
    {
     "data": {
      "image/png": "[encoded data removed]",
      "text/plain": [
       "<Figure size 864x180 with 1 Axes>"
      ]
     },
     "metadata": {},
     "output_type": "display_data"
    }
   ],
   "source": [
    "fig, ax = plt.subplots(figsize=(12,2.5))\n",
    "\n",
    "ax.axvspan(-38, -30, alpha=0.7, color='#A9BFE3')\n",
    "ax.axvspan(-15, -5, alpha=0.7, color='#A9BFE3')\n",
    "ax.axvspan(2, 20, alpha=0.7, color='#E8B19D')\n",
    "\n",
    "ax.set_ylim(top=max(footprint)*1.15)\n",
    "ax.add_patch(mpl.patches.Rectangle((-38, max(footprint)*1.15),\n",
    "                                        8,\n",
    "                                        max(footprint) * 0.2,\n",
    "                                        facecolor='#738FC1',\n",
    "                                        clip_on=False,\n",
    "                                        linewidth = 0))\n",
    "ax.text(-38 + 0.5 * 8, max(footprint) * 1.2, 'RNAP', fontsize = 10, color = 'k',\n",
    "         ha='center', va='baseline')\n",
    "\n",
    "ax.add_patch(mpl.patches.Rectangle((-15, max(footprint)*1.15),\n",
    "                                        10,\n",
    "                                        max(footprint) * 0.2,\n",
    "                                        facecolor='#738FC1',\n",
    "                                        clip_on=False,\n",
    "                                        linewidth = 0))\n",
    "ax.text(-15 + 0.5 * 10, max(footprint) * 1.2, 'RNAP', fontsize = 10, color = 'k',\n",
    "         ha='center', va='baseline')\n",
    "\n",
    "ax.add_patch(mpl.patches.Rectangle((2, max(footprint)*1.15),\n",
    "                                        18,\n",
    "                                        max(footprint) * 0.2,\n",
    "                                        facecolor='#D56C55',\n",
    "                                        clip_on=False,\n",
    "                                        linewidth = 0))\n",
    "ax.text(2 + 0.5 * 18, max(footprint) * 1.2, 'LacI', fontsize = 10, color = 'k',\n",
    "         ha='center', va='baseline')\n",
    "\n",
    "\n",
    "windowsize=3\n",
    "cut = int((windowsize - 1) / 2)\n",
    "x = np.arange(-115 + cut, 45 - cut)\n",
    "shiftcolors = [('#D56C55' if exshift > 0 else '#738FC1') for exshift in exshift_list]\n",
    "ax.bar(x, footprint, color=shiftcolors, edgecolor=None, linewidth=0)\n",
    "ax.set_ylabel('Information (bits)', fontsize=12)\n",
    "\n",
    "custom_lines = [Line2D([0], [0], color='#D56C55', lw=4),\n",
    "                Line2D([0], [0], color='#738FC1', lw=4)]\n",
    "plt.legend(custom_lines,\n",
    "           ['Mutation\\nincreases\\nexpression', 'Mutation\\ndecreases\\nexpression'],\n",
    "           bbox_to_anchor=(1.15, 0.9), frameon=False)\n",
    "\n",
    "plt.tight_layout()\n",
    "plt.savefig('../figs/simrep_footprint_strong_rep.png', dpi=300, bbox_inches='tight')\n",
    "plt.show()"
   ]
  },
  {
   "cell_type": "code",
   "execution_count": 29,
   "metadata": {},
   "outputs": [
    {
     "data": {
      "image/png": "[encoded data removed]",
      "text/plain": [
       "<Figure size 720x144 with 1 Axes>"
      ]
     },
     "metadata": {
      "needs_background": "light"
     },
     "output_type": "display_data"
    }
   ],
   "source": [
    "fig, ax = plt.subplot(figsize=(10,2))\n",
    "ax.set_ylabel('Information (bits)')\n",
    "ax.set_xlabel('position')\n",
    "\n",
    "windowsize = 3\n",
    "exshift_list = tregs.footprint.get_expression_shift(mut_list, mu_data.values, lacO1, smoothed=True, windowsize=windowsize)\n",
    "shiftcolors = [('salmon' if exshift > 0 else 'royalblue') for exshift in exshift_list]\n",
    "\n",
    "cut = int((windowsize - 1) / 2)\n",
    "x = np.arange(-115 + cut, 45 - cut)\n",
    "footprint_smoothed = tregs.utils.smoothing(footprint, windowsize=windowsize)\n",
    "ax.bar(x, footprint_smoothed, edgecolor=None, color=shiftcolors)\n",
    "\n",
    "plt.savefig('../figs/lacI_synthetic_footprint_5_25.png', dpi=300, bbox_inches='tight')\n",
    "plt.show()"
   ]
  },
  {
   "cell_type": "code",
   "execution_count": 30,
   "metadata": {},
   "outputs": [
    {
     "data": {
      "image/png": "[encoded data removed]",
      "text/plain": [
       "<Figure size 720x144 with 1 Axes>"
      ]
     },
     "metadata": {
      "needs_background": "light"
     },
     "output_type": "display_data"
    }
   ],
   "source": [
    "fig, ax = plt.subplots(figsize=(10,2))\n",
    "ax.set_ylabel('Expression shift')\n",
    "ax.set_xlabel('position')\n",
    "\n",
    "cut = int((windowsize - 1) / 2)\n",
    "x = np.arange(-115 + cut, 45 - cut)\n",
    "ax.bar(x, exshift_list, edgecolor=None, color=shiftcolors)\n",
    "\n",
    "plt.savefig('../figs/lacI_synthetic_exshift_5_25.png', dpi=300, bbox_inches='tight')\n",
    "plt.show()"
   ]
  }
 ],
 "metadata": {
  "kernelspec": {
   "display_name": "theoretical_regseq",
   "language": "python",
   "name": "python3"
  },
  "language_info": {
   "codemirror_mode": {
    "name": "ipython",
    "version": 3
   },
   "file_extension": ".py",
   "mimetype": "text/x-python",
   "name": "python",
   "nbconvert_exporter": "python",
   "pygments_lexer": "ipython3",
   "version": "3.10.4"
  },
  "vscode": {
   "interpreter": {
    "hash": "b5793fdbd013b36b2bc0f38e105e8917934d5be643f8da82bca1fa4652d4ea09"
   }
  }
 },
 "nbformat": 4,
 "nbformat_minor": 2
}
