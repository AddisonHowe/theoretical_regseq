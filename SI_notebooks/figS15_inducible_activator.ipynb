{
 "cells": [
  {
   "cell_type": "markdown",
   "metadata": {},
   "source": [
    "## FigS15: Changing inducer concentration for the inducible activator"
   ]
  },
  {
   "cell_type": "markdown",
   "metadata": {},
   "source": [
    "Required packages:"
   ]
  },
  {
   "cell_type": "code",
   "execution_count": 1,
   "metadata": {},
   "outputs": [],
   "source": [
    "# processing\n",
    "from scipy.optimize import curve_fit\n",
    "import numpy as np\n",
    "import pandas as pd\n",
    "from Bio import SeqIO\n",
    "\n",
    "# custom packages\n",
    "import tregs\n",
    "\n",
    "# visualization\n",
    "import matplotlib.pyplot as plt\n",
    "\n",
    "fdir = '../data/'\n",
    "out_fdir = '../plots/figS15/'"
   ]
  },
  {
   "cell_type": "markdown",
   "metadata": {},
   "source": [
    "### 0. Loading input data"
   ]
  },
  {
   "cell_type": "markdown",
   "metadata": {},
   "source": [
    "Same as in the notebook `fig3_architecture.ipynb`, we first load the required promoter sequence and energy matrices."
   ]
  },
  {
   "cell_type": "code",
   "execution_count": 2,
   "metadata": {},
   "outputs": [],
   "source": [
    "_genome = []\n",
    "for record in SeqIO.parse(fdir + \"mg1655_genome.fasta\", \"fasta\"):\n",
    "    _genome.append(str(record.seq))\n",
    "genome = _genome[0]\n",
    "\n",
    "df = pd.read_csv(fdir + 'ecoli_gene_list.csv')\n",
    "lacZYA_TSS = int(df[(df.gene == 'lacZ') & (df.promoter == 'lacZp1')]['tss'].iloc[0])\n",
    "promoter = tregs.seq_utils.get_regulatory_region(genome, lacZYA_TSS, reverse=True)"
   ]
  },
  {
   "cell_type": "markdown",
   "metadata": {},
   "source": [
    "We manually specify the binding site sequences. Note that these sequences all need to be contained within the promoter sequence itself."
   ]
  },
  {
   "cell_type": "code",
   "execution_count": 3,
   "metadata": {},
   "outputs": [],
   "source": [
    "rnap_site = 'CAGGCTTTACACTTTATGCTTCCGGCTCGTATGTTGTGTGG'\n",
    "crp_site = 'ATTAATGTGAGTTAGCTCACTCATTA'"
   ]
  },
  {
   "cell_type": "markdown",
   "metadata": {},
   "source": [
    "We read in the known energy matrix for RNA polymerase. This energy matrix is experimentally determined and shown in Figure 2 of Brewster et al., 2012. (https://journals.plos.org/ploscompbiol/article/figure?id=10.1371/journal.pcbi.1002811.g002). We use the function `fix_wt` from the `tregs` package to normalize the energy matrix such that the wild type base identities correspond to a binding energy of $0\\ k_BT$."
   ]
  },
  {
   "cell_type": "code",
   "execution_count": 4,
   "metadata": {},
   "outputs": [],
   "source": [
    "rnap_emat_raw = np.loadtxt(fdir + 'energy_matrices/RNAP_energy_matrix.txt')\n",
    "rnap_emat = tregs.simulate.fix_wt(rnap_emat_raw, rnap_site)"
   ]
  },
  {
   "cell_type": "markdown",
   "metadata": {},
   "source": [
    "And finally we read in and normalize the experimentally determined energy matrix for the CRP activator (Kinney et al, 2010) (https://www.pnas.org/doi/full/10.1073/pnas.1004290107). The original energy matrix reported in the paper contains energy terms in the unit of $kcal / mol$, here we convert them to $k_BT$ units."
   ]
  },
  {
   "cell_type": "code",
   "execution_count": 5,
   "metadata": {},
   "outputs": [],
   "source": [
    "crp_emat_raw = pd.read_table(fdir + 'energy_matrices/crp_tau_final_all_26.txt', delim_whitespace=True)\n",
    "crp_emat = crp_emat_raw[['par_A', 'par_C', 'par_G', 'par_T']].to_numpy() * 1.62\n",
    "crp_emat = tregs.simulate.fix_wt(crp_emat, crp_site).T"
   ]
  },
  {
   "cell_type": "markdown",
   "metadata": {},
   "source": [
    "### Simple activation with induction"
   ]
  },
  {
   "cell_type": "markdown",
   "metadata": {},
   "source": [
    "Firstly, we define the function `simact_pbound_with_inducer`, which calculates $p_{\\mathrm{bound}}$ when the activator in the simple activation motif is made inducible. In addition, we define the helper function `get_pactive` which calculates the proportion of activators that are active."
   ]
  },
  {
   "cell_type": "code",
   "execution_count": 6,
   "metadata": {},
   "outputs": [],
   "source": [
    "def get_pactive(c, M_AL, M_AR, M_IL, M_IR, e_AI):\n",
    "    \"\"\"\n",
    "    Calculate the probability that the activator is in an active state\n",
    "\n",
    "    Parameters:\n",
    "    ----------\n",
    "    c : float\n",
    "        Concentration of the inducer.\n",
    "    M_AL : float\n",
    "        Dissociation constant between the inducer and the left binding pocket of the active activator.\n",
    "    M_AR : float\n",
    "        Dissociation constant between the inducer and the right binding pocket of the active activator.\n",
    "    M_IL : float\n",
    "        Dissociation constant between the inducer and the left binding pocket of the inactive activator.\n",
    "    M_IR : float\n",
    "        Dissociation constant between the inducer and the right binding pocket of the inactive activator.\n",
    "    e_AI : float\n",
    "        Free energy difference between the active activator state and the inactive activator state.\n",
    "    \n",
    "    Returns:\n",
    "    -------\n",
    "    float\n",
    "        The probability that the activator is in an active state.\n",
    "    \"\"\"\n",
    "    z = np.zeros(8)\n",
    "    z[0] = 1\n",
    "    z[1] = c / M_AL\n",
    "    z[2] = c / M_AR\n",
    "    z[3] = z[1] * z[2]\n",
    "    z[4] = np.exp(- 2 * e_AI)\n",
    "    z[5] = z[4] * c / M_IL\n",
    "    z[6] = z[4] * c / M_IR\n",
    "    z[7] = z[4] * (c / M_IL) * (c / M_IR)\n",
    "\n",
    "    return np.sum(z[:4]) / np.sum(z)\n",
    "\n",
    "\n",
    "def simact_pbound_with_inducer(p_seq, a_seq, n_NS, n_p, n_a,\n",
    "                               p_emat, a_emat,\n",
    "                               ep_wt, eaa_wt, eai_wt,\n",
    "                               c, M_AL, M_AR, M_IL, M_IR, e_int_A, e_int_I, e_AI):\n",
    "    \"\"\"\n",
    "    Calculate the probability of RNAP being bound in the presence of an inducer.\n",
    "\n",
    "    Parameters:\n",
    "    ----------\n",
    "    p_seq : str\n",
    "        Sequence of the RNAP binding site.\n",
    "    a_seq : str\n",
    "        Sequence of the activator binding site.\n",
    "    n_NS : float\n",
    "        Scaling factor for non-specific binding.\n",
    "    n_p : int\n",
    "        Number of RNAP.\n",
    "    n_a : int\n",
    "        Number of activators.\n",
    "    p_emat : array-like\n",
    "        Energy matrix for RNAP.\n",
    "    a_emat : array-like\n",
    "        Energy matrix for activator.\n",
    "    ep_wt : float\n",
    "        Wild-type binding energy for RNAP.\n",
    "    eaa_wt : float\n",
    "        Wild-type binding energy for the active activator.\n",
    "    eai_wt : float\n",
    "        Wild-type binding energy for the inactive activator.\n",
    "    c : float\n",
    "        Concentration of the inducer.\n",
    "    M_AL : float\n",
    "        Dissociation constant between the inducer and the left binding pocket of the active activator.\n",
    "    M_AR : float\n",
    "        Dissociation constant between the inducer and the right binding pocket of the active activator.\n",
    "    M_IL : float\n",
    "        Dissociation constant between the inducer and the left binding pocket of the inactive activator.\n",
    "    M_IR : float\n",
    "        Dissociation constant between the inducer and the right binding pocket of the inactive activator.\n",
    "    e_int_A : float\n",
    "        Interaction energy between RNAP and the active activator.\n",
    "    e_int_I : float\n",
    "        Interaction energy between RNAP and the inactive activator.\n",
    "    e_AI : float\n",
    "        Free energy difference between the active activator state and the inactive activator state.\n",
    "\n",
    "    Returns:\n",
    "    -------\n",
    "    float\n",
    "        The probability of RNAP being bound.\n",
    "    \"\"\"\n",
    "\n",
    "    w_p = tregs.simulate.get_weight(p_seq, p_emat, e_wt=ep_wt)\n",
    "    w_aa = tregs.simulate.get_weight(a_seq, a_emat, e_wt=eaa_wt)\n",
    "    w_ai = tregs.simulate.get_weight(a_seq, a_emat, e_wt=eai_wt)\n",
    "    pactive = get_pactive(c, M_AL, M_AR, M_IL, M_IR, e_AI)\n",
    "\n",
    "    z = np.zeros(6)\n",
    "    z[0] = 1\n",
    "    z[1] = n_p / n_NS * w_p\n",
    "    z[2] = pactive * n_a / n_NS * w_aa\n",
    "    z[3] = (1 - pactive) * n_a / n_NS * w_ai\n",
    "    z[4] = z[2] * z[1] * np.exp(-e_int_A)\n",
    "    z[5] = z[3] * z[1] * np.exp(-e_int_I)\n",
    "\n",
    "    return (z[1] + z[4] + z[5]) / np.sum(z)"
   ]
  },
  {
   "cell_type": "markdown",
   "metadata": {},
   "source": [
    "For each inducer concentration, we simulate 20 synthetic datasets in order to observe the average effects. To save computational time, we first generate 20 mutant libraries beforehand using the function `mutations_rand`."
   ]
  },
  {
   "cell_type": "code",
   "execution_count": 7,
   "metadata": {},
   "outputs": [],
   "source": [
    "mutant_bank = []\n",
    "for i in range(20):\n",
    "    mutants = np.unique(tregs.wgregseq.mutations_rand(promoter,\n",
    "                                                rate=0.1,\n",
    "                                                num_mutants=5000,\n",
    "                                                number_fixed=True,\n",
    "                                                keep_wildtype=True))\n",
    "    mutant_bank.append(mutants)"
   ]
  },
  {
   "cell_type": "markdown",
   "metadata": {},
   "source": [
    "We define the usual parameters needed for a simple activation thermodynamic model and the range of inducer concentrations. For each inducer concentration, we build synthetic datasets for each of the 20 pre-generated synthetic dataset and we keep track of the average mutual information at the activator binding site."
   ]
  },
  {
   "cell_type": "code",
   "execution_count": 8,
   "metadata": {},
   "outputs": [],
   "source": [
    "n_NS = len(genome)\n",
    "n_p = 5000\n",
    "n_a = 50\n",
    "ep_wt = -3\n",
    "eaa_wt = -13\n",
    "eai_wt = -1\n",
    "e_int_A = -4\n",
    "e_int_I = 0\n",
    "e_AI = -2\n",
    "\n",
    "M_AL = 3 * 10**(-6)\n",
    "M_AR = 3 * 10**(-6)\n",
    "M_IL = 10**(-7)\n",
    "M_IR = 10**(-7)\n",
    "\n",
    "signal = []\n",
    "inducer_conc = []\n",
    "for i in np.arange(-10, -2, 0.2):\n",
    "    c = 10**i\n",
    "    inducer_conc.append(c)\n",
    "\n",
    "    tmp = []\n",
    "    for i in range(len(mutant_bank)):\n",
    "        df = tregs.simulate.sim(promoter, simact_pbound_with_inducer, [rnap_site, crp_site], \n",
    "                        *[n_NS, n_p, n_a, rnap_emat, crp_emat, ep_wt, eaa_wt, eai_wt,\n",
    "                          c, M_AL, M_AR, M_IL, M_IR, e_int_A, e_int_I, e_AI],\n",
    "                          preset_mutants=mutant_bank[i])\n",
    "\n",
    "        mut_list = df['seq'].values\n",
    "        mu_data = df['norm_ct_1']\n",
    "        upper_bound = np.mean(mu_data)\n",
    "        nbins = 2\n",
    "\n",
    "        footprint = tregs.footprint.get_info_footprint(mut_list, mu_data, promoter, nbins, upper_bound,\n",
    "                                                    pseudocount=10**(-6))\n",
    "        tmp.append(np.mean(footprint[(-70+115):(-52+116)]))\n",
    "    signal.append(np.mean(tmp))"
   ]
  },
  {
   "cell_type": "markdown",
   "metadata": {},
   "source": [
    "The curve is sigmoidal shaped, and we fit a sigmoidal curve to it."
   ]
  },
  {
   "cell_type": "code",
   "execution_count": 9,
   "metadata": {},
   "outputs": [],
   "source": [
    "def sigmoid(x, a, b, c, d):\n",
    "    return a / (1. + np.exp(-c * (x - d))) + b\n",
    "\n",
    "p0 = [-max(signal), min(signal), 1, 1]\n",
    "\n",
    "norm_inducer_conc = np.asarray(inducer_conc)\n",
    "\n",
    "popt, pcov = curve_fit(sigmoid, norm_inducer_conc, signal, p0, maxfev=10000)"
   ]
  },
  {
   "cell_type": "markdown",
   "metadata": {},
   "source": [
    "Finally, we plot the average mutual information at the activator binding site against the normalized inducer concentration."
   ]
  },
  {
   "cell_type": "code",
   "execution_count": 10,
   "metadata": {},
   "outputs": [
    {
     "data": {
      "image/png": "[encoded data removed]",
      "text/plain": [
       "<Figure size 400x260 with 1 Axes>"
      ]
     },
     "metadata": {},
     "output_type": "display_data"
    }
   ],
   "source": [
    "fig, ax = plt.subplots(figsize=(4, 2.6))\n",
    "ax.scatter(inducer_conc, signal, color='k', s=10)\n",
    "ax.plot(inducer_conc, sigmoid(norm_inducer_conc, *popt), color='grey')\n",
    "ax.set_xscale('log')\n",
    "ax.set_xlabel('Inducer concentration (M)')\n",
    "ax.set_ylabel('Average mutual\\ninformation at activator\\nbinding site (bits)')\n",
    "plt.tight_layout()\n",
    "plt.savefig(out_fdir + 'inducer_activator.pdf', bbox_inches='tight')"
   ]
  },
  {
   "cell_type": "markdown",
   "metadata": {},
   "source": [
    "### 1.2 Example information footprint at high and low inducer concentrations"
   ]
  },
  {
   "cell_type": "markdown",
   "metadata": {},
   "source": [
    "First, we simulate an information footprint at the inducer concentration $10^{-9}\\, M$."
   ]
  },
  {
   "cell_type": "code",
   "execution_count": 11,
   "metadata": {},
   "outputs": [
    {
     "data": {
      "image/png": "[encoded data removed]",
      "text/plain": [
       "<Figure size 600x290 with 1 Axes>"
      ]
     },
     "metadata": {},
     "output_type": "display_data"
    }
   ],
   "source": [
    "n_NS = len(genome)\n",
    "n_p = 5000\n",
    "n_a = 50\n",
    "ep_wt = -3\n",
    "eaa_wt = -13\n",
    "eai_wt = -1\n",
    "e_int_A = -4\n",
    "e_int_I = 0\n",
    "e_AI = -2\n",
    "\n",
    "M_AL = 3 * 10**(-6)\n",
    "M_AR = 3 * 10**(-6)\n",
    "M_IL = 10**(-7)\n",
    "M_IR = 10**(-7)\n",
    "\n",
    "c = 10**(-9)\n",
    "df = tregs.simulate.sim(promoter, simact_pbound_with_inducer, [rnap_site, crp_site], \n",
    "                        *[n_NS, n_p, n_a, rnap_emat, crp_emat, ep_wt, eaa_wt, eai_wt,\n",
    "                          c, M_AL, M_AR, M_IL, M_IR, e_int_A, e_int_I, e_AI])\n",
    "\n",
    "region_params = [(-38, -30, 'P', 'RNAP'), (-15, -5, 'P', 'RNAP'), (-70, -52, 'A', 'CRP')]\n",
    "tregs.footprint.plot_footprint(promoter, df, region_params,\n",
    "                               x_lims=(-80, 5), fig_width=6,\n",
    "                               outfile=out_fdir + 'inducer_activator_fp1.pdf')"
   ]
  },
  {
   "cell_type": "markdown",
   "metadata": {},
   "source": [
    "We also simulate an information footprint at the inducer concentration $10^{-3}\\, M$."
   ]
  },
  {
   "cell_type": "code",
   "execution_count": 12,
   "metadata": {},
   "outputs": [
    {
     "data": {
      "image/png": "[encoded data removed]",
      "text/plain": [
       "<Figure size 600x290 with 1 Axes>"
      ]
     },
     "metadata": {},
     "output_type": "display_data"
    }
   ],
   "source": [
    "n_NS = len(genome)\n",
    "n_p = 5000\n",
    "n_a = 50\n",
    "ep_wt = -3\n",
    "eaa_wt = -13\n",
    "eai_wt = -1\n",
    "e_int_A = -4\n",
    "e_int_I = 0\n",
    "e_AI = -2\n",
    "\n",
    "M_AL = 3 * 10**(-6)\n",
    "M_AR = 3 * 10**(-6)\n",
    "M_IL = 10**(-7)\n",
    "M_IR = 10**(-7)\n",
    "\n",
    "c = 10**(-3)\n",
    "df = tregs.simulate.sim(promoter, simact_pbound_with_inducer, [rnap_site, crp_site], \n",
    "                        *[n_NS, n_p, n_a, rnap_emat, crp_emat, ep_wt, eaa_wt, eai_wt,\n",
    "                          c, M_AL, M_AR, M_IL, M_IR, e_int_A, e_int_I, e_AI])\n",
    "\n",
    "region_params = [(-38, -30, 'P', 'RNAP'), (-15, -5, 'P', 'RNAP'), (-70, -52, 'A', 'CRP')]\n",
    "tregs.footprint.plot_footprint(promoter, df, region_params,\n",
    "                               x_lims=(-80, 5), fig_width=6,\n",
    "                               outfile=out_fdir + 'inducer_activator_fp2.pdf')"
   ]
  }
 ],
 "metadata": {
  "kernelspec": {
   "display_name": "tregs",
   "language": "python",
   "name": "python3"
  },
  "language_info": {
   "codemirror_mode": {
    "name": "ipython",
    "version": 3
   },
   "file_extension": ".py",
   "mimetype": "text/x-python",
   "name": "python",
   "nbconvert_exporter": "python",
   "pygments_lexer": "ipython3",
   "version": "3.10.13"
  }
 },
 "nbformat": 4,
 "nbformat_minor": 2
}
