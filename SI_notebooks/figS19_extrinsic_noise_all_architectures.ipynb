{
 "cells": [
  {
   "cell_type": "markdown",
   "metadata": {},
   "source": [
    "## Fig S19: Building information footprints from synthetic datasets with extrinsic noise under common regulatory architectures."
   ]
  },
  {
   "cell_type": "markdown",
   "metadata": {},
   "source": [
    "Required packages:"
   ]
  },
  {
   "cell_type": "code",
   "execution_count": 1,
   "metadata": {},
   "outputs": [],
   "source": [
    "# processing\n",
    "import numpy as np\n",
    "import pandas as pd\n",
    "from Bio import SeqIO\n",
    "\n",
    "# custom packages\n",
    "import tregs\n",
    "\n",
    "fdir = '../data/'\n",
    "out_fdir = '../plots/figS19/'"
   ]
  },
  {
   "cell_type": "markdown",
   "metadata": {},
   "source": [
    "### 0. Loading input data"
   ]
  },
  {
   "cell_type": "markdown",
   "metadata": {},
   "source": [
    "Same as in the notebook `fig3_architecture.ipynb`, we first load the required promoter sequence and energy matrices."
   ]
  },
  {
   "cell_type": "code",
   "execution_count": 2,
   "metadata": {},
   "outputs": [],
   "source": [
    "_genome = []\n",
    "for record in SeqIO.parse(fdir + \"mg1655_genome.fasta\", \"fasta\"):\n",
    "    _genome.append(str(record.seq))\n",
    "genome = _genome[0]\n",
    "\n",
    "df = pd.read_csv(fdir + 'ecoli_gene_list.csv')\n",
    "lacZYA_TSS = int(df[(df.gene == 'lacZ') & (df.promoter == 'lacZp1')]['tss'].iloc[0])\n",
    "promoter = tregs.seq_utils.get_regulatory_region(genome, lacZYA_TSS, reverse=True)"
   ]
  },
  {
   "cell_type": "markdown",
   "metadata": {},
   "source": [
    "We manually specify the binding site sequences. Note that these sequences all need to be contained within the promoter sequence itself."
   ]
  },
  {
   "cell_type": "code",
   "execution_count": 3,
   "metadata": {},
   "outputs": [],
   "source": [
    "rnap_site = 'CAGGCTTTACACTTTATGCTTCCGGCTCGTATGTTGTGTGG'\n",
    "rep_site = 'AATTGTGAGCGGATAACAATT'\n",
    "crp_site = 'ATTAATGTGAGTTAGCTCACTCATTA'"
   ]
  },
  {
   "cell_type": "markdown",
   "metadata": {},
   "source": [
    "We read in the known energy matrix for RNA polymerase. This energy matrix is experimentally determined and shown in Figure 2 of Brewster et al., 2012. (https://journals.plos.org/ploscompbiol/article/figure?id=10.1371/journal.pcbi.1002811.g002). We use the function `fix_wt` from the `tregs` package to normalize the energy matrix such that the wild type base identities correspond to a binding energy of $0\\ k_BT$."
   ]
  },
  {
   "cell_type": "code",
   "execution_count": 4,
   "metadata": {},
   "outputs": [],
   "source": [
    "rnap_emat_raw = np.loadtxt(fdir + 'energy_matrices/RNAP_energy_matrix.txt')\n",
    "rnap_emat = tregs.simulate.fix_wt(rnap_emat_raw, rnap_site)"
   ]
  },
  {
   "cell_type": "markdown",
   "metadata": {},
   "source": [
    "Similarly, we read in the experimentally determined energy matrix for the lacI repressor (Barnes et al., 2019) and normalize the energy matrix."
   ]
  },
  {
   "cell_type": "code",
   "execution_count": 5,
   "metadata": {},
   "outputs": [],
   "source": [
    "O1_1027_raw = np.load(fdir + 'energy_matrices/lacThermoforTO1.npy')\n",
    "\n",
    "O1_1027_fixed = np.zeros(np.shape(O1_1027_raw))\n",
    "for i in range(3):\n",
    "    O1_1027_fixed[i] = tregs.simulate.fix_wt(O1_1027_raw[i], rep_site)\n",
    "\n",
    "rep_emat = np.mean(O1_1027_fixed, axis=0)"
   ]
  },
  {
   "cell_type": "markdown",
   "metadata": {},
   "source": [
    "We also read in and normalize the experimentally determined energy matrix for the CRP activator (Kinney et al, 2010) (https://www.pnas.org/doi/full/10.1073/pnas.1004290107). The original energy matrix reported in the paper contains energy terms in the unit of $kcal / mol$, here we convert them to $k_BT$ units."
   ]
  },
  {
   "cell_type": "code",
   "execution_count": 6,
   "metadata": {},
   "outputs": [],
   "source": [
    "crp_emat_raw = pd.read_table(fdir + 'energy_matrices/crp_tau_final_all_26.txt', delim_whitespace=True)\n",
    "crp_emat = crp_emat_raw[['par_A', 'par_C', 'par_G', 'par_T']].to_numpy() * 1.62\n",
    "crp_emat = tregs.simulate.fix_wt(crp_emat, crp_site).T"
   ]
  },
  {
   "cell_type": "markdown",
   "metadata": {},
   "source": [
    "### 1. Building information footprint with extrinsic noise for various architectures"
   ]
  },
  {
   "cell_type": "markdown",
   "metadata": {},
   "source": [
    "#### 1.1. Simple activation"
   ]
  },
  {
   "cell_type": "markdown",
   "metadata": {},
   "source": [
    "We first define the helper function, `get_paramters`, which allows us to convert the mean and coefficient of variation of the Log-Normal distribution to `mu` and `sigma` used by the `rng.lognormal` function."
   ]
  },
  {
   "cell_type": "code",
   "execution_count": 7,
   "metadata": {},
   "outputs": [],
   "source": [
    "def get_parameters(mean, cov):\n",
    "\t\"\"\"\n",
    "    Calculate parameters for a Log-Normal distribution given the mean and coefficient of variation.\n",
    "\n",
    "    Parameters:\n",
    "    ----------\n",
    "    mean : float\n",
    "        Mean of the distribution.\n",
    "    cov : float\n",
    "        Coefficient of variation, defined as the standard deviation divided by the mean.\n",
    "\n",
    "    Returns:\n",
    "    -------\n",
    "    mu : float\n",
    "        The log-transformed mean (mu) parameter for the Log-Normal distribution.\n",
    "    sigma : float\n",
    "        The scale (sigma) parameter for the Log-Normal distribution.\n",
    "    \"\"\"\n",
    "\tmu = np.log(mean)\n",
    "\talpha = np.sqrt(np.log(cov**2 + 1)) / np.log(mean)\n",
    "\tsigma = alpha * np.log(mean)\n",
    "\treturn mu, sigma"
   ]
  },
  {
   "cell_type": "markdown",
   "metadata": {},
   "source": [
    "Now we write the following function to define the probability of RNAP being bound when the copy number of RNAP and activators are drawn from a Log-Normal distribution."
   ]
  },
  {
   "cell_type": "code",
   "execution_count": 8,
   "metadata": {},
   "outputs": [],
   "source": [
    "def simact_pbound_with_noise(p_seq, a_seq, n_NS, mean_p, mean_a, p_emat, a_emat,\n",
    "\t\t\t\t\t\t\t ep_wt, ea_wt, e_int_pa, cov):\n",
    "\t\"\"\"\n",
    "    Simulate the probability of RNAP being bound in the presence of an activator and noise, modeled by log-normal distributions.\n",
    "\n",
    "    Parameters\n",
    "    ----------\n",
    "    p_seq : str\n",
    "        Sequence of the RNAP binding site.\n",
    "    a_seq : str\n",
    "        Sequence of the activator binding site.\n",
    "    n_NS : float\n",
    "        Scaling factor for non-specific binding.\n",
    "    mean_p : float\n",
    "        Mean copy number of RNAP.\n",
    "    mean_a : float\n",
    "        Mean copy number of activators.\n",
    "    p_emat : array\n",
    "        Energy matrix for RNAP.\n",
    "    a_emat : array\n",
    "        Energy matrix for the activator.\n",
    "    ep_wt : float\n",
    "        Wild-type binding energy for RNAP.\n",
    "    ea_wt : float\n",
    "        Wild-type binding energy for the activator.\n",
    "    e_int_pa : float\n",
    "        Interaction energy between RNAP and the activator.\n",
    "    cov : float\n",
    "        Coefficient of variation.\n",
    "\n",
    "    Returns\n",
    "    -------\n",
    "    float\n",
    "        The probability of RNAP being bound.\n",
    "    \"\"\"\n",
    "\t\n",
    "\tmu_p, sigma_p = get_parameters(mean_p, cov)\n",
    "\tmu_a, sigma_a = get_parameters(mean_a, cov)\n",
    "\n",
    "\tn_p = np.exp(np.random.normal(mu_p, sigma_p, 1)[0])\n",
    "\tn_a = np.exp(np.random.normal(mu_a, sigma_a, 1)[0])\n",
    "\t\n",
    "\tw_p = tregs.simulate.get_weight(p_seq, p_emat, e_wt=ep_wt)\n",
    "\tw_a = tregs.simulate.get_weight(a_seq, a_emat, e_wt=ea_wt)\n",
    "\n",
    "\tz = np.zeros(4)\n",
    "\tz[0] = 1\n",
    "\tz[1] = (n_p / n_NS) * w_p\n",
    "\tz[2] = (n_a / n_NS) * w_a\n",
    "\tz[3] = z[1] * z[2] * np.exp(-e_int_pa)\n",
    "\n",
    "\treturn (z[1] + z[3]) / np.sum(z)"
   ]
  },
  {
   "cell_type": "markdown",
   "metadata": {},
   "source": [
    "Plotting the information footprint for a simple activation promoter with extrinsic noise."
   ]
  },
  {
   "cell_type": "code",
   "execution_count": 9,
   "metadata": {},
   "outputs": [
    {
     "data": {
      "image/png": "[encoded data removed]",
      "text/plain": [
       "<Figure size 1000x290 with 1 Axes>"
      ]
     },
     "metadata": {},
     "output_type": "display_data"
    }
   ],
   "source": [
    "n_NS = len(genome)\n",
    "n_p = 5000\n",
    "n_a = 50\n",
    "ep_wt = -3\n",
    "ea_wt = -13\n",
    "e_ap = -10\n",
    "cov = 10\n",
    "\n",
    "df = tregs.simulate.sim(promoter, simact_pbound_with_noise, [rnap_site, crp_site], \n",
    "\t\t\t\t\t\t*[n_NS, n_p, n_a, rnap_emat, crp_emat, ep_wt, ea_wt, e_ap, cov])\n",
    "\n",
    "region_params = [(-38, -30, 'P', 'RNAP'), (-15, -5, 'P', 'RNAP'), (-70, -52, 'A', 'Activator')]\n",
    "tregs.footprint.plot_footprint(promoter, df, region_params,\n",
    "                               outfile=out_fdir + 'extrinsic_noise_simact.pdf')"
   ]
  },
  {
   "cell_type": "markdown",
   "metadata": {},
   "source": [
    "#### 1.2 Repression-activation"
   ]
  },
  {
   "cell_type": "markdown",
   "metadata": {},
   "source": [
    "We write the following function to define the probability of RNAP being bound when the copy number of RNAP, repressors, and activators are drawn from a Log-Normal distribution."
   ]
  },
  {
   "cell_type": "code",
   "execution_count": 10,
   "metadata": {},
   "outputs": [],
   "source": [
    "def repact_pbound_with_noise(p_seq, r_seq, a_seq, n_NS, mean_p, mean_r, mean_a,\n",
    "\t\t\t\t  p_emat, r_emat, a_emat,\n",
    "\t\t\t\t  ep_wt, er_wt, ea_wt, e_int_pa, cov):\n",
    "\t\"\"\"\n",
    "    Simulate the probability of RNAP being bound in the presence of a repressor, activator, and noise, modeled by log-normal distributions.\n",
    "\n",
    "    Parameters\n",
    "    ----------\n",
    "    p_seq : str\n",
    "        Sequence of the RNAP binding site.\n",
    "    r_seq : str\n",
    "        Sequence of the repressor binding site.\n",
    "    a_seq : str\n",
    "        Sequence of the activator binding site.\n",
    "    n_NS : float\n",
    "        Scaling factor for non-specific binding.\n",
    "    mean_p : float\n",
    "        Mean copy number of RNAP.\n",
    "    mean_r : float\n",
    "        Mean copy number of the repressor.\n",
    "    mean_a : float\n",
    "        Mean copy number of the activator.\n",
    "    p_emat : array\n",
    "        Energy matrix for RNAP.\n",
    "    r_emat : array\n",
    "        Energy matrix for the repressor.\n",
    "    a_emat : array\n",
    "        Energy matrix for the activator.\n",
    "    ep_wt : float\n",
    "        Wild-type binding energy for RNAP.\n",
    "    er_wt : float\n",
    "        Wild-type binding energy for the repressor.\n",
    "    ea_wt : float\n",
    "        Wild-type binding energy for the activator.\n",
    "    e_int_pa : float\n",
    "        Interaction energy between RNAP and the activator.\n",
    "    cov : float\n",
    "        Coefficient of variation.\n",
    "\n",
    "    Returns\n",
    "    -------\n",
    "    float\n",
    "        The probability of RNAP being bound.\n",
    "    \"\"\"\n",
    "\t\n",
    "\tmu_p, sigma_p = get_parameters(mean_p, cov)\n",
    "\tmu_r, sigma_r = get_parameters(mean_r, cov)\n",
    "\tmu_a, sigma_a = get_parameters(mean_a, cov)\n",
    "\n",
    "\tn_p = np.exp(np.random.normal(mu_p, sigma_p, 1)[0])\n",
    "\tn_r = np.exp(np.random.normal(mu_r, sigma_r, 1)[0])\n",
    "\tn_a = np.exp(np.random.normal(mu_a, sigma_a, 1)[0])\n",
    "\n",
    "\tw_p = tregs.simulate.get_weight(p_seq, p_emat, e_wt=ep_wt)\n",
    "\tw_r = tregs.simulate.get_weight(r_seq, r_emat, e_wt=er_wt)\n",
    "\tw_a = tregs.simulate.get_weight(a_seq, a_emat, e_wt=ea_wt)\n",
    "\n",
    "\tz = np.zeros(5)\n",
    "\tz[0] = 1\n",
    "\tz[1] = n_p / n_NS * w_p\n",
    "\tz[2] = n_r / n_NS * w_r\n",
    "\tz[3] = n_a / n_NS * w_a\n",
    "\tz[4] = (n_p / n_NS * w_p) * (n_a / n_NS * w_a) * np.exp(-e_int_pa)\n",
    "\t\n",
    "\treturn (z[1] + z[4]) / np.sum(z)"
   ]
  },
  {
   "cell_type": "markdown",
   "metadata": {},
   "source": [
    "The energy matrices for the repressor and the activator are randomly generated using the `generate_emap` function"
   ]
  },
  {
   "cell_type": "code",
   "execution_count": 11,
   "metadata": {},
   "outputs": [],
   "source": [
    "act_site = promoter[(115 - 110 + 40):(115 - 110 + 55)]\n",
    "rep_site = promoter[(115+5):(115+20)]\n",
    "\n",
    "act_emat = tregs.simulate.generate_emap(act_site, fixed=True, fixed_value=1)\n",
    "rep_emat = tregs.simulate.generate_emap(rep_site, fixed=True, fixed_value=1)"
   ]
  },
  {
   "cell_type": "markdown",
   "metadata": {},
   "source": [
    "Plotting the information footprint of a promoter with the repression-activation architecture and with extrinsic noise"
   ]
  },
  {
   "cell_type": "code",
   "execution_count": 12,
   "metadata": {},
   "outputs": [
    {
     "data": {
      "image/png": "[encoded data removed]",
      "text/plain": [
       "<Figure size 1000x290 with 1 Axes>"
      ]
     },
     "metadata": {},
     "output_type": "display_data"
    }
   ],
   "source": [
    "n_NS = len(genome)\n",
    "ep_wt, er_wt, ea_wt = -2, -15, -12\n",
    "e_int = -8\n",
    "n_p, n_r, n_a = 4600, 50, 50\n",
    "cov = 10\n",
    "\n",
    "df = tregs.simulate.sim(promoter, repact_pbound_with_noise, [rnap_site, rep_site, act_site],\n",
    "                        *[n_NS, n_p, n_r, n_a, rnap_emat, rep_emat, act_emat, ep_wt, er_wt, ea_wt, e_int, cov], scaling_factor=10*6)\n",
    "\n",
    "region_params = [(-38, -30, 'P', 'RNAP'), (-15, -5, 'P', 'RNAP'),\n",
    "                 (-70, -55, 'A', 'Activator'), (3, 20, 'R', 'Repressor')]\n",
    "tregs.footprint.plot_footprint(promoter, df, region_params,\n",
    "                               nbins=2,\n",
    "                               outfile=out_fdir + 'extrinsic_noise_repact.pdf')"
   ]
  },
  {
   "cell_type": "markdown",
   "metadata": {},
   "source": [
    "#### 1.3 Double repression"
   ]
  },
  {
   "cell_type": "markdown",
   "metadata": {},
   "source": [
    "We write the following function to define the probability of RNAP being bound when the copy number of RNAP and both repressors are drawn from a Log-Normal distribution"
   ]
  },
  {
   "cell_type": "code",
   "execution_count": 13,
   "metadata": {},
   "outputs": [],
   "source": [
    "def doublerep_pbound_with_noise(p_seq, r1_seq, r2_seq, n_NS, mean_p, mean_r1, mean_r2,\n",
    "\t\t\t\t\t p_emat, r1_emat, r2_emat, \n",
    "\t\t\t\t\t ep_wt, er1_wt, er2_wt, e_int_r1r2,\n",
    "\t\t\t\t\t cov):\n",
    "\t\"\"\"\n",
    "    Simulate the probability of RNAP being bound in the presence of two repressors and noise, modeled by log-normal distributions.\n",
    "\n",
    "    Parameters\n",
    "    ----------\n",
    "    p_seq : str\n",
    "        Sequence of the RNAP binding site.\n",
    "    r1_seq : str\n",
    "        Sequence of the first repressor binding site.\n",
    "    r2_seq : str\n",
    "        Sequence of the second repressor binding site.\n",
    "    n_NS : float\n",
    "        Scaling factor for non-specific binding.\n",
    "    mean_p : float\n",
    "        Mean copy number of RNAP.\n",
    "    mean_r1 : float\n",
    "        Mean copy number of the first repressor.\n",
    "    mean_r2 : float\n",
    "        Mean copy number of the second repressor.\n",
    "    p_emat : array\n",
    "        Energy matrix for RNAP.\n",
    "    r1_emat : array\n",
    "        Energy matrix for the first repressor.\n",
    "    r2_emat : array\n",
    "        Energy matrix for the second repressor.\n",
    "    ep_wt : float\n",
    "        Wild-type binding energy for RNAP.\n",
    "    er1_wt : float\n",
    "        Wild-type binding energy for the first repressor.\n",
    "    er2_wt : float\n",
    "        Wild-type binding energy for the second repressor.\n",
    "    e_int_r1r2 : float\n",
    "        Interaction energy between the two repressors.\n",
    "    cov : float\n",
    "        Coefficient of variation.\n",
    "\n",
    "    Returns\n",
    "    -------\n",
    "    float\n",
    "        The probability of RNAP being bound.\n",
    "    \"\"\"\n",
    "\t\n",
    "\tmu_p, sigma_p = get_parameters(mean_p, cov)\n",
    "\tmu_r1, sigma_r1 = get_parameters(mean_r1, cov)\n",
    "\tmu_r2, sigma_r2 = get_parameters(mean_r2, cov)\n",
    "\n",
    "\tn_p = np.exp(np.random.normal(mu_p, sigma_p, 1)[0])\n",
    "\tn_r1 = np.exp(np.random.normal(mu_r1, sigma_r1, 1)[0])\n",
    "\tn_r2 = np.exp(np.random.normal(mu_r2, sigma_r2, 1)[0])\n",
    "\n",
    "\tw_p = tregs.simulate.get_weight(p_seq, p_emat, e_wt=ep_wt)\n",
    "\tw_r1 = tregs.simulate.get_weight(r1_seq, r1_emat, e_wt=er1_wt)\n",
    "\tw_r2 = tregs.simulate.get_weight(r2_seq, r2_emat, e_wt=er2_wt)\n",
    "\n",
    "\tz = np.zeros(5)\n",
    "\tz[0] = 1\n",
    "\tz[1] = n_p / n_NS * w_p\n",
    "\tz[2] = n_r1 / n_NS * w_r1\n",
    "\tz[3] = n_r2 / n_NS * w_r2\n",
    "\tz[4] = (n_r1 / n_NS * w_r1) * (n_r2 / n_NS * w_r2) * np.exp(-e_int_r1r2)\n",
    "\tpbound = z[1] / np.sum(z)\n",
    "\n",
    "\treturn pbound"
   ]
  },
  {
   "cell_type": "markdown",
   "metadata": {},
   "source": [
    "To simulate a footprint with the double repression architecture, the energy matrices for the two repressors are randomly generated using the `generate_emap` function"
   ]
  },
  {
   "cell_type": "code",
   "execution_count": 14,
   "metadata": {},
   "outputs": [],
   "source": [
    "rep1_site = promoter[(115-50):(115-40)]\n",
    "rep2_site = promoter[(115+15):(115+25)]\n",
    "r1_emat = tregs.simulate.generate_emap(rep1_site, fixed=True, fixed_value=1)\n",
    "r2_emat = tregs.simulate.generate_emap(rep2_site, fixed=True, fixed_value=1)"
   ]
  },
  {
   "cell_type": "markdown",
   "metadata": {},
   "source": [
    "Plotting the information footprint for a double repression promoter with extrinsic noise."
   ]
  },
  {
   "cell_type": "code",
   "execution_count": 15,
   "metadata": {},
   "outputs": [
    {
     "data": {
      "image/png": "[encoded data removed]",
      "text/plain": [
       "<Figure size 1000x290 with 1 Axes>"
      ]
     },
     "metadata": {},
     "output_type": "display_data"
    }
   ],
   "source": [
    "n_NS = len(genome)\n",
    "ep_wt, er1_wt, er2_wt = -5, -12, -12\n",
    "e_int = -5\n",
    "n_p, n_r1, n_r2 = 4600, 15, 15\n",
    "cov = 10\n",
    "\n",
    "df = tregs.simulate.sim(promoter, doublerep_pbound_with_noise, [rnap_site, rep1_site, rep2_site],\n",
    "\t\t\t\t\t\t*[n_NS, n_p, n_r1, n_r2, rnap_emat, r1_emat, r2_emat, ep_wt, er1_wt, er2_wt, e_int, cov],\n",
    "\t\t\t\t\t\tscaling_factor=10**6)\n",
    "\n",
    "region_params = [(-38, -30, 'P', 'RNAP'), (-15, -5, 'P', 'RNAP'), (-50, -40, 'R', 'R1'), (15, 25, 'R', 'R2')]\n",
    "tregs.footprint.plot_footprint(promoter, df, region_params,\n",
    "\t\t\t\t\t\t\t   nbins=2,\n",
    "                               outfile=out_fdir + 'extrinsic_noise_doubrep.pdf')"
   ]
  },
  {
   "cell_type": "markdown",
   "metadata": {},
   "source": [
    "#### 1.4 Double activation"
   ]
  },
  {
   "cell_type": "markdown",
   "metadata": {},
   "source": [
    "We write the following function to define the probability of RNAP being bound when the copy number of RNAP and both activators are drawn from a Log-Normal distribution"
   ]
  },
  {
   "cell_type": "code",
   "execution_count": 16,
   "metadata": {},
   "outputs": [],
   "source": [
    "def doubleact_pbound_with_noise(p_seq, a1_seq, a2_seq, n_NS, mean_p, mean_a1, mean_a2,\n",
    "\t\t\t\t\t p_emat, a1_emat, a2_emat, \n",
    "\t\t\t\t\t ep_wt, ea1_wt, ea2_wt, e_int_a1a2, e_int_pa1, e_int_pa2, cov):\n",
    "\t\"\"\"\n",
    "    Simulate the probability of RNAP being bound in the presence of two activators and noise, modeled by log-normal distributions.\n",
    "\n",
    "    Parameters\n",
    "    ----------\n",
    "    p_seq : str\n",
    "        Sequence of the RNAP binding site.\n",
    "    a1_seq : str\n",
    "        Sequence of the first activator binding site.\n",
    "    a2_seq : str\n",
    "        Sequence of the second activator binding site.\n",
    "    n_NS : float\n",
    "        Scaling factor for non-specific binding.\n",
    "    mean_p : float\n",
    "        Mean copy number of RNAP.\n",
    "    mean_a1 : float\n",
    "        Mean copy number of the first activator.\n",
    "    mean_a2 : float\n",
    "        Mean copy number of the second activator.\n",
    "    p_emat : array\n",
    "        Energy matrix for RNAP.\n",
    "    a1_emat : array\n",
    "        Energy matrix for the first activator.\n",
    "    a2_emat : array\n",
    "        Energy matrix for the second activator.\n",
    "    ep_wt : float\n",
    "        Wild-type binding energy for RNAP.\n",
    "    ea1_wt : float\n",
    "        Wild-type binding energy for the first activator.\n",
    "    ea2_wt : float\n",
    "        Wild-type binding energy for the second activator.\n",
    "    e_int_a1a2 : float\n",
    "        Interaction energy between the two activators.\n",
    "    e_int_pa1 : float\n",
    "        Interaction energy between RNAP and the first activator.\n",
    "    e_int_pa2 : float\n",
    "        Interaction energy between RNAP and the second activator.\n",
    "    cov : float\n",
    "        Coefficient of variation.\n",
    "\n",
    "    Returns\n",
    "    -------\n",
    "    float\n",
    "        The probability of RNAP being bound.\n",
    "    \"\"\"\n",
    "\t\n",
    "\tmu_p, sigma_p = get_parameters(mean_p, cov)\n",
    "\tmu_a1, sigma_a1 = get_parameters(mean_a1, cov)\n",
    "\tmu_a2, sigma_a2 = get_parameters(mean_a2, cov)\n",
    "\n",
    "\tn_p = np.exp(np.random.normal(mu_p, sigma_p, 1)[0])\n",
    "\tn_a1 = np.exp(np.random.normal(mu_a1, sigma_a1, 1)[0])\n",
    "\tn_a2 = np.exp(np.random.normal(mu_a2, sigma_a2, 1)[0])\n",
    "\n",
    "\tw_p = tregs.simulate.get_weight(p_seq, p_emat, e_wt=ep_wt)\n",
    "\tw_a1 = tregs.simulate.get_weight(a1_seq, a1_emat, e_wt=ea1_wt)\n",
    "\tw_a2 = tregs.simulate.get_weight(a2_seq, a2_emat, e_wt=ea2_wt)\n",
    "\n",
    "\tz = np.zeros(8)\n",
    "\tz[0] = 1\n",
    "\tz[1] = n_a1 / n_NS * w_a1\n",
    "\tz[2] = n_a2 / n_NS * w_a2\n",
    "\tz[3] = (n_a1 / n_NS * w_a1) * (n_a2 / n_NS * w_a2)\n",
    "\tz[4] = n_p / n_NS * w_p\n",
    "\tz[5] = (n_p / n_NS * w_p) * (n_a1 / n_NS * w_a1) * np.exp(-e_int_pa1)\n",
    "\tz[6] = (n_p / n_NS * w_p) * (n_a2 / n_NS * w_a2) * np.exp(-e_int_pa2)\n",
    "\tz[7] = z[5] * (n_a2 / n_NS * w_a2) * np.exp(-e_int_pa2)\n",
    "\tpbound = np.sum(z[4:]) / np.sum(z)\n",
    "\n",
    "\treturn pbound"
   ]
  },
  {
   "cell_type": "markdown",
   "metadata": {},
   "source": [
    "To simulate a footprint with the double activation architecture, the energy matrices for the two repressors are randomly generated using the `generate_emap` function"
   ]
  },
  {
   "cell_type": "code",
   "execution_count": 17,
   "metadata": {},
   "outputs": [],
   "source": [
    "act1_site = promoter[(115 - 110 + 15):(115 - 110 + 25)]\n",
    "act2_site = promoter[(115 - 110 + 35):(115 - 110 + 45)]\n",
    "a1_emat = tregs.simulate.generate_emap(act1_site, fixed=True, fixed_value=1)\n",
    "a2_emat = tregs.simulate.generate_emap(act2_site, fixed=True, fixed_value=1)"
   ]
  },
  {
   "cell_type": "markdown",
   "metadata": {},
   "source": [
    "Plotting the information footprint for a double activation promoter with extrinsic noise."
   ]
  },
  {
   "cell_type": "code",
   "execution_count": 18,
   "metadata": {},
   "outputs": [
    {
     "data": {
      "image/png": "[encoded data removed]",
      "text/plain": [
       "<Figure size 1000x290 with 1 Axes>"
      ]
     },
     "metadata": {},
     "output_type": "display_data"
    }
   ],
   "source": [
    "n_NS = len(genome)\n",
    "ep_wt, ea1_wt, ea2_wt = -2, -7, -7\n",
    "e_int_pa1, e_int_pa2, e_int_a1a2 = -7, -7, -7\n",
    "n_p, n_a1, n_a2 = 4600, 50, 50\n",
    "cov = 10\n",
    "\n",
    "df = tregs.simulate.sim(promoter, doubleact_pbound_with_noise, [rnap_site, act1_site, act2_site],\n",
    "\t\t\t\t\t\t*[n_NS, n_p, n_a1, n_a2, rnap_emat, a1_emat, a2_emat, ep_wt, ea1_wt, ea2_wt, e_int_pa1, e_int_pa2, e_int_a1a2, cov], scaling_factor=100)\n",
    "\n",
    "region_params = [(-38, -30, 'P', 'RNAP'), (-15, -5, 'P', 'RNAP'), (-95, -85, 'A', 'A1'), (-75, -65, 'A', 'A2')]\n",
    "tregs.footprint.plot_footprint(promoter, df, region_params,\n",
    "\t\t\t\t\t\t\t   nbins=2,\n",
    "                               outfile=out_fdir + 'extrinsic_noise_doubact.pdf')"
   ]
  }
 ],
 "metadata": {
  "kernelspec": {
   "display_name": "tregs",
   "language": "python",
   "name": "python3"
  },
  "language_info": {
   "codemirror_mode": {
    "name": "ipython",
    "version": 3
   },
   "file_extension": ".py",
   "mimetype": "text/x-python",
   "name": "python",
   "nbconvert_exporter": "python",
   "pygments_lexer": "ipython3",
   "version": "3.10.13"
  }
 },
 "nbformat": 4,
 "nbformat_minor": 2
}
