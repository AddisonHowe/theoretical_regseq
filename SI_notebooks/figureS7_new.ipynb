{
  "cells": [
    {
      "cell_type": "code",
      "execution_count": 8,
      "metadata": {
        "id": "UzpVnz1D2EO4"
      },
      "outputs": [
        {
          "data": {
            "text/plain": [
              "{'green': '#7AA974',\n",
              " 'light_green': '#BFD598',\n",
              " 'pale_green': '#DCECCB',\n",
              " 'yellow': '#EAC264',\n",
              " 'light_yellow': '#F3DAA9',\n",
              " 'pale_yellow': '#FFEDCE',\n",
              " 'blue': '#738FC1',\n",
              " 'light_blue': '#A9BFE3',\n",
              " 'pale_blue': '#C9D7EE',\n",
              " 'red': '#D56C55',\n",
              " 'light_red': '#E8B19D',\n",
              " 'pale_red': '#F1D4C9',\n",
              " 'purple': '#AB85AC',\n",
              " 'light_purple': '#D4C2D9',\n",
              " 'dark_green': '#7E9D90',\n",
              " 'dark_brown': '#905426'}"
            ]
          },
          "execution_count": 8,
          "metadata": {},
          "output_type": "execute_result"
        }
      ],
      "source": [
        "import numpy as np\n",
        "import matplotlib.pyplot as plt\n",
        "import seaborn as sns\n",
        "import scipy.optimize\n",
        "\n",
        "# visualization\n",
        "from tregs.mpl_pboc import plotting_style\n",
        "\n",
        "import matplotlib.pyplot as plt\n",
        "import matplotlib as mpl\n",
        "from matplotlib import font_manager\n",
        "\n",
        "plt.rcParams.update({'font.size': 12})\n",
        "plotting_style()"
      ]
    },
    {
      "cell_type": "code",
      "execution_count": 9,
      "metadata": {},
      "outputs": [],
      "source": [
        "def simple_repression(\n",
        "    m,\n",
        "    epsilon_R,\n",
        "    epsilon_P,\n",
        "    delta_epsilon_R,\n",
        "    delta_epsilon_P,\n",
        "    R,\n",
        "    P,\n",
        "    l_R,\n",
        "    l_P):\n",
        "  return R/P * np.exp(-(epsilon_R + m * l_R * delta_epsilon_R)) / np.exp(-(epsilon_P + m * l_P * delta_epsilon_P))\n",
        "\n",
        "def simple_repression_zero(\n",
        "    m,\n",
        "    epsilon_R,\n",
        "    epsilon_P,\n",
        "    delta_epsilon_R,\n",
        "    delta_epsilon_P,\n",
        "    R,\n",
        "    P,\n",
        "    l_R,\n",
        "    l_P):\n",
        "  return simple_repression(m, epsilon_R, epsilon_P, delta_epsilon_R, delta_epsilon_P, R, P, l_R, l_P) - 1\n"
      ]
    },
    {
      "cell_type": "markdown",
      "metadata": {},
      "source": [
        "## Vary Copy numbers"
      ]
    },
    {
      "cell_type": "code",
      "execution_count": 10,
      "metadata": {},
      "outputs": [
        {
          "data": {
            "text/plain": [
              "array([ 1,  2,  3,  4,  5,  6,  7,  8,  9, 10, 11, 12, 13, 14, 15, 16, 17,\n",
              "       18, 19])"
            ]
          },
          "execution_count": 10,
          "metadata": {},
          "output_type": "execute_result"
        }
      ],
      "source": [
        "np.concatenate(([np.arange(1, 10), np.arange(10, 20)]))"
      ]
    },
    {
      "cell_type": "code",
      "execution_count": 11,
      "metadata": {},
      "outputs": [
        {
          "data": {
            "image/png": "[encoded data removed]",
            "text/plain": [
              "<Figure size 700x320 with 2 Axes>"
            ]
          },
          "metadata": {},
          "output_type": "display_data"
        }
      ],
      "source": [
        "fig, ax = plt.subplots(1, 2, figsize=(7, 3.2), layout='compressed')\n",
        "\n",
        "l_R = np.arange(7, 31, 1)\n",
        "l_P = np.arange(7, 31, 1)\n",
        "z =  -1 * np.ones([len(l_R), len(l_P)])\n",
        "for i, lr in enumerate(l_R):\n",
        "  for j, lp in enumerate(l_P):\n",
        "    if simple_repression(0, -15, -5, 2.24, 0.36, 10, 5000, lr, lp) > 1:\n",
        "      x, r = scipy.optimize.brentq(simple_repression_zero, 0, 1, args=(-15, -5, 2.24, 0.36, 10, 5000, lr, lp), full_output=1, disp=False)\n",
        "      if r.converged:\n",
        "        z[i, j] = x\n",
        "\n",
        "cset = ax[0].contourf(l_P, l_R, z, origin=\"lower\",\n",
        "                      extent=(1, l_P.max(), 1, l_R.max()),\n",
        "                      levels=[-0.05, 0.05, 0.15, 0.25, 0.35, 0.45, 0.55, 0.65, 0.75])\n",
        "#cbar = fig.colorbar(cset, ax=ax, label='mutation rate', )\n",
        "#cbar.ax.set_yticks([0.05, 0.1, 0.15, 0.2, 0.25, 0.3])  # horizontal colorbar\n",
        "ax[0].set_ylabel(\"Length of repressor binding site\")\n",
        "ax[0].set_xlabel(\"Length of RNAP binding site\")\n",
        "\n",
        "ax[0].set_ylim(l_R.min(), l_R.max())\n",
        "ax[0].set_xlim(l_P.min(), l_P.max())\n",
        "ax[0].scatter([5000], [10], marker='x',color='white')\n",
        "ax[0].grid(False)"
      ]
    },
    {
      "cell_type": "code",
      "execution_count": 12,
      "metadata": {},
      "outputs": [
        {
          "data": {
            "text/plain": [
              "array([0.1       , 0.10355034, 0.10722672, 0.11103363, 0.1149757 ,\n",
              "       0.11905772, 0.12328467, 0.12766169, 0.13219411, 0.13688745,\n",
              "       0.14174742, 0.14677993, 0.15199111, 0.1573873 , 0.16297508,\n",
              "       0.16876125, 0.17475284, 0.18095715, 0.18738174, 0.19403442,\n",
              "       0.2009233 , 0.20805675, 0.21544347, 0.22309244, 0.23101297,\n",
              "       0.23921471, 0.24770764, 0.25650209, 0.26560878, 0.27503878,\n",
              "       0.28480359, 0.29491507, 0.30538555, 0.31622777, 0.32745492,\n",
              "       0.33908067, 0.35111917, 0.36358509, 0.37649358, 0.38986037,\n",
              "       0.40370173, 0.4180345 , 0.43287613, 0.44824469, 0.46415888,\n",
              "       0.48063809, 0.49770236, 0.51537247, 0.53366992, 0.552617  ,\n",
              "       0.57223677, 0.5925531 , 0.61359073, 0.63537526, 0.65793322,\n",
              "       0.68129207, 0.70548023, 0.73052715, 0.75646333, 0.78332032,\n",
              "       0.81113083, 0.83992871, 0.869749  , 0.90062802, 0.93260335,\n",
              "       0.96571391, 1.        , 1.03550337, 1.07226722, 1.11033632,\n",
              "       1.149757  , 1.19057724, 1.23284674, 1.27661695, 1.32194115,\n",
              "       1.36887451, 1.41747416, 1.46779927, 1.51991108, 1.57387304,\n",
              "       1.62975083, 1.68761248, 1.7475284 , 1.80957154, 1.87381742,\n",
              "       1.94034425, 2.009233  , 2.08056754, 2.15443469, 2.23092437,\n",
              "       2.3101297 , 2.39214708, 2.47707636, 2.56502091, 2.65608778,\n",
              "       2.75038784, 2.84803587, 2.94915073, 3.05385551, 3.16227766])"
            ]
          },
          "execution_count": 12,
          "metadata": {},
          "output_type": "execute_result"
        }
      ],
      "source": [
        "np.logspace(-1, 0.5, 100)"
      ]
    },
    {
      "cell_type": "code",
      "execution_count": 13,
      "metadata": {},
      "outputs": [],
      "source": [
        "d_eps_R_range = np.linspace(1, 4, 100)\n",
        "d_eps_P_range = np.linspace(0.1, 0.8, 100)\n",
        "z =  -1 * np.ones([len(d_eps_R_range), len(d_eps_P_range)])\n",
        "for i, d_eps_R in enumerate(d_eps_R_range):\n",
        "  for j, d_eps_P in enumerate(d_eps_P_range):\n",
        "    if simple_repression(0, -15, -5, d_eps_R, d_eps_P, 10, 5000, 20, 20) > 1:\n",
        "      x, r = scipy.optimize.brentq(simple_repression_zero, 0, 1, args=(-15, -5, d_eps_R, d_eps_P, 10, 5000, 20, 20), disp=False, full_output=1)\n",
        "      if r.converged:\n",
        "        z[i, j] = x\n",
        "\n",
        "\n",
        "cset = ax[1].contourf(d_eps_P_range, d_eps_R_range, z, origin=\"lower\",\n",
        "                      extent=(d_eps_P_range.min(), d_eps_P_range.max(), d_eps_R_range.min(), d_eps_R_range.max()), levels=[-0.05, 0.05, 0.15, 0.25, 0.35, 0.45, 0.55, 0.65, 0.75])\n",
        "#cbar = fig.colorbar(cset, ax=ax, label='mutation rate', )\n",
        "#cbar.ax[1].set_yticks([0.05, 0.1, 0.15, 0.2, 0.25, 0.3])  # horizontal colorbar\n",
        "ax[1].set_ylabel(r\"$\\Delta\\Delta\\varepsilon_\\mathrm{rd}\\:(k_BT)$\")\n",
        "ax[1].set_xlabel(r\"$\\Delta\\Delta\\varepsilon_\\mathrm{pd}\\:(k_BT)$\")\n",
        "#ax[1].scatter([-5], [-15], marker='x',color='white')\n",
        "ax[1].grid(False)"
      ]
    },
    {
      "cell_type": "code",
      "execution_count": 14,
      "metadata": {},
      "outputs": [],
      "source": [
        "#plt.tight_layout()\n",
        "cbar = fig.colorbar(cset, ax=ax, label='Optimal mutation rate', )\n",
        "cbar.ax.set_yticks([0, 0.1, 0.2, 0.3, 0.4, 0.5, 0.6, 0.7])\n",
        "cbar.ax.set_position([0.77, 0.01, 0.02, 1])  # [left, bottom, width, height]\n",
        "#plt.subplots_adjust(right=10, wspace=10, hspace=10)\n",
        "\n",
        "fig.savefig(\"../plots/size_information_content.pdf\", bbox_inches='tight')"
      ]
    }
  ],
  "metadata": {
    "colab": {
      "provenance": []
    },
    "kernelspec": {
      "display_name": "tregs",
      "language": "python",
      "name": "python3"
    },
    "language_info": {
      "codemirror_mode": {
        "name": "ipython",
        "version": 3
      },
      "file_extension": ".py",
      "mimetype": "text/x-python",
      "name": "python",
      "nbconvert_exporter": "python",
      "pygments_lexer": "ipython3",
      "version": "3.10.13"
    }
  },
  "nbformat": 4,
  "nbformat_minor": 0
}
